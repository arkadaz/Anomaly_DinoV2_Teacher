{
 "cells": [
  {
   "cell_type": "code",
   "execution_count": 1,
   "id": "5345da18",
   "metadata": {},
   "outputs": [],
   "source": [
    "import torch\n",
    "import torch.nn as nn\n",
    "import torchvision.transforms as transforms\n",
    "import numpy as np\n",
    "from PIL import Image\n",
    "import matplotlib.pyplot as plt\n",
    "from scipy.ndimage import zoom\n",
    "import os    \n",
    "os.environ['KMP_DUPLICATE_LIB_OK'] = 'True'\n",
    "from tqdm import tqdm\n",
    "import math\n",
    "from torchinfo import summary\n",
    "\n",
    "\n",
    "device = \"cuda\" if torch.cuda.is_available() else \"cpu\""
   ]
  },
  {
   "cell_type": "code",
   "execution_count": 2,
   "id": "8e66c43f",
   "metadata": {},
   "outputs": [],
   "source": [
    "class DinoV2(nn.Module):\n",
    "    def __init__(self) -> None:\n",
    "        super().__init__()\n",
    "        self.dinov2 = torch.hub.load('facebookresearch/dinov2', 'dinov2_vits14')\n",
    "        for param in self.dinov2.parameters():\n",
    "            param.requires_grad = False\n",
    "    def forward(self, x: torch.Tensor):\n",
    "        with torch.no_grad():\n",
    "            features = self.dinov2.forward_features(x.to(device))['x_norm_patchtokens']\n",
    "        return features.reshape(-1, 16, 16, 384).permute(0,3,1,2)"
   ]
  },
  {
   "cell_type": "code",
   "execution_count": 3,
   "id": "002b5960",
   "metadata": {},
   "outputs": [],
   "source": [
    "class conv_block(nn.Module):\n",
    "    def __init__(self,ch_in,ch_out):\n",
    "        super(conv_block,self).__init__()\n",
    "        self.quant = torch.ao.quantization.QuantStub()\n",
    "        self.dequant = torch.ao.quantization.DeQuantStub()\n",
    "        self.conv1 = nn.Sequential(\n",
    "            nn.Conv2d(ch_in, ch_out, kernel_size=3,stride=1,padding=1,bias=False),\n",
    "            nn.BatchNorm2d(ch_out),\n",
    "            nn.ReLU(inplace=True),\n",
    "        )\n",
    "        self.conv2 = nn.Sequential(\n",
    "            nn.Conv2d(ch_out, ch_out, kernel_size=3,stride=1,padding=1,bias=False),\n",
    "            nn.BatchNorm2d(ch_out),\n",
    "            nn.ReLU(inplace=True),\n",
    "        )\n",
    "\n",
    "\n",
    "    def forward(self,x):\n",
    "        x = self.quant(x)\n",
    "        x = self.conv1(x)\n",
    "        x = self.dequant(x)\n",
    "        x = self.quant(x)\n",
    "        x = self.conv2(x)\n",
    "        x = self.dequant(x)\n",
    "        return x\n",
    "    \n",
    "class conv_block_to_16(nn.Module):\n",
    "    def __init__(self,ch_in,ch_out):\n",
    "        super(conv_block_to_16,self).__init__()\n",
    "        self.quant = torch.ao.quantization.QuantStub()\n",
    "        self.dequant = torch.ao.quantization.DeQuantStub()\n",
    "        self.conv1 = nn.Sequential(\n",
    "            nn.Conv2d(ch_in, ch_in, kernel_size=15,stride=1,padding=1,bias=False),\n",
    "            nn.BatchNorm2d(ch_in),\n",
    "            nn.ReLU(inplace=True)\n",
    "        )\n",
    "        self.conv2 = nn.Sequential(\n",
    "            nn.Conv2d(ch_in, ch_out, kernel_size=3,stride=1,padding=1,bias=False),\n",
    "            nn.BatchNorm2d(ch_out),\n",
    "            nn.ReLU(inplace=True)\n",
    "        )\n",
    "\n",
    "\n",
    "    def forward(self,x):\n",
    "        x = self.quant(x)\n",
    "        x = self.conv1(x)\n",
    "        x = self.dequant(x)\n",
    "        x = self.quant(x)\n",
    "        x = self.conv2(x)\n",
    "        x = self.dequant(x)\n",
    "        return x\n"
   ]
  },
  {
   "cell_type": "code",
   "execution_count": 4,
   "id": "d8f9dc2f",
   "metadata": {},
   "outputs": [],
   "source": [
    "class U_Net_Student(nn.Module):\n",
    "    def __init__(self,img_ch=3,output_ch=3):\n",
    "        super(U_Net_Student,self).__init__()\n",
    "        self.Maxpool = nn.MaxPool2d(kernel_size=2,stride=2)\n",
    "        self.Conv1 = conv_block(ch_in=img_ch,ch_out=128)\n",
    "        self.Conv2 = conv_block(ch_in=128,ch_out=128)\n",
    "        self.Conv3 = conv_block(ch_in=128,ch_out=384)\n",
    "        self.Conv4 = conv_block(ch_in=384,ch_out=384)\n",
    "        self.Conv5 = conv_block(ch_in=384,ch_out=384)\n",
    "        self.tr = nn.ConvTranspose2d(384, 768, 5, padding=1)\n",
    "#         self.Conv5 = conv_block_to_16(ch_in=384,ch_out=384*2*2)\n",
    "\n",
    "    def forward(self,x):\n",
    "        # encoding path\n",
    "        x1 = self.Conv1(x)\n",
    "\n",
    "        x2 = self.Maxpool(x1)\n",
    "        x2 = self.Conv2(x2)\n",
    "        \n",
    "        x3 = self.Maxpool(x2)\n",
    "        x3 = self.Conv3(x3)\n",
    "\n",
    "        x4 = self.Maxpool(x3)\n",
    "        x4 = self.Conv4(x4)\n",
    "        \n",
    "        x5 = self.Maxpool(x4)\n",
    "        x5 = self.Conv5(x5)\n",
    "        \n",
    "        x6 = self.tr(x5)\n",
    "        return x6\n",
    "\n"
   ]
  },
  {
   "cell_type": "code",
   "execution_count": 5,
   "id": "17abf021",
   "metadata": {},
   "outputs": [],
   "source": [
    "transform_img_teacher = transforms.Compose(\n",
    "    [\n",
    "        transforms.Resize((224, 224)),\n",
    "        transforms.ToTensor(),\n",
    "        transforms.Normalize([0.485, 0.456, 0.406], [0.229, 0.224, 0.225]),\n",
    "    ]\n",
    ")\n",
    "\n",
    "transform_img_normal = transforms.Compose(\n",
    "    [\n",
    "        transforms.Resize((224, 224)),\n",
    "        transforms.ToTensor(),\n",
    "    ]\n",
    ")\n",
    "\n",
    "batch_size = 16\n",
    "num_workers = 0"
   ]
  },
  {
   "cell_type": "code",
   "execution_count": 6,
   "id": "cad24867",
   "metadata": {},
   "outputs": [
    {
     "name": "stdout",
     "output_type": "stream",
     "text": [
      "360\n",
      "119\n",
      "193\n"
     ]
    }
   ],
   "source": [
    "import os\n",
    "from PIL import Image\n",
    "from torch.utils.data import Dataset\n",
    "import numpy as np\n",
    "def all_image(root, train_testgood_testfail=None):\n",
    "    all_path = []\n",
    "    for path, subdirs, files in os.walk(root):\n",
    "        for name in files:\n",
    "            if \".jpg\" in name.lower() or \".png\" in name.lower() or \".jpeg\" in name.lower():\n",
    "                if train_testgood_testfail==\"train\":\n",
    "                    if \"train\" in os.path.join(path, name) or \"Normal\" in os.path.join(path, name):\n",
    "                        all_path.append(os.path.join(path, name))\n",
    "                elif train_testgood_testfail==\"test_good\":\n",
    "                    if (\"test\" in os.path.join(path, name) and \"good\" in os.path.join(path, name)) or (\"test\" in os.path.join(path, name) and \"validation\" in os.path.join(path, name) and \"good\" in os.path.join(path, name)):\n",
    "                        all_path.append(os.path.join(path, name))\n",
    "                elif train_testgood_testfail==\"test_fail\":\n",
    "                    if \"test\" in os.path.join(path, name) and \"good\" not in os.path.join(path, name) or \"Anomaly\" in os.path.join(path, name):\n",
    "                        all_path.append(os.path.join(path, name))\n",
    "    return all_path\n",
    "\n",
    "class GetDataset(Dataset):\n",
    "    def __init__(self, image_dir, transform_teacher=None, transform_normal=None, train_testgood_testfail=None):\n",
    "        self.image_dir = image_dir\n",
    "        self.transform_teacher = transform_teacher\n",
    "        self.transform_normal = transform_normal\n",
    "        self.images = all_image(root=image_dir, train_testgood_testfail=train_testgood_testfail) # list all tye files in directory(folder)\n",
    "\n",
    "    def __len__(self): # check length of that dataset\n",
    "        return len(self.images)\n",
    "\n",
    "    def __getitem__(self, index): # take as input some index\n",
    "        img_path = self.images[index]\n",
    "        image = Image.open(img_path).convert(\"RGB\")\n",
    "        image_teacher_student = self.transform_teacher(image)\n",
    "        image_normal = self.transform_normal(image)\n",
    "        image_aug = self.random_transform(image)\n",
    "\n",
    "        return image_teacher_student, image_normal, image_aug\n",
    "    \n",
    "    def random_transform(self, image):\n",
    "        random_param = random.uniform(0.8, 1.2)\n",
    "        random_class = random.randint(1, 3)\n",
    "        if random_class == 1:\n",
    "            tf = transforms.Compose(\n",
    "                    [\n",
    "                        transforms.Resize((256, 256)),\n",
    "                        transforms.CenterCrop(224),\n",
    "                        transforms.RandomAutocontrast(0.1),\n",
    "                        transforms.RandomEqualize(0.1),\n",
    "                        transforms.ColorJitter(brightness=random_param, contrast=0, saturation=0, hue=0),\n",
    "                        transforms.ToTensor(),\n",
    "                        transforms.Normalize([0.485, 0.456, 0.406], [0.229, 0.224, 0.225]),\n",
    "                    ]\n",
    "                )\n",
    "        elif random_class == 2:\n",
    "            tf = transforms.Compose(\n",
    "                    [\n",
    "                        transforms.Resize((256, 256)),\n",
    "                        transforms.CenterCrop(224),\n",
    "                        transforms.RandomAutocontrast(0.1),\n",
    "                        transforms.RandomEqualize(0.1),\n",
    "                        transforms.ColorJitter(brightness=0, contrast=random_param, saturation=0, hue=0),\n",
    "                        transforms.ToTensor(),\n",
    "                        transforms.Normalize([0.485, 0.456, 0.406], [0.229, 0.224, 0.225]),\n",
    "                    ]\n",
    "                )\n",
    "        else:\n",
    "            tf = transforms.Compose(\n",
    "                    [\n",
    "                        transforms.Resize((256, 256)),\n",
    "                        transforms.CenterCrop(224),\n",
    "                        transforms.RandomAutocontrast(0.1),\n",
    "                        transforms.RandomEqualize(0.1),\n",
    "                        transforms.ColorJitter(brightness=0, contrast=0, saturation=random_param, hue=0),\n",
    "                        transforms.ToTensor(),\n",
    "                        transforms.Normalize([0.485, 0.456, 0.406], [0.229, 0.224, 0.225]),\n",
    "                    ]\n",
    "                )\n",
    "        return tf(image)\n",
    "    \n",
    "image_train_dir = r\"D:\\Delete\\MV\\splicing_connectors\"\n",
    "image_test_dir = r\"D:\\Delete\\MV\\splicing_connectors\"\n",
    "train_dataset = GetDataset(image_dir=image_train_dir, transform_teacher=transform_img_teacher, transform_normal=transform_img_normal, train_testgood_testfail=\"train\")\n",
    "test_good_dataset = GetDataset(image_dir=image_test_dir, transform_teacher=transform_img_teacher, transform_normal=transform_img_normal, train_testgood_testfail=\"test_good\")\n",
    "test_fail_dataset = GetDataset(image_dir=image_test_dir, transform_teacher=transform_img_teacher, transform_normal=transform_img_normal, train_testgood_testfail=\"test_fail\")\n",
    "    \n",
    "print(len(train_dataset))\n",
    "print(len(test_good_dataset))\n",
    "print(len(test_fail_dataset))\n",
    "train_loader = torch.utils.data.DataLoader(train_dataset, batch_size=batch_size, num_workers = num_workers,shuffle=True, pin_memory=True)\n",
    "test_good_loader = torch.utils.data.DataLoader(test_good_dataset, batch_size=8, num_workers = num_workers,shuffle=True, pin_memory=True)\n",
    "test_fail_loader = torch.utils.data.DataLoader(test_fail_dataset, batch_size=8, num_workers = num_workers,shuffle=True, pin_memory=True)"
   ]
  },
  {
   "cell_type": "code",
   "execution_count": 7,
   "id": "027dad09",
   "metadata": {},
   "outputs": [
    {
     "name": "stderr",
     "output_type": "stream",
     "text": [
      "Using cache found in C:\\Users\\suppa/.cache\\torch\\hub\\facebookresearch_dinov2_main\n",
      "xFormers not available\n",
      "xFormers not available\n"
     ]
    },
    {
     "name": "stdout",
     "output_type": "stream",
     "text": [
      "========================================================================================================================\n",
      "Layer (type (var_name))                  Input Shape          Output Shape         Param #              Trainable\n",
      "========================================================================================================================\n",
      "U_Net_Student (U_Net_Student)            [1, 3, 224, 224]     [1, 768, 16, 16]     --                   True\n",
      "├─conv_block (Conv1)                     [1, 3, 224, 224]     [1, 128, 224, 224]   --                   True\n",
      "│    └─QuantStub (quant)                 [1, 3, 224, 224]     [1, 3, 224, 224]     --                   --\n",
      "│    └─Sequential (conv1)                [1, 3, 224, 224]     [1, 128, 224, 224]   --                   True\n",
      "│    │    └─Conv2d (0)                   [1, 3, 224, 224]     [1, 128, 224, 224]   3,456                True\n",
      "│    │    └─BatchNorm2d (1)              [1, 128, 224, 224]   [1, 128, 224, 224]   256                  True\n",
      "│    │    └─ReLU (2)                     [1, 128, 224, 224]   [1, 128, 224, 224]   --                   --\n",
      "│    └─DeQuantStub (dequant)             [1, 128, 224, 224]   [1, 128, 224, 224]   --                   --\n",
      "│    └─QuantStub (quant)                 [1, 128, 224, 224]   [1, 128, 224, 224]   --                   --\n",
      "│    └─Sequential (conv2)                [1, 128, 224, 224]   [1, 128, 224, 224]   --                   True\n",
      "│    │    └─Conv2d (0)                   [1, 128, 224, 224]   [1, 128, 224, 224]   147,456              True\n",
      "│    │    └─BatchNorm2d (1)              [1, 128, 224, 224]   [1, 128, 224, 224]   256                  True\n",
      "│    │    └─ReLU (2)                     [1, 128, 224, 224]   [1, 128, 224, 224]   --                   --\n",
      "│    └─DeQuantStub (dequant)             [1, 128, 224, 224]   [1, 128, 224, 224]   --                   --\n",
      "├─MaxPool2d (Maxpool)                    [1, 128, 224, 224]   [1, 128, 112, 112]   --                   --\n",
      "├─conv_block (Conv2)                     [1, 128, 112, 112]   [1, 128, 112, 112]   --                   True\n",
      "│    └─QuantStub (quant)                 [1, 128, 112, 112]   [1, 128, 112, 112]   --                   --\n",
      "│    └─Sequential (conv1)                [1, 128, 112, 112]   [1, 128, 112, 112]   --                   True\n",
      "│    │    └─Conv2d (0)                   [1, 128, 112, 112]   [1, 128, 112, 112]   147,456              True\n",
      "│    │    └─BatchNorm2d (1)              [1, 128, 112, 112]   [1, 128, 112, 112]   256                  True\n",
      "│    │    └─ReLU (2)                     [1, 128, 112, 112]   [1, 128, 112, 112]   --                   --\n",
      "│    └─DeQuantStub (dequant)             [1, 128, 112, 112]   [1, 128, 112, 112]   --                   --\n",
      "│    └─QuantStub (quant)                 [1, 128, 112, 112]   [1, 128, 112, 112]   --                   --\n",
      "│    └─Sequential (conv2)                [1, 128, 112, 112]   [1, 128, 112, 112]   --                   True\n",
      "│    │    └─Conv2d (0)                   [1, 128, 112, 112]   [1, 128, 112, 112]   147,456              True\n",
      "│    │    └─BatchNorm2d (1)              [1, 128, 112, 112]   [1, 128, 112, 112]   256                  True\n",
      "│    │    └─ReLU (2)                     [1, 128, 112, 112]   [1, 128, 112, 112]   --                   --\n",
      "│    └─DeQuantStub (dequant)             [1, 128, 112, 112]   [1, 128, 112, 112]   --                   --\n",
      "├─MaxPool2d (Maxpool)                    [1, 128, 112, 112]   [1, 128, 56, 56]     --                   --\n",
      "├─conv_block (Conv3)                     [1, 128, 56, 56]     [1, 384, 56, 56]     --                   True\n",
      "│    └─QuantStub (quant)                 [1, 128, 56, 56]     [1, 128, 56, 56]     --                   --\n",
      "│    └─Sequential (conv1)                [1, 128, 56, 56]     [1, 384, 56, 56]     --                   True\n",
      "│    │    └─Conv2d (0)                   [1, 128, 56, 56]     [1, 384, 56, 56]     442,368              True\n",
      "│    │    └─BatchNorm2d (1)              [1, 384, 56, 56]     [1, 384, 56, 56]     768                  True\n",
      "│    │    └─ReLU (2)                     [1, 384, 56, 56]     [1, 384, 56, 56]     --                   --\n",
      "│    └─DeQuantStub (dequant)             [1, 384, 56, 56]     [1, 384, 56, 56]     --                   --\n",
      "│    └─QuantStub (quant)                 [1, 384, 56, 56]     [1, 384, 56, 56]     --                   --\n",
      "│    └─Sequential (conv2)                [1, 384, 56, 56]     [1, 384, 56, 56]     --                   True\n",
      "│    │    └─Conv2d (0)                   [1, 384, 56, 56]     [1, 384, 56, 56]     1,327,104            True\n",
      "│    │    └─BatchNorm2d (1)              [1, 384, 56, 56]     [1, 384, 56, 56]     768                  True\n",
      "│    │    └─ReLU (2)                     [1, 384, 56, 56]     [1, 384, 56, 56]     --                   --\n",
      "│    └─DeQuantStub (dequant)             [1, 384, 56, 56]     [1, 384, 56, 56]     --                   --\n",
      "├─MaxPool2d (Maxpool)                    [1, 384, 56, 56]     [1, 384, 28, 28]     --                   --\n",
      "├─conv_block (Conv4)                     [1, 384, 28, 28]     [1, 384, 28, 28]     --                   True\n",
      "│    └─QuantStub (quant)                 [1, 384, 28, 28]     [1, 384, 28, 28]     --                   --\n",
      "│    └─Sequential (conv1)                [1, 384, 28, 28]     [1, 384, 28, 28]     --                   True\n",
      "│    │    └─Conv2d (0)                   [1, 384, 28, 28]     [1, 384, 28, 28]     1,327,104            True\n",
      "│    │    └─BatchNorm2d (1)              [1, 384, 28, 28]     [1, 384, 28, 28]     768                  True\n",
      "│    │    └─ReLU (2)                     [1, 384, 28, 28]     [1, 384, 28, 28]     --                   --\n",
      "│    └─DeQuantStub (dequant)             [1, 384, 28, 28]     [1, 384, 28, 28]     --                   --\n",
      "│    └─QuantStub (quant)                 [1, 384, 28, 28]     [1, 384, 28, 28]     --                   --\n",
      "│    └─Sequential (conv2)                [1, 384, 28, 28]     [1, 384, 28, 28]     --                   True\n",
      "│    │    └─Conv2d (0)                   [1, 384, 28, 28]     [1, 384, 28, 28]     1,327,104            True\n",
      "│    │    └─BatchNorm2d (1)              [1, 384, 28, 28]     [1, 384, 28, 28]     768                  True\n",
      "│    │    └─ReLU (2)                     [1, 384, 28, 28]     [1, 384, 28, 28]     --                   --\n",
      "│    └─DeQuantStub (dequant)             [1, 384, 28, 28]     [1, 384, 28, 28]     --                   --\n",
      "├─MaxPool2d (Maxpool)                    [1, 384, 28, 28]     [1, 384, 14, 14]     --                   --\n",
      "├─conv_block (Conv5)                     [1, 384, 14, 14]     [1, 384, 14, 14]     --                   True\n",
      "│    └─QuantStub (quant)                 [1, 384, 14, 14]     [1, 384, 14, 14]     --                   --\n",
      "│    └─Sequential (conv1)                [1, 384, 14, 14]     [1, 384, 14, 14]     --                   True\n",
      "│    │    └─Conv2d (0)                   [1, 384, 14, 14]     [1, 384, 14, 14]     1,327,104            True\n",
      "│    │    └─BatchNorm2d (1)              [1, 384, 14, 14]     [1, 384, 14, 14]     768                  True\n",
      "│    │    └─ReLU (2)                     [1, 384, 14, 14]     [1, 384, 14, 14]     --                   --\n",
      "│    └─DeQuantStub (dequant)             [1, 384, 14, 14]     [1, 384, 14, 14]     --                   --\n",
      "│    └─QuantStub (quant)                 [1, 384, 14, 14]     [1, 384, 14, 14]     --                   --\n",
      "│    └─Sequential (conv2)                [1, 384, 14, 14]     [1, 384, 14, 14]     --                   True\n",
      "│    │    └─Conv2d (0)                   [1, 384, 14, 14]     [1, 384, 14, 14]     1,327,104            True\n",
      "│    │    └─BatchNorm2d (1)              [1, 384, 14, 14]     [1, 384, 14, 14]     768                  True\n",
      "│    │    └─ReLU (2)                     [1, 384, 14, 14]     [1, 384, 14, 14]     --                   --\n",
      "│    └─DeQuantStub (dequant)             [1, 384, 14, 14]     [1, 384, 14, 14]     --                   --\n",
      "├─ConvTranspose2d (tr)                   [1, 384, 14, 14]     [1, 768, 16, 16]     7,373,568            True\n",
      "========================================================================================================================\n",
      "Total params: 14,902,912\n",
      "Trainable params: 14,902,912\n",
      "Non-trainable params: 0\n",
      "Total mult-adds (G): 21.31\n",
      "========================================================================================================================\n",
      "Input size (MB): 0.60\n",
      "Forward/backward pass size (MB): 309.05\n",
      "Params size (MB): 59.61\n",
      "Estimated Total Size (MB): 369.27\n",
      "========================================================================================================================\n"
     ]
    },
    {
     "name": "stderr",
     "output_type": "stream",
     "text": [
      "100%|██████████████████████████████████████████████████████████████████████████████████| 23/23 [00:21<00:00,  1.09it/s]\n",
      "100%|██████████████████████████████████████████████████████████████████████████████████| 23/23 [00:33<00:00,  1.45s/it]\n"
     ]
    },
    {
     "name": "stdout",
     "output_type": "stream",
     "text": [
      "loss_overall 1.6465660644614177\n",
      "epoch 1\n",
      "\n",
      "score_test_good_mean 0.8786736130714417\n",
      "score_test_good_std 0.017795030027627945\n",
      "score_test_good_min 0.8544409871101379\n",
      "score_test_good_max 0.9194731712341309\n",
      "\n",
      "score_test_fail_mean 0.9261922240257263\n",
      "score_test_fail_std 0.033566322177648544\n",
      "score_test_fail_min 0.8662306070327759\n",
      "score_test_fail_max 1.0075749158859253\n",
      "\n",
      "score_train_mean 1.0059162378311157\n",
      "score_train_std 0.15487797558307648\n",
      "score_train_min 0.8494310975074768\n",
      "score_train_max 1.4398022890090942\n"
     ]
    },
    {
     "name": "stderr",
     "output_type": "stream",
     "text": [
      "100%|██████████████████████████████████████████████████████████████████████████████████| 23/23 [00:33<00:00,  1.47s/it]\n"
     ]
    },
    {
     "name": "stdout",
     "output_type": "stream",
     "text": [
      "loss_overall 1.276824132255886\n",
      "epoch 2\n",
      "\n",
      "score_test_good_mean 0.7984206676483154\n",
      "score_test_good_std 0.018192851915955544\n",
      "score_test_good_min 0.7689002156257629\n",
      "score_test_good_max 0.8372675180435181\n",
      "\n",
      "score_test_fail_mean 0.8556012511253357\n",
      "score_test_fail_std 0.044831499457359314\n",
      "score_test_fail_min 0.7978051900863647\n",
      "score_test_fail_max 0.9591596126556396\n",
      "\n",
      "score_train_mean 0.8029370307922363\n",
      "score_train_std 0.02361297979950905\n",
      "score_train_min 0.7652668356895447\n",
      "score_train_max 0.8469139337539673\n"
     ]
    },
    {
     "name": "stderr",
     "output_type": "stream",
     "text": [
      "100%|██████████████████████████████████████████████████████████████████████████████████| 23/23 [00:32<00:00,  1.40s/it]\n"
     ]
    },
    {
     "name": "stdout",
     "output_type": "stream",
     "text": [
      "loss_overall 1.1595035635906716\n",
      "epoch 3\n",
      "\n",
      "score_test_good_mean 0.7671000957489014\n",
      "score_test_good_std 0.01873699389398098\n",
      "score_test_good_min 0.740277886390686\n",
      "score_test_good_max 0.7953117489814758\n",
      "\n",
      "score_test_fail_mean 0.8260190486907959\n",
      "score_test_fail_std 0.03960992023348808\n",
      "score_test_fail_min 0.766417384147644\n",
      "score_test_fail_max 0.8942915797233582\n",
      "\n",
      "score_train_mean 0.745037317276001\n",
      "score_train_std 0.01864025741815567\n",
      "score_train_min 0.7052170038223267\n",
      "score_train_max 0.782076895236969\n"
     ]
    },
    {
     "name": "stderr",
     "output_type": "stream",
     "text": [
      "100%|██████████████████████████████████████████████████████████████████████████████████| 23/23 [00:33<00:00,  1.45s/it]\n"
     ]
    },
    {
     "name": "stdout",
     "output_type": "stream",
     "text": [
      "loss_overall 1.091112846913545\n",
      "epoch 4\n",
      "\n",
      "score_test_good_mean 0.7207610607147217\n",
      "score_test_good_std 0.01388976164162159\n",
      "score_test_good_min 0.6925825476646423\n",
      "score_test_good_max 0.745262086391449\n",
      "\n",
      "score_test_fail_mean 0.7878389954566956\n",
      "score_test_fail_std 0.03646325320005417\n",
      "score_test_fail_min 0.7105579972267151\n",
      "score_test_fail_max 0.8615577220916748\n",
      "\n",
      "score_train_mean 0.7101835012435913\n",
      "score_train_std 0.016577957198023796\n",
      "score_train_min 0.680776059627533\n",
      "score_train_max 0.7421430349349976\n"
     ]
    },
    {
     "name": "stderr",
     "output_type": "stream",
     "text": [
      "100%|██████████████████████████████████████████████████████████████████████████████████| 23/23 [00:33<00:00,  1.44s/it]\n"
     ]
    },
    {
     "name": "stdout",
     "output_type": "stream",
     "text": [
      "loss_overall 1.0665128801179968\n",
      "epoch 5\n",
      "\n",
      "score_test_good_mean 0.7075402736663818\n",
      "score_test_good_std 0.016742268577218056\n",
      "score_test_good_min 0.674835741519928\n",
      "score_test_good_max 0.7332712411880493\n",
      "\n",
      "score_test_fail_mean 0.7703737616539001\n",
      "score_test_fail_std 0.04349983483552933\n",
      "score_test_fail_min 0.6880105137825012\n",
      "score_test_fail_max 0.8919479250907898\n",
      "\n",
      "score_train_mean 0.6852117776870728\n",
      "score_train_std 0.014824764803051949\n",
      "score_train_min 0.6524127125740051\n",
      "score_train_max 0.7112227082252502\n"
     ]
    },
    {
     "name": "stderr",
     "output_type": "stream",
     "text": [
      "100%|██████████████████████████████████████████████████████████████████████████████████| 23/23 [00:34<00:00,  1.50s/it]\n"
     ]
    },
    {
     "name": "stdout",
     "output_type": "stream",
     "text": [
      "loss_overall 1.0247793819593347\n",
      "epoch 6\n",
      "\n",
      "score_test_good_mean 0.6793099045753479\n",
      "score_test_good_std 0.016622891649603844\n",
      "score_test_good_min 0.6557077765464783\n",
      "score_test_good_max 0.7104436159133911\n",
      "\n",
      "score_test_fail_mean 0.7403600215911865\n",
      "score_test_fail_std 0.03797134384512901\n",
      "score_test_fail_min 0.6602389812469482\n",
      "score_test_fail_max 0.8311824202537537\n",
      "\n",
      "score_train_mean 0.6673914194107056\n",
      "score_train_std 0.011177348904311657\n",
      "score_train_min 0.6466665267944336\n",
      "score_train_max 0.6879404187202454\n"
     ]
    },
    {
     "name": "stderr",
     "output_type": "stream",
     "text": [
      "100%|██████████████████████████████████████████████████████████████████████████████████| 23/23 [00:33<00:00,  1.46s/it]\n"
     ]
    },
    {
     "name": "stdout",
     "output_type": "stream",
     "text": [
      "loss_overall 0.9866304319837819\n",
      "epoch 7\n",
      "\n",
      "score_test_good_mean 0.6721510291099548\n",
      "score_test_good_std 0.019704267382621765\n",
      "score_test_good_min 0.6365810632705688\n",
      "score_test_good_max 0.7019731998443604\n",
      "\n",
      "score_test_fail_mean 0.7398832440376282\n",
      "score_test_fail_std 0.0451546385884285\n",
      "score_test_fail_min 0.6627891063690186\n",
      "score_test_fail_max 0.8397722840309143\n",
      "\n",
      "score_train_mean 0.6520593762397766\n",
      "score_train_std 0.010272164829075336\n",
      "score_train_min 0.6295539140701294\n",
      "score_train_max 0.6723951697349548\n"
     ]
    },
    {
     "name": "stderr",
     "output_type": "stream",
     "text": [
      "100%|██████████████████████████████████████████████████████████████████████████████████| 23/23 [00:31<00:00,  1.39s/it]\n"
     ]
    },
    {
     "name": "stdout",
     "output_type": "stream",
     "text": [
      "loss_overall 0.9696635422499283\n",
      "epoch 8\n",
      "\n",
      "score_test_good_mean 0.6535969972610474\n",
      "score_test_good_std 0.020819276571273804\n",
      "score_test_good_min 0.6240808367729187\n",
      "score_test_good_max 0.6941637396812439\n",
      "\n",
      "score_test_fail_mean 0.7190477848052979\n",
      "score_test_fail_std 0.04300854727625847\n",
      "score_test_fail_min 0.6293804049491882\n",
      "score_test_fail_max 0.8008755445480347\n",
      "\n",
      "score_train_mean 0.6394843459129333\n",
      "score_train_std 0.012375041842460632\n",
      "score_train_min 0.6227480173110962\n",
      "score_train_max 0.6749315857887268\n"
     ]
    },
    {
     "name": "stderr",
     "output_type": "stream",
     "text": [
      "100%|██████████████████████████████████████████████████████████████████████████████████| 23/23 [00:32<00:00,  1.42s/it]\n"
     ]
    },
    {
     "name": "stdout",
     "output_type": "stream",
     "text": [
      "loss_overall 0.9507512761198956\n",
      "epoch 9\n",
      "\n",
      "score_test_good_mean 0.6587539911270142\n",
      "score_test_good_std 0.016672611236572266\n",
      "score_test_good_min 0.6258734464645386\n",
      "score_test_good_max 0.683582603931427\n",
      "\n",
      "score_test_fail_mean 0.7269867062568665\n",
      "score_test_fail_std 0.041060034185647964\n",
      "score_test_fail_min 0.6574057340621948\n",
      "score_test_fail_max 0.8111883997917175\n",
      "\n",
      "score_train_mean 0.6342329382896423\n",
      "score_train_std 0.01305029634386301\n",
      "score_train_min 0.6094957590103149\n",
      "score_train_max 0.6642786264419556\n"
     ]
    },
    {
     "name": "stderr",
     "output_type": "stream",
     "text": [
      "100%|██████████████████████████████████████████████████████████████████████████████████| 23/23 [00:33<00:00,  1.48s/it]\n"
     ]
    },
    {
     "name": "stdout",
     "output_type": "stream",
     "text": [
      "loss_overall 0.9394272799077241\n",
      "epoch 10\n",
      "\n",
      "score_test_good_mean 0.6570854783058167\n",
      "score_test_good_std 0.013508944772183895\n",
      "score_test_good_min 0.6350021362304688\n",
      "score_test_good_max 0.6741081476211548\n",
      "\n",
      "score_test_fail_mean 0.7295631170272827\n",
      "score_test_fail_std 0.046089205890893936\n",
      "score_test_fail_min 0.6633833646774292\n",
      "score_test_fail_max 0.879092812538147\n",
      "\n",
      "score_train_mean 0.6274377703666687\n",
      "score_train_std 0.01687227003276348\n",
      "score_train_min 0.592211902141571\n",
      "score_train_max 0.6655105948448181\n"
     ]
    },
    {
     "name": "stderr",
     "output_type": "stream",
     "text": [
      "100%|██████████████████████████████████████████████████████████████████████████████████| 23/23 [00:33<00:00,  1.46s/it]\n"
     ]
    },
    {
     "name": "stdout",
     "output_type": "stream",
     "text": [
      "loss_overall 0.8867235365121261\n",
      "epoch 11\n",
      "\n",
      "score_test_good_mean 0.6217581629753113\n",
      "score_test_good_std 0.024496039375662804\n",
      "score_test_good_min 0.5880507230758667\n",
      "score_test_good_max 0.6800681948661804\n",
      "\n",
      "score_test_fail_mean 0.703890860080719\n",
      "score_test_fail_std 0.06988397240638733\n",
      "score_test_fail_min 0.6306751370429993\n",
      "score_test_fail_max 0.936171293258667\n",
      "\n",
      "score_train_mean 0.6046841740608215\n",
      "score_train_std 0.012509714812040329\n",
      "score_train_min 0.5813395977020264\n",
      "score_train_max 0.627822995185852\n"
     ]
    },
    {
     "name": "stderr",
     "output_type": "stream",
     "text": [
      "100%|██████████████████████████████████████████████████████████████████████████████████| 23/23 [00:34<00:00,  1.49s/it]\n"
     ]
    },
    {
     "name": "stdout",
     "output_type": "stream",
     "text": [
      "loss_overall 0.8621540484221085\n",
      "epoch 12\n",
      "\n",
      "score_test_good_mean 0.602295994758606\n",
      "score_test_good_std 0.025411730632185936\n",
      "score_test_good_min 0.5629453063011169\n",
      "score_test_good_max 0.6587311029434204\n",
      "\n",
      "score_test_fail_mean 0.6748632192611694\n",
      "score_test_fail_std 0.037693269550800323\n",
      "score_test_fail_min 0.6140480041503906\n",
      "score_test_fail_max 0.790403425693512\n",
      "\n",
      "score_train_mean 0.5797225832939148\n",
      "score_train_std 0.011265796609222889\n",
      "score_train_min 0.5592473745346069\n",
      "score_train_max 0.595387876033783\n"
     ]
    },
    {
     "name": "stderr",
     "output_type": "stream",
     "text": [
      "100%|██████████████████████████████████████████████████████████████████████████████████| 23/23 [00:33<00:00,  1.46s/it]\n"
     ]
    },
    {
     "name": "stdout",
     "output_type": "stream",
     "text": [
      "loss_overall 0.8172385148380114\n",
      "epoch 13\n",
      "\n",
      "score_test_good_mean 0.6084897518157959\n",
      "score_test_good_std 0.021114246919751167\n",
      "score_test_good_min 0.5700919032096863\n",
      "score_test_good_max 0.6441137194633484\n",
      "\n",
      "score_test_fail_mean 0.681083083152771\n",
      "score_test_fail_std 0.037002742290496826\n",
      "score_test_fail_min 0.6330845952033997\n",
      "score_test_fail_max 0.7829767465591431\n",
      "\n",
      "score_train_mean 0.5642598271369934\n",
      "score_train_std 0.014561089687049389\n",
      "score_train_min 0.541033148765564\n",
      "score_train_max 0.6013709902763367\n"
     ]
    },
    {
     "name": "stderr",
     "output_type": "stream",
     "text": [
      "100%|██████████████████████████████████████████████████████████████████████████████████| 23/23 [00:34<00:00,  1.48s/it]\n"
     ]
    },
    {
     "name": "stdout",
     "output_type": "stream",
     "text": [
      "loss_overall 0.7820106926171676\n",
      "epoch 14\n",
      "\n",
      "score_test_good_mean 0.5852096676826477\n",
      "score_test_good_std 0.017444951459765434\n",
      "score_test_good_min 0.5525128245353699\n",
      "score_test_good_max 0.6086061000823975\n",
      "\n",
      "score_test_fail_mean 0.6732965111732483\n",
      "score_test_fail_std 0.08406674116849899\n",
      "score_test_fail_min 0.5820046663284302\n",
      "score_test_fail_max 0.9890379905700684\n",
      "\n",
      "score_train_mean 0.5486690998077393\n",
      "score_train_std 0.01231984980404377\n",
      "score_train_min 0.5309688448905945\n",
      "score_train_max 0.5775131583213806\n"
     ]
    },
    {
     "name": "stderr",
     "output_type": "stream",
     "text": [
      "100%|██████████████████████████████████████████████████████████████████████████████████| 23/23 [00:31<00:00,  1.38s/it]\n"
     ]
    },
    {
     "name": "stdout",
     "output_type": "stream",
     "text": [
      "loss_overall 0.754223302654598\n",
      "epoch 15\n",
      "\n",
      "score_test_good_mean 0.5708137154579163\n",
      "score_test_good_std 0.022596023976802826\n",
      "score_test_good_min 0.5347806215286255\n",
      "score_test_good_max 0.6078152656555176\n",
      "\n",
      "score_test_fail_mean 0.6486772298812866\n",
      "score_test_fail_std 0.041316960006952286\n",
      "score_test_fail_min 0.5728029012680054\n",
      "score_test_fail_max 0.7158011794090271\n",
      "\n",
      "score_train_mean 0.5366386771202087\n",
      "score_train_std 0.01108543761074543\n",
      "score_train_min 0.5165868997573853\n",
      "score_train_max 0.5591142177581787\n"
     ]
    },
    {
     "name": "stderr",
     "output_type": "stream",
     "text": [
      "100%|██████████████████████████████████████████████████████████████████████████████████| 23/23 [00:32<00:00,  1.41s/it]\n"
     ]
    },
    {
     "name": "stdout",
     "output_type": "stream",
     "text": [
      "loss_overall 0.7378044024757717\n",
      "epoch 16\n",
      "\n",
      "score_test_good_mean 0.5710484385490417\n",
      "score_test_good_std 0.020411591976881027\n",
      "score_test_good_min 0.5394373536109924\n",
      "score_test_good_max 0.6114301681518555\n",
      "\n",
      "score_test_fail_mean 0.6465159058570862\n",
      "score_test_fail_std 0.05512556806206703\n",
      "score_test_fail_min 0.573033332824707\n",
      "score_test_fail_max 0.7692744731903076\n",
      "\n",
      "score_train_mean 0.5258955955505371\n",
      "score_train_std 0.012048597447574139\n",
      "score_train_min 0.504694938659668\n",
      "score_train_max 0.5512089133262634\n"
     ]
    },
    {
     "name": "stderr",
     "output_type": "stream",
     "text": [
      "100%|██████████████████████████████████████████████████████████████████████████████████| 23/23 [00:33<00:00,  1.44s/it]\n"
     ]
    },
    {
     "name": "stdout",
     "output_type": "stream",
     "text": [
      "loss_overall 0.7181316303170245\n",
      "epoch 17\n",
      "\n",
      "score_test_good_mean 0.5591014623641968\n",
      "score_test_good_std 0.023142371326684952\n",
      "score_test_good_min 0.5187084674835205\n",
      "score_test_good_max 0.6039717793464661\n",
      "\n",
      "score_test_fail_mean 0.6404184699058533\n",
      "score_test_fail_std 0.05556347593665123\n",
      "score_test_fail_min 0.5680961012840271\n",
      "score_test_fail_max 0.7359094023704529\n",
      "\n",
      "score_train_mean 0.5174462199211121\n",
      "score_train_std 0.012149952352046967\n",
      "score_train_min 0.48476099967956543\n",
      "score_train_max 0.5390735864639282\n"
     ]
    },
    {
     "name": "stderr",
     "output_type": "stream",
     "text": [
      "100%|██████████████████████████████████████████████████████████████████████████████████| 23/23 [00:33<00:00,  1.47s/it]\n"
     ]
    },
    {
     "name": "stdout",
     "output_type": "stream",
     "text": [
      "loss_overall 0.708071231842041\n",
      "epoch 18\n",
      "\n",
      "score_test_good_mean 0.5589077472686768\n",
      "score_test_good_std 0.017841637134552002\n",
      "score_test_good_min 0.5298770070075989\n",
      "score_test_good_max 0.5855767726898193\n",
      "\n",
      "score_test_fail_mean 0.6458724737167358\n",
      "score_test_fail_std 0.0728382095694542\n",
      "score_test_fail_min 0.5605877637863159\n",
      "score_test_fail_max 0.9209306836128235\n",
      "\n",
      "score_train_mean 0.5132351517677307\n",
      "score_train_std 0.01431577280163765\n",
      "score_train_min 0.4920980930328369\n",
      "score_train_max 0.5344869494438171\n"
     ]
    },
    {
     "name": "stderr",
     "output_type": "stream",
     "text": [
      "100%|██████████████████████████████████████████████████████████████████████████████████| 23/23 [00:33<00:00,  1.46s/it]\n"
     ]
    },
    {
     "name": "stdout",
     "output_type": "stream",
     "text": [
      "loss_overall 0.7054198513860288\n",
      "epoch 19\n",
      "\n",
      "score_test_good_mean 0.5522911548614502\n",
      "score_test_good_std 0.021988989785313606\n",
      "score_test_good_min 0.5089815258979797\n",
      "score_test_good_max 0.5847656726837158\n",
      "\n",
      "score_test_fail_mean 0.633385181427002\n",
      "score_test_fail_std 0.04518703371286392\n",
      "score_test_fail_min 0.5370344519615173\n",
      "score_test_fail_max 0.7252047061920166\n",
      "\n",
      "score_train_mean 0.512423574924469\n",
      "score_train_std 0.01604432426393032\n",
      "score_train_min 0.478702574968338\n",
      "score_train_max 0.5439938902854919\n"
     ]
    },
    {
     "name": "stderr",
     "output_type": "stream",
     "text": [
      "100%|██████████████████████████████████████████████████████████████████████████████████| 23/23 [00:33<00:00,  1.46s/it]\n"
     ]
    },
    {
     "name": "stdout",
     "output_type": "stream",
     "text": [
      "loss_overall 0.670760364636131\n",
      "epoch 20\n",
      "\n",
      "score_test_good_mean 0.549052894115448\n",
      "score_test_good_std 0.016851268708705902\n",
      "score_test_good_min 0.52193683385849\n",
      "score_test_good_max 0.5776228904724121\n",
      "\n",
      "score_test_fail_mean 0.6236820220947266\n",
      "score_test_fail_std 0.046691667288541794\n",
      "score_test_fail_min 0.5487726330757141\n",
      "score_test_fail_max 0.730706512928009\n",
      "\n",
      "score_train_mean 0.49902886152267456\n",
      "score_train_std 0.014732646755874157\n",
      "score_train_min 0.47634223103523254\n",
      "score_train_max 0.5412046909332275\n"
     ]
    },
    {
     "name": "stderr",
     "output_type": "stream",
     "text": [
      "100%|██████████████████████████████████████████████████████████████████████████████████| 23/23 [00:32<00:00,  1.42s/it]\n"
     ]
    },
    {
     "name": "stdout",
     "output_type": "stream",
     "text": [
      "loss_overall 0.6750093517096146\n",
      "epoch 21\n",
      "\n",
      "score_test_good_mean 0.5340619683265686\n",
      "score_test_good_std 0.015380552969872952\n",
      "score_test_good_min 0.49873849749565125\n",
      "score_test_good_max 0.55985027551651\n",
      "\n",
      "score_test_fail_mean 0.6140622496604919\n",
      "score_test_fail_std 0.05982687696814537\n",
      "score_test_fail_min 0.47673529386520386\n",
      "score_test_fail_max 0.7355859279632568\n",
      "\n",
      "score_train_mean 0.49477776885032654\n",
      "score_train_std 0.013142495416104794\n",
      "score_train_min 0.4688733220100403\n",
      "score_train_max 0.5194728374481201\n"
     ]
    },
    {
     "name": "stderr",
     "output_type": "stream",
     "text": [
      "100%|██████████████████████████████████████████████████████████████████████████████████| 23/23 [00:33<00:00,  1.44s/it]\n"
     ]
    },
    {
     "name": "stdout",
     "output_type": "stream",
     "text": [
      "loss_overall 0.6605548988217893\n",
      "epoch 22\n",
      "\n",
      "score_test_good_mean 0.557824969291687\n",
      "score_test_good_std 0.02414020337164402\n",
      "score_test_good_min 0.524178147315979\n",
      "score_test_good_max 0.6091055870056152\n",
      "\n",
      "score_test_fail_mean 0.6374682188034058\n",
      "score_test_fail_std 0.04334357753396034\n",
      "score_test_fail_min 0.5580065250396729\n",
      "score_test_fail_max 0.7260255217552185\n",
      "\n",
      "score_train_mean 0.48771533370018005\n",
      "score_train_std 0.0120538966730237\n",
      "score_train_min 0.45294541120529175\n",
      "score_train_max 0.5062545537948608\n"
     ]
    },
    {
     "name": "stderr",
     "output_type": "stream",
     "text": [
      "100%|██████████████████████████████████████████████████████████████████████████████████| 23/23 [00:33<00:00,  1.47s/it]\n"
     ]
    },
    {
     "name": "stdout",
     "output_type": "stream",
     "text": [
      "loss_overall 0.6575993403144504\n",
      "epoch 23\n",
      "\n",
      "score_test_good_mean 0.5394150614738464\n",
      "score_test_good_std 0.02363555319607258\n",
      "score_test_good_min 0.5053383708000183\n",
      "score_test_good_max 0.5952209830284119\n",
      "\n",
      "score_test_fail_mean 0.6252380609512329\n",
      "score_test_fail_std 0.05319664254784584\n",
      "score_test_fail_min 0.5450794696807861\n",
      "score_test_fail_max 0.7450190186500549\n",
      "\n",
      "score_train_mean 0.48579519987106323\n",
      "score_train_std 0.01894211955368519\n",
      "score_train_min 0.46053963899612427\n",
      "score_train_max 0.5527212023735046\n"
     ]
    },
    {
     "name": "stderr",
     "output_type": "stream",
     "text": [
      "100%|██████████████████████████████████████████████████████████████████████████████████| 23/23 [00:33<00:00,  1.47s/it]\n"
     ]
    },
    {
     "name": "stdout",
     "output_type": "stream",
     "text": [
      "loss_overall 0.6436056961183962\n",
      "epoch 24\n",
      "\n",
      "score_test_good_mean 0.5466163754463196\n",
      "score_test_good_std 0.024843810126185417\n",
      "score_test_good_min 0.4928183853626251\n",
      "score_test_good_max 0.5866920351982117\n",
      "\n",
      "score_test_fail_mean 0.6319543719291687\n",
      "score_test_fail_std 0.04838821664452553\n",
      "score_test_fail_min 0.5618757605552673\n",
      "score_test_fail_max 0.7597172856330872\n",
      "\n",
      "score_train_mean 0.4823154807090759\n",
      "score_train_std 0.014350006356835365\n",
      "score_train_min 0.4568786919116974\n",
      "score_train_max 0.5057284235954285\n"
     ]
    },
    {
     "name": "stderr",
     "output_type": "stream",
     "text": [
      "100%|██████████████████████████████████████████████████████████████████████████████████| 23/23 [00:32<00:00,  1.42s/it]\n"
     ]
    },
    {
     "name": "stdout",
     "output_type": "stream",
     "text": [
      "loss_overall 0.6309943380563156\n",
      "epoch 25\n",
      "\n",
      "score_test_good_mean 0.5331650376319885\n",
      "score_test_good_std 0.014126017689704895\n",
      "score_test_good_min 0.5059005618095398\n",
      "score_test_good_max 0.5527715682983398\n",
      "\n",
      "score_test_fail_mean 0.620796263217926\n",
      "score_test_fail_std 0.05036207661032677\n",
      "score_test_fail_min 0.5489548444747925\n",
      "score_test_fail_max 0.72554612159729\n",
      "\n",
      "score_train_mean 0.4747031629085541\n",
      "score_train_std 0.01277905236929655\n",
      "score_train_min 0.4531775712966919\n",
      "score_train_max 0.5008108019828796\n"
     ]
    },
    {
     "name": "stderr",
     "output_type": "stream",
     "text": [
      "100%|██████████████████████████████████████████████████████████████████████████████████| 23/23 [00:33<00:00,  1.45s/it]\n"
     ]
    },
    {
     "name": "stdout",
     "output_type": "stream",
     "text": [
      "loss_overall 0.6224412892175757\n",
      "epoch 26\n",
      "\n",
      "score_test_good_mean 0.5240791440010071\n",
      "score_test_good_std 0.021026020869612694\n",
      "score_test_good_min 0.4809289276599884\n",
      "score_test_good_max 0.5697075724601746\n",
      "\n",
      "score_test_fail_mean 0.6050193309783936\n",
      "score_test_fail_std 0.04388844966888428\n",
      "score_test_fail_min 0.5428531765937805\n",
      "score_test_fail_max 0.7036653161048889\n",
      "\n",
      "score_train_mean 0.47017109394073486\n",
      "score_train_std 0.008909855969250202\n",
      "score_train_min 0.4503820836544037\n",
      "score_train_max 0.48643141984939575\n"
     ]
    },
    {
     "name": "stderr",
     "output_type": "stream",
     "text": [
      "100%|██████████████████████████████████████████████████████████████████████████████████| 23/23 [00:33<00:00,  1.48s/it]\n"
     ]
    },
    {
     "name": "stdout",
     "output_type": "stream",
     "text": [
      "loss_overall 0.6138181427250737\n",
      "epoch 27\n",
      "\n",
      "score_test_good_mean 0.5346337556838989\n",
      "score_test_good_std 0.013734905049204826\n",
      "score_test_good_min 0.514793872833252\n",
      "score_test_good_max 0.5675928592681885\n",
      "\n",
      "score_test_fail_mean 0.6179925799369812\n",
      "score_test_fail_std 0.04293472692370415\n",
      "score_test_fail_min 0.552482008934021\n",
      "score_test_fail_max 0.7227685451507568\n",
      "\n",
      "score_train_mean 0.46180668473243713\n",
      "score_train_std 0.011490760371088982\n",
      "score_train_min 0.44025129079818726\n",
      "score_train_max 0.4888724088668823\n"
     ]
    },
    {
     "name": "stderr",
     "output_type": "stream",
     "text": [
      "100%|██████████████████████████████████████████████████████████████████████████████████| 23/23 [00:32<00:00,  1.43s/it]\n"
     ]
    },
    {
     "name": "stdout",
     "output_type": "stream",
     "text": [
      "loss_overall 0.6059735909752224\n",
      "epoch 28\n",
      "\n",
      "score_test_good_mean 0.5356119275093079\n",
      "score_test_good_std 0.012686180882155895\n",
      "score_test_good_min 0.5153061747550964\n",
      "score_test_good_max 0.5611501932144165\n",
      "\n",
      "score_test_fail_mean 0.625898003578186\n",
      "score_test_fail_std 0.05327153950929642\n",
      "score_test_fail_min 0.5673794746398926\n",
      "score_test_fail_max 0.7488325834274292\n",
      "\n",
      "score_train_mean 0.4598533511161804\n",
      "score_train_std 0.013116239570081234\n",
      "score_train_min 0.4413534998893738\n",
      "score_train_max 0.4878161549568176\n"
     ]
    },
    {
     "name": "stderr",
     "output_type": "stream",
     "text": [
      "100%|██████████████████████████████████████████████████████████████████████████████████| 23/23 [00:33<00:00,  1.45s/it]\n"
     ]
    },
    {
     "name": "stdout",
     "output_type": "stream",
     "text": [
      "loss_overall 0.5995390000550643\n",
      "epoch 29\n",
      "\n",
      "score_test_good_mean 0.53579181432724\n",
      "score_test_good_std 0.02203739434480667\n",
      "score_test_good_min 0.497189998626709\n",
      "score_test_good_max 0.5942551493644714\n",
      "\n",
      "score_test_fail_mean 0.6166794896125793\n",
      "score_test_fail_std 0.05423605442047119\n",
      "score_test_fail_min 0.5466936230659485\n",
      "score_test_fail_max 0.7438660264015198\n",
      "\n",
      "score_train_mean 0.4529475271701813\n",
      "score_train_std 0.009118296205997467\n",
      "score_train_min 0.4349920153617859\n",
      "score_train_max 0.46961918473243713\n"
     ]
    },
    {
     "name": "stderr",
     "output_type": "stream",
     "text": [
      "100%|██████████████████████████████████████████████████████████████████████████████████| 23/23 [00:32<00:00,  1.43s/it]\n"
     ]
    },
    {
     "name": "stdout",
     "output_type": "stream",
     "text": [
      "loss_overall 0.5878231421760891\n",
      "epoch 30\n",
      "\n",
      "score_test_good_mean 0.5354821681976318\n",
      "score_test_good_std 0.016463615000247955\n",
      "score_test_good_min 0.5134742259979248\n",
      "score_test_good_max 0.5637578964233398\n",
      "\n",
      "score_test_fail_mean 0.623100757598877\n",
      "score_test_fail_std 0.03524981439113617\n",
      "score_test_fail_min 0.5644965171813965\n",
      "score_test_fail_max 0.7120968103408813\n",
      "\n",
      "score_train_mean 0.44685497879981995\n",
      "score_train_std 0.007678818888962269\n",
      "score_train_min 0.43113473057746887\n",
      "score_train_max 0.4646376371383667\n"
     ]
    },
    {
     "name": "stderr",
     "output_type": "stream",
     "text": [
      "100%|██████████████████████████████████████████████████████████████████████████████████| 23/23 [00:34<00:00,  1.48s/it]\n"
     ]
    },
    {
     "name": "stdout",
     "output_type": "stream",
     "text": [
      "loss_overall 0.5894816155019014\n",
      "epoch 31\n",
      "\n",
      "score_test_good_mean 0.5156774520874023\n",
      "score_test_good_std 0.017904283478856087\n",
      "score_test_good_min 0.49813374876976013\n",
      "score_test_good_max 0.5647274255752563\n",
      "\n",
      "score_test_fail_mean 0.6020710468292236\n",
      "score_test_fail_std 0.0457770898938179\n",
      "score_test_fail_min 0.5039856433868408\n",
      "score_test_fail_max 0.6985587477684021\n",
      "\n",
      "score_train_mean 0.446180522441864\n",
      "score_train_std 0.012307331897318363\n",
      "score_train_min 0.42330992221832275\n",
      "score_train_max 0.47094544768333435\n"
     ]
    },
    {
     "name": "stderr",
     "output_type": "stream",
     "text": [
      "100%|██████████████████████████████████████████████████████████████████████████████████| 23/23 [00:32<00:00,  1.43s/it]\n"
     ]
    },
    {
     "name": "stdout",
     "output_type": "stream",
     "text": [
      "loss_overall 0.5796720955682837\n",
      "epoch 32\n",
      "\n",
      "score_test_good_mean 0.5306418538093567\n",
      "score_test_good_std 0.0186453927308321\n",
      "score_test_good_min 0.4928029775619507\n",
      "score_test_good_max 0.5596216320991516\n",
      "\n",
      "score_test_fail_mean 0.6169098615646362\n",
      "score_test_fail_std 0.06238175183534622\n",
      "score_test_fail_min 0.5106425881385803\n",
      "score_test_fail_max 0.7825973033905029\n",
      "\n",
      "score_train_mean 0.4400450587272644\n",
      "score_train_std 0.014562206342816353\n",
      "score_train_min 0.41755786538124084\n",
      "score_train_max 0.4748447835445404\n"
     ]
    },
    {
     "name": "stderr",
     "output_type": "stream",
     "text": [
      "100%|██████████████████████████████████████████████████████████████████████████████████| 23/23 [00:32<00:00,  1.42s/it]\n"
     ]
    },
    {
     "name": "stdout",
     "output_type": "stream",
     "text": [
      "loss_overall 0.5757700904555942\n",
      "epoch 33\n",
      "\n",
      "score_test_good_mean 0.5215436816215515\n",
      "score_test_good_std 0.01911156065762043\n",
      "score_test_good_min 0.4851366877555847\n",
      "score_test_good_max 0.5563391447067261\n",
      "\n",
      "score_test_fail_mean 0.6022793650627136\n",
      "score_test_fail_std 0.05376507714390755\n",
      "score_test_fail_min 0.4967128038406372\n",
      "score_test_fail_max 0.7107967734336853\n",
      "\n",
      "score_train_mean 0.4363076984882355\n",
      "score_train_std 0.012795546092092991\n",
      "score_train_min 0.40618640184402466\n",
      "score_train_max 0.4565819501876831\n"
     ]
    },
    {
     "name": "stderr",
     "output_type": "stream",
     "text": [
      "100%|██████████████████████████████████████████████████████████████████████████████████| 23/23 [00:32<00:00,  1.41s/it]\n"
     ]
    },
    {
     "name": "stdout",
     "output_type": "stream",
     "text": [
      "loss_overall 0.5679976110873015\n",
      "epoch 34\n",
      "\n",
      "score_test_good_mean 0.5392786860466003\n",
      "score_test_good_std 0.014376601204276085\n",
      "score_test_good_min 0.5169362425804138\n",
      "score_test_good_max 0.561492919921875\n",
      "\n",
      "score_test_fail_mean 0.6194350719451904\n",
      "score_test_fail_std 0.05556493625044823\n",
      "score_test_fail_min 0.5314807891845703\n",
      "score_test_fail_max 0.7646238803863525\n",
      "\n",
      "score_train_mean 0.43118369579315186\n",
      "score_train_std 0.009681660681962967\n",
      "score_train_min 0.41630521416664124\n",
      "score_train_max 0.45936232805252075\n"
     ]
    },
    {
     "name": "stderr",
     "output_type": "stream",
     "text": [
      "100%|██████████████████████████████████████████████████████████████████████████████████| 23/23 [00:32<00:00,  1.39s/it]\n"
     ]
    },
    {
     "name": "stdout",
     "output_type": "stream",
     "text": [
      "loss_overall 0.566407763439676\n",
      "epoch 35\n",
      "\n",
      "score_test_good_mean 0.5098280310630798\n",
      "score_test_good_std 0.018133601173758507\n",
      "score_test_good_min 0.47774481773376465\n",
      "score_test_good_max 0.5357697010040283\n",
      "\n",
      "score_test_fail_mean 0.598443865776062\n",
      "score_test_fail_std 0.05922483652830124\n",
      "score_test_fail_min 0.5292736887931824\n",
      "score_test_fail_max 0.7465731501579285\n",
      "\n",
      "score_train_mean 0.4307250678539276\n",
      "score_train_std 0.010759633034467697\n",
      "score_train_min 0.40895965695381165\n",
      "score_train_max 0.45010799169540405\n"
     ]
    },
    {
     "name": "stderr",
     "output_type": "stream",
     "text": [
      "100%|██████████████████████████████████████████████████████████████████████████████████| 23/23 [00:32<00:00,  1.43s/it]\n"
     ]
    },
    {
     "name": "stdout",
     "output_type": "stream",
     "text": [
      "loss_overall 0.5695472230081973\n",
      "epoch 36\n",
      "\n",
      "score_test_good_mean 0.5248092412948608\n",
      "score_test_good_std 0.018310392275452614\n",
      "score_test_good_min 0.49327176809310913\n",
      "score_test_good_max 0.5524588823318481\n",
      "\n",
      "score_test_fail_mean 0.6199644207954407\n",
      "score_test_fail_std 0.07271561771631241\n",
      "score_test_fail_min 0.5221344232559204\n",
      "score_test_fail_max 0.8679696917533875\n",
      "\n",
      "score_train_mean 0.42651841044425964\n",
      "score_train_std 0.009631163440644741\n",
      "score_train_min 0.4090186059474945\n",
      "score_train_max 0.4459328055381775\n"
     ]
    },
    {
     "name": "stderr",
     "output_type": "stream",
     "text": [
      "100%|██████████████████████████████████████████████████████████████████████████████████| 23/23 [00:34<00:00,  1.49s/it]\n"
     ]
    },
    {
     "name": "stdout",
     "output_type": "stream",
     "text": [
      "loss_overall 0.5663891408754431\n",
      "epoch 37\n",
      "\n",
      "score_test_good_mean 0.5223344564437866\n",
      "score_test_good_std 0.014439653605222702\n",
      "score_test_good_min 0.49066346883773804\n",
      "score_test_good_max 0.5445798635482788\n",
      "\n",
      "score_test_fail_mean 0.6131667494773865\n",
      "score_test_fail_std 0.04299544543027878\n",
      "score_test_fail_min 0.5385681986808777\n",
      "score_test_fail_max 0.6955130696296692\n",
      "\n",
      "score_train_mean 0.4243606925010681\n",
      "score_train_std 0.01039617694914341\n",
      "score_train_min 0.40662187337875366\n",
      "score_train_max 0.4477873742580414\n"
     ]
    },
    {
     "name": "stderr",
     "output_type": "stream",
     "text": [
      "100%|██████████████████████████████████████████████████████████████████████████████████| 23/23 [00:31<00:00,  1.38s/it]\n"
     ]
    },
    {
     "name": "stdout",
     "output_type": "stream",
     "text": [
      "loss_overall 0.5616042354832524\n",
      "epoch 38\n",
      "\n",
      "score_test_good_mean 0.5212181210517883\n",
      "score_test_good_std 0.013537258841097355\n",
      "score_test_good_min 0.49640706181526184\n",
      "score_test_good_max 0.5441663861274719\n",
      "\n",
      "score_test_fail_mean 0.6106280088424683\n",
      "score_test_fail_std 0.04833432659506798\n",
      "score_test_fail_min 0.5430684089660645\n",
      "score_test_fail_max 0.6948889493942261\n",
      "\n",
      "score_train_mean 0.4239760637283325\n",
      "score_train_std 0.012014450505375862\n",
      "score_train_min 0.40337783098220825\n",
      "score_train_max 0.45211514830589294\n"
     ]
    },
    {
     "name": "stderr",
     "output_type": "stream",
     "text": [
      "100%|██████████████████████████████████████████████████████████████████████████████████| 23/23 [00:32<00:00,  1.40s/it]\n"
     ]
    },
    {
     "name": "stdout",
     "output_type": "stream",
     "text": [
      "loss_overall 0.54638562772585\n",
      "epoch 39\n",
      "\n",
      "score_test_good_mean 0.5019084811210632\n",
      "score_test_good_std 0.020004477351903915\n",
      "score_test_good_min 0.4695427417755127\n",
      "score_test_good_max 0.5543240904808044\n",
      "\n",
      "score_test_fail_mean 0.5874321460723877\n",
      "score_test_fail_std 0.05026532709598541\n",
      "score_test_fail_min 0.4900614321231842\n",
      "score_test_fail_max 0.6687952876091003\n",
      "\n",
      "score_train_mean 0.41451993584632874\n",
      "score_train_std 0.013476063497364521\n",
      "score_train_min 0.3965388834476471\n",
      "score_train_max 0.44403892755508423\n"
     ]
    },
    {
     "name": "stderr",
     "output_type": "stream",
     "text": [
      "100%|██████████████████████████████████████████████████████████████████████████████████| 23/23 [00:33<00:00,  1.44s/it]\n"
     ]
    },
    {
     "name": "stdout",
     "output_type": "stream",
     "text": [
      "loss_overall 0.5518454339193262\n",
      "epoch 40\n",
      "\n",
      "score_test_good_mean 0.5074456930160522\n",
      "score_test_good_std 0.013828285038471222\n",
      "score_test_good_min 0.48800405859947205\n",
      "score_test_good_max 0.5350839495658875\n",
      "\n",
      "score_test_fail_mean 0.5939467549324036\n",
      "score_test_fail_std 0.05176883563399315\n",
      "score_test_fail_min 0.510440468788147\n",
      "score_test_fail_max 0.718560516834259\n",
      "\n",
      "score_train_mean 0.41135817766189575\n",
      "score_train_std 0.012066823430359364\n",
      "score_train_min 0.3874455988407135\n",
      "score_train_max 0.43618589639663696\n"
     ]
    },
    {
     "name": "stderr",
     "output_type": "stream",
     "text": [
      "100%|██████████████████████████████████████████████████████████████████████████████████| 23/23 [00:32<00:00,  1.41s/it]\n"
     ]
    },
    {
     "name": "stdout",
     "output_type": "stream",
     "text": [
      "loss_overall 0.5364536720773448\n",
      "epoch 41\n",
      "\n",
      "score_test_good_mean 0.5103539228439331\n",
      "score_test_good_std 0.018327726051211357\n",
      "score_test_good_min 0.48133620619773865\n",
      "score_test_good_max 0.5372135043144226\n",
      "\n",
      "score_test_fail_mean 0.5964673757553101\n",
      "score_test_fail_std 0.04629705473780632\n",
      "score_test_fail_min 0.5014055967330933\n",
      "score_test_fail_max 0.7038018703460693\n",
      "\n",
      "score_train_mean 0.4102321267127991\n",
      "score_train_std 0.012838379479944706\n",
      "score_train_min 0.38600677251815796\n",
      "score_train_max 0.4439997673034668\n"
     ]
    },
    {
     "name": "stderr",
     "output_type": "stream",
     "text": [
      "100%|██████████████████████████████████████████████████████████████████████████████████| 23/23 [00:33<00:00,  1.46s/it]\n"
     ]
    },
    {
     "name": "stdout",
     "output_type": "stream",
     "text": [
      "loss_overall 0.5323270831419074\n",
      "epoch 42\n",
      "\n",
      "score_test_good_mean 0.5054160356521606\n",
      "score_test_good_std 0.018436092883348465\n",
      "score_test_good_min 0.4798731207847595\n",
      "score_test_good_max 0.5442056655883789\n",
      "\n",
      "score_test_fail_mean 0.5947359204292297\n",
      "score_test_fail_std 0.051416948437690735\n",
      "score_test_fail_min 0.5056080222129822\n",
      "score_test_fail_max 0.7133281230926514\n",
      "\n",
      "score_train_mean 0.4050467610359192\n",
      "score_train_std 0.011716934852302074\n",
      "score_train_min 0.3823549151420593\n",
      "score_train_max 0.4255450963973999\n"
     ]
    },
    {
     "name": "stderr",
     "output_type": "stream",
     "text": [
      "100%|██████████████████████████████████████████████████████████████████████████████████| 23/23 [00:32<00:00,  1.43s/it]\n"
     ]
    },
    {
     "name": "stdout",
     "output_type": "stream",
     "text": [
      "loss_overall 0.5191307599129884\n",
      "epoch 43\n",
      "\n",
      "score_test_good_mean 0.5080532431602478\n",
      "score_test_good_std 0.023299211636185646\n",
      "score_test_good_min 0.4713709354400635\n",
      "score_test_good_max 0.5517221689224243\n",
      "\n",
      "score_test_fail_mean 0.596646785736084\n",
      "score_test_fail_std 0.049337238073349\n",
      "score_test_fail_min 0.5275477766990662\n",
      "score_test_fail_max 0.7370894551277161\n",
      "\n",
      "score_train_mean 0.4004073441028595\n",
      "score_train_std 0.010157414712011814\n",
      "score_train_min 0.38205641508102417\n",
      "score_train_max 0.4203568994998932\n"
     ]
    },
    {
     "name": "stderr",
     "output_type": "stream",
     "text": [
      "100%|██████████████████████████████████████████████████████████████████████████████████| 23/23 [00:33<00:00,  1.47s/it]\n"
     ]
    },
    {
     "name": "stdout",
     "output_type": "stream",
     "text": [
      "loss_overall 0.5136503175548885\n",
      "epoch 44\n",
      "\n",
      "score_test_good_mean 0.5107187628746033\n",
      "score_test_good_std 0.017046650871634483\n",
      "score_test_good_min 0.4825781583786011\n",
      "score_test_good_max 0.5347158908843994\n",
      "\n",
      "score_test_fail_mean 0.6014537811279297\n",
      "score_test_fail_std 0.04587299004197121\n",
      "score_test_fail_min 0.5256925821304321\n",
      "score_test_fail_max 0.700088381767273\n",
      "\n",
      "score_train_mean 0.3939855098724365\n",
      "score_train_std 0.012504484504461288\n",
      "score_train_min 0.3756228983402252\n",
      "score_train_max 0.41796115040779114\n"
     ]
    },
    {
     "name": "stderr",
     "output_type": "stream",
     "text": [
      "100%|██████████████████████████████████████████████████████████████████████████████████| 23/23 [00:34<00:00,  1.51s/it]\n"
     ]
    },
    {
     "name": "stdout",
     "output_type": "stream",
     "text": [
      "loss_overall 0.5185434999673263\n",
      "epoch 45\n",
      "\n",
      "score_test_good_mean 0.5104811191558838\n",
      "score_test_good_std 0.02003493532538414\n",
      "score_test_good_min 0.46891188621520996\n",
      "score_test_good_max 0.5486488342285156\n",
      "\n",
      "score_test_fail_mean 0.594837486743927\n",
      "score_test_fail_std 0.054296109825372696\n",
      "score_test_fail_min 0.4960656762123108\n",
      "score_test_fail_max 0.7125375866889954\n",
      "\n",
      "score_train_mean 0.3955878019332886\n",
      "score_train_std 0.010321174748241901\n",
      "score_train_min 0.37353405356407166\n",
      "score_train_max 0.4151146113872528\n"
     ]
    },
    {
     "name": "stderr",
     "output_type": "stream",
     "text": [
      "100%|██████████████████████████████████████████████████████████████████████████████████| 23/23 [00:32<00:00,  1.43s/it]\n"
     ]
    },
    {
     "name": "stdout",
     "output_type": "stream",
     "text": [
      "loss_overall 0.5370242155116537\n",
      "epoch 46\n",
      "\n",
      "score_test_good_mean 0.5155430436134338\n",
      "score_test_good_std 0.01600848138332367\n",
      "score_test_good_min 0.4934439957141876\n",
      "score_test_good_max 0.5460361242294312\n",
      "\n",
      "score_test_fail_mean 0.612216591835022\n",
      "score_test_fail_std 0.055839747190475464\n",
      "score_test_fail_min 0.5435243844985962\n",
      "score_test_fail_max 0.809680700302124\n",
      "\n",
      "score_train_mean 0.3996153771877289\n",
      "score_train_std 0.012939912267029285\n",
      "score_train_min 0.37590888142585754\n",
      "score_train_max 0.429729700088501\n"
     ]
    },
    {
     "name": "stderr",
     "output_type": "stream",
     "text": [
      "100%|██████████████████████████████████████████████████████████████████████████████████| 23/23 [00:33<00:00,  1.48s/it]\n"
     ]
    },
    {
     "name": "stdout",
     "output_type": "stream",
     "text": [
      "loss_overall 0.5229930100233658\n",
      "epoch 47\n",
      "\n",
      "score_test_good_mean 0.5180915594100952\n",
      "score_test_good_std 0.016424478963017464\n",
      "score_test_good_min 0.49262261390686035\n",
      "score_test_good_max 0.5450475811958313\n",
      "\n",
      "score_test_fail_mean 0.6075742840766907\n",
      "score_test_fail_std 0.05437859520316124\n",
      "score_test_fail_min 0.5303624272346497\n",
      "score_test_fail_max 0.7666078805923462\n",
      "\n",
      "score_train_mean 0.3936040997505188\n",
      "score_train_std 0.012886458076536655\n",
      "score_train_min 0.37273600697517395\n",
      "score_train_max 0.42732179164886475\n"
     ]
    },
    {
     "name": "stderr",
     "output_type": "stream",
     "text": [
      "100%|██████████████████████████████████████████████████████████████████████████████████| 23/23 [00:32<00:00,  1.42s/it]\n"
     ]
    },
    {
     "name": "stdout",
     "output_type": "stream",
     "text": [
      "loss_overall 0.5051197526247605\n",
      "epoch 48\n",
      "\n",
      "score_test_good_mean 0.52006596326828\n",
      "score_test_good_std 0.013216997496783733\n",
      "score_test_good_min 0.49448683857917786\n",
      "score_test_good_max 0.5358758568763733\n",
      "\n",
      "score_test_fail_mean 0.6103625297546387\n",
      "score_test_fail_std 0.0418105386197567\n",
      "score_test_fail_min 0.5326451659202576\n",
      "score_test_fail_max 0.7098923325538635\n",
      "\n",
      "score_train_mean 0.39183667302131653\n",
      "score_train_std 0.008562196977436543\n",
      "score_train_min 0.38070231676101685\n",
      "score_train_max 0.4183131754398346\n"
     ]
    },
    {
     "name": "stderr",
     "output_type": "stream",
     "text": [
      "100%|██████████████████████████████████████████████████████████████████████████████████| 23/23 [00:33<00:00,  1.45s/it]\n"
     ]
    },
    {
     "name": "stdout",
     "output_type": "stream",
     "text": [
      "loss_overall 0.5140499200509943\n",
      "epoch 49\n",
      "\n",
      "score_test_good_mean 0.557372510433197\n",
      "score_test_good_std 0.0188071858137846\n",
      "score_test_good_min 0.5353009700775146\n",
      "score_test_good_max 0.599618136882782\n",
      "\n",
      "score_test_fail_mean 0.6606012582778931\n",
      "score_test_fail_std 0.09938711673021317\n",
      "score_test_fail_min 0.5661532878875732\n",
      "score_test_fail_max 1.078447937965393\n",
      "\n",
      "score_train_mean 0.3875120282173157\n",
      "score_train_std 0.01064508780837059\n",
      "score_train_min 0.3704589307308197\n",
      "score_train_max 0.4093318581581116\n"
     ]
    },
    {
     "name": "stderr",
     "output_type": "stream",
     "text": [
      "100%|██████████████████████████████████████████████████████████████████████████████████| 23/23 [00:32<00:00,  1.43s/it]\n"
     ]
    },
    {
     "name": "stdout",
     "output_type": "stream",
     "text": [
      "loss_overall 0.4956394226654716\n",
      "epoch 50\n",
      "\n",
      "score_test_good_mean 0.49449700117111206\n",
      "score_test_good_std 0.014485358260571957\n",
      "score_test_good_min 0.45537590980529785\n",
      "score_test_good_max 0.5164231061935425\n",
      "\n",
      "score_test_fail_mean 0.5813590288162231\n",
      "score_test_fail_std 0.055987872183322906\n",
      "score_test_fail_min 0.4844415783882141\n",
      "score_test_fail_max 0.6679732799530029\n",
      "\n",
      "score_train_mean 0.38363614678382874\n",
      "score_train_std 0.01026981696486473\n",
      "score_train_min 0.35286644101142883\n",
      "score_train_max 0.3980322480201721\n"
     ]
    },
    {
     "name": "stderr",
     "output_type": "stream",
     "text": [
      "100%|██████████████████████████████████████████████████████████████████████████████████| 23/23 [00:33<00:00,  1.44s/it]\n"
     ]
    },
    {
     "name": "stdout",
     "output_type": "stream",
     "text": [
      "loss_overall 0.495677605919216\n",
      "epoch 51\n",
      "\n",
      "score_test_good_mean 0.5040343403816223\n",
      "score_test_good_std 0.014864950440824032\n",
      "score_test_good_min 0.46589672565460205\n",
      "score_test_good_max 0.5277687311172485\n",
      "\n",
      "score_test_fail_mean 0.5880855917930603\n",
      "score_test_fail_std 0.05432943254709244\n",
      "score_test_fail_min 0.46398818492889404\n",
      "score_test_fail_max 0.6759188175201416\n",
      "\n",
      "score_train_mean 0.37912875413894653\n",
      "score_train_std 0.009727660566568375\n",
      "score_train_min 0.3677626848220825\n",
      "score_train_max 0.40746739506721497\n"
     ]
    },
    {
     "name": "stderr",
     "output_type": "stream",
     "text": [
      "100%|██████████████████████████████████████████████████████████████████████████████████| 23/23 [00:32<00:00,  1.42s/it]\n"
     ]
    },
    {
     "name": "stdout",
     "output_type": "stream",
     "text": [
      "loss_overall 0.5018238788065703\n",
      "epoch 52\n",
      "\n",
      "score_test_good_mean 0.5310875177383423\n",
      "score_test_good_std 0.016479920595884323\n",
      "score_test_good_min 0.487056165933609\n",
      "score_test_good_max 0.5591391921043396\n",
      "\n",
      "score_test_fail_mean 0.6164517402648926\n",
      "score_test_fail_std 0.04377688840031624\n",
      "score_test_fail_min 0.5470487475395203\n",
      "score_test_fail_max 0.7225340604782104\n",
      "\n",
      "score_train_mean 0.37912705540657043\n",
      "score_train_std 0.012740548700094223\n",
      "score_train_min 0.3586345314979553\n",
      "score_train_max 0.4166375994682312\n"
     ]
    },
    {
     "name": "stderr",
     "output_type": "stream",
     "text": [
      "100%|██████████████████████████████████████████████████████████████████████████████████| 23/23 [00:32<00:00,  1.41s/it]\n"
     ]
    },
    {
     "name": "stdout",
     "output_type": "stream",
     "text": [
      "loss_overall 0.49789111899292987\n",
      "epoch 53\n",
      "\n",
      "score_test_good_mean 0.4990917444229126\n",
      "score_test_good_std 0.019761787727475166\n",
      "score_test_good_min 0.4668356776237488\n",
      "score_test_good_max 0.5351139307022095\n",
      "\n",
      "score_test_fail_mean 0.5863490700721741\n",
      "score_test_fail_std 0.05619385838508606\n",
      "score_test_fail_min 0.4493531286716461\n",
      "score_test_fail_max 0.6724437475204468\n",
      "\n",
      "score_train_mean 0.3774468004703522\n",
      "score_train_std 0.011869585141539574\n",
      "score_train_min 0.35478439927101135\n",
      "score_train_max 0.399681031703949\n"
     ]
    },
    {
     "name": "stderr",
     "output_type": "stream",
     "text": [
      "100%|██████████████████████████████████████████████████████████████████████████████████| 23/23 [00:34<00:00,  1.50s/it]\n"
     ]
    },
    {
     "name": "stdout",
     "output_type": "stream",
     "text": [
      "loss_overall 0.48862343896990235\n",
      "epoch 54\n",
      "\n",
      "score_test_good_mean 0.5389118194580078\n",
      "score_test_good_std 0.020263832062482834\n",
      "score_test_good_min 0.4925845265388489\n",
      "score_test_good_max 0.568293035030365\n",
      "\n",
      "score_test_fail_mean 0.6282621026039124\n",
      "score_test_fail_std 0.04819248989224434\n",
      "score_test_fail_min 0.5564274191856384\n",
      "score_test_fail_max 0.7865497469902039\n",
      "\n",
      "score_train_mean 0.37503209710121155\n",
      "score_train_std 0.013258714228868484\n",
      "score_train_min 0.35727372765541077\n",
      "score_train_max 0.40875327587127686\n"
     ]
    },
    {
     "name": "stderr",
     "output_type": "stream",
     "text": [
      "100%|██████████████████████████████████████████████████████████████████████████████████| 23/23 [00:34<00:00,  1.48s/it]\n"
     ]
    },
    {
     "name": "stdout",
     "output_type": "stream",
     "text": [
      "loss_overall 0.47400902794755023\n",
      "epoch 55\n",
      "\n",
      "score_test_good_mean 0.4900798797607422\n",
      "score_test_good_std 0.02013741433620453\n",
      "score_test_good_min 0.459031343460083\n",
      "score_test_good_max 0.5384631156921387\n",
      "\n",
      "score_test_fail_mean 0.5763852596282959\n",
      "score_test_fail_std 0.04853268712759018\n",
      "score_test_fail_min 0.4520414471626282\n",
      "score_test_fail_max 0.6644226312637329\n",
      "\n",
      "score_train_mean 0.3690447509288788\n",
      "score_train_std 0.007130896672606468\n",
      "score_train_min 0.3577449917793274\n",
      "score_train_max 0.380731463432312\n"
     ]
    },
    {
     "name": "stderr",
     "output_type": "stream",
     "text": [
      "100%|██████████████████████████████████████████████████████████████████████████████████| 23/23 [00:33<00:00,  1.45s/it]\n"
     ]
    },
    {
     "name": "stdout",
     "output_type": "stream",
     "text": [
      "loss_overall 0.47460783823676733\n",
      "epoch 56\n",
      "\n",
      "score_test_good_mean 0.5569733381271362\n",
      "score_test_good_std 0.022134607657790184\n",
      "score_test_good_min 0.5190002918243408\n",
      "score_test_good_max 0.5976385474205017\n",
      "\n",
      "score_test_fail_mean 0.6417533755302429\n",
      "score_test_fail_std 0.042770203202962875\n",
      "score_test_fail_min 0.5656636357307434\n",
      "score_test_fail_max 0.7291885614395142\n",
      "\n",
      "score_train_mean 0.36749786138534546\n",
      "score_train_std 0.010436897166073322\n",
      "score_train_min 0.3527625501155853\n",
      "score_train_max 0.38955506682395935\n"
     ]
    },
    {
     "name": "stderr",
     "output_type": "stream",
     "text": [
      "100%|██████████████████████████████████████████████████████████████████████████████████| 23/23 [00:32<00:00,  1.42s/it]\n"
     ]
    },
    {
     "name": "stdout",
     "output_type": "stream",
     "text": [
      "loss_overall 0.47187248520229175\n",
      "epoch 57\n",
      "\n",
      "score_test_good_mean 0.5035860538482666\n",
      "score_test_good_std 0.020045697689056396\n",
      "score_test_good_min 0.47683799266815186\n",
      "score_test_good_max 0.5482332110404968\n",
      "\n",
      "score_test_fail_mean 0.6071908473968506\n",
      "score_test_fail_std 0.08470795303583145\n",
      "score_test_fail_min 0.518362283706665\n",
      "score_test_fail_max 0.9354985356330872\n",
      "\n",
      "score_train_mean 0.36662569642066956\n",
      "score_train_std 0.008583069778978825\n",
      "score_train_min 0.34966498613357544\n",
      "score_train_max 0.3823584020137787\n"
     ]
    },
    {
     "name": "stderr",
     "output_type": "stream",
     "text": [
      "100%|██████████████████████████████████████████████████████████████████████████████████| 23/23 [00:33<00:00,  1.44s/it]\n"
     ]
    },
    {
     "name": "stdout",
     "output_type": "stream",
     "text": [
      "loss_overall 0.46192605599113135\n",
      "epoch 58\n",
      "\n",
      "score_test_good_mean 0.4867722690105438\n",
      "score_test_good_std 0.01644343137741089\n",
      "score_test_good_min 0.4635497033596039\n",
      "score_test_good_max 0.509356677532196\n",
      "\n",
      "score_test_fail_mean 0.5767561197280884\n",
      "score_test_fail_std 0.043651558458805084\n",
      "score_test_fail_min 0.49235066771507263\n",
      "score_test_fail_max 0.6657369136810303\n",
      "\n",
      "score_train_mean 0.3610095977783203\n",
      "score_train_std 0.00794531311839819\n",
      "score_train_min 0.34797337651252747\n",
      "score_train_max 0.38282185792922974\n"
     ]
    },
    {
     "name": "stderr",
     "output_type": "stream",
     "text": [
      "100%|██████████████████████████████████████████████████████████████████████████████████| 23/23 [00:33<00:00,  1.46s/it]\n"
     ]
    },
    {
     "name": "stdout",
     "output_type": "stream",
     "text": [
      "loss_overall 0.46451139320497925\n",
      "epoch 59\n",
      "\n",
      "score_test_good_mean 0.5138714909553528\n",
      "score_test_good_std 0.013544747605919838\n",
      "score_test_good_min 0.4883103668689728\n",
      "score_test_good_max 0.5329247117042542\n",
      "\n",
      "score_test_fail_mean 0.6100478172302246\n",
      "score_test_fail_std 0.05027725175023079\n",
      "score_test_fail_min 0.5357198715209961\n",
      "score_test_fail_max 0.738610565662384\n",
      "\n",
      "score_train_mean 0.35804039239883423\n",
      "score_train_std 0.00901527889072895\n",
      "score_train_min 0.3449326455593109\n",
      "score_train_max 0.3857446014881134\n"
     ]
    },
    {
     "name": "stderr",
     "output_type": "stream",
     "text": [
      "100%|██████████████████████████████████████████████████████████████████████████████████| 23/23 [00:33<00:00,  1.44s/it]\n"
     ]
    },
    {
     "name": "stdout",
     "output_type": "stream",
     "text": [
      "loss_overall 0.46678174708200537\n",
      "epoch 60\n",
      "\n",
      "score_test_good_mean 0.5182052850723267\n",
      "score_test_good_std 0.018683239817619324\n",
      "score_test_good_min 0.48425447940826416\n",
      "score_test_good_max 0.5474297404289246\n",
      "\n",
      "score_test_fail_mean 0.6137569546699524\n",
      "score_test_fail_std 0.06119662895798683\n",
      "score_test_fail_min 0.5226384401321411\n",
      "score_test_fail_max 0.7489932179450989\n",
      "\n",
      "score_train_mean 0.35837218165397644\n",
      "score_train_std 0.008948131464421749\n",
      "score_train_min 0.3403107225894928\n",
      "score_train_max 0.38034161925315857\n"
     ]
    },
    {
     "name": "stderr",
     "output_type": "stream",
     "text": [
      "100%|██████████████████████████████████████████████████████████████████████████████████| 23/23 [00:32<00:00,  1.43s/it]\n"
     ]
    },
    {
     "name": "stdout",
     "output_type": "stream",
     "text": [
      "loss_overall 0.46862243569415546\n",
      "epoch 61\n",
      "\n",
      "score_test_good_mean 0.5072274804115295\n",
      "score_test_good_std 0.014913296326994896\n",
      "score_test_good_min 0.4743676483631134\n",
      "score_test_good_max 0.5401890873908997\n",
      "\n",
      "score_test_fail_mean 0.5950254797935486\n",
      "score_test_fail_std 0.06608045101165771\n",
      "score_test_fail_min 0.5142453908920288\n",
      "score_test_fail_max 0.7666510343551636\n",
      "\n",
      "score_train_mean 0.3570628762245178\n",
      "score_train_std 0.010296267457306385\n",
      "score_train_min 0.3446665108203888\n",
      "score_train_max 0.38033029437065125\n"
     ]
    },
    {
     "name": "stderr",
     "output_type": "stream",
     "text": [
      "100%|██████████████████████████████████████████████████████████████████████████████████| 23/23 [00:33<00:00,  1.47s/it]\n"
     ]
    },
    {
     "name": "stdout",
     "output_type": "stream",
     "text": [
      "loss_overall 0.4514594907345979\n",
      "epoch 62\n",
      "\n",
      "score_test_good_mean 0.5007245540618896\n",
      "score_test_good_std 0.018331171944737434\n",
      "score_test_good_min 0.47083503007888794\n",
      "score_test_good_max 0.5333137512207031\n",
      "\n",
      "score_test_fail_mean 0.5981195569038391\n",
      "score_test_fail_std 0.05259362608194351\n",
      "score_test_fail_min 0.5362926125526428\n",
      "score_test_fail_max 0.7034255862236023\n",
      "\n",
      "score_train_mean 0.35253703594207764\n",
      "score_train_std 0.008817818015813828\n",
      "score_train_min 0.3366234004497528\n",
      "score_train_max 0.3688884675502777\n"
     ]
    },
    {
     "name": "stderr",
     "output_type": "stream",
     "text": [
      "100%|██████████████████████████████████████████████████████████████████████████████████| 23/23 [00:32<00:00,  1.40s/it]\n"
     ]
    },
    {
     "name": "stdout",
     "output_type": "stream",
     "text": [
      "loss_overall 0.4603926034077354\n",
      "epoch 63\n",
      "\n",
      "score_test_good_mean 0.5474144816398621\n",
      "score_test_good_std 0.014192748814821243\n",
      "score_test_good_min 0.5235680341720581\n",
      "score_test_good_max 0.5718284845352173\n",
      "\n",
      "score_test_fail_mean 0.6379232406616211\n",
      "score_test_fail_std 0.05685266852378845\n",
      "score_test_fail_min 0.4882736802101135\n",
      "score_test_fail_max 0.7452644109725952\n",
      "\n",
      "score_train_mean 0.35346394777297974\n",
      "score_train_std 0.010778296738862991\n",
      "score_train_min 0.3354567885398865\n",
      "score_train_max 0.384909063577652\n"
     ]
    },
    {
     "name": "stderr",
     "output_type": "stream",
     "text": [
      "100%|██████████████████████████████████████████████████████████████████████████████████| 23/23 [00:31<00:00,  1.38s/it]\n"
     ]
    },
    {
     "name": "stdout",
     "output_type": "stream",
     "text": [
      "loss_overall 0.4555265151936075\n",
      "epoch 64\n",
      "\n",
      "score_test_good_mean 0.5163490772247314\n",
      "score_test_good_std 0.020079072564840317\n",
      "score_test_good_min 0.482807457447052\n",
      "score_test_good_max 0.5487398505210876\n",
      "\n",
      "score_test_fail_mean 0.5990604162216187\n",
      "score_test_fail_std 0.048570673912763596\n",
      "score_test_fail_min 0.4838087856769562\n",
      "score_test_fail_max 0.7107123732566833\n",
      "\n",
      "score_train_mean 0.3519865870475769\n",
      "score_train_std 0.009340784512460232\n",
      "score_train_min 0.33838579058647156\n",
      "score_train_max 0.3804475665092468\n"
     ]
    },
    {
     "name": "stderr",
     "output_type": "stream",
     "text": [
      "100%|██████████████████████████████████████████████████████████████████████████████████| 23/23 [00:33<00:00,  1.45s/it]\n"
     ]
    },
    {
     "name": "stdout",
     "output_type": "stream",
     "text": [
      "loss_overall 0.4582575974257096\n",
      "epoch 65\n",
      "\n",
      "score_test_good_mean 0.5278413891792297\n",
      "score_test_good_std 0.015936583280563354\n",
      "score_test_good_min 0.5011715888977051\n",
      "score_test_good_max 0.5604100227355957\n",
      "\n",
      "score_test_fail_mean 0.6130452156066895\n",
      "score_test_fail_std 0.053519558161497116\n",
      "score_test_fail_min 0.48398542404174805\n",
      "score_test_fail_max 0.7471454739570618\n",
      "\n",
      "score_train_mean 0.35113877058029175\n",
      "score_train_std 0.008237959817051888\n",
      "score_train_min 0.33226266503334045\n",
      "score_train_max 0.36820635199546814\n"
     ]
    },
    {
     "name": "stderr",
     "output_type": "stream",
     "text": [
      "100%|██████████████████████████████████████████████████████████████████████████████████| 23/23 [00:34<00:00,  1.49s/it]\n"
     ]
    },
    {
     "name": "stdout",
     "output_type": "stream",
     "text": [
      "loss_overall 0.4457776365072831\n",
      "epoch 66\n",
      "\n",
      "score_test_good_mean 0.49549469351768494\n",
      "score_test_good_std 0.013455417938530445\n",
      "score_test_good_min 0.4729834496974945\n",
      "score_test_good_max 0.5111455917358398\n",
      "\n",
      "score_test_fail_mean 0.5841279029846191\n",
      "score_test_fail_std 0.05618260055780411\n",
      "score_test_fail_min 0.47910991311073303\n",
      "score_test_fail_max 0.7420018315315247\n",
      "\n",
      "score_train_mean 0.34683138132095337\n",
      "score_train_std 0.010185552760958672\n",
      "score_train_min 0.32508429884910583\n",
      "score_train_max 0.3669487535953522\n"
     ]
    },
    {
     "name": "stderr",
     "output_type": "stream",
     "text": [
      "100%|██████████████████████████████████████████████████████████████████████████████████| 23/23 [00:33<00:00,  1.46s/it]\n"
     ]
    },
    {
     "name": "stdout",
     "output_type": "stream",
     "text": [
      "loss_overall 0.43821281842563464\n",
      "epoch 67\n",
      "\n",
      "score_test_good_mean 0.5513190627098083\n",
      "score_test_good_std 0.016974633559584618\n",
      "score_test_good_min 0.5202722549438477\n",
      "score_test_good_max 0.5865241885185242\n",
      "\n",
      "score_test_fail_mean 0.6378282308578491\n",
      "score_test_fail_std 0.04640525206923485\n",
      "score_test_fail_min 0.5717489123344421\n",
      "score_test_fail_max 0.7177059054374695\n",
      "\n",
      "score_train_mean 0.3422866761684418\n",
      "score_train_std 0.010318668559193611\n",
      "score_train_min 0.3199779987335205\n",
      "score_train_max 0.3628753125667572\n"
     ]
    },
    {
     "name": "stderr",
     "output_type": "stream",
     "text": [
      "100%|██████████████████████████████████████████████████████████████████████████████████| 23/23 [00:33<00:00,  1.46s/it]\n"
     ]
    },
    {
     "name": "stdout",
     "output_type": "stream",
     "text": [
      "loss_overall 0.44951727468034497\n",
      "epoch 68\n",
      "\n",
      "score_test_good_mean 0.5176279544830322\n",
      "score_test_good_std 0.01820850931107998\n",
      "score_test_good_min 0.48454463481903076\n",
      "score_test_good_max 0.5439882874488831\n",
      "\n",
      "score_test_fail_mean 0.6042856574058533\n",
      "score_test_fail_std 0.05365501344203949\n",
      "score_test_fail_min 0.5052987337112427\n",
      "score_test_fail_max 0.732350766658783\n",
      "\n",
      "score_train_mean 0.3420166075229645\n",
      "score_train_std 0.008025024086236954\n",
      "score_train_min 0.329082727432251\n",
      "score_train_max 0.36192643642425537\n"
     ]
    },
    {
     "name": "stderr",
     "output_type": "stream",
     "text": [
      "100%|██████████████████████████████████████████████████████████████████████████████████| 23/23 [00:34<00:00,  1.49s/it]\n"
     ]
    },
    {
     "name": "stdout",
     "output_type": "stream",
     "text": [
      "loss_overall 0.4388961429181306\n",
      "epoch 69\n",
      "\n",
      "score_test_good_mean 0.523095428943634\n",
      "score_test_good_std 0.017656905576586723\n",
      "score_test_good_min 0.4813457131385803\n",
      "score_test_good_max 0.5533437728881836\n",
      "\n",
      "score_test_fail_mean 0.6067884564399719\n",
      "score_test_fail_std 0.06922824680805206\n",
      "score_test_fail_min 0.5230752825737\n",
      "score_test_fail_max 0.80570387840271\n",
      "\n",
      "score_train_mean 0.34142041206359863\n",
      "score_train_std 0.00959010049700737\n",
      "score_train_min 0.32080745697021484\n",
      "score_train_max 0.35789594054222107\n"
     ]
    },
    {
     "name": "stderr",
     "output_type": "stream",
     "text": [
      "100%|██████████████████████████████████████████████████████████████████████████████████| 23/23 [00:36<00:00,  1.58s/it]\n"
     ]
    },
    {
     "name": "stdout",
     "output_type": "stream",
     "text": [
      "loss_overall 0.4357200731401858\n",
      "epoch 70\n",
      "\n",
      "score_test_good_mean 0.5184067487716675\n",
      "score_test_good_std 0.021528879180550575\n",
      "score_test_good_min 0.4874323010444641\n",
      "score_test_good_max 0.5641437768936157\n",
      "\n",
      "score_test_fail_mean 0.6102330684661865\n",
      "score_test_fail_std 0.046139828860759735\n",
      "score_test_fail_min 0.5301031470298767\n",
      "score_test_fail_max 0.7502568364143372\n",
      "\n",
      "score_train_mean 0.3390246033668518\n",
      "score_train_std 0.010959007777273655\n",
      "score_train_min 0.3128795623779297\n",
      "score_train_max 0.35791459679603577\n"
     ]
    },
    {
     "name": "stderr",
     "output_type": "stream",
     "text": [
      "100%|██████████████████████████████████████████████████████████████████████████████████| 23/23 [00:33<00:00,  1.44s/it]\n"
     ]
    },
    {
     "name": "stdout",
     "output_type": "stream",
     "text": [
      "loss_overall 0.4299594293469968\n",
      "epoch 71\n",
      "\n",
      "score_test_good_mean 0.560354471206665\n",
      "score_test_good_std 0.012961940839886665\n",
      "score_test_good_min 0.5340813398361206\n",
      "score_test_good_max 0.5775122046470642\n",
      "\n",
      "score_test_fail_mean 0.6658434867858887\n",
      "score_test_fail_std 0.07382090389728546\n",
      "score_test_fail_min 0.5698158144950867\n",
      "score_test_fail_max 0.9536091685295105\n",
      "\n",
      "score_train_mean 0.3375796377658844\n",
      "score_train_std 0.008067983202636242\n",
      "score_train_min 0.32265743613243103\n",
      "score_train_max 0.3550698459148407\n"
     ]
    },
    {
     "name": "stderr",
     "output_type": "stream",
     "text": [
      "100%|██████████████████████████████████████████████████████████████████████████████████| 23/23 [00:32<00:00,  1.41s/it]\n"
     ]
    },
    {
     "name": "stdout",
     "output_type": "stream",
     "text": [
      "loss_overall 0.4261223207349363\n",
      "epoch 72\n",
      "\n",
      "score_test_good_mean 0.501359760761261\n",
      "score_test_good_std 0.018059059977531433\n",
      "score_test_good_min 0.4771606922149658\n",
      "score_test_good_max 0.538053035736084\n",
      "\n",
      "score_test_fail_mean 0.5903381109237671\n",
      "score_test_fail_std 0.03973648324608803\n",
      "score_test_fail_min 0.548308789730072\n",
      "score_test_fail_max 0.6793229579925537\n",
      "\n",
      "score_train_mean 0.3356042206287384\n",
      "score_train_std 0.008361928164958954\n",
      "score_train_min 0.3189193904399872\n",
      "score_train_max 0.34728869795799255\n"
     ]
    },
    {
     "name": "stderr",
     "output_type": "stream",
     "text": [
      "100%|██████████████████████████████████████████████████████████████████████████████████| 23/23 [00:33<00:00,  1.45s/it]\n"
     ]
    },
    {
     "name": "stdout",
     "output_type": "stream",
     "text": [
      "loss_overall 0.4326424987419792\n",
      "epoch 73\n",
      "\n",
      "score_test_good_mean 0.518502414226532\n",
      "score_test_good_std 0.017409801483154297\n",
      "score_test_good_min 0.4800035059452057\n",
      "score_test_good_max 0.5400141477584839\n",
      "\n",
      "score_test_fail_mean 0.605015754699707\n",
      "score_test_fail_std 0.05554569512605667\n",
      "score_test_fail_min 0.5178646445274353\n",
      "score_test_fail_max 0.7450435757637024\n",
      "\n",
      "score_train_mean 0.3343437910079956\n",
      "score_train_std 0.008261395618319511\n",
      "score_train_min 0.3184044361114502\n",
      "score_train_max 0.35316503047943115\n"
     ]
    },
    {
     "name": "stderr",
     "output_type": "stream",
     "text": [
      "100%|██████████████████████████████████████████████████████████████████████████████████| 23/23 [00:32<00:00,  1.43s/it]\n"
     ]
    },
    {
     "name": "stdout",
     "output_type": "stream",
     "text": [
      "loss_overall 0.4342925107997397\n",
      "epoch 74\n",
      "\n",
      "score_test_good_mean 0.491977334022522\n",
      "score_test_good_std 0.015533019788563251\n",
      "score_test_good_min 0.4730583727359772\n",
      "score_test_good_max 0.5221102833747864\n",
      "\n",
      "score_test_fail_mean 0.5835315585136414\n",
      "score_test_fail_std 0.05980660766363144\n",
      "score_test_fail_min 0.5010169744491577\n",
      "score_test_fail_max 0.7851631045341492\n",
      "\n",
      "score_train_mean 0.33123916387557983\n",
      "score_train_std 0.01064956746995449\n",
      "score_train_min 0.3101135194301605\n",
      "score_train_max 0.3575330376625061\n"
     ]
    },
    {
     "name": "stderr",
     "output_type": "stream",
     "text": [
      "100%|██████████████████████████████████████████████████████████████████████████████████| 23/23 [00:33<00:00,  1.46s/it]\n"
     ]
    },
    {
     "name": "stdout",
     "output_type": "stream",
     "text": [
      "loss_overall 0.42538318556288013\n",
      "epoch 75\n",
      "\n",
      "score_test_good_mean 0.5283947587013245\n",
      "score_test_good_std 0.012713546864688396\n",
      "score_test_good_min 0.5037001371383667\n",
      "score_test_good_max 0.5503197312355042\n",
      "\n",
      "score_test_fail_mean 0.6156878471374512\n",
      "score_test_fail_std 0.04998086392879486\n",
      "score_test_fail_min 0.5264552235603333\n",
      "score_test_fail_max 0.7124108076095581\n",
      "\n",
      "score_train_mean 0.3329847753047943\n",
      "score_train_std 0.007080147974193096\n",
      "score_train_min 0.32221829891204834\n",
      "score_train_max 0.35272401571273804\n"
     ]
    },
    {
     "name": "stderr",
     "output_type": "stream",
     "text": [
      "100%|██████████████████████████████████████████████████████████████████████████████████| 23/23 [00:34<00:00,  1.50s/it]\n"
     ]
    },
    {
     "name": "stdout",
     "output_type": "stream",
     "text": [
      "loss_overall 0.4133014976978302\n",
      "epoch 76\n",
      "\n",
      "score_test_good_mean 0.49879559874534607\n",
      "score_test_good_std 0.014348997734487057\n",
      "score_test_good_min 0.4742570221424103\n",
      "score_test_good_max 0.5246618986129761\n",
      "\n",
      "score_test_fail_mean 0.5840398073196411\n",
      "score_test_fail_std 0.06016048789024353\n",
      "score_test_fail_min 0.49149689078330994\n",
      "score_test_fail_max 0.7656484842300415\n",
      "\n",
      "score_train_mean 0.3260097801685333\n",
      "score_train_std 0.006736769340932369\n",
      "score_train_min 0.3161931037902832\n",
      "score_train_max 0.3395749032497406\n"
     ]
    },
    {
     "name": "stderr",
     "output_type": "stream",
     "text": [
      "100%|██████████████████████████████████████████████████████████████████████████████████| 23/23 [00:32<00:00,  1.40s/it]\n"
     ]
    },
    {
     "name": "stdout",
     "output_type": "stream",
     "text": [
      "loss_overall 0.4152997965398042\n",
      "epoch 77\n",
      "\n",
      "score_test_good_mean 0.5071302652359009\n",
      "score_test_good_std 0.023680880665779114\n",
      "score_test_good_min 0.46700406074523926\n",
      "score_test_good_max 0.5422484278678894\n",
      "\n",
      "score_test_fail_mean 0.5963262319564819\n",
      "score_test_fail_std 0.03938773274421692\n",
      "score_test_fail_min 0.5086714625358582\n",
      "score_test_fail_max 0.69167560338974\n",
      "\n",
      "score_train_mean 0.3247802257537842\n",
      "score_train_std 0.011685183271765709\n",
      "score_train_min 0.3027748763561249\n",
      "score_train_max 0.35522574186325073\n"
     ]
    },
    {
     "name": "stderr",
     "output_type": "stream",
     "text": [
      "100%|██████████████████████████████████████████████████████████████████████████████████| 23/23 [00:32<00:00,  1.41s/it]\n"
     ]
    },
    {
     "name": "stdout",
     "output_type": "stream",
     "text": [
      "loss_overall 0.4210489236790201\n",
      "epoch 78\n",
      "\n",
      "score_test_good_mean 0.5426064729690552\n",
      "score_test_good_std 0.0179215706884861\n",
      "score_test_good_min 0.50539630651474\n",
      "score_test_good_max 0.5713223218917847\n",
      "\n",
      "score_test_fail_mean 0.657868504524231\n",
      "score_test_fail_std 0.13192568719387054\n",
      "score_test_fail_min 0.5617899894714355\n",
      "score_test_fail_max 1.2600466012954712\n",
      "\n",
      "score_train_mean 0.3231196105480194\n",
      "score_train_std 0.005389994475990534\n",
      "score_train_min 0.3125185966491699\n",
      "score_train_max 0.333644837141037\n"
     ]
    },
    {
     "name": "stderr",
     "output_type": "stream",
     "text": [
      "100%|██████████████████████████████████████████████████████████████████████████████████| 23/23 [00:32<00:00,  1.43s/it]\n"
     ]
    },
    {
     "name": "stdout",
     "output_type": "stream",
     "text": [
      "loss_overall 0.42172792424326355\n",
      "epoch 79\n",
      "\n",
      "score_test_good_mean 0.4975205063819885\n",
      "score_test_good_std 0.01660948432981968\n",
      "score_test_good_min 0.47499459981918335\n",
      "score_test_good_max 0.5286030769348145\n",
      "\n",
      "score_test_fail_mean 0.5933108329772949\n",
      "score_test_fail_std 0.06034766882658005\n",
      "score_test_fail_min 0.4781704843044281\n",
      "score_test_fail_max 0.7153131365776062\n",
      "\n",
      "score_train_mean 0.3298639953136444\n",
      "score_train_std 0.008167942985892296\n",
      "score_train_min 0.3154994249343872\n",
      "score_train_max 0.34348633885383606\n"
     ]
    },
    {
     "name": "stderr",
     "output_type": "stream",
     "text": [
      "100%|██████████████████████████████████████████████████████████████████████████████████| 23/23 [00:33<00:00,  1.47s/it]\n"
     ]
    },
    {
     "name": "stdout",
     "output_type": "stream",
     "text": [
      "loss_overall 0.4135328492392664\n",
      "epoch 80\n",
      "\n",
      "score_test_good_mean 0.4928738474845886\n",
      "score_test_good_std 0.02228720113635063\n",
      "score_test_good_min 0.4680171012878418\n",
      "score_test_good_max 0.5450245141983032\n",
      "\n",
      "score_test_fail_mean 0.5852119326591492\n",
      "score_test_fail_std 0.05832793936133385\n",
      "score_test_fail_min 0.4971578121185303\n",
      "score_test_fail_max 0.773544192314148\n",
      "\n",
      "score_train_mean 0.3267863094806671\n",
      "score_train_std 0.009396116249263287\n",
      "score_train_min 0.3085362911224365\n",
      "score_train_max 0.3518405854701996\n"
     ]
    },
    {
     "name": "stderr",
     "output_type": "stream",
     "text": [
      "100%|██████████████████████████████████████████████████████████████████████████████████| 23/23 [00:33<00:00,  1.46s/it]\n"
     ]
    },
    {
     "name": "stdout",
     "output_type": "stream",
     "text": [
      "loss_overall 0.40678715446720953\n",
      "epoch 81\n",
      "\n",
      "score_test_good_mean 0.5060486197471619\n",
      "score_test_good_std 0.0200398750603199\n",
      "score_test_good_min 0.46957114338874817\n",
      "score_test_good_max 0.5525824427604675\n",
      "\n",
      "score_test_fail_mean 0.6038856506347656\n",
      "score_test_fail_std 0.04874785616993904\n",
      "score_test_fail_min 0.5079175233840942\n",
      "score_test_fail_max 0.7376238703727722\n",
      "\n",
      "score_train_mean 0.3207779824733734\n",
      "score_train_std 0.010100224055349827\n",
      "score_train_min 0.30744320154190063\n",
      "score_train_max 0.3489854037761688\n"
     ]
    },
    {
     "name": "stderr",
     "output_type": "stream",
     "text": [
      "100%|██████████████████████████████████████████████████████████████████████████████████| 23/23 [00:32<00:00,  1.43s/it]\n"
     ]
    },
    {
     "name": "stdout",
     "output_type": "stream",
     "text": [
      "loss_overall 0.4046491008737813\n",
      "epoch 82\n",
      "\n",
      "score_test_good_mean 0.5075656175613403\n",
      "score_test_good_std 0.013390741311013699\n",
      "score_test_good_min 0.4851497709751129\n",
      "score_test_good_max 0.5401043891906738\n",
      "\n",
      "score_test_fail_mean 0.5956643223762512\n",
      "score_test_fail_std 0.04984341189265251\n",
      "score_test_fail_min 0.5117785334587097\n",
      "score_test_fail_max 0.6816011667251587\n",
      "\n",
      "score_train_mean 0.31934159994125366\n",
      "score_train_std 0.00776928523555398\n",
      "score_train_min 0.30948954820632935\n",
      "score_train_max 0.34083446860313416\n"
     ]
    },
    {
     "name": "stderr",
     "output_type": "stream",
     "text": [
      "100%|██████████████████████████████████████████████████████████████████████████████████| 23/23 [00:33<00:00,  1.44s/it]\n"
     ]
    },
    {
     "name": "stdout",
     "output_type": "stream",
     "text": [
      "loss_overall 0.40671200985493866\n",
      "epoch 83\n",
      "\n",
      "score_test_good_mean 0.5067800879478455\n",
      "score_test_good_std 0.016771333292126656\n",
      "score_test_good_min 0.4816915988922119\n",
      "score_test_good_max 0.5324538946151733\n",
      "\n",
      "score_test_fail_mean 0.6087568402290344\n",
      "score_test_fail_std 0.045738689601421356\n",
      "score_test_fail_min 0.5257353186607361\n",
      "score_test_fail_max 0.7004525661468506\n",
      "\n",
      "score_train_mean 0.31770530343055725\n",
      "score_train_std 0.007095881272107363\n",
      "score_train_min 0.3034575581550598\n",
      "score_train_max 0.3352840542793274\n"
     ]
    },
    {
     "name": "stderr",
     "output_type": "stream",
     "text": [
      "100%|██████████████████████████████████████████████████████████████████████████████████| 23/23 [00:32<00:00,  1.40s/it]\n"
     ]
    },
    {
     "name": "stdout",
     "output_type": "stream",
     "text": [
      "loss_overall 0.40359701281008514\n",
      "epoch 84\n",
      "\n",
      "score_test_good_mean 0.4986096918582916\n",
      "score_test_good_std 0.016957614570856094\n",
      "score_test_good_min 0.4765358865261078\n",
      "score_test_good_max 0.5355177521705627\n",
      "\n",
      "score_test_fail_mean 0.5956793427467346\n",
      "score_test_fail_std 0.06717823445796967\n",
      "score_test_fail_min 0.5127351880073547\n",
      "score_test_fail_max 0.779901921749115\n",
      "\n",
      "score_train_mean 0.31645306944847107\n",
      "score_train_std 0.008706831373274326\n",
      "score_train_min 0.3020850121974945\n",
      "score_train_max 0.33728572726249695\n"
     ]
    },
    {
     "name": "stderr",
     "output_type": "stream",
     "text": [
      "100%|██████████████████████████████████████████████████████████████████████████████████| 23/23 [00:32<00:00,  1.43s/it]\n"
     ]
    },
    {
     "name": "stdout",
     "output_type": "stream",
     "text": [
      "loss_overall 0.3924798654473346\n",
      "epoch 85\n",
      "\n",
      "score_test_good_mean 0.5049169063568115\n",
      "score_test_good_std 0.02120993658900261\n",
      "score_test_good_min 0.47810739278793335\n",
      "score_test_good_max 0.5498449206352234\n",
      "\n",
      "score_test_fail_mean 0.6003702282905579\n",
      "score_test_fail_std 0.04100409150123596\n",
      "score_test_fail_min 0.5310677289962769\n",
      "score_test_fail_max 0.6938887238502502\n",
      "\n",
      "score_train_mean 0.31418541073799133\n",
      "score_train_std 0.006851840298622847\n",
      "score_train_min 0.30571189522743225\n",
      "score_train_max 0.3307217061519623\n"
     ]
    },
    {
     "name": "stderr",
     "output_type": "stream",
     "text": [
      "100%|██████████████████████████████████████████████████████████████████████████████████| 23/23 [00:32<00:00,  1.39s/it]\n"
     ]
    },
    {
     "name": "stdout",
     "output_type": "stream",
     "text": [
      "loss_overall 0.39608986740526947\n",
      "epoch 86\n",
      "\n",
      "score_test_good_mean 0.5029522776603699\n",
      "score_test_good_std 0.02027013525366783\n",
      "score_test_good_min 0.47912028431892395\n",
      "score_test_good_max 0.5449888706207275\n",
      "\n",
      "score_test_fail_mean 0.5960856080055237\n",
      "score_test_fail_std 0.0548245944082737\n",
      "score_test_fail_min 0.5142248272895813\n",
      "score_test_fail_max 0.7502619624137878\n",
      "\n",
      "score_train_mean 0.3148025870323181\n",
      "score_train_std 0.007939586415886879\n",
      "score_train_min 0.3009597957134247\n",
      "score_train_max 0.33607667684555054\n"
     ]
    },
    {
     "name": "stderr",
     "output_type": "stream",
     "text": [
      "100%|██████████████████████████████████████████████████████████████████████████████████| 23/23 [00:32<00:00,  1.42s/it]\n"
     ]
    },
    {
     "name": "stdout",
     "output_type": "stream",
     "text": [
      "loss_overall 0.39572435747022217\n",
      "epoch 87\n",
      "\n",
      "score_test_good_mean 0.5183504223823547\n",
      "score_test_good_std 0.02220616303384304\n",
      "score_test_good_min 0.4842311441898346\n",
      "score_test_good_max 0.5774363875389099\n",
      "\n",
      "score_test_fail_mean 0.6161812543869019\n",
      "score_test_fail_std 0.057718317955732346\n",
      "score_test_fail_min 0.5379687547683716\n",
      "score_test_fail_max 0.7798479795455933\n",
      "\n",
      "score_train_mean 0.312610387802124\n",
      "score_train_std 0.009707408025860786\n",
      "score_train_min 0.2988927960395813\n",
      "score_train_max 0.33196544647216797\n"
     ]
    },
    {
     "name": "stderr",
     "output_type": "stream",
     "text": [
      "100%|██████████████████████████████████████████████████████████████████████████████████| 23/23 [00:33<00:00,  1.47s/it]\n"
     ]
    },
    {
     "name": "stdout",
     "output_type": "stream",
     "text": [
      "loss_overall 0.3927250815474469\n",
      "epoch 88\n",
      "\n",
      "score_test_good_mean 0.5245181918144226\n",
      "score_test_good_std 0.023459145799279213\n",
      "score_test_good_min 0.46854090690612793\n",
      "score_test_good_max 0.5510513186454773\n",
      "\n",
      "score_test_fail_mean 0.61370450258255\n",
      "score_test_fail_std 0.047879111021757126\n",
      "score_test_fail_min 0.544857919216156\n",
      "score_test_fail_max 0.7264142632484436\n",
      "\n",
      "score_train_mean 0.310942143201828\n",
      "score_train_std 0.008102692663669586\n",
      "score_train_min 0.2939576804637909\n",
      "score_train_max 0.330893874168396\n"
     ]
    },
    {
     "name": "stderr",
     "output_type": "stream",
     "text": [
      "100%|██████████████████████████████████████████████████████████████████████████████████| 23/23 [00:32<00:00,  1.41s/it]\n"
     ]
    },
    {
     "name": "stdout",
     "output_type": "stream",
     "text": [
      "loss_overall 0.3939871800982434\n",
      "epoch 89\n",
      "\n",
      "score_test_good_mean 0.528438150882721\n",
      "score_test_good_std 0.023255351930856705\n",
      "score_test_good_min 0.4941774904727936\n",
      "score_test_good_max 0.566057562828064\n",
      "\n",
      "score_test_fail_mean 0.639896035194397\n",
      "score_test_fail_std 0.14159680902957916\n",
      "score_test_fail_min 0.5282196402549744\n",
      "score_test_fail_max 1.2869285345077515\n",
      "\n",
      "score_train_mean 0.30989202857017517\n",
      "score_train_std 0.008787749335169792\n",
      "score_train_min 0.2939707338809967\n",
      "score_train_max 0.33539965748786926\n"
     ]
    },
    {
     "name": "stderr",
     "output_type": "stream",
     "text": [
      "100%|██████████████████████████████████████████████████████████████████████████████████| 23/23 [00:34<00:00,  1.48s/it]\n"
     ]
    },
    {
     "name": "stdout",
     "output_type": "stream",
     "text": [
      "loss_overall 0.3882105415282042\n",
      "epoch 90\n",
      "\n",
      "score_test_good_mean 0.519439160823822\n",
      "score_test_good_std 0.012788906693458557\n",
      "score_test_good_min 0.49235767126083374\n",
      "score_test_good_max 0.5446797013282776\n",
      "\n",
      "score_test_fail_mean 0.612682044506073\n",
      "score_test_fail_std 0.05276993662118912\n",
      "score_test_fail_min 0.5261632800102234\n",
      "score_test_fail_max 0.7212814092636108\n",
      "\n",
      "score_train_mean 0.3082810640335083\n",
      "score_train_std 0.009710830636322498\n",
      "score_train_min 0.289041668176651\n",
      "score_train_max 0.33197900652885437\n"
     ]
    },
    {
     "name": "stderr",
     "output_type": "stream",
     "text": [
      "100%|██████████████████████████████████████████████████████████████████████████████████| 23/23 [00:33<00:00,  1.46s/it]\n"
     ]
    },
    {
     "name": "stdout",
     "output_type": "stream",
     "text": [
      "loss_overall 0.3872686961422796\n",
      "epoch 91\n",
      "\n",
      "score_test_good_mean 0.5141537189483643\n",
      "score_test_good_std 0.022017622366547585\n",
      "score_test_good_min 0.483285516500473\n",
      "score_test_good_max 0.5624375343322754\n",
      "\n",
      "score_test_fail_mean 0.6311477422714233\n",
      "score_test_fail_std 0.151896670460701\n",
      "score_test_fail_min 0.5413004755973816\n",
      "score_test_fail_max 1.3258087635040283\n",
      "\n",
      "score_train_mean 0.30929896235466003\n",
      "score_train_std 0.008751190267503262\n",
      "score_train_min 0.294601172208786\n",
      "score_train_max 0.3245066702365875\n"
     ]
    },
    {
     "name": "stderr",
     "output_type": "stream",
     "text": [
      "100%|██████████████████████████████████████████████████████████████████████████████████| 23/23 [00:33<00:00,  1.44s/it]\n"
     ]
    },
    {
     "name": "stdout",
     "output_type": "stream",
     "text": [
      "loss_overall 0.38850801924000616\n",
      "epoch 92\n",
      "\n",
      "score_test_good_mean 0.5656288862228394\n",
      "score_test_good_std 0.02166391909122467\n",
      "score_test_good_min 0.5304178595542908\n",
      "score_test_good_max 0.6069464087486267\n",
      "\n",
      "score_test_fail_mean 0.6736862063407898\n",
      "score_test_fail_std 0.08264283835887909\n",
      "score_test_fail_min 0.5752860903739929\n",
      "score_test_fail_max 1.0002635717391968\n",
      "\n",
      "score_train_mean 0.30820122361183167\n",
      "score_train_std 0.005772978998720646\n",
      "score_train_min 0.2982885539531708\n",
      "score_train_max 0.3194786608219147\n"
     ]
    },
    {
     "name": "stderr",
     "output_type": "stream",
     "text": [
      "100%|██████████████████████████████████████████████████████████████████████████████████| 23/23 [00:32<00:00,  1.42s/it]\n"
     ]
    },
    {
     "name": "stdout",
     "output_type": "stream",
     "text": [
      "loss_overall 0.392618372388508\n",
      "epoch 93\n",
      "\n",
      "score_test_good_mean 0.5287659168243408\n",
      "score_test_good_std 0.027342095971107483\n",
      "score_test_good_min 0.48742690682411194\n",
      "score_test_good_max 0.569634735584259\n",
      "\n",
      "score_test_fail_mean 0.6255177855491638\n",
      "score_test_fail_std 0.06405505537986755\n",
      "score_test_fail_min 0.5134997367858887\n",
      "score_test_fail_max 0.7618467807769775\n",
      "\n",
      "score_train_mean 0.30785083770751953\n",
      "score_train_std 0.009070668369531631\n",
      "score_train_min 0.2932600677013397\n",
      "score_train_max 0.32945844531059265\n"
     ]
    },
    {
     "name": "stderr",
     "output_type": "stream",
     "text": [
      "100%|██████████████████████████████████████████████████████████████████████████████████| 23/23 [00:33<00:00,  1.46s/it]\n"
     ]
    },
    {
     "name": "stdout",
     "output_type": "stream",
     "text": [
      "loss_overall 0.38291826714640076\n",
      "epoch 94\n",
      "\n",
      "score_test_good_mean 0.5342025756835938\n",
      "score_test_good_std 0.013530648313462734\n",
      "score_test_good_min 0.5129421353340149\n",
      "score_test_good_max 0.5630890130996704\n",
      "\n",
      "score_test_fail_mean 0.6272563934326172\n",
      "score_test_fail_std 0.047027863562107086\n",
      "score_test_fail_min 0.5361679792404175\n",
      "score_test_fail_max 0.7387517094612122\n",
      "\n",
      "score_train_mean 0.3055620491504669\n",
      "score_train_std 0.0070473868399858475\n",
      "score_train_min 0.29825884103775024\n",
      "score_train_max 0.3231080174446106\n"
     ]
    },
    {
     "name": "stderr",
     "output_type": "stream",
     "text": [
      "100%|██████████████████████████████████████████████████████████████████████████████████| 23/23 [00:33<00:00,  1.47s/it]\n"
     ]
    },
    {
     "name": "stdout",
     "output_type": "stream",
     "text": [
      "loss_overall 0.37986950900243677\n",
      "epoch 95\n",
      "\n",
      "score_test_good_mean 0.5200203657150269\n",
      "score_test_good_std 0.015735594555735588\n",
      "score_test_good_min 0.48955288529396057\n",
      "score_test_good_max 0.5410615801811218\n",
      "\n",
      "score_test_fail_mean 0.6122775077819824\n",
      "score_test_fail_std 0.055863212794065475\n",
      "score_test_fail_min 0.5318788290023804\n",
      "score_test_fail_max 0.76054447889328\n",
      "\n",
      "score_train_mean 0.30157792568206787\n",
      "score_train_std 0.008103233762085438\n",
      "score_train_min 0.2894311845302582\n",
      "score_train_max 0.32353612780570984\n"
     ]
    },
    {
     "name": "stderr",
     "output_type": "stream",
     "text": [
      "100%|██████████████████████████████████████████████████████████████████████████████████| 23/23 [00:32<00:00,  1.40s/it]\n"
     ]
    },
    {
     "name": "stdout",
     "output_type": "stream",
     "text": [
      "loss_overall 0.3974492187085359\n",
      "epoch 96\n",
      "\n",
      "score_test_good_mean 0.547721266746521\n",
      "score_test_good_std 0.01585216633975506\n",
      "score_test_good_min 0.5196358561515808\n",
      "score_test_good_max 0.5748155117034912\n",
      "\n",
      "score_test_fail_mean 0.6476168632507324\n",
      "score_test_fail_std 0.0673736110329628\n",
      "score_test_fail_min 0.5591800808906555\n",
      "score_test_fail_max 0.8385699987411499\n",
      "\n",
      "score_train_mean 0.3072735667228699\n",
      "score_train_std 0.006925999186933041\n",
      "score_train_min 0.2887662649154663\n",
      "score_train_max 0.31655213236808777\n"
     ]
    },
    {
     "name": "stderr",
     "output_type": "stream",
     "text": [
      "100%|██████████████████████████████████████████████████████████████████████████████████| 23/23 [00:33<00:00,  1.44s/it]\n"
     ]
    },
    {
     "name": "stdout",
     "output_type": "stream",
     "text": [
      "loss_overall 0.38471097013224725\n",
      "epoch 97\n",
      "\n",
      "score_test_good_mean 0.564282238483429\n",
      "score_test_good_std 0.01709921658039093\n",
      "score_test_good_min 0.5470998287200928\n",
      "score_test_good_max 0.6066188812255859\n",
      "\n",
      "score_test_fail_mean 0.6519756317138672\n",
      "score_test_fail_std 0.0506509430706501\n",
      "score_test_fail_min 0.5302034020423889\n",
      "score_test_fail_max 0.7310057282447815\n",
      "\n",
      "score_train_mean 0.3030633330345154\n",
      "score_train_std 0.0071059889160096645\n",
      "score_train_min 0.2892443537712097\n",
      "score_train_max 0.31845253705978394\n"
     ]
    },
    {
     "name": "stderr",
     "output_type": "stream",
     "text": [
      "100%|██████████████████████████████████████████████████████████████████████████████████| 23/23 [00:33<00:00,  1.44s/it]\n"
     ]
    },
    {
     "name": "stdout",
     "output_type": "stream",
     "text": [
      "loss_overall 0.38992326674254046\n",
      "epoch 98\n",
      "\n",
      "score_test_good_mean 0.5175689458847046\n",
      "score_test_good_std 0.017445841804146767\n",
      "score_test_good_min 0.4997044801712036\n",
      "score_test_good_max 0.5580217242240906\n",
      "\n",
      "score_test_fail_mean 0.6035509705543518\n",
      "score_test_fail_std 0.049897219985723495\n",
      "score_test_fail_min 0.5296624302864075\n",
      "score_test_fail_max 0.7168354392051697\n",
      "\n",
      "score_train_mean 0.3057202398777008\n",
      "score_train_std 0.008889928460121155\n",
      "score_train_min 0.29031839966773987\n",
      "score_train_max 0.32957717776298523\n"
     ]
    },
    {
     "name": "stderr",
     "output_type": "stream",
     "text": [
      "100%|██████████████████████████████████████████████████████████████████████████████████| 23/23 [00:34<00:00,  1.50s/it]\n"
     ]
    },
    {
     "name": "stdout",
     "output_type": "stream",
     "text": [
      "loss_overall 0.3752637518488843\n",
      "epoch 99\n",
      "\n",
      "score_test_good_mean 0.5076537728309631\n",
      "score_test_good_std 0.02343626134097576\n",
      "score_test_good_min 0.4727802574634552\n",
      "score_test_good_max 0.5593242049217224\n",
      "\n",
      "score_test_fail_mean 0.5994542837142944\n",
      "score_test_fail_std 0.04257383570075035\n",
      "score_test_fail_min 0.5321228504180908\n",
      "score_test_fail_max 0.6976702809333801\n",
      "\n",
      "score_train_mean 0.299613356590271\n",
      "score_train_std 0.007534996140748262\n",
      "score_train_min 0.28666239976882935\n",
      "score_train_max 0.3119565546512604\n"
     ]
    },
    {
     "name": "stderr",
     "output_type": "stream",
     "text": [
      "100%|██████████████████████████████████████████████████████████████████████████████████| 23/23 [00:33<00:00,  1.46s/it]\n"
     ]
    },
    {
     "name": "stdout",
     "output_type": "stream",
     "text": [
      "loss_overall 0.38380060636478924\n",
      "epoch 100\n",
      "\n",
      "score_test_good_mean 0.5184549689292908\n",
      "score_test_good_std 0.013868779875338078\n",
      "score_test_good_min 0.49623921513557434\n",
      "score_test_good_max 0.548794686794281\n",
      "\n",
      "score_test_fail_mean 0.6039131283760071\n",
      "score_test_fail_std 0.04994131252169609\n",
      "score_test_fail_min 0.4899565577507019\n",
      "score_test_fail_max 0.7008424997329712\n",
      "\n",
      "score_train_mean 0.29985636472702026\n",
      "score_train_std 0.00772530771791935\n",
      "score_train_min 0.28962016105651855\n",
      "score_train_max 0.31895706057548523\n"
     ]
    },
    {
     "name": "stderr",
     "output_type": "stream",
     "text": [
      "100%|██████████████████████████████████████████████████████████████████████████████████| 23/23 [00:32<00:00,  1.40s/it]\n"
     ]
    },
    {
     "name": "stdout",
     "output_type": "stream",
     "text": [
      "loss_overall 0.36866399257079413\n",
      "epoch 101\n",
      "\n",
      "score_test_good_mean 0.5128383040428162\n",
      "score_test_good_std 0.021245885640382767\n",
      "score_test_good_min 0.4806919991970062\n",
      "score_test_good_max 0.5389126539230347\n",
      "\n",
      "score_test_fail_mean 0.6035946011543274\n",
      "score_test_fail_std 0.045516487210989\n",
      "score_test_fail_min 0.5269935131072998\n",
      "score_test_fail_max 0.7128025889396667\n",
      "\n",
      "score_train_mean 0.29735225439071655\n",
      "score_train_std 0.007487611845135689\n",
      "score_train_min 0.2849460542201996\n",
      "score_train_max 0.3095458745956421\n"
     ]
    },
    {
     "name": "stderr",
     "output_type": "stream",
     "text": [
      "100%|██████████████████████████████████████████████████████████████████████████████████| 23/23 [00:32<00:00,  1.43s/it]\n"
     ]
    },
    {
     "name": "stdout",
     "output_type": "stream",
     "text": [
      "loss_overall 0.3725468853245611\n",
      "epoch 102\n",
      "\n",
      "score_test_good_mean 0.5158159136772156\n",
      "score_test_good_std 0.018977215513586998\n",
      "score_test_good_min 0.4781557321548462\n",
      "score_test_good_max 0.551927387714386\n",
      "\n",
      "score_test_fail_mean 0.6104846000671387\n",
      "score_test_fail_std 0.06333822757005692\n",
      "score_test_fail_min 0.49698764085769653\n",
      "score_test_fail_max 0.7925251722335815\n",
      "\n",
      "score_train_mean 0.29570576548576355\n",
      "score_train_std 0.008114444091916084\n",
      "score_train_min 0.2813880145549774\n",
      "score_train_max 0.31116124987602234\n"
     ]
    },
    {
     "name": "stderr",
     "output_type": "stream",
     "text": [
      "100%|██████████████████████████████████████████████████████████████████████████████████| 23/23 [00:32<00:00,  1.43s/it]\n"
     ]
    },
    {
     "name": "stdout",
     "output_type": "stream",
     "text": [
      "loss_overall 0.38019023900446686\n",
      "epoch 103\n",
      "\n",
      "score_test_good_mean 0.5438534617424011\n",
      "score_test_good_std 0.020091688260436058\n",
      "score_test_good_min 0.5158056616783142\n",
      "score_test_good_max 0.5827133059501648\n",
      "\n",
      "score_test_fail_mean 0.637104332447052\n",
      "score_test_fail_std 0.053684432059526443\n",
      "score_test_fail_min 0.5370187163352966\n",
      "score_test_fail_max 0.7706891894340515\n",
      "\n",
      "score_train_mean 0.30173635482788086\n",
      "score_train_std 0.00804260652512312\n",
      "score_train_min 0.2900332808494568\n",
      "score_train_max 0.31512436270713806\n"
     ]
    },
    {
     "name": "stderr",
     "output_type": "stream",
     "text": [
      "100%|██████████████████████████████████████████████████████████████████████████████████| 23/23 [00:33<00:00,  1.44s/it]\n"
     ]
    },
    {
     "name": "stdout",
     "output_type": "stream",
     "text": [
      "loss_overall 0.37517743266147113\n",
      "epoch 104\n",
      "\n",
      "score_test_good_mean 0.653937041759491\n",
      "score_test_good_std 0.023114750161767006\n",
      "score_test_good_min 0.6233651041984558\n",
      "score_test_good_max 0.7183032631874084\n",
      "\n",
      "score_test_fail_mean 0.7401267290115356\n",
      "score_test_fail_std 0.05892863869667053\n",
      "score_test_fail_min 0.6377418637275696\n",
      "score_test_fail_max 0.8494412302970886\n",
      "\n",
      "score_train_mean 0.297545850276947\n",
      "score_train_std 0.007907231338322163\n",
      "score_train_min 0.28287991881370544\n",
      "score_train_max 0.31620797514915466\n"
     ]
    },
    {
     "name": "stderr",
     "output_type": "stream",
     "text": [
      "100%|██████████████████████████████████████████████████████████████████████████████████| 23/23 [00:32<00:00,  1.42s/it]\n"
     ]
    },
    {
     "name": "stdout",
     "output_type": "stream",
     "text": [
      "loss_overall 0.38023311158885126\n",
      "epoch 105\n",
      "\n",
      "score_test_good_mean 0.5041425824165344\n",
      "score_test_good_std 0.016817569732666016\n",
      "score_test_good_min 0.47306567430496216\n",
      "score_test_good_max 0.5344430804252625\n",
      "\n",
      "score_test_fail_mean 0.5986918210983276\n",
      "score_test_fail_std 0.058917563408613205\n",
      "score_test_fail_min 0.5248012542724609\n",
      "score_test_fail_max 0.7696377038955688\n",
      "\n",
      "score_train_mean 0.3003111779689789\n",
      "score_train_std 0.005887076258659363\n",
      "score_train_min 0.28979215025901794\n",
      "score_train_max 0.31136345863342285\n"
     ]
    },
    {
     "name": "stderr",
     "output_type": "stream",
     "text": [
      "100%|██████████████████████████████████████████████████████████████████████████████████| 23/23 [00:33<00:00,  1.48s/it]\n"
     ]
    },
    {
     "name": "stdout",
     "output_type": "stream",
     "text": [
      "loss_overall 0.3619613284650056\n",
      "epoch 106\n",
      "\n",
      "score_test_good_mean 0.5258833169937134\n",
      "score_test_good_std 0.015722718089818954\n",
      "score_test_good_min 0.4978974461555481\n",
      "score_test_good_max 0.5550228953361511\n",
      "\n",
      "score_test_fail_mean 0.6131969094276428\n",
      "score_test_fail_std 0.05240681767463684\n",
      "score_test_fail_min 0.47454631328582764\n",
      "score_test_fail_max 0.7299273610115051\n",
      "\n",
      "score_train_mean 0.2946487367153168\n",
      "score_train_std 0.008555877953767776\n",
      "score_train_min 0.27680879831314087\n",
      "score_train_max 0.30625617504119873\n"
     ]
    },
    {
     "name": "stderr",
     "output_type": "stream",
     "text": [
      "100%|██████████████████████████████████████████████████████████████████████████████████| 23/23 [00:31<00:00,  1.38s/it]\n"
     ]
    },
    {
     "name": "stdout",
     "output_type": "stream",
     "text": [
      "loss_overall 0.36065432558888977\n",
      "epoch 107\n",
      "\n",
      "score_test_good_mean 0.5275828242301941\n",
      "score_test_good_std 0.011979895643889904\n",
      "score_test_good_min 0.5108595490455627\n",
      "score_test_good_max 0.5501415729522705\n",
      "\n",
      "score_test_fail_mean 0.6194493770599365\n",
      "score_test_fail_std 0.04858499392867088\n",
      "score_test_fail_min 0.5425918102264404\n",
      "score_test_fail_max 0.72990483045578\n",
      "\n",
      "score_train_mean 0.2914264500141144\n",
      "score_train_std 0.008786724880337715\n",
      "score_train_min 0.2785925567150116\n",
      "score_train_max 0.30972522497177124\n"
     ]
    },
    {
     "name": "stderr",
     "output_type": "stream",
     "text": [
      "100%|██████████████████████████████████████████████████████████████████████████████████| 23/23 [00:33<00:00,  1.44s/it]\n"
     ]
    },
    {
     "name": "stdout",
     "output_type": "stream",
     "text": [
      "loss_overall 0.3692854616952979\n",
      "epoch 108\n",
      "\n",
      "score_test_good_mean 0.5155798196792603\n",
      "score_test_good_std 0.02074134536087513\n",
      "score_test_good_min 0.46922793984413147\n",
      "score_test_good_max 0.5438410639762878\n",
      "\n",
      "score_test_fail_mean 0.6046059727668762\n",
      "score_test_fail_std 0.05800030007958412\n",
      "score_test_fail_min 0.5364992618560791\n",
      "score_test_fail_max 0.7674006819725037\n",
      "\n",
      "score_train_mean 0.29341450333595276\n",
      "score_train_std 0.00865891482681036\n",
      "score_train_min 0.2820155918598175\n",
      "score_train_max 0.31408941745758057\n"
     ]
    },
    {
     "name": "stderr",
     "output_type": "stream",
     "text": [
      "100%|██████████████████████████████████████████████████████████████████████████████████| 23/23 [00:33<00:00,  1.44s/it]\n"
     ]
    },
    {
     "name": "stdout",
     "output_type": "stream",
     "text": [
      "loss_overall 0.353458214065303\n",
      "epoch 109\n",
      "\n",
      "score_test_good_mean 0.5068819522857666\n",
      "score_test_good_std 0.01092395931482315\n",
      "score_test_good_min 0.4852035343647003\n",
      "score_test_good_max 0.5357550978660583\n",
      "\n",
      "score_test_fail_mean 0.5960314273834229\n",
      "score_test_fail_std 0.0539054349064827\n",
      "score_test_fail_min 0.46564826369285583\n",
      "score_test_fail_max 0.7130189538002014\n",
      "\n",
      "score_train_mean 0.2903449535369873\n",
      "score_train_std 0.007636736612766981\n",
      "score_train_min 0.27702826261520386\n",
      "score_train_max 0.3072749972343445\n"
     ]
    },
    {
     "name": "stderr",
     "output_type": "stream",
     "text": [
      "100%|██████████████████████████████████████████████████████████████████████████████████| 23/23 [00:32<00:00,  1.42s/it]\n"
     ]
    },
    {
     "name": "stdout",
     "output_type": "stream",
     "text": [
      "loss_overall 0.3548877057821854\n",
      "epoch 110\n",
      "\n",
      "score_test_good_mean 0.5283884406089783\n",
      "score_test_good_std 0.017651360481977463\n",
      "score_test_good_min 0.5095735192298889\n",
      "score_test_good_max 0.5766178965568542\n",
      "\n",
      "score_test_fail_mean 0.6191884875297546\n",
      "score_test_fail_std 0.04813460633158684\n",
      "score_test_fail_min 0.5308393836021423\n",
      "score_test_fail_max 0.7489487528800964\n",
      "\n",
      "score_train_mean 0.28648656606674194\n",
      "score_train_std 0.009275464341044426\n",
      "score_train_min 0.2735263407230377\n",
      "score_train_max 0.3058100938796997\n"
     ]
    },
    {
     "name": "stderr",
     "output_type": "stream",
     "text": [
      "100%|██████████████████████████████████████████████████████████████████████████████████| 23/23 [00:32<00:00,  1.39s/it]\n"
     ]
    },
    {
     "name": "stdout",
     "output_type": "stream",
     "text": [
      "loss_overall 0.36834699692933454\n",
      "epoch 111\n",
      "\n",
      "score_test_good_mean 0.5073622465133667\n",
      "score_test_good_std 0.014036750420928001\n",
      "score_test_good_min 0.4781607985496521\n",
      "score_test_good_max 0.5260053873062134\n",
      "\n",
      "score_test_fail_mean 0.6026914715766907\n",
      "score_test_fail_std 0.058261845260858536\n",
      "score_test_fail_min 0.5094124674797058\n",
      "score_test_fail_max 0.7425857186317444\n",
      "\n",
      "score_train_mean 0.29150012135505676\n",
      "score_train_std 0.007123498246073723\n",
      "score_train_min 0.2802482545375824\n",
      "score_train_max 0.3100093603134155\n"
     ]
    },
    {
     "name": "stderr",
     "output_type": "stream",
     "text": [
      "100%|██████████████████████████████████████████████████████████████████████████████████| 23/23 [00:31<00:00,  1.38s/it]\n"
     ]
    },
    {
     "name": "stdout",
     "output_type": "stream",
     "text": [
      "loss_overall 0.3692346020885136\n",
      "epoch 112\n",
      "\n",
      "score_test_good_mean 0.5318742990493774\n",
      "score_test_good_std 0.018561821430921555\n",
      "score_test_good_min 0.5029947757720947\n",
      "score_test_good_max 0.5756756067276001\n",
      "\n",
      "score_test_fail_mean 0.62605220079422\n",
      "score_test_fail_std 0.04159082472324371\n",
      "score_test_fail_min 0.5744770765304565\n",
      "score_test_fail_max 0.717093288898468\n",
      "\n",
      "score_train_mean 0.2922491431236267\n",
      "score_train_std 0.006393144838511944\n",
      "score_train_min 0.28017330169677734\n",
      "score_train_max 0.30317384004592896\n"
     ]
    },
    {
     "name": "stderr",
     "output_type": "stream",
     "text": [
      "100%|██████████████████████████████████████████████████████████████████████████████████| 23/23 [00:31<00:00,  1.38s/it]\n"
     ]
    },
    {
     "name": "stdout",
     "output_type": "stream",
     "text": [
      "loss_overall 0.3522794130055801\n",
      "epoch 113\n",
      "\n",
      "score_test_good_mean 0.5172761082649231\n",
      "score_test_good_std 0.015514981001615524\n",
      "score_test_good_min 0.5011671185493469\n",
      "score_test_good_max 0.5473653078079224\n",
      "\n",
      "score_test_fail_mean 0.6048657894134521\n",
      "score_test_fail_std 0.05449266359210014\n",
      "score_test_fail_min 0.4956720471382141\n",
      "score_test_fail_max 0.7126858234405518\n",
      "\n",
      "score_train_mean 0.2881844639778137\n",
      "score_train_std 0.006875950377434492\n",
      "score_train_min 0.27803537249565125\n",
      "score_train_max 0.30393916368484497\n"
     ]
    },
    {
     "name": "stderr",
     "output_type": "stream",
     "text": [
      "100%|██████████████████████████████████████████████████████████████████████████████████| 23/23 [00:33<00:00,  1.46s/it]\n"
     ]
    },
    {
     "name": "stdout",
     "output_type": "stream",
     "text": [
      "loss_overall 0.35263418892155524\n",
      "epoch 114\n",
      "\n",
      "score_test_good_mean 0.5105152726173401\n",
      "score_test_good_std 0.02040395699441433\n",
      "score_test_good_min 0.4830818474292755\n",
      "score_test_good_max 0.5377809405326843\n",
      "\n",
      "score_test_fail_mean 0.6117904782295227\n",
      "score_test_fail_std 0.06489409506320953\n",
      "score_test_fail_min 0.5262200832366943\n",
      "score_test_fail_max 0.8061798810958862\n",
      "\n",
      "score_train_mean 0.2866089344024658\n",
      "score_train_std 0.007668478414416313\n",
      "score_train_min 0.27643153071403503\n",
      "score_train_max 0.3074326515197754\n"
     ]
    },
    {
     "name": "stderr",
     "output_type": "stream",
     "text": [
      "100%|██████████████████████████████████████████████████████████████████████████████████| 23/23 [00:33<00:00,  1.46s/it]\n"
     ]
    },
    {
     "name": "stdout",
     "output_type": "stream",
     "text": [
      "loss_overall 0.3594444109045941\n",
      "epoch 115\n",
      "\n",
      "score_test_good_mean 0.5399402976036072\n",
      "score_test_good_std 0.021269647404551506\n",
      "score_test_good_min 0.5055496096611023\n",
      "score_test_good_max 0.5655473470687866\n",
      "\n",
      "score_test_fail_mean 0.6326767206192017\n",
      "score_test_fail_std 0.04775058850646019\n",
      "score_test_fail_min 0.5515117645263672\n",
      "score_test_fail_max 0.7228982448577881\n",
      "\n",
      "score_train_mean 0.28718820214271545\n",
      "score_train_std 0.009235070087015629\n",
      "score_train_min 0.2722054421901703\n",
      "score_train_max 0.30209657549858093\n"
     ]
    },
    {
     "name": "stderr",
     "output_type": "stream",
     "text": [
      "100%|██████████████████████████████████████████████████████████████████████████████████| 23/23 [00:33<00:00,  1.46s/it]\n"
     ]
    },
    {
     "name": "stdout",
     "output_type": "stream",
     "text": [
      "loss_overall 0.3549768082473589\n",
      "epoch 116\n",
      "\n",
      "score_test_good_mean 0.5049004554748535\n",
      "score_test_good_std 0.018218453973531723\n",
      "score_test_good_min 0.4778289198875427\n",
      "score_test_good_max 0.5464356541633606\n",
      "\n",
      "score_test_fail_mean 0.6018424034118652\n",
      "score_test_fail_std 0.05035916715860367\n",
      "score_test_fail_min 0.5332082509994507\n",
      "score_test_fail_max 0.7365092635154724\n",
      "\n",
      "score_train_mean 0.28672629594802856\n",
      "score_train_std 0.008553395047783852\n",
      "score_train_min 0.270085871219635\n",
      "score_train_max 0.29829317331314087\n"
     ]
    },
    {
     "name": "stderr",
     "output_type": "stream",
     "text": [
      "100%|██████████████████████████████████████████████████████████████████████████████████| 23/23 [00:32<00:00,  1.42s/it]\n"
     ]
    },
    {
     "name": "stdout",
     "output_type": "stream",
     "text": [
      "loss_overall 0.3535138705502386\n",
      "epoch 117\n",
      "\n",
      "score_test_good_mean 0.5208224058151245\n",
      "score_test_good_std 0.014959869906306267\n",
      "score_test_good_min 0.4968426823616028\n",
      "score_test_good_max 0.5427240133285522\n",
      "\n",
      "score_test_fail_mean 0.6082814931869507\n",
      "score_test_fail_std 0.06149306148290634\n",
      "score_test_fail_min 0.49881452322006226\n",
      "score_test_fail_max 0.7421691417694092\n",
      "\n",
      "score_train_mean 0.28464505076408386\n",
      "score_train_std 0.005915739107877016\n",
      "score_train_min 0.27217692136764526\n",
      "score_train_max 0.2983423173427582\n"
     ]
    },
    {
     "name": "stderr",
     "output_type": "stream",
     "text": [
      "100%|██████████████████████████████████████████████████████████████████████████████████| 23/23 [00:33<00:00,  1.44s/it]\n"
     ]
    },
    {
     "name": "stdout",
     "output_type": "stream",
     "text": [
      "loss_overall 0.34352562868076825\n",
      "epoch 118\n",
      "\n",
      "score_test_good_mean 0.5078865885734558\n",
      "score_test_good_std 0.019910801202058792\n",
      "score_test_good_min 0.47452861070632935\n",
      "score_test_good_max 0.5456647276878357\n",
      "\n",
      "score_test_fail_mean 0.6019102931022644\n",
      "score_test_fail_std 0.06081718951463699\n",
      "score_test_fail_min 0.4933616518974304\n",
      "score_test_fail_max 0.7802485823631287\n",
      "\n",
      "score_train_mean 0.2842213213443756\n",
      "score_train_std 0.008543641306459904\n",
      "score_train_min 0.2726033627986908\n",
      "score_train_max 0.3014598488807678\n"
     ]
    },
    {
     "name": "stderr",
     "output_type": "stream",
     "text": [
      "100%|██████████████████████████████████████████████████████████████████████████████████| 23/23 [00:33<00:00,  1.46s/it]\n"
     ]
    },
    {
     "name": "stdout",
     "output_type": "stream",
     "text": [
      "loss_overall 0.36021646209385083\n",
      "epoch 119\n",
      "\n",
      "score_test_good_mean 0.5102894902229309\n",
      "score_test_good_std 0.017740614712238312\n",
      "score_test_good_min 0.4855017066001892\n",
      "score_test_good_max 0.5412868857383728\n",
      "\n",
      "score_test_fail_mean 0.6041030287742615\n",
      "score_test_fail_std 0.04814549908041954\n",
      "score_test_fail_min 0.5317394733428955\n",
      "score_test_fail_max 0.731012225151062\n",
      "\n",
      "score_train_mean 0.2858511805534363\n",
      "score_train_std 0.006328834220767021\n",
      "score_train_min 0.27464771270751953\n",
      "score_train_max 0.2977132797241211\n"
     ]
    },
    {
     "name": "stderr",
     "output_type": "stream",
     "text": [
      "100%|██████████████████████████████████████████████████████████████████████████████████| 23/23 [00:31<00:00,  1.39s/it]\n"
     ]
    },
    {
     "name": "stdout",
     "output_type": "stream",
     "text": [
      "loss_overall 0.3497072212074114\n",
      "epoch 120\n",
      "\n",
      "score_test_good_mean 0.5022499561309814\n",
      "score_test_good_std 0.013035272248089314\n",
      "score_test_good_min 0.47152864933013916\n",
      "score_test_good_max 0.5219516158103943\n",
      "\n",
      "score_test_fail_mean 0.6034373641014099\n",
      "score_test_fail_std 0.0697428286075592\n",
      "score_test_fail_min 0.5351524353027344\n",
      "score_test_fail_max 0.7616894841194153\n",
      "\n",
      "score_train_mean 0.2848507761955261\n",
      "score_train_std 0.0069864531978964806\n",
      "score_train_min 0.2712337076663971\n",
      "score_train_max 0.3006726801395416\n"
     ]
    },
    {
     "name": "stderr",
     "output_type": "stream",
     "text": [
      "100%|██████████████████████████████████████████████████████████████████████████████████| 23/23 [00:32<00:00,  1.41s/it]\n"
     ]
    },
    {
     "name": "stdout",
     "output_type": "stream",
     "text": [
      "loss_overall 0.33935866537301435\n",
      "epoch 121\n",
      "\n",
      "score_test_good_mean 0.5123818516731262\n",
      "score_test_good_std 0.022872719913721085\n",
      "score_test_good_min 0.4800317883491516\n",
      "score_test_good_max 0.5633099675178528\n",
      "\n",
      "score_test_fail_mean 0.6045864820480347\n",
      "score_test_fail_std 0.04827164113521576\n",
      "score_test_fail_min 0.5214208960533142\n",
      "score_test_fail_max 0.7157304883003235\n",
      "\n",
      "score_train_mean 0.2813551425933838\n",
      "score_train_std 0.005381717812269926\n",
      "score_train_min 0.2730700373649597\n",
      "score_train_max 0.29059067368507385\n"
     ]
    },
    {
     "name": "stderr",
     "output_type": "stream",
     "text": [
      "100%|██████████████████████████████████████████████████████████████████████████████████| 23/23 [00:32<00:00,  1.42s/it]\n"
     ]
    },
    {
     "name": "stdout",
     "output_type": "stream",
     "text": [
      "loss_overall 0.3460375109444494\n",
      "epoch 122\n",
      "\n",
      "score_test_good_mean 0.5328723192214966\n",
      "score_test_good_std 0.0212529506534338\n",
      "score_test_good_min 0.4864770770072937\n",
      "score_test_good_max 0.5619411468505859\n",
      "\n",
      "score_test_fail_mean 0.6308028101921082\n",
      "score_test_fail_std 0.05239623412489891\n",
      "score_test_fail_min 0.5413259863853455\n",
      "score_test_fail_max 0.7482370138168335\n",
      "\n",
      "score_train_mean 0.2799396216869354\n",
      "score_train_std 0.006141853053122759\n",
      "score_train_min 0.2630847692489624\n",
      "score_train_max 0.28880131244659424\n"
     ]
    },
    {
     "name": "stderr",
     "output_type": "stream",
     "text": [
      "100%|██████████████████████████████████████████████████████████████████████████████████| 23/23 [00:32<00:00,  1.41s/it]\n"
     ]
    },
    {
     "name": "stdout",
     "output_type": "stream",
     "text": [
      "loss_overall 0.342966976373092\n",
      "epoch 123\n",
      "\n",
      "score_test_good_mean 0.5084452033042908\n",
      "score_test_good_std 0.01835392601788044\n",
      "score_test_good_min 0.48243939876556396\n",
      "score_test_good_max 0.5444529056549072\n",
      "\n",
      "score_test_fail_mean 0.5993452072143555\n",
      "score_test_fail_std 0.05268336087465286\n",
      "score_test_fail_min 0.47380194067955017\n",
      "score_test_fail_max 0.6990247368812561\n",
      "\n",
      "score_train_mean 0.280358225107193\n",
      "score_train_std 0.006846293341368437\n",
      "score_train_min 0.265372097492218\n",
      "score_train_max 0.2937600016593933\n"
     ]
    },
    {
     "name": "stderr",
     "output_type": "stream",
     "text": [
      "100%|██████████████████████████████████████████████████████████████████████████████████| 23/23 [00:32<00:00,  1.43s/it]\n"
     ]
    },
    {
     "name": "stdout",
     "output_type": "stream",
     "text": [
      "loss_overall 0.3571601743283479\n",
      "epoch 124\n",
      "\n",
      "score_test_good_mean 0.51945960521698\n",
      "score_test_good_std 0.01911289431154728\n",
      "score_test_good_min 0.4800912141799927\n",
      "score_test_good_max 0.5497825741767883\n",
      "\n",
      "score_test_fail_mean 0.6014169454574585\n",
      "score_test_fail_std 0.04966641962528229\n",
      "score_test_fail_min 0.4803105890750885\n",
      "score_test_fail_max 0.6982851624488831\n",
      "\n",
      "score_train_mean 0.2846602499485016\n",
      "score_train_std 0.008743098005652428\n",
      "score_train_min 0.27275845408439636\n",
      "score_train_max 0.30012083053588867\n"
     ]
    },
    {
     "name": "stderr",
     "output_type": "stream",
     "text": [
      "100%|██████████████████████████████████████████████████████████████████████████████████| 23/23 [00:33<00:00,  1.45s/it]\n"
     ]
    },
    {
     "name": "stdout",
     "output_type": "stream",
     "text": [
      "loss_overall 0.3526172987792803\n",
      "epoch 125\n",
      "\n",
      "score_test_good_mean 0.5381041765213013\n",
      "score_test_good_std 0.018060313537716866\n",
      "score_test_good_min 0.4946693181991577\n",
      "score_test_good_max 0.5665534734725952\n",
      "\n",
      "score_test_fail_mean 0.6317427754402161\n",
      "score_test_fail_std 0.06900814920663834\n",
      "score_test_fail_min 0.5599595308303833\n",
      "score_test_fail_max 0.7869237065315247\n",
      "\n",
      "score_train_mean 0.2793307602405548\n",
      "score_train_std 0.0071303825825452805\n",
      "score_train_min 0.2665984630584717\n",
      "score_train_max 0.3002505302429199\n"
     ]
    },
    {
     "name": "stderr",
     "output_type": "stream",
     "text": [
      "100%|██████████████████████████████████████████████████████████████████████████████████| 23/23 [00:32<00:00,  1.41s/it]\n"
     ]
    },
    {
     "name": "stdout",
     "output_type": "stream",
     "text": [
      "loss_overall 0.3612696023091026\n",
      "epoch 126\n",
      "\n",
      "score_test_good_mean 0.5773607492446899\n",
      "score_test_good_std 0.015679465606808662\n",
      "score_test_good_min 0.5479626059532166\n",
      "score_test_good_max 0.6015535593032837\n",
      "\n",
      "score_test_fail_mean 0.6662120223045349\n",
      "score_test_fail_std 0.05174265801906586\n",
      "score_test_fail_min 0.5725915431976318\n",
      "score_test_fail_max 0.7972220182418823\n",
      "\n",
      "score_train_mean 0.2869284152984619\n",
      "score_train_std 0.010051797144114971\n",
      "score_train_min 0.27121424674987793\n",
      "score_train_max 0.3105812966823578\n"
     ]
    },
    {
     "name": "stderr",
     "output_type": "stream",
     "text": [
      "100%|██████████████████████████████████████████████████████████████████████████████████| 23/23 [00:32<00:00,  1.43s/it]\n"
     ]
    },
    {
     "name": "stdout",
     "output_type": "stream",
     "text": [
      "loss_overall 0.34465522610622906\n",
      "epoch 127\n",
      "\n",
      "score_test_good_mean 0.5275058150291443\n",
      "score_test_good_std 0.02019527181982994\n",
      "score_test_good_min 0.49708881974220276\n",
      "score_test_good_max 0.5659640431404114\n",
      "\n",
      "score_test_fail_mean 0.6149296760559082\n",
      "score_test_fail_std 0.052812207490205765\n",
      "score_test_fail_min 0.5015310049057007\n",
      "score_test_fail_max 0.7167195081710815\n",
      "\n",
      "score_train_mean 0.2831752598285675\n",
      "score_train_std 0.007859847508370876\n",
      "score_train_min 0.26849088072776794\n",
      "score_train_max 0.3060872554779053\n"
     ]
    },
    {
     "name": "stderr",
     "output_type": "stream",
     "text": [
      "100%|██████████████████████████████████████████████████████████████████████████████████| 23/23 [00:32<00:00,  1.40s/it]\n"
     ]
    },
    {
     "name": "stdout",
     "output_type": "stream",
     "text": [
      "loss_overall 0.3415149022703585\n",
      "epoch 128\n",
      "\n",
      "score_test_good_mean 0.5397652983665466\n",
      "score_test_good_std 0.02022809535264969\n",
      "score_test_good_min 0.5086480379104614\n",
      "score_test_good_max 0.5775229930877686\n",
      "\n",
      "score_test_fail_mean 0.6302398443222046\n",
      "score_test_fail_std 0.05854706093668938\n",
      "score_test_fail_min 0.5317814350128174\n",
      "score_test_fail_max 0.8080044984817505\n",
      "\n",
      "score_train_mean 0.2805402874946594\n",
      "score_train_std 0.012810397893190384\n",
      "score_train_min 0.2651759684085846\n",
      "score_train_max 0.32920512557029724\n"
     ]
    },
    {
     "name": "stderr",
     "output_type": "stream",
     "text": [
      "100%|██████████████████████████████████████████████████████████████████████████████████| 23/23 [00:33<00:00,  1.46s/it]\n"
     ]
    },
    {
     "name": "stdout",
     "output_type": "stream",
     "text": [
      "loss_overall 0.35576110171235126\n",
      "epoch 129\n",
      "\n",
      "score_test_good_mean 0.7261736989021301\n",
      "score_test_good_std 0.02237103134393692\n",
      "score_test_good_min 0.6899386048316956\n",
      "score_test_good_max 0.7634742259979248\n",
      "\n",
      "score_test_fail_mean 0.8156436681747437\n",
      "score_test_fail_std 0.05796726420521736\n",
      "score_test_fail_min 0.7506169080734253\n",
      "score_test_fail_max 0.9922857880592346\n",
      "\n",
      "score_train_mean 0.28110677003860474\n",
      "score_train_std 0.0070130606181919575\n",
      "score_train_min 0.27122440934181213\n",
      "score_train_max 0.29657113552093506\n"
     ]
    },
    {
     "name": "stderr",
     "output_type": "stream",
     "text": [
      "100%|██████████████████████████████████████████████████████████████████████████████████| 23/23 [00:32<00:00,  1.41s/it]\n"
     ]
    },
    {
     "name": "stdout",
     "output_type": "stream",
     "text": [
      "loss_overall 0.35765504059584247\n",
      "epoch 130\n",
      "\n",
      "score_test_good_mean 0.5276455283164978\n",
      "score_test_good_std 0.017705166712403297\n",
      "score_test_good_min 0.4967457354068756\n",
      "score_test_good_max 0.5573471188545227\n",
      "\n",
      "score_test_fail_mean 0.6288708448410034\n",
      "score_test_fail_std 0.04755644127726555\n",
      "score_test_fail_min 0.5564205050468445\n",
      "score_test_fail_max 0.7304051518440247\n",
      "\n",
      "score_train_mean 0.2842485010623932\n",
      "score_train_std 0.007644003257155418\n",
      "score_train_min 0.27245020866394043\n",
      "score_train_max 0.29544898867607117\n"
     ]
    },
    {
     "name": "stderr",
     "output_type": "stream",
     "text": [
      "100%|██████████████████████████████████████████████████████████████████████████████████| 23/23 [00:33<00:00,  1.46s/it]\n"
     ]
    },
    {
     "name": "stdout",
     "output_type": "stream",
     "text": [
      "loss_overall 0.3462566422379535\n",
      "epoch 131\n",
      "\n",
      "score_test_good_mean 0.5156409740447998\n",
      "score_test_good_std 0.022400492802262306\n",
      "score_test_good_min 0.481411874294281\n",
      "score_test_good_max 0.5663719177246094\n",
      "\n",
      "score_test_fail_mean 0.6219303607940674\n",
      "score_test_fail_std 0.06194893643260002\n",
      "score_test_fail_min 0.5446954965591431\n",
      "score_test_fail_max 0.8731039762496948\n",
      "\n",
      "score_train_mean 0.28129953145980835\n",
      "score_train_std 0.006860913708806038\n",
      "score_train_min 0.2699061334133148\n",
      "score_train_max 0.2920435965061188\n"
     ]
    },
    {
     "name": "stderr",
     "output_type": "stream",
     "text": [
      "100%|██████████████████████████████████████████████████████████████████████████████████| 23/23 [00:33<00:00,  1.44s/it]\n"
     ]
    },
    {
     "name": "stdout",
     "output_type": "stream",
     "text": [
      "loss_overall 0.33175343663796136\n",
      "epoch 132\n",
      "\n",
      "score_test_good_mean 0.5247934460639954\n",
      "score_test_good_std 0.017488088458776474\n",
      "score_test_good_min 0.5006212592124939\n",
      "score_test_good_max 0.5596632361412048\n",
      "\n",
      "score_test_fail_mean 0.6220040917396545\n",
      "score_test_fail_std 0.039949603378772736\n",
      "score_test_fail_min 0.5532456636428833\n",
      "score_test_fail_max 0.7019441723823547\n",
      "\n",
      "score_train_mean 0.27679282426834106\n",
      "score_train_std 0.007266334258019924\n",
      "score_train_min 0.2674891948699951\n",
      "score_train_max 0.2901836335659027\n"
     ]
    },
    {
     "name": "stderr",
     "output_type": "stream",
     "text": [
      "100%|██████████████████████████████████████████████████████████████████████████████████| 23/23 [00:32<00:00,  1.41s/it]\n"
     ]
    },
    {
     "name": "stdout",
     "output_type": "stream",
     "text": [
      "loss_overall 0.3325429727201876\n",
      "epoch 133\n",
      "\n",
      "score_test_good_mean 0.5355677008628845\n",
      "score_test_good_std 0.020352549850940704\n",
      "score_test_good_min 0.5028030276298523\n",
      "score_test_good_max 0.5730375647544861\n",
      "\n",
      "score_test_fail_mean 0.6268027424812317\n",
      "score_test_fail_std 0.059944916516542435\n",
      "score_test_fail_min 0.5309419631958008\n",
      "score_test_fail_max 0.7699755430221558\n",
      "\n",
      "score_train_mean 0.27616873383522034\n",
      "score_train_std 0.006008399184793234\n",
      "score_train_min 0.26548048853874207\n",
      "score_train_max 0.293235719203949\n"
     ]
    },
    {
     "name": "stderr",
     "output_type": "stream",
     "text": [
      "100%|██████████████████████████████████████████████████████████████████████████████████| 23/23 [00:33<00:00,  1.44s/it]\n"
     ]
    },
    {
     "name": "stdout",
     "output_type": "stream",
     "text": [
      "loss_overall 0.3274055874865988\n",
      "epoch 134\n",
      "\n",
      "score_test_good_mean 0.5062094330787659\n",
      "score_test_good_std 0.015196763910353184\n",
      "score_test_good_min 0.48226118087768555\n",
      "score_test_good_max 0.5292251110076904\n",
      "\n",
      "score_test_fail_mean 0.6172717809677124\n",
      "score_test_fail_std 0.0982271358370781\n",
      "score_test_fail_min 0.5206332206726074\n",
      "score_test_fail_max 0.9909974932670593\n",
      "\n",
      "score_train_mean 0.2720257043838501\n",
      "score_train_std 0.006753962952643633\n",
      "score_train_min 0.26315486431121826\n",
      "score_train_max 0.2902807593345642\n"
     ]
    },
    {
     "name": "stderr",
     "output_type": "stream",
     "text": [
      "100%|██████████████████████████████████████████████████████████████████████████████████| 23/23 [00:33<00:00,  1.45s/it]\n"
     ]
    },
    {
     "name": "stdout",
     "output_type": "stream",
     "text": [
      "loss_overall 0.3371463703072589\n",
      "epoch 135\n",
      "\n",
      "score_test_good_mean 0.5139386057853699\n",
      "score_test_good_std 0.016313260421156883\n",
      "score_test_good_min 0.4855502247810364\n",
      "score_test_good_max 0.5397667288780212\n",
      "\n",
      "score_test_fail_mean 0.6176169514656067\n",
      "score_test_fail_std 0.09016969054937363\n",
      "score_test_fail_min 0.5019712448120117\n",
      "score_test_fail_max 0.940276026725769\n",
      "\n",
      "score_train_mean 0.27454596757888794\n",
      "score_train_std 0.009316271170973778\n",
      "score_train_min 0.257461816072464\n",
      "score_train_max 0.3015064001083374\n"
     ]
    },
    {
     "name": "stderr",
     "output_type": "stream",
     "text": [
      "100%|██████████████████████████████████████████████████████████████████████████████████| 23/23 [00:32<00:00,  1.42s/it]\n"
     ]
    },
    {
     "name": "stdout",
     "output_type": "stream",
     "text": [
      "loss_overall 0.3329148409159287\n",
      "epoch 136\n",
      "\n",
      "score_test_good_mean 0.5763306021690369\n",
      "score_test_good_std 0.02174566499888897\n",
      "score_test_good_min 0.540290892124176\n",
      "score_test_good_max 0.6302836537361145\n",
      "\n",
      "score_test_fail_mean 0.6664031147956848\n",
      "score_test_fail_std 0.05192099139094353\n",
      "score_test_fail_min 0.5332288146018982\n",
      "score_test_fail_max 0.769435465335846\n",
      "\n",
      "score_train_mean 0.2733049690723419\n",
      "score_train_std 0.007091884035617113\n",
      "score_train_min 0.2602009177207947\n",
      "score_train_max 0.28601938486099243\n"
     ]
    },
    {
     "name": "stderr",
     "output_type": "stream",
     "text": [
      "100%|██████████████████████████████████████████████████████████████████████████████████| 23/23 [00:33<00:00,  1.45s/it]\n"
     ]
    },
    {
     "name": "stdout",
     "output_type": "stream",
     "text": [
      "loss_overall 0.33189720951992535\n",
      "epoch 137\n",
      "\n",
      "score_test_good_mean 0.513778805732727\n",
      "score_test_good_std 0.020748069509863853\n",
      "score_test_good_min 0.47973397374153137\n",
      "score_test_good_max 0.5535179972648621\n",
      "\n",
      "score_test_fail_mean 0.60129314661026\n",
      "score_test_fail_std 0.0754442885518074\n",
      "score_test_fail_min 0.4446180462837219\n",
      "score_test_fail_max 0.7823777794837952\n",
      "\n",
      "score_train_mean 0.27416250109672546\n",
      "score_train_std 0.007208491209894419\n",
      "score_train_min 0.2628161907196045\n",
      "score_train_max 0.2945195436477661\n"
     ]
    },
    {
     "name": "stderr",
     "output_type": "stream",
     "text": [
      "100%|██████████████████████████████████████████████████████████████████████████████████| 23/23 [00:33<00:00,  1.44s/it]\n"
     ]
    },
    {
     "name": "stdout",
     "output_type": "stream",
     "text": [
      "loss_overall 0.32755393308141956\n",
      "epoch 138\n",
      "\n",
      "score_test_good_mean 0.5170914530754089\n",
      "score_test_good_std 0.017767570912837982\n",
      "score_test_good_min 0.48540669679641724\n",
      "score_test_good_max 0.5531602501869202\n",
      "\n",
      "score_test_fail_mean 0.6178706884384155\n",
      "score_test_fail_std 0.06013305485248566\n",
      "score_test_fail_min 0.5111433267593384\n",
      "score_test_fail_max 0.8076450824737549\n",
      "\n",
      "score_train_mean 0.27068352699279785\n",
      "score_train_std 0.007380906026810408\n",
      "score_train_min 0.2560324966907501\n",
      "score_train_max 0.2918192744255066\n"
     ]
    },
    {
     "name": "stderr",
     "output_type": "stream",
     "text": [
      "100%|██████████████████████████████████████████████████████████████████████████████████| 23/23 [00:33<00:00,  1.45s/it]\n"
     ]
    },
    {
     "name": "stdout",
     "output_type": "stream",
     "text": [
      "loss_overall 0.32926858767219214\n",
      "epoch 139\n",
      "\n",
      "score_test_good_mean 0.5146777033805847\n",
      "score_test_good_std 0.023746246472001076\n",
      "score_test_good_min 0.47645121812820435\n",
      "score_test_good_max 0.5468302965164185\n",
      "\n",
      "score_test_fail_mean 0.6104400157928467\n",
      "score_test_fail_std 0.05089881643652916\n",
      "score_test_fail_min 0.5167573690414429\n",
      "score_test_fail_max 0.6881945729255676\n",
      "\n",
      "score_train_mean 0.2741871476173401\n",
      "score_train_std 0.006267930846661329\n",
      "score_train_min 0.2614384591579437\n",
      "score_train_max 0.2861045002937317\n"
     ]
    },
    {
     "name": "stderr",
     "output_type": "stream",
     "text": [
      "100%|██████████████████████████████████████████████████████████████████████████████████| 23/23 [00:32<00:00,  1.41s/it]\n"
     ]
    },
    {
     "name": "stdout",
     "output_type": "stream",
     "text": [
      "loss_overall 0.328172258708788\n",
      "epoch 140\n",
      "\n",
      "score_test_good_mean 0.5006995797157288\n",
      "score_test_good_std 0.014383766800165176\n",
      "score_test_good_min 0.4827571213245392\n",
      "score_test_good_max 0.5313097238540649\n",
      "\n",
      "score_test_fail_mean 0.6019843220710754\n",
      "score_test_fail_std 0.042593616992235184\n",
      "score_test_fail_min 0.5094322562217712\n",
      "score_test_fail_max 0.6801338791847229\n",
      "\n",
      "score_train_mean 0.2726757526397705\n",
      "score_train_std 0.006225508637726307\n",
      "score_train_min 0.26226186752319336\n",
      "score_train_max 0.28695952892303467\n"
     ]
    },
    {
     "name": "stderr",
     "output_type": "stream",
     "text": [
      "100%|██████████████████████████████████████████████████████████████████████████████████| 23/23 [00:33<00:00,  1.46s/it]\n"
     ]
    },
    {
     "name": "stdout",
     "output_type": "stream",
     "text": [
      "loss_overall 0.3290222274220508\n",
      "epoch 141\n",
      "\n",
      "score_test_good_mean 0.5697013735771179\n",
      "score_test_good_std 0.020250897854566574\n",
      "score_test_good_min 0.5459712743759155\n",
      "score_test_good_max 0.6198086142539978\n",
      "\n",
      "score_test_fail_mean 0.6751444935798645\n",
      "score_test_fail_std 0.09207788854837418\n",
      "score_test_fail_min 0.5993407368659973\n",
      "score_test_fail_max 1.0671501159667969\n",
      "\n",
      "score_train_mean 0.2727389633655548\n",
      "score_train_std 0.006604920607060194\n",
      "score_train_min 0.25987347960472107\n",
      "score_train_max 0.2850446105003357\n"
     ]
    },
    {
     "name": "stderr",
     "output_type": "stream",
     "text": [
      "100%|██████████████████████████████████████████████████████████████████████████████████| 23/23 [00:33<00:00,  1.47s/it]\n"
     ]
    },
    {
     "name": "stdout",
     "output_type": "stream",
     "text": [
      "loss_overall 0.3309542109136996\n",
      "epoch 142\n",
      "\n",
      "score_test_good_mean 0.5054378509521484\n",
      "score_test_good_std 0.008897812105715275\n",
      "score_test_good_min 0.4921901822090149\n",
      "score_test_good_max 0.5190482139587402\n",
      "\n",
      "score_test_fail_mean 0.6051572561264038\n",
      "score_test_fail_std 0.05597608909010887\n",
      "score_test_fail_min 0.5189745426177979\n",
      "score_test_fail_max 0.7872649431228638\n",
      "\n",
      "score_train_mean 0.27116042375564575\n",
      "score_train_std 0.00805619079619646\n",
      "score_train_min 0.2578505277633667\n",
      "score_train_max 0.2862273156642914\n"
     ]
    },
    {
     "name": "stderr",
     "output_type": "stream",
     "text": [
      "100%|██████████████████████████████████████████████████████████████████████████████████| 23/23 [00:32<00:00,  1.43s/it]\n"
     ]
    },
    {
     "name": "stdout",
     "output_type": "stream",
     "text": [
      "loss_overall 0.32913753390312195\n",
      "epoch 143\n",
      "\n",
      "score_test_good_mean 0.5070070028305054\n",
      "score_test_good_std 0.024163007736206055\n",
      "score_test_good_min 0.4624902009963989\n",
      "score_test_good_max 0.5393213033676147\n",
      "\n",
      "score_test_fail_mean 0.6005367040634155\n",
      "score_test_fail_std 0.05400317907333374\n",
      "score_test_fail_min 0.5261327624320984\n",
      "score_test_fail_max 0.7422440648078918\n",
      "\n",
      "score_train_mean 0.27124151587486267\n",
      "score_train_std 0.006963073741644621\n",
      "score_train_min 0.2580753564834595\n",
      "score_train_max 0.2842564582824707\n"
     ]
    },
    {
     "name": "stderr",
     "output_type": "stream",
     "text": [
      "100%|██████████████████████████████████████████████████████████████████████████████████| 23/23 [00:33<00:00,  1.45s/it]\n"
     ]
    },
    {
     "name": "stdout",
     "output_type": "stream",
     "text": [
      "loss_overall 0.31773525735606317\n",
      "epoch 144\n",
      "\n",
      "score_test_good_mean 0.546006441116333\n",
      "score_test_good_std 0.01853017322719097\n",
      "score_test_good_min 0.5107319355010986\n",
      "score_test_good_max 0.5673993825912476\n",
      "\n",
      "score_test_fail_mean 0.6365524530410767\n",
      "score_test_fail_std 0.05107475444674492\n",
      "score_test_fail_min 0.5631693005561829\n",
      "score_test_fail_max 0.7578576803207397\n",
      "\n",
      "score_train_mean 0.26882851123809814\n",
      "score_train_std 0.005863877944648266\n",
      "score_train_min 0.26048073172569275\n",
      "score_train_max 0.2791023254394531\n"
     ]
    },
    {
     "name": "stderr",
     "output_type": "stream",
     "text": [
      "100%|██████████████████████████████████████████████████████████████████████████████████| 23/23 [00:32<00:00,  1.40s/it]\n"
     ]
    },
    {
     "name": "stdout",
     "output_type": "stream",
     "text": [
      "loss_overall 0.3338000942831454\n",
      "epoch 145\n",
      "\n",
      "score_test_good_mean 0.5161459445953369\n",
      "score_test_good_std 0.013942358084022999\n",
      "score_test_good_min 0.4972933530807495\n",
      "score_test_good_max 0.5504988431930542\n",
      "\n",
      "score_test_fail_mean 0.6174825429916382\n",
      "score_test_fail_std 0.053666844964027405\n",
      "score_test_fail_min 0.5453730821609497\n",
      "score_test_fail_max 0.7868064045906067\n",
      "\n",
      "score_train_mean 0.27164211869239807\n",
      "score_train_std 0.009521983563899994\n",
      "score_train_min 0.25890928506851196\n",
      "score_train_max 0.2917042672634125\n"
     ]
    },
    {
     "name": "stderr",
     "output_type": "stream",
     "text": [
      "100%|██████████████████████████████████████████████████████████████████████████████████| 23/23 [00:33<00:00,  1.44s/it]\n"
     ]
    },
    {
     "name": "stdout",
     "output_type": "stream",
     "text": [
      "loss_overall 0.32299994774486707\n",
      "epoch 146\n",
      "\n",
      "score_test_good_mean 0.5362814664840698\n",
      "score_test_good_std 0.020596593618392944\n",
      "score_test_good_min 0.5085542798042297\n",
      "score_test_good_max 0.5835704803466797\n",
      "\n",
      "score_test_fail_mean 0.6279668807983398\n",
      "score_test_fail_std 0.04815405234694481\n",
      "score_test_fail_min 0.5505352020263672\n",
      "score_test_fail_max 0.753328263759613\n",
      "\n",
      "score_train_mean 0.2705492377281189\n",
      "score_train_std 0.005662561394274235\n",
      "score_train_min 0.261157751083374\n",
      "score_train_max 0.2810337245464325\n"
     ]
    },
    {
     "name": "stderr",
     "output_type": "stream",
     "text": [
      "100%|██████████████████████████████████████████████████████████████████████████████████| 23/23 [00:33<00:00,  1.45s/it]\n"
     ]
    },
    {
     "name": "stdout",
     "output_type": "stream",
     "text": [
      "loss_overall 0.32127492324165674\n",
      "epoch 147\n",
      "\n",
      "score_test_good_mean 0.500991940498352\n",
      "score_test_good_std 0.02434268221259117\n",
      "score_test_good_min 0.46363675594329834\n",
      "score_test_good_max 0.555963397026062\n",
      "\n",
      "score_test_fail_mean 0.5948064923286438\n",
      "score_test_fail_std 0.041768111288547516\n",
      "score_test_fail_min 0.5230876207351685\n",
      "score_test_fail_max 0.7015305161476135\n",
      "\n",
      "score_train_mean 0.26982253789901733\n",
      "score_train_std 0.005325234029442072\n",
      "score_train_min 0.25963300466537476\n",
      "score_train_max 0.278917521238327\n"
     ]
    },
    {
     "name": "stderr",
     "output_type": "stream",
     "text": [
      "100%|██████████████████████████████████████████████████████████████████████████████████| 23/23 [00:32<00:00,  1.41s/it]\n"
     ]
    },
    {
     "name": "stdout",
     "output_type": "stream",
     "text": [
      "loss_overall 0.32222800669462787\n",
      "epoch 148\n",
      "\n",
      "score_test_good_mean 0.5943108797073364\n",
      "score_test_good_std 0.029454756528139114\n",
      "score_test_good_min 0.5648852586746216\n",
      "score_test_good_max 0.6792434453964233\n",
      "\n",
      "score_test_fail_mean 0.6865760087966919\n",
      "score_test_fail_std 0.04937189817428589\n",
      "score_test_fail_min 0.5934241414070129\n",
      "score_test_fail_max 0.7625250220298767\n",
      "\n",
      "score_train_mean 0.26723089814186096\n",
      "score_train_std 0.0074214269407093525\n",
      "score_train_min 0.25879907608032227\n",
      "score_train_max 0.28482580184936523\n"
     ]
    },
    {
     "name": "stderr",
     "output_type": "stream",
     "text": [
      "100%|██████████████████████████████████████████████████████████████████████████████████| 23/23 [00:33<00:00,  1.44s/it]\n"
     ]
    },
    {
     "name": "stdout",
     "output_type": "stream",
     "text": [
      "loss_overall 0.32280516754026\n",
      "epoch 149\n",
      "\n",
      "score_test_good_mean 0.5348118543624878\n",
      "score_test_good_std 0.012532147578895092\n",
      "score_test_good_min 0.5118182897567749\n",
      "score_test_good_max 0.5607622265815735\n",
      "\n",
      "score_test_fail_mean 0.6391307711601257\n",
      "score_test_fail_std 0.06952057778835297\n",
      "score_test_fail_min 0.5412077307701111\n",
      "score_test_fail_max 0.8058689832687378\n",
      "\n",
      "score_train_mean 0.26667776703834534\n",
      "score_train_std 0.005425802897661924\n",
      "score_train_min 0.2572234272956848\n",
      "score_train_max 0.2772553861141205\n"
     ]
    },
    {
     "name": "stderr",
     "output_type": "stream",
     "text": [
      "100%|██████████████████████████████████████████████████████████████████████████████████| 23/23 [00:32<00:00,  1.42s/it]\n"
     ]
    },
    {
     "name": "stdout",
     "output_type": "stream",
     "text": [
      "loss_overall 0.3276910742987757\n",
      "epoch 150\n",
      "\n",
      "score_test_good_mean 0.5238324999809265\n",
      "score_test_good_std 0.012734886258840561\n",
      "score_test_good_min 0.5002749562263489\n",
      "score_test_good_max 0.5423987507820129\n",
      "\n",
      "score_test_fail_mean 0.6271265149116516\n",
      "score_test_fail_std 0.07690612226724625\n",
      "score_test_fail_min 0.5536016225814819\n",
      "score_test_fail_max 0.8902339935302734\n",
      "\n",
      "score_train_mean 0.2683328688144684\n",
      "score_train_std 0.00583386467769742\n",
      "score_train_min 0.2609958052635193\n",
      "score_train_max 0.28214478492736816\n"
     ]
    },
    {
     "name": "stderr",
     "output_type": "stream",
     "text": [
      "100%|██████████████████████████████████████████████████████████████████████████████████| 23/23 [00:32<00:00,  1.41s/it]\n"
     ]
    },
    {
     "name": "stdout",
     "output_type": "stream",
     "text": [
      "loss_overall 0.3148578599743221\n",
      "epoch 151\n",
      "\n",
      "score_test_good_mean 0.5040974020957947\n",
      "score_test_good_std 0.016606349498033524\n",
      "score_test_good_min 0.48548972606658936\n",
      "score_test_good_max 0.5482387542724609\n",
      "\n",
      "score_test_fail_mean 0.6032289266586304\n",
      "score_test_fail_std 0.055992141366004944\n",
      "score_test_fail_min 0.532360315322876\n",
      "score_test_fail_max 0.7397059202194214\n",
      "\n",
      "score_train_mean 0.2664794921875\n",
      "score_train_std 0.007896133698523045\n",
      "score_train_min 0.25221526622772217\n",
      "score_train_max 0.2825396955013275\n"
     ]
    },
    {
     "name": "stderr",
     "output_type": "stream",
     "text": [
      "100%|██████████████████████████████████████████████████████████████████████████████████| 23/23 [00:32<00:00,  1.43s/it]\n"
     ]
    },
    {
     "name": "stdout",
     "output_type": "stream",
     "text": [
      "loss_overall 0.3207126518954401\n",
      "epoch 152\n",
      "\n",
      "score_test_good_mean 0.542241632938385\n",
      "score_test_good_std 0.018088683485984802\n",
      "score_test_good_min 0.5085421204566956\n",
      "score_test_good_max 0.5763393640518188\n",
      "\n",
      "score_test_fail_mean 0.6377853751182556\n",
      "score_test_fail_std 0.05961849167943001\n",
      "score_test_fail_min 0.5567601323127747\n",
      "score_test_fail_max 0.7410750985145569\n",
      "\n",
      "score_train_mean 0.26486343145370483\n",
      "score_train_std 0.008197784423828125\n",
      "score_train_min 0.2518950402736664\n",
      "score_train_max 0.2847597599029541\n"
     ]
    },
    {
     "name": "stderr",
     "output_type": "stream",
     "text": [
      "100%|██████████████████████████████████████████████████████████████████████████████████| 23/23 [00:33<00:00,  1.44s/it]\n"
     ]
    },
    {
     "name": "stdout",
     "output_type": "stream",
     "text": [
      "loss_overall 0.3150050691936327\n",
      "epoch 153\n",
      "\n",
      "score_test_good_mean 0.5786905288696289\n",
      "score_test_good_std 0.0212088655680418\n",
      "score_test_good_min 0.5460176467895508\n",
      "score_test_good_max 0.6177684664726257\n",
      "\n",
      "score_test_fail_mean 0.6727209687232971\n",
      "score_test_fail_std 0.05443575978279114\n",
      "score_test_fail_min 0.5896846652030945\n",
      "score_test_fail_max 0.8000428676605225\n",
      "\n",
      "score_train_mean 0.2678201198577881\n",
      "score_train_std 0.008306172676384449\n",
      "score_train_min 0.25221753120422363\n",
      "score_train_max 0.2817321717739105\n"
     ]
    },
    {
     "name": "stderr",
     "output_type": "stream",
     "text": [
      "100%|██████████████████████████████████████████████████████████████████████████████████| 23/23 [00:32<00:00,  1.42s/it]\n"
     ]
    },
    {
     "name": "stdout",
     "output_type": "stream",
     "text": [
      "loss_overall 0.31602133745732514\n",
      "epoch 154\n",
      "\n",
      "score_test_good_mean 0.5058337450027466\n",
      "score_test_good_std 0.018750011920928955\n",
      "score_test_good_min 0.48483943939208984\n",
      "score_test_good_max 0.5397747159004211\n",
      "\n",
      "score_test_fail_mean 0.603984534740448\n",
      "score_test_fail_std 0.05568347126245499\n",
      "score_test_fail_min 0.514410674571991\n",
      "score_test_fail_max 0.7188225388526917\n",
      "\n",
      "score_train_mean 0.267111599445343\n",
      "score_train_std 0.004561989102512598\n",
      "score_train_min 0.25852328538894653\n",
      "score_train_max 0.27598506212234497\n"
     ]
    },
    {
     "name": "stderr",
     "output_type": "stream",
     "text": [
      "100%|██████████████████████████████████████████████████████████████████████████████████| 23/23 [00:33<00:00,  1.46s/it]\n"
     ]
    },
    {
     "name": "stdout",
     "output_type": "stream",
     "text": [
      "loss_overall 0.3301200050374736\n",
      "epoch 155\n",
      "\n",
      "score_test_good_mean 0.5037943720817566\n",
      "score_test_good_std 0.021700773388147354\n",
      "score_test_good_min 0.47385624051094055\n",
      "score_test_good_max 0.5451748371124268\n",
      "\n",
      "score_test_fail_mean 0.5979626774787903\n",
      "score_test_fail_std 0.0598738007247448\n",
      "score_test_fail_min 0.4902527630329132\n",
      "score_test_fail_max 0.7185158133506775\n",
      "\n",
      "score_train_mean 0.26450324058532715\n",
      "score_train_std 0.006731347646564245\n",
      "score_train_min 0.255539208650589\n",
      "score_train_max 0.2779305875301361\n"
     ]
    },
    {
     "name": "stderr",
     "output_type": "stream",
     "text": [
      "100%|██████████████████████████████████████████████████████████████████████████████████| 23/23 [00:33<00:00,  1.46s/it]\n"
     ]
    },
    {
     "name": "stdout",
     "output_type": "stream",
     "text": [
      "loss_overall 0.31008632675461145\n",
      "epoch 156\n",
      "\n",
      "score_test_good_mean 0.5123690366744995\n",
      "score_test_good_std 0.017457740381360054\n",
      "score_test_good_min 0.4819749891757965\n",
      "score_test_good_max 0.5525480508804321\n",
      "\n",
      "score_test_fail_mean 0.6065741181373596\n",
      "score_test_fail_std 0.06589726358652115\n",
      "score_test_fail_min 0.5030193328857422\n",
      "score_test_fail_max 0.7836082577705383\n",
      "\n",
      "score_train_mean 0.26507776975631714\n",
      "score_train_std 0.007598281372338533\n",
      "score_train_min 0.2509342133998871\n",
      "score_train_max 0.28264421224594116\n"
     ]
    },
    {
     "name": "stderr",
     "output_type": "stream",
     "text": [
      "100%|██████████████████████████████████████████████████████████████████████████████████| 23/23 [00:32<00:00,  1.43s/it]\n"
     ]
    },
    {
     "name": "stdout",
     "output_type": "stream",
     "text": [
      "loss_overall 0.31555342544680054\n",
      "epoch 157\n",
      "\n",
      "score_test_good_mean 0.5045874118804932\n",
      "score_test_good_std 0.01398429088294506\n",
      "score_test_good_min 0.48193544149398804\n",
      "score_test_good_max 0.5348686575889587\n",
      "\n",
      "score_test_fail_mean 0.5942696332931519\n",
      "score_test_fail_std 0.047108136117458344\n",
      "score_test_fail_min 0.46761220693588257\n",
      "score_test_fail_max 0.6733415722846985\n",
      "\n",
      "score_train_mean 0.26561686396598816\n",
      "score_train_std 0.007407572586089373\n",
      "score_train_min 0.2520066201686859\n",
      "score_train_max 0.2821483016014099\n"
     ]
    },
    {
     "name": "stderr",
     "output_type": "stream",
     "text": [
      "100%|██████████████████████████████████████████████████████████████████████████████████| 23/23 [00:32<00:00,  1.41s/it]\n"
     ]
    },
    {
     "name": "stdout",
     "output_type": "stream",
     "text": [
      "loss_overall 0.3025336071200993\n",
      "epoch 158\n",
      "\n",
      "score_test_good_mean 0.5049963593482971\n",
      "score_test_good_std 0.022750381380319595\n",
      "score_test_good_min 0.4737376570701599\n",
      "score_test_good_max 0.5538748502731323\n",
      "\n",
      "score_test_fail_mean 0.6022650003433228\n",
      "score_test_fail_std 0.0812164917588234\n",
      "score_test_fail_min 0.5164933204650879\n",
      "score_test_fail_max 0.8792368173599243\n",
      "\n",
      "score_train_mean 0.2626760005950928\n",
      "score_train_std 0.0055946167558431625\n",
      "score_train_min 0.2546532452106476\n",
      "score_train_max 0.2789665162563324\n"
     ]
    },
    {
     "name": "stderr",
     "output_type": "stream",
     "text": [
      "100%|██████████████████████████████████████████████████████████████████████████████████| 23/23 [00:33<00:00,  1.44s/it]\n"
     ]
    },
    {
     "name": "stdout",
     "output_type": "stream",
     "text": [
      "loss_overall 0.3227743584176768\n",
      "epoch 159\n",
      "\n",
      "score_test_good_mean 0.559822678565979\n",
      "score_test_good_std 0.02086668461561203\n",
      "score_test_good_min 0.5398699045181274\n",
      "score_test_good_max 0.6204617023468018\n",
      "\n",
      "score_test_fail_mean 0.6521835327148438\n",
      "score_test_fail_std 0.0546044185757637\n",
      "score_test_fail_min 0.5569860935211182\n",
      "score_test_fail_max 0.777374804019928\n",
      "\n",
      "score_train_mean 0.26509350538253784\n",
      "score_train_std 0.008817332796752453\n",
      "score_train_min 0.25476622581481934\n",
      "score_train_max 0.2873549163341522\n"
     ]
    },
    {
     "name": "stderr",
     "output_type": "stream",
     "text": [
      "100%|██████████████████████████████████████████████████████████████████████████████████| 23/23 [00:33<00:00,  1.44s/it]\n"
     ]
    },
    {
     "name": "stdout",
     "output_type": "stream",
     "text": [
      "loss_overall 0.31603673230046814\n",
      "epoch 160\n",
      "\n",
      "score_test_good_mean 0.5127360820770264\n",
      "score_test_good_std 0.021753018721938133\n",
      "score_test_good_min 0.4796324670314789\n",
      "score_test_good_max 0.5568616390228271\n",
      "\n",
      "score_test_fail_mean 0.6087508201599121\n",
      "score_test_fail_std 0.048924293369054794\n",
      "score_test_fail_min 0.5257292985916138\n",
      "score_test_fail_max 0.739141583442688\n",
      "\n",
      "score_train_mean 0.2668183743953705\n",
      "score_train_std 0.009670774452388287\n",
      "score_train_min 0.2535616159439087\n",
      "score_train_max 0.29401084780693054\n"
     ]
    },
    {
     "name": "stderr",
     "output_type": "stream",
     "text": [
      "100%|██████████████████████████████████████████████████████████████████████████████████| 23/23 [00:33<00:00,  1.44s/it]\n"
     ]
    },
    {
     "name": "stdout",
     "output_type": "stream",
     "text": [
      "loss_overall 0.3156452088252358\n",
      "epoch 161\n",
      "\n",
      "score_test_good_mean 0.5248140692710876\n",
      "score_test_good_std 0.018503816798329353\n",
      "score_test_good_min 0.49654608964920044\n",
      "score_test_good_max 0.5688973665237427\n",
      "\n",
      "score_test_fail_mean 0.6314728856086731\n",
      "score_test_fail_std 0.0758490189909935\n",
      "score_test_fail_min 0.5497664213180542\n",
      "score_test_fail_max 0.9211903810501099\n",
      "\n",
      "score_train_mean 0.26290515065193176\n",
      "score_train_std 0.0067443219013512135\n",
      "score_train_min 0.2507302761077881\n",
      "score_train_max 0.27572834491729736\n"
     ]
    },
    {
     "name": "stderr",
     "output_type": "stream",
     "text": [
      "100%|██████████████████████████████████████████████████████████████████████████████████| 23/23 [00:32<00:00,  1.40s/it]\n"
     ]
    },
    {
     "name": "stdout",
     "output_type": "stream",
     "text": [
      "loss_overall 0.31729327336601587\n",
      "epoch 162\n",
      "\n",
      "score_test_good_mean 0.5920308232307434\n",
      "score_test_good_std 0.012332710437476635\n",
      "score_test_good_min 0.5734347105026245\n",
      "score_test_good_max 0.6139583587646484\n",
      "\n",
      "score_test_fail_mean 0.6851531863212585\n",
      "score_test_fail_std 0.0584479458630085\n",
      "score_test_fail_min 0.591576337814331\n",
      "score_test_fail_max 0.8101369142532349\n",
      "\n",
      "score_train_mean 0.2621300220489502\n",
      "score_train_std 0.0059442888014018536\n",
      "score_train_min 0.25140368938446045\n",
      "score_train_max 0.2727200388908386\n"
     ]
    },
    {
     "name": "stderr",
     "output_type": "stream",
     "text": [
      "100%|██████████████████████████████████████████████████████████████████████████████████| 23/23 [00:33<00:00,  1.45s/it]\n"
     ]
    },
    {
     "name": "stdout",
     "output_type": "stream",
     "text": [
      "loss_overall 0.3175863144190415\n",
      "epoch 163\n",
      "\n",
      "score_test_good_mean 0.5436795949935913\n",
      "score_test_good_std 0.02061394415795803\n",
      "score_test_good_min 0.5160300135612488\n",
      "score_test_good_max 0.5861199498176575\n",
      "\n",
      "score_test_fail_mean 0.6386323571205139\n",
      "score_test_fail_std 0.05670471489429474\n",
      "score_test_fail_min 0.5421600341796875\n",
      "score_test_fail_max 0.7471060156822205\n",
      "\n",
      "score_train_mean 0.26656049489974976\n",
      "score_train_std 0.007383402902632952\n",
      "score_train_min 0.25721871852874756\n",
      "score_train_max 0.2840673327445984\n"
     ]
    },
    {
     "name": "stderr",
     "output_type": "stream",
     "text": [
      "100%|██████████████████████████████████████████████████████████████████████████████████| 23/23 [00:33<00:00,  1.47s/it]\n"
     ]
    },
    {
     "name": "stdout",
     "output_type": "stream",
     "text": [
      "loss_overall 0.32099494338035583\n",
      "epoch 164\n",
      "\n",
      "score_test_good_mean 0.5226454734802246\n",
      "score_test_good_std 0.014404424466192722\n",
      "score_test_good_min 0.5078960657119751\n",
      "score_test_good_max 0.5562905073165894\n",
      "\n",
      "score_test_fail_mean 0.6259241700172424\n",
      "score_test_fail_std 0.0672120675444603\n",
      "score_test_fail_min 0.5462825298309326\n",
      "score_test_fail_max 0.8542025685310364\n",
      "\n",
      "score_train_mean 0.266463041305542\n",
      "score_train_std 0.006801486015319824\n",
      "score_train_min 0.25470709800720215\n",
      "score_train_max 0.284050852060318\n"
     ]
    },
    {
     "name": "stderr",
     "output_type": "stream",
     "text": [
      "100%|██████████████████████████████████████████████████████████████████████████████████| 23/23 [00:31<00:00,  1.39s/it]\n"
     ]
    },
    {
     "name": "stdout",
     "output_type": "stream",
     "text": [
      "loss_overall 0.3139448502789373\n",
      "epoch 165\n",
      "\n",
      "score_test_good_mean 0.5431080460548401\n",
      "score_test_good_std 0.02060241438448429\n",
      "score_test_good_min 0.512066125869751\n",
      "score_test_good_max 0.5767284631729126\n",
      "\n",
      "score_test_fail_mean 0.6434750556945801\n",
      "score_test_fail_std 0.05272694677114487\n",
      "score_test_fail_min 0.5644630789756775\n",
      "score_test_fail_max 0.746837854385376\n",
      "\n",
      "score_train_mean 0.2637527287006378\n",
      "score_train_std 0.005459347274154425\n",
      "score_train_min 0.2544366419315338\n",
      "score_train_max 0.27304989099502563\n"
     ]
    },
    {
     "name": "stderr",
     "output_type": "stream",
     "text": [
      "100%|██████████████████████████████████████████████████████████████████████████████████| 23/23 [00:32<00:00,  1.40s/it]\n"
     ]
    },
    {
     "name": "stdout",
     "output_type": "stream",
     "text": [
      "loss_overall 0.3162794359352278\n",
      "epoch 166\n",
      "\n",
      "score_test_good_mean 0.5832915902137756\n",
      "score_test_good_std 0.019039731472730637\n",
      "score_test_good_min 0.5517590045928955\n",
      "score_test_good_max 0.6136059165000916\n",
      "\n",
      "score_test_fail_mean 0.6774215698242188\n",
      "score_test_fail_std 0.045325759798288345\n",
      "score_test_fail_min 0.5636614561080933\n",
      "score_test_fail_max 0.7497538924217224\n",
      "\n",
      "score_train_mean 0.2634871006011963\n",
      "score_train_std 0.00705839553847909\n",
      "score_train_min 0.2511712908744812\n",
      "score_train_max 0.2739369571208954\n"
     ]
    },
    {
     "name": "stderr",
     "output_type": "stream",
     "text": [
      "100%|██████████████████████████████████████████████████████████████████████████████████| 23/23 [00:32<00:00,  1.43s/it]\n"
     ]
    },
    {
     "name": "stdout",
     "output_type": "stream",
     "text": [
      "loss_overall 0.32361935662186664\n",
      "epoch 167\n",
      "\n",
      "score_test_good_mean 0.5361116528511047\n",
      "score_test_good_std 0.011773750185966492\n",
      "score_test_good_min 0.5175363421440125\n",
      "score_test_good_max 0.5583994388580322\n",
      "\n",
      "score_test_fail_mean 0.6273964047431946\n",
      "score_test_fail_std 0.05615413188934326\n",
      "score_test_fail_min 0.5375298261642456\n",
      "score_test_fail_max 0.743580162525177\n",
      "\n",
      "score_train_mean 0.26623114943504333\n",
      "score_train_std 0.00551720941439271\n",
      "score_train_min 0.25815945863723755\n",
      "score_train_max 0.2771913707256317\n"
     ]
    },
    {
     "name": "stderr",
     "output_type": "stream",
     "text": [
      "100%|██████████████████████████████████████████████████████████████████████████████████| 23/23 [00:33<00:00,  1.45s/it]\n"
     ]
    },
    {
     "name": "stdout",
     "output_type": "stream",
     "text": [
      "loss_overall 0.3046637073807094\n",
      "epoch 168\n",
      "\n",
      "score_test_good_mean 0.5343798995018005\n",
      "score_test_good_std 0.020396340638399124\n",
      "score_test_good_min 0.5004870295524597\n",
      "score_test_good_max 0.5610717535018921\n",
      "\n",
      "score_test_fail_mean 0.6287931203842163\n",
      "score_test_fail_std 0.04087596386671066\n",
      "score_test_fail_min 0.5256075263023376\n",
      "score_test_fail_max 0.7069713473320007\n",
      "\n",
      "score_train_mean 0.2613828778266907\n",
      "score_train_std 0.006521804723888636\n",
      "score_train_min 0.25192224979400635\n",
      "score_train_max 0.27681171894073486\n"
     ]
    },
    {
     "name": "stderr",
     "output_type": "stream",
     "text": [
      "100%|██████████████████████████████████████████████████████████████████████████████████| 23/23 [00:33<00:00,  1.45s/it]\n"
     ]
    },
    {
     "name": "stdout",
     "output_type": "stream",
     "text": [
      "loss_overall 0.3020758447439774\n",
      "epoch 169\n",
      "\n",
      "score_test_good_mean 0.5174812078475952\n",
      "score_test_good_std 0.022135844454169273\n",
      "score_test_good_min 0.4856954514980316\n",
      "score_test_good_max 0.564527690410614\n",
      "\n",
      "score_test_fail_mean 0.6243493556976318\n",
      "score_test_fail_std 0.05915478616952896\n",
      "score_test_fail_min 0.5558697581291199\n",
      "score_test_fail_max 0.8434785008430481\n",
      "\n",
      "score_train_mean 0.25832274556159973\n",
      "score_train_std 0.005997513886541128\n",
      "score_train_min 0.24731406569480896\n",
      "score_train_max 0.27008718252182007\n"
     ]
    },
    {
     "name": "stderr",
     "output_type": "stream",
     "text": [
      "100%|██████████████████████████████████████████████████████████████████████████████████| 23/23 [00:34<00:00,  1.52s/it]\n"
     ]
    },
    {
     "name": "stdout",
     "output_type": "stream",
     "text": [
      "loss_overall 0.31221488766048267\n",
      "epoch 170\n",
      "\n",
      "score_test_good_mean 0.5337504148483276\n",
      "score_test_good_std 0.016826555132865906\n",
      "score_test_good_min 0.512079656124115\n",
      "score_test_good_max 0.5750271081924438\n",
      "\n",
      "score_test_fail_mean 0.6235702633857727\n",
      "score_test_fail_std 0.06030837446451187\n",
      "score_test_fail_min 0.5244821310043335\n",
      "score_test_fail_max 0.8248197436332703\n",
      "\n",
      "score_train_mean 0.2591165602207184\n",
      "score_train_std 0.007661664392799139\n",
      "score_train_min 0.24870304763317108\n",
      "score_train_max 0.2864861488342285\n"
     ]
    },
    {
     "name": "stderr",
     "output_type": "stream",
     "text": [
      "100%|██████████████████████████████████████████████████████████████████████████████████| 23/23 [00:33<00:00,  1.43s/it]\n"
     ]
    },
    {
     "name": "stdout",
     "output_type": "stream",
     "text": [
      "loss_overall 0.3002019485701685\n",
      "epoch 171\n",
      "\n",
      "score_test_good_mean 0.5152130722999573\n",
      "score_test_good_std 0.018728451803326607\n",
      "score_test_good_min 0.49688681960105896\n",
      "score_test_good_max 0.5658199191093445\n",
      "\n",
      "score_test_fail_mean 0.6080782413482666\n",
      "score_test_fail_std 0.042673300951719284\n",
      "score_test_fail_min 0.5490221977233887\n",
      "score_test_fail_max 0.6891486048698425\n",
      "\n",
      "score_train_mean 0.25873860716819763\n",
      "score_train_std 0.005751085001975298\n",
      "score_train_min 0.24680475890636444\n",
      "score_train_max 0.27017760276794434\n"
     ]
    },
    {
     "name": "stderr",
     "output_type": "stream",
     "text": [
      "100%|██████████████████████████████████████████████████████████████████████████████████| 23/23 [00:32<00:00,  1.41s/it]\n"
     ]
    },
    {
     "name": "stdout",
     "output_type": "stream",
     "text": [
      "loss_overall 0.3072890924370807\n",
      "epoch 172\n",
      "\n",
      "score_test_good_mean 0.522286057472229\n",
      "score_test_good_std 0.02316606603562832\n",
      "score_test_good_min 0.47066110372543335\n",
      "score_test_good_max 0.566197395324707\n",
      "\n",
      "score_test_fail_mean 0.617257833480835\n",
      "score_test_fail_std 0.05960522219538689\n",
      "score_test_fail_min 0.5320981740951538\n",
      "score_test_fail_max 0.784150242805481\n",
      "\n",
      "score_train_mean 0.2584817707538605\n",
      "score_train_std 0.006571270991116762\n",
      "score_train_min 0.24669449031352997\n",
      "score_train_max 0.27090832591056824\n"
     ]
    },
    {
     "name": "stderr",
     "output_type": "stream",
     "text": [
      "100%|██████████████████████████████████████████████████████████████████████████████████| 23/23 [00:34<00:00,  1.50s/it]\n"
     ]
    },
    {
     "name": "stdout",
     "output_type": "stream",
     "text": [
      "loss_overall 0.30855164320572565\n",
      "epoch 173\n",
      "\n",
      "score_test_good_mean 0.5487911105155945\n",
      "score_test_good_std 0.023011406883597374\n",
      "score_test_good_min 0.5247275233268738\n",
      "score_test_good_max 0.6001150608062744\n",
      "\n",
      "score_test_fail_mean 0.6510960459709167\n",
      "score_test_fail_std 0.07640152424573898\n",
      "score_test_fail_min 0.5643560886383057\n",
      "score_test_fail_max 0.8555585741996765\n",
      "\n",
      "score_train_mean 0.2574269771575928\n",
      "score_train_std 0.006593289785087109\n",
      "score_train_min 0.24763040244579315\n",
      "score_train_max 0.2694973051548004\n"
     ]
    },
    {
     "name": "stderr",
     "output_type": "stream",
     "text": [
      "100%|██████████████████████████████████████████████████████████████████████████████████| 23/23 [00:32<00:00,  1.40s/it]\n"
     ]
    },
    {
     "name": "stdout",
     "output_type": "stream",
     "text": [
      "loss_overall 0.3046299037726029\n",
      "epoch 174\n",
      "\n",
      "score_test_good_mean 0.6261001825332642\n",
      "score_test_good_std 0.021275926381349564\n",
      "score_test_good_min 0.583989143371582\n",
      "score_test_good_max 0.6596294641494751\n",
      "\n",
      "score_test_fail_mean 0.708655834197998\n",
      "score_test_fail_std 0.044359512627124786\n",
      "score_test_fail_min 0.6127826571464539\n",
      "score_test_fail_max 0.8184645175933838\n",
      "\n",
      "score_train_mean 0.2614750266075134\n",
      "score_train_std 0.007433788850903511\n",
      "score_train_min 0.24462905526161194\n",
      "score_train_max 0.2783754765987396\n"
     ]
    },
    {
     "name": "stderr",
     "output_type": "stream",
     "text": [
      "100%|██████████████████████████████████████████████████████████████████████████████████| 23/23 [00:32<00:00,  1.40s/it]\n"
     ]
    },
    {
     "name": "stdout",
     "output_type": "stream",
     "text": [
      "loss_overall 0.3101623058319092\n",
      "epoch 175\n",
      "\n",
      "score_test_good_mean 0.5344591736793518\n",
      "score_test_good_std 0.02429775334894657\n",
      "score_test_good_min 0.4912320673465729\n",
      "score_test_good_max 0.5978721976280212\n",
      "\n",
      "score_test_fail_mean 0.628390908241272\n",
      "score_test_fail_std 0.052986156195402145\n",
      "score_test_fail_min 0.5578011274337769\n",
      "score_test_fail_max 0.7909830212593079\n",
      "\n",
      "score_train_mean 0.26063254475593567\n",
      "score_train_std 0.0076577928848564625\n",
      "score_train_min 0.24535556137561798\n",
      "score_train_max 0.2749859690666199\n"
     ]
    },
    {
     "name": "stderr",
     "output_type": "stream",
     "text": [
      "100%|██████████████████████████████████████████████████████████████████████████████████| 23/23 [00:33<00:00,  1.45s/it]\n"
     ]
    },
    {
     "name": "stdout",
     "output_type": "stream",
     "text": [
      "loss_overall 0.30076612208200537\n",
      "epoch 176\n",
      "\n",
      "score_test_good_mean 0.5304926037788391\n",
      "score_test_good_std 0.020655713975429535\n",
      "score_test_good_min 0.4950602650642395\n",
      "score_test_good_max 0.5639512538909912\n",
      "\n",
      "score_test_fail_mean 0.6194649338722229\n",
      "score_test_fail_std 0.04617147892713547\n",
      "score_test_fail_min 0.51475590467453\n",
      "score_test_fail_max 0.7203583121299744\n",
      "\n",
      "score_train_mean 0.2592202425003052\n",
      "score_train_std 0.00606824504211545\n",
      "score_train_min 0.2511835992336273\n",
      "score_train_max 0.2742430865764618\n"
     ]
    },
    {
     "name": "stderr",
     "output_type": "stream",
     "text": [
      "100%|██████████████████████████████████████████████████████████████████████████████████| 23/23 [00:32<00:00,  1.43s/it]\n"
     ]
    },
    {
     "name": "stdout",
     "output_type": "stream",
     "text": [
      "loss_overall 0.3156626989012179\n",
      "epoch 177\n",
      "\n",
      "score_test_good_mean 0.5363476276397705\n",
      "score_test_good_std 0.019164012745022774\n",
      "score_test_good_min 0.4962165951728821\n",
      "score_test_good_max 0.5662614703178406\n",
      "\n",
      "score_test_fail_mean 0.6367397904396057\n",
      "score_test_fail_std 0.059939153492450714\n",
      "score_test_fail_min 0.5611515045166016\n",
      "score_test_fail_max 0.7616804242134094\n",
      "\n",
      "score_train_mean 0.25946441292762756\n",
      "score_train_std 0.0051118601113557816\n",
      "score_train_min 0.25046616792678833\n",
      "score_train_max 0.27475494146347046\n"
     ]
    },
    {
     "name": "stderr",
     "output_type": "stream",
     "text": [
      "100%|██████████████████████████████████████████████████████████████████████████████████| 23/23 [00:32<00:00,  1.43s/it]\n"
     ]
    },
    {
     "name": "stdout",
     "output_type": "stream",
     "text": [
      "loss_overall 0.2973258262095244\n",
      "epoch 178\n",
      "\n",
      "score_test_good_mean 0.5090881586074829\n",
      "score_test_good_std 0.016785627231001854\n",
      "score_test_good_min 0.4834473729133606\n",
      "score_test_good_max 0.5393986105918884\n",
      "\n",
      "score_test_fail_mean 0.6142722964286804\n",
      "score_test_fail_std 0.07807384431362152\n",
      "score_test_fail_min 0.5108001232147217\n",
      "score_test_fail_max 0.8833333849906921\n",
      "\n",
      "score_train_mean 0.25763794779777527\n",
      "score_train_std 0.005224580876529217\n",
      "score_train_min 0.24465705454349518\n",
      "score_train_max 0.2675398588180542\n"
     ]
    },
    {
     "name": "stderr",
     "output_type": "stream",
     "text": [
      "100%|██████████████████████████████████████████████████████████████████████████████████| 23/23 [00:32<00:00,  1.40s/it]\n"
     ]
    },
    {
     "name": "stdout",
     "output_type": "stream",
     "text": [
      "loss_overall 0.29530023621476215\n",
      "epoch 179\n",
      "\n",
      "score_test_good_mean 0.5087808966636658\n",
      "score_test_good_std 0.013775208964943886\n",
      "score_test_good_min 0.4891636371612549\n",
      "score_test_good_max 0.5423268675804138\n",
      "\n",
      "score_test_fail_mean 0.6024569869041443\n",
      "score_test_fail_std 0.05444326996803284\n",
      "score_test_fail_min 0.4902549684047699\n",
      "score_test_fail_max 0.7027257084846497\n",
      "\n",
      "score_train_mean 0.25518742203712463\n",
      "score_train_std 0.00828901119530201\n",
      "score_train_min 0.2459360957145691\n",
      "score_train_max 0.2861386239528656\n"
     ]
    },
    {
     "name": "stderr",
     "output_type": "stream",
     "text": [
      "100%|██████████████████████████████████████████████████████████████████████████████████| 23/23 [00:33<00:00,  1.43s/it]\n"
     ]
    },
    {
     "name": "stdout",
     "output_type": "stream",
     "text": [
      "loss_overall 0.30530894450519397\n",
      "epoch 180\n",
      "\n",
      "score_test_good_mean 0.5296022295951843\n",
      "score_test_good_std 0.01922152005136013\n",
      "score_test_good_min 0.5062705278396606\n",
      "score_test_good_max 0.5749203562736511\n",
      "\n",
      "score_test_fail_mean 0.617193341255188\n",
      "score_test_fail_std 0.04701203852891922\n",
      "score_test_fail_min 0.4699961543083191\n",
      "score_test_fail_max 0.6996031403541565\n",
      "\n",
      "score_train_mean 0.2583661377429962\n",
      "score_train_std 0.008510494604706764\n",
      "score_train_min 0.24514976143836975\n",
      "score_train_max 0.2818673849105835\n"
     ]
    },
    {
     "name": "stderr",
     "output_type": "stream",
     "text": [
      "100%|██████████████████████████████████████████████████████████████████████████████████| 23/23 [00:31<00:00,  1.39s/it]\n"
     ]
    },
    {
     "name": "stdout",
     "output_type": "stream",
     "text": [
      "loss_overall 0.3034042819686558\n",
      "epoch 181\n",
      "\n",
      "score_test_good_mean 0.5848399996757507\n",
      "score_test_good_std 0.016401754692196846\n",
      "score_test_good_min 0.5482900738716125\n",
      "score_test_good_max 0.6075778007507324\n",
      "\n",
      "score_test_fail_mean 0.6779703497886658\n",
      "score_test_fail_std 0.05734805762767792\n",
      "score_test_fail_min 0.5887184143066406\n",
      "score_test_fail_max 0.825118362903595\n",
      "\n",
      "score_train_mean 0.25731194019317627\n",
      "score_train_std 0.007409491576254368\n",
      "score_train_min 0.24246874451637268\n",
      "score_train_max 0.27497968077659607\n"
     ]
    },
    {
     "name": "stderr",
     "output_type": "stream",
     "text": [
      "100%|██████████████████████████████████████████████████████████████████████████████████| 23/23 [00:33<00:00,  1.43s/it]\n"
     ]
    },
    {
     "name": "stdout",
     "output_type": "stream",
     "text": [
      "loss_overall 0.2973085460455521\n",
      "epoch 182\n",
      "\n",
      "score_test_good_mean 0.5319944024085999\n",
      "score_test_good_std 0.01942341774702072\n",
      "score_test_good_min 0.5041677951812744\n",
      "score_test_good_max 0.5576814413070679\n",
      "\n",
      "score_test_fail_mean 0.6484920382499695\n",
      "score_test_fail_std 0.11816170066595078\n",
      "score_test_fail_min 0.5408819317817688\n",
      "score_test_fail_max 1.1468406915664673\n",
      "\n",
      "score_train_mean 0.2580910623073578\n",
      "score_train_std 0.006087447050958872\n",
      "score_train_min 0.24584682285785675\n",
      "score_train_max 0.26895827054977417\n"
     ]
    },
    {
     "name": "stderr",
     "output_type": "stream",
     "text": [
      "100%|██████████████████████████████████████████████████████████████████████████████████| 23/23 [00:32<00:00,  1.41s/it]\n"
     ]
    },
    {
     "name": "stdout",
     "output_type": "stream",
     "text": [
      "loss_overall 0.29661448105521826\n",
      "epoch 183\n",
      "\n",
      "score_test_good_mean 0.5196205973625183\n",
      "score_test_good_std 0.01701502501964569\n",
      "score_test_good_min 0.4868532717227936\n",
      "score_test_good_max 0.5505968332290649\n",
      "\n",
      "score_test_fail_mean 0.6106969714164734\n",
      "score_test_fail_std 0.05624153092503548\n",
      "score_test_fail_min 0.5117106437683105\n",
      "score_test_fail_max 0.7273803949356079\n",
      "\n",
      "score_train_mean 0.25495702028274536\n",
      "score_train_std 0.0056380340829491615\n",
      "score_train_min 0.24363777041435242\n",
      "score_train_max 0.2642253041267395\n"
     ]
    },
    {
     "name": "stderr",
     "output_type": "stream",
     "text": [
      "100%|██████████████████████████████████████████████████████████████████████████████████| 23/23 [00:32<00:00,  1.42s/it]\n"
     ]
    },
    {
     "name": "stdout",
     "output_type": "stream",
     "text": [
      "loss_overall 0.29018716319747595\n",
      "epoch 184\n",
      "\n",
      "score_test_good_mean 0.5072313547134399\n",
      "score_test_good_std 0.02625179849565029\n",
      "score_test_good_min 0.47880297899246216\n",
      "score_test_good_max 0.5641176700592041\n",
      "\n",
      "score_test_fail_mean 0.5975478291511536\n",
      "score_test_fail_std 0.04866712912917137\n",
      "score_test_fail_min 0.499255895614624\n",
      "score_test_fail_max 0.6885235905647278\n",
      "\n",
      "score_train_mean 0.2539156377315521\n",
      "score_train_std 0.006746798288077116\n",
      "score_train_min 0.24371321499347687\n",
      "score_train_max 0.2651563882827759\n"
     ]
    },
    {
     "name": "stderr",
     "output_type": "stream",
     "text": [
      "100%|██████████████████████████████████████████████████████████████████████████████████| 23/23 [00:34<00:00,  1.51s/it]\n"
     ]
    },
    {
     "name": "stdout",
     "output_type": "stream",
     "text": [
      "loss_overall 0.29496847546618915\n",
      "epoch 185\n",
      "\n",
      "score_test_good_mean 0.5448635816574097\n",
      "score_test_good_std 0.017546873539686203\n",
      "score_test_good_min 0.5164052248001099\n",
      "score_test_good_max 0.5816007852554321\n",
      "\n",
      "score_test_fail_mean 0.6390606164932251\n",
      "score_test_fail_std 0.040511831641197205\n",
      "score_test_fail_min 0.5644721984863281\n",
      "score_test_fail_max 0.7013684511184692\n",
      "\n",
      "score_train_mean 0.2534859776496887\n",
      "score_train_std 0.007763267960399389\n",
      "score_train_min 0.24062283337116241\n",
      "score_train_max 0.2694748640060425\n"
     ]
    },
    {
     "name": "stderr",
     "output_type": "stream",
     "text": [
      "100%|██████████████████████████████████████████████████████████████████████████████████| 23/23 [00:32<00:00,  1.40s/it]\n"
     ]
    },
    {
     "name": "stdout",
     "output_type": "stream",
     "text": [
      "loss_overall 0.3112360005793364\n",
      "epoch 186\n",
      "\n",
      "score_test_good_mean 0.5510359406471252\n",
      "score_test_good_std 0.01984013244509697\n",
      "score_test_good_min 0.4993603825569153\n",
      "score_test_good_max 0.5719344615936279\n",
      "\n",
      "score_test_fail_mean 0.6447717547416687\n",
      "score_test_fail_std 0.055916205048561096\n",
      "score_test_fail_min 0.5696412920951843\n",
      "score_test_fail_max 0.7517256140708923\n",
      "\n",
      "score_train_mean 0.2551119327545166\n",
      "score_train_std 0.005106485914438963\n",
      "score_train_min 0.2479076087474823\n",
      "score_train_max 0.26735007762908936\n"
     ]
    },
    {
     "name": "stderr",
     "output_type": "stream",
     "text": [
      "100%|██████████████████████████████████████████████████████████████████████████████████| 23/23 [00:33<00:00,  1.46s/it]\n"
     ]
    },
    {
     "name": "stdout",
     "output_type": "stream",
     "text": [
      "loss_overall 0.2971039751301641\n",
      "epoch 187\n",
      "\n",
      "score_test_good_mean 0.5327396988868713\n",
      "score_test_good_std 0.022607820108532906\n",
      "score_test_good_min 0.49681952595710754\n",
      "score_test_good_max 0.5730747580528259\n",
      "\n",
      "score_test_fail_mean 0.6269168257713318\n",
      "score_test_fail_std 0.05061991512775421\n",
      "score_test_fail_min 0.5414963960647583\n",
      "score_test_fail_max 0.7598464488983154\n",
      "\n",
      "score_train_mean 0.25628358125686646\n",
      "score_train_std 0.005435745697468519\n",
      "score_train_min 0.2471412867307663\n",
      "score_train_max 0.2668638825416565\n"
     ]
    },
    {
     "name": "stderr",
     "output_type": "stream",
     "text": [
      "100%|██████████████████████████████████████████████████████████████████████████████████| 23/23 [00:34<00:00,  1.48s/it]\n"
     ]
    },
    {
     "name": "stdout",
     "output_type": "stream",
     "text": [
      "loss_overall 0.2914286929628123\n",
      "epoch 188\n",
      "\n",
      "score_test_good_mean 0.520709216594696\n",
      "score_test_good_std 0.0121462382376194\n",
      "score_test_good_min 0.5024374127388\n",
      "score_test_good_max 0.5366936326026917\n",
      "\n",
      "score_test_fail_mean 0.6149168610572815\n",
      "score_test_fail_std 0.050975777208805084\n",
      "score_test_fail_min 0.522344708442688\n",
      "score_test_fail_max 0.7507967352867126\n",
      "\n",
      "score_train_mean 0.25337037444114685\n",
      "score_train_std 0.005746251437813044\n",
      "score_train_min 0.23867836594581604\n",
      "score_train_max 0.2626962661743164\n"
     ]
    },
    {
     "name": "stderr",
     "output_type": "stream",
     "text": [
      "100%|██████████████████████████████████████████████████████████████████████████████████| 23/23 [00:31<00:00,  1.38s/it]\n"
     ]
    },
    {
     "name": "stdout",
     "output_type": "stream",
     "text": [
      "loss_overall 0.29713729671809985\n",
      "epoch 189\n",
      "\n",
      "score_test_good_mean 0.5638335943222046\n",
      "score_test_good_std 0.017249563708901405\n",
      "score_test_good_min 0.5298104882240295\n",
      "score_test_good_max 0.5880858898162842\n",
      "\n",
      "score_test_fail_mean 0.6639219522476196\n",
      "score_test_fail_std 0.037641748785972595\n",
      "score_test_fail_min 0.6165708899497986\n",
      "score_test_fail_max 0.7721937894821167\n",
      "\n",
      "score_train_mean 0.25321805477142334\n",
      "score_train_std 0.006165354046970606\n",
      "score_train_min 0.24175742268562317\n",
      "score_train_max 0.26439881324768066\n"
     ]
    },
    {
     "name": "stderr",
     "output_type": "stream",
     "text": [
      "100%|██████████████████████████████████████████████████████████████████████████████████| 23/23 [00:33<00:00,  1.45s/it]\n"
     ]
    },
    {
     "name": "stdout",
     "output_type": "stream",
     "text": [
      "loss_overall 0.2960303218468376\n",
      "epoch 190\n",
      "\n",
      "score_test_good_mean 0.5225883722305298\n",
      "score_test_good_std 0.022576382383704185\n",
      "score_test_good_min 0.481538325548172\n",
      "score_test_good_max 0.5618787407875061\n",
      "\n",
      "score_test_fail_mean 0.6283966898918152\n",
      "score_test_fail_std 0.08656234294176102\n",
      "score_test_fail_min 0.5273521542549133\n",
      "score_test_fail_max 0.8930271863937378\n",
      "\n",
      "score_train_mean 0.2541404664516449\n",
      "score_train_std 0.006423491053283215\n",
      "score_train_min 0.24480776488780975\n",
      "score_train_max 0.2716881334781647\n"
     ]
    },
    {
     "name": "stderr",
     "output_type": "stream",
     "text": [
      "100%|██████████████████████████████████████████████████████████████████████████████████| 23/23 [00:33<00:00,  1.44s/it]\n"
     ]
    },
    {
     "name": "stdout",
     "output_type": "stream",
     "text": [
      "loss_overall 0.29782276438630145\n",
      "epoch 191\n",
      "\n",
      "score_test_good_mean 0.6057466864585876\n",
      "score_test_good_std 0.02251124195754528\n",
      "score_test_good_min 0.5623806118965149\n",
      "score_test_good_max 0.6488193869590759\n",
      "\n",
      "score_test_fail_mean 0.7060644626617432\n",
      "score_test_fail_std 0.051221609115600586\n",
      "score_test_fail_min 0.6097308993339539\n",
      "score_test_fail_max 0.7994694113731384\n",
      "\n",
      "score_train_mean 0.25594890117645264\n",
      "score_train_std 0.006474617403000593\n",
      "score_train_min 0.24497327208518982\n",
      "score_train_max 0.26585766673088074\n"
     ]
    },
    {
     "name": "stderr",
     "output_type": "stream",
     "text": [
      "100%|██████████████████████████████████████████████████████████████████████████████████| 23/23 [00:33<00:00,  1.44s/it]\n"
     ]
    },
    {
     "name": "stdout",
     "output_type": "stream",
     "text": [
      "loss_overall 0.2949624281862508\n",
      "epoch 192\n",
      "\n",
      "score_test_good_mean 0.5198826789855957\n",
      "score_test_good_std 0.015463875606656075\n",
      "score_test_good_min 0.4867616295814514\n",
      "score_test_good_max 0.5466141700744629\n",
      "\n",
      "score_test_fail_mean 0.613099992275238\n",
      "score_test_fail_std 0.04544367641210556\n",
      "score_test_fail_min 0.5376748442649841\n",
      "score_test_fail_max 0.7280943393707275\n",
      "\n",
      "score_train_mean 0.25562751293182373\n",
      "score_train_std 0.0075846025720238686\n",
      "score_train_min 0.2427491545677185\n",
      "score_train_max 0.2721634805202484\n"
     ]
    },
    {
     "name": "stderr",
     "output_type": "stream",
     "text": [
      "100%|██████████████████████████████████████████████████████████████████████████████████| 23/23 [00:32<00:00,  1.41s/it]\n"
     ]
    },
    {
     "name": "stdout",
     "output_type": "stream",
     "text": [
      "loss_overall 0.2914361007835554\n",
      "epoch 193\n",
      "\n",
      "score_test_good_mean 0.5198607444763184\n",
      "score_test_good_std 0.00984472781419754\n",
      "score_test_good_min 0.5077723860740662\n",
      "score_test_good_max 0.5425794720649719\n",
      "\n",
      "score_test_fail_mean 0.6178968548774719\n",
      "score_test_fail_std 0.060373783111572266\n",
      "score_test_fail_min 0.5244622230529785\n",
      "score_test_fail_max 0.7262905836105347\n",
      "\n",
      "score_train_mean 0.25109824538230896\n",
      "score_train_std 0.004294304642826319\n",
      "score_train_min 0.2417939454317093\n",
      "score_train_max 0.26042285561561584\n"
     ]
    },
    {
     "name": "stderr",
     "output_type": "stream",
     "text": [
      "100%|██████████████████████████████████████████████████████████████████████████████████| 23/23 [00:32<00:00,  1.42s/it]\n"
     ]
    },
    {
     "name": "stdout",
     "output_type": "stream",
     "text": [
      "loss_overall 0.2950978486434273\n",
      "epoch 194\n",
      "\n",
      "score_test_good_mean 0.5458303689956665\n",
      "score_test_good_std 0.017255377024412155\n",
      "score_test_good_min 0.5172696113586426\n",
      "score_test_good_max 0.5812748074531555\n",
      "\n",
      "score_test_fail_mean 0.6377990245819092\n",
      "score_test_fail_std 0.054059114307165146\n",
      "score_test_fail_min 0.5460822582244873\n",
      "score_test_fail_max 0.7565901279449463\n",
      "\n",
      "score_train_mean 0.2517539858818054\n",
      "score_train_std 0.007403614930808544\n",
      "score_train_min 0.23585456609725952\n",
      "score_train_max 0.2660647928714752\n"
     ]
    },
    {
     "name": "stderr",
     "output_type": "stream",
     "text": [
      "100%|██████████████████████████████████████████████████████████████████████████████████| 23/23 [00:33<00:00,  1.45s/it]\n"
     ]
    },
    {
     "name": "stdout",
     "output_type": "stream",
     "text": [
      "loss_overall 0.2936573197012362\n",
      "epoch 195\n",
      "\n",
      "score_test_good_mean 0.5460823774337769\n",
      "score_test_good_std 0.02077152021229267\n",
      "score_test_good_min 0.5175580382347107\n",
      "score_test_good_max 0.5942561626434326\n",
      "\n",
      "score_test_fail_mean 0.6438425183296204\n",
      "score_test_fail_std 0.0625048577785492\n",
      "score_test_fail_min 0.5125419497489929\n",
      "score_test_fail_max 0.7477641701698303\n",
      "\n",
      "score_train_mean 0.2523125410079956\n",
      "score_train_std 0.006635402329266071\n",
      "score_train_min 0.2407534271478653\n",
      "score_train_max 0.2624908685684204\n"
     ]
    },
    {
     "name": "stderr",
     "output_type": "stream",
     "text": [
      "100%|██████████████████████████████████████████████████████████████████████████████████| 23/23 [00:32<00:00,  1.41s/it]\n"
     ]
    },
    {
     "name": "stdout",
     "output_type": "stream",
     "text": [
      "loss_overall 0.2902360247529071\n",
      "epoch 196\n",
      "\n",
      "score_test_good_mean 0.5224329233169556\n",
      "score_test_good_std 0.018317468464374542\n",
      "score_test_good_min 0.49293074011802673\n",
      "score_test_good_max 0.5542357563972473\n",
      "\n",
      "score_test_fail_mean 0.6102607846260071\n",
      "score_test_fail_std 0.0516982264816761\n",
      "score_test_fail_min 0.5060314536094666\n",
      "score_test_fail_max 0.7296712398529053\n",
      "\n",
      "score_train_mean 0.2511655390262604\n",
      "score_train_std 0.005622937344014645\n",
      "score_train_min 0.24354231357574463\n",
      "score_train_max 0.263779878616333\n"
     ]
    },
    {
     "name": "stderr",
     "output_type": "stream",
     "text": [
      "100%|██████████████████████████████████████████████████████████████████████████████████| 23/23 [00:33<00:00,  1.46s/it]\n"
     ]
    },
    {
     "name": "stdout",
     "output_type": "stream",
     "text": [
      "loss_overall 0.3077167959316917\n",
      "epoch 197\n",
      "\n",
      "score_test_good_mean 0.5146094560623169\n",
      "score_test_good_std 0.020158668980002403\n",
      "score_test_good_min 0.47771143913269043\n",
      "score_test_good_max 0.5477164387702942\n",
      "\n",
      "score_test_fail_mean 0.6097899079322815\n",
      "score_test_fail_std 0.05995412543416023\n",
      "score_test_fail_min 0.49852120876312256\n",
      "score_test_fail_max 0.707842230796814\n",
      "\n",
      "score_train_mean 0.25645408034324646\n",
      "score_train_std 0.006514278706163168\n",
      "score_train_min 0.24751606583595276\n",
      "score_train_max 0.27391427755355835\n"
     ]
    },
    {
     "name": "stderr",
     "output_type": "stream",
     "text": [
      "100%|██████████████████████████████████████████████████████████████████████████████████| 23/23 [00:32<00:00,  1.42s/it]\n"
     ]
    },
    {
     "name": "stdout",
     "output_type": "stream",
     "text": [
      "loss_overall 0.2984651288260584\n",
      "epoch 198\n",
      "\n",
      "score_test_good_mean 0.5386101603507996\n",
      "score_test_good_std 0.017892729490995407\n",
      "score_test_good_min 0.5132799744606018\n",
      "score_test_good_max 0.5775129795074463\n",
      "\n",
      "score_test_fail_mean 0.6362918615341187\n",
      "score_test_fail_std 0.04681688919663429\n",
      "score_test_fail_min 0.5639697313308716\n",
      "score_test_fail_max 0.7554786205291748\n",
      "\n",
      "score_train_mean 0.25705644488334656\n",
      "score_train_std 0.006608623079955578\n",
      "score_train_min 0.24383369088172913\n",
      "score_train_max 0.2696036100387573\n"
     ]
    },
    {
     "name": "stderr",
     "output_type": "stream",
     "text": [
      "100%|██████████████████████████████████████████████████████████████████████████████████| 23/23 [00:33<00:00,  1.44s/it]\n"
     ]
    },
    {
     "name": "stdout",
     "output_type": "stream",
     "text": [
      "loss_overall 0.30032499199328216\n",
      "epoch 199\n",
      "\n",
      "score_test_good_mean 0.5072312355041504\n",
      "score_test_good_std 0.020673351362347603\n",
      "score_test_good_min 0.46972307562828064\n",
      "score_test_good_max 0.541303277015686\n",
      "\n",
      "score_test_fail_mean 0.6060925722122192\n",
      "score_test_fail_std 0.05399623140692711\n",
      "score_test_fail_min 0.520887553691864\n",
      "score_test_fail_max 0.7109232544898987\n",
      "\n",
      "score_train_mean 0.253989040851593\n",
      "score_train_std 0.0050933039747178555\n",
      "score_train_min 0.24745087325572968\n",
      "score_train_max 0.26879066228866577\n"
     ]
    },
    {
     "name": "stderr",
     "output_type": "stream",
     "text": [
      "100%|██████████████████████████████████████████████████████████████████████████████████| 23/23 [00:32<00:00,  1.39s/it]\n"
     ]
    },
    {
     "name": "stdout",
     "output_type": "stream",
     "text": [
      "loss_overall 0.29029164884401404\n",
      "epoch 200\n",
      "\n",
      "score_test_good_mean 0.5368411540985107\n",
      "score_test_good_std 0.023934952914714813\n",
      "score_test_good_min 0.49734458327293396\n",
      "score_test_good_max 0.5827434659004211\n",
      "\n",
      "score_test_fail_mean 0.6278170943260193\n",
      "score_test_fail_std 0.04745412617921829\n",
      "score_test_fail_min 0.5407654643058777\n",
      "score_test_fail_max 0.7209281325340271\n",
      "\n",
      "score_train_mean 0.2532486021518707\n",
      "score_train_std 0.006014839746057987\n",
      "score_train_min 0.243031308054924\n",
      "score_train_max 0.2675524652004242\n"
     ]
    },
    {
     "name": "stderr",
     "output_type": "stream",
     "text": [
      "100%|██████████████████████████████████████████████████████████████████████████████████| 23/23 [00:32<00:00,  1.41s/it]\n"
     ]
    },
    {
     "name": "stdout",
     "output_type": "stream",
     "text": [
      "loss_overall 0.28122958152190497\n",
      "epoch 201\n",
      "\n",
      "score_test_good_mean 0.49946364760398865\n",
      "score_test_good_std 0.022915419191122055\n",
      "score_test_good_min 0.47019436955451965\n",
      "score_test_good_max 0.5523087382316589\n",
      "\n",
      "score_test_fail_mean 0.5954738855361938\n",
      "score_test_fail_std 0.03828517347574234\n",
      "score_test_fail_min 0.5384663343429565\n",
      "score_test_fail_max 0.6846846342086792\n",
      "\n",
      "score_train_mean 0.24886582791805267\n",
      "score_train_std 0.006327851675450802\n",
      "score_train_min 0.24004194140434265\n",
      "score_train_max 0.2600649297237396\n"
     ]
    },
    {
     "name": "stderr",
     "output_type": "stream",
     "text": [
      "100%|██████████████████████████████████████████████████████████████████████████████████| 23/23 [00:33<00:00,  1.45s/it]\n"
     ]
    },
    {
     "name": "stdout",
     "output_type": "stream",
     "text": [
      "loss_overall 0.27954689251339954\n",
      "epoch 202\n",
      "\n",
      "score_test_good_mean 0.5318833589553833\n",
      "score_test_good_std 0.021953357383608818\n",
      "score_test_good_min 0.5013502240180969\n",
      "score_test_good_max 0.5818169713020325\n",
      "\n",
      "score_test_fail_mean 0.6387888193130493\n",
      "score_test_fail_std 0.06455179303884506\n",
      "score_test_fail_min 0.5637297630310059\n",
      "score_test_fail_max 0.8984014391899109\n",
      "\n",
      "score_train_mean 0.24995754659175873\n",
      "score_train_std 0.004650724586099386\n",
      "score_train_min 0.23916572332382202\n",
      "score_train_max 0.2587537467479706\n"
     ]
    },
    {
     "name": "stderr",
     "output_type": "stream",
     "text": [
      "100%|██████████████████████████████████████████████████████████████████████████████████| 23/23 [00:33<00:00,  1.47s/it]\n"
     ]
    },
    {
     "name": "stdout",
     "output_type": "stream",
     "text": [
      "loss_overall 0.276677219764046\n",
      "epoch 203\n",
      "\n",
      "score_test_good_mean 0.5079419612884521\n",
      "score_test_good_std 0.022266810759902\n",
      "score_test_good_min 0.47342899441719055\n",
      "score_test_good_max 0.5642856359481812\n",
      "\n",
      "score_test_fail_mean 0.603743851184845\n",
      "score_test_fail_std 0.05056706815958023\n",
      "score_test_fail_min 0.5385853052139282\n",
      "score_test_fail_max 0.6990233063697815\n",
      "\n",
      "score_train_mean 0.2487729787826538\n",
      "score_train_std 0.007025348488241434\n",
      "score_train_min 0.24103756248950958\n",
      "score_train_max 0.26104187965393066\n"
     ]
    },
    {
     "name": "stderr",
     "output_type": "stream",
     "text": [
      "100%|██████████████████████████████████████████████████████████████████████████████████| 23/23 [00:32<00:00,  1.41s/it]\n"
     ]
    },
    {
     "name": "stdout",
     "output_type": "stream",
     "text": [
      "loss_overall 0.2822791869225709\n",
      "epoch 204\n",
      "\n",
      "score_test_good_mean 0.5390670299530029\n",
      "score_test_good_std 0.010274351574480534\n",
      "score_test_good_min 0.5235618948936462\n",
      "score_test_good_max 0.5549598932266235\n",
      "\n",
      "score_test_fail_mean 0.6304988265037537\n",
      "score_test_fail_std 0.05794127285480499\n",
      "score_test_fail_min 0.5354791879653931\n",
      "score_test_fail_max 0.8260484933853149\n",
      "\n",
      "score_train_mean 0.24748893082141876\n",
      "score_train_std 0.00884922593832016\n",
      "score_train_min 0.23382216691970825\n",
      "score_train_max 0.26663073897361755\n"
     ]
    },
    {
     "name": "stderr",
     "output_type": "stream",
     "text": [
      "100%|██████████████████████████████████████████████████████████████████████████████████| 23/23 [00:33<00:00,  1.44s/it]\n"
     ]
    },
    {
     "name": "stdout",
     "output_type": "stream",
     "text": [
      "loss_overall 0.2847753607708475\n",
      "epoch 205\n",
      "\n",
      "score_test_good_mean 0.5403414368629456\n",
      "score_test_good_std 0.023340517655014992\n",
      "score_test_good_min 0.4981725215911865\n",
      "score_test_good_max 0.5874993205070496\n",
      "\n",
      "score_test_fail_mean 0.6363797187805176\n",
      "score_test_fail_std 0.04814121872186661\n",
      "score_test_fail_min 0.5575532913208008\n",
      "score_test_fail_max 0.7312600612640381\n",
      "\n",
      "score_train_mean 0.2508385181427002\n",
      "score_train_std 0.005547850392758846\n",
      "score_train_min 0.24147523939609528\n",
      "score_train_max 0.26344478130340576\n"
     ]
    },
    {
     "name": "stderr",
     "output_type": "stream",
     "text": [
      "100%|██████████████████████████████████████████████████████████████████████████████████| 23/23 [00:32<00:00,  1.43s/it]\n"
     ]
    },
    {
     "name": "stdout",
     "output_type": "stream",
     "text": [
      "loss_overall 0.29049183493075165\n",
      "epoch 206\n",
      "\n",
      "score_test_good_mean 0.5184517502784729\n",
      "score_test_good_std 0.021359622478485107\n",
      "score_test_good_min 0.4889744222164154\n",
      "score_test_good_max 0.5545652508735657\n",
      "\n",
      "score_test_fail_mean 0.6090912818908691\n",
      "score_test_fail_std 0.04697801545262337\n",
      "score_test_fail_min 0.5489914417266846\n",
      "score_test_fail_max 0.7349621057510376\n",
      "\n",
      "score_train_mean 0.2513587474822998\n",
      "score_train_std 0.008145864121615887\n",
      "score_train_min 0.23783284425735474\n",
      "score_train_max 0.2748691737651825\n"
     ]
    },
    {
     "name": "stderr",
     "output_type": "stream",
     "text": [
      "100%|██████████████████████████████████████████████████████████████████████████████████| 23/23 [00:34<00:00,  1.49s/it]\n"
     ]
    },
    {
     "name": "stdout",
     "output_type": "stream",
     "text": [
      "loss_overall 0.2880108758159306\n",
      "epoch 207\n",
      "\n",
      "score_test_good_mean 0.5404275059700012\n",
      "score_test_good_std 0.01830638200044632\n",
      "score_test_good_min 0.507457971572876\n",
      "score_test_good_max 0.5827797651290894\n",
      "\n",
      "score_test_fail_mean 0.6428401470184326\n",
      "score_test_fail_std 0.05939015373587608\n",
      "score_test_fail_min 0.5514136552810669\n",
      "score_test_fail_max 0.771041214466095\n",
      "\n",
      "score_train_mean 0.2493189126253128\n",
      "score_train_std 0.00567216333001852\n",
      "score_train_min 0.24281355738639832\n",
      "score_train_max 0.2611774206161499\n"
     ]
    },
    {
     "name": "stderr",
     "output_type": "stream",
     "text": [
      "100%|██████████████████████████████████████████████████████████████████████████████████| 23/23 [00:34<00:00,  1.49s/it]\n"
     ]
    },
    {
     "name": "stdout",
     "output_type": "stream",
     "text": [
      "loss_overall 0.2799356527950453\n",
      "epoch 208\n",
      "\n",
      "score_test_good_mean 0.5160326361656189\n",
      "score_test_good_std 0.01789642497897148\n",
      "score_test_good_min 0.4898623824119568\n",
      "score_test_good_max 0.5505002737045288\n",
      "\n",
      "score_test_fail_mean 0.6135773062705994\n",
      "score_test_fail_std 0.0714668408036232\n",
      "score_test_fail_min 0.5297391414642334\n",
      "score_test_fail_max 0.8781280517578125\n",
      "\n",
      "score_train_mean 0.24618911743164062\n",
      "score_train_std 0.004558173008263111\n",
      "score_train_min 0.23552633821964264\n",
      "score_train_max 0.2525157928466797\n"
     ]
    },
    {
     "name": "stderr",
     "output_type": "stream",
     "text": [
      "100%|██████████████████████████████████████████████████████████████████████████████████| 23/23 [00:32<00:00,  1.41s/it]\n"
     ]
    },
    {
     "name": "stdout",
     "output_type": "stream",
     "text": [
      "loss_overall 0.2869419235250224\n",
      "epoch 209\n",
      "\n",
      "score_test_good_mean 0.7196252942085266\n",
      "score_test_good_std 0.031091399490833282\n",
      "score_test_good_min 0.656203031539917\n",
      "score_test_good_max 0.7812240123748779\n",
      "\n",
      "score_test_fail_mean 0.8265421986579895\n",
      "score_test_fail_std 0.07580701261758804\n",
      "score_test_fail_min 0.7103281617164612\n",
      "score_test_fail_max 1.0918004512786865\n",
      "\n",
      "score_train_mean 0.24795202910900116\n",
      "score_train_std 0.00639738654717803\n",
      "score_train_min 0.23854157328605652\n",
      "score_train_max 0.2646493911743164\n"
     ]
    },
    {
     "name": "stderr",
     "output_type": "stream",
     "text": [
      "100%|██████████████████████████████████████████████████████████████████████████████████| 23/23 [00:32<00:00,  1.43s/it]\n"
     ]
    },
    {
     "name": "stdout",
     "output_type": "stream",
     "text": [
      "loss_overall 0.284247778032137\n",
      "epoch 210\n",
      "\n",
      "score_test_good_mean 0.5480287671089172\n",
      "score_test_good_std 0.016879647970199585\n",
      "score_test_good_min 0.5073419809341431\n",
      "score_test_good_max 0.5836141705513\n",
      "\n",
      "score_test_fail_mean 0.6473380923271179\n",
      "score_test_fail_std 0.06524228304624557\n",
      "score_test_fail_min 0.5577027797698975\n",
      "score_test_fail_max 0.7902005314826965\n",
      "\n",
      "score_train_mean 0.2506188452243805\n",
      "score_train_std 0.004711878020316362\n",
      "score_train_min 0.2366667240858078\n",
      "score_train_max 0.2587502896785736\n"
     ]
    },
    {
     "name": "stderr",
     "output_type": "stream",
     "text": [
      "100%|██████████████████████████████████████████████████████████████████████████████████| 23/23 [00:34<00:00,  1.48s/it]\n"
     ]
    },
    {
     "name": "stdout",
     "output_type": "stream",
     "text": [
      "loss_overall 0.27838361716788745\n",
      "epoch 211\n",
      "\n",
      "score_test_good_mean 0.529072642326355\n",
      "score_test_good_std 0.017832282930612564\n",
      "score_test_good_min 0.5017403960227966\n",
      "score_test_good_max 0.5572668313980103\n",
      "\n",
      "score_test_fail_mean 0.6213568449020386\n",
      "score_test_fail_std 0.04364491626620293\n",
      "score_test_fail_min 0.53878253698349\n",
      "score_test_fail_max 0.705493688583374\n",
      "\n",
      "score_train_mean 0.2490733116865158\n",
      "score_train_std 0.004731794353574514\n",
      "score_train_min 0.2398734986782074\n",
      "score_train_max 0.2580290734767914\n"
     ]
    },
    {
     "name": "stderr",
     "output_type": "stream",
     "text": [
      "100%|██████████████████████████████████████████████████████████████████████████████████| 23/23 [00:32<00:00,  1.41s/it]\n"
     ]
    },
    {
     "name": "stdout",
     "output_type": "stream",
     "text": [
      "loss_overall 0.27622317036856775\n",
      "epoch 212\n",
      "\n",
      "score_test_good_mean 0.5125859975814819\n",
      "score_test_good_std 0.019554968923330307\n",
      "score_test_good_min 0.4720793664455414\n",
      "score_test_good_max 0.5399895906448364\n",
      "\n",
      "score_test_fail_mean 0.6136205792427063\n",
      "score_test_fail_std 0.07036161422729492\n",
      "score_test_fail_min 0.5109198689460754\n",
      "score_test_fail_max 0.8090394735336304\n",
      "\n",
      "score_train_mean 0.24789507687091827\n",
      "score_train_std 0.006048309616744518\n",
      "score_train_min 0.2369845062494278\n",
      "score_train_max 0.26355767250061035\n"
     ]
    },
    {
     "name": "stderr",
     "output_type": "stream",
     "text": [
      "100%|██████████████████████████████████████████████████████████████████████████████████| 23/23 [00:33<00:00,  1.46s/it]\n"
     ]
    },
    {
     "name": "stdout",
     "output_type": "stream",
     "text": [
      "loss_overall 0.2829603488030641\n",
      "epoch 213\n",
      "\n",
      "score_test_good_mean 0.5566605925559998\n",
      "score_test_good_std 0.03383101895451546\n",
      "score_test_good_min 0.5121967792510986\n",
      "score_test_good_max 0.6218477487564087\n",
      "\n",
      "score_test_fail_mean 0.6389482021331787\n",
      "score_test_fail_std 0.05433427542448044\n",
      "score_test_fail_min 0.49598726630210876\n",
      "score_test_fail_max 0.7399790287017822\n",
      "\n",
      "score_train_mean 0.2471735179424286\n",
      "score_train_std 0.0051787421107292175\n",
      "score_train_min 0.23540320992469788\n",
      "score_train_max 0.2578665018081665\n"
     ]
    },
    {
     "name": "stderr",
     "output_type": "stream",
     "text": [
      "100%|██████████████████████████████████████████████████████████████████████████████████| 23/23 [00:32<00:00,  1.40s/it]\n"
     ]
    },
    {
     "name": "stdout",
     "output_type": "stream",
     "text": [
      "loss_overall 0.28320261317750683\n",
      "epoch 214\n",
      "\n",
      "score_test_good_mean 0.5362182259559631\n",
      "score_test_good_std 0.015858285129070282\n",
      "score_test_good_min 0.512088418006897\n",
      "score_test_good_max 0.570105254650116\n",
      "\n",
      "score_test_fail_mean 0.6355336904525757\n",
      "score_test_fail_std 0.051121920347213745\n",
      "score_test_fail_min 0.5360726714134216\n",
      "score_test_fail_max 0.724905788898468\n",
      "\n",
      "score_train_mean 0.24795182049274445\n",
      "score_train_std 0.0069318669848144054\n",
      "score_train_min 0.23818330466747284\n",
      "score_train_max 0.2613755464553833\n"
     ]
    },
    {
     "name": "stderr",
     "output_type": "stream",
     "text": [
      "100%|██████████████████████████████████████████████████████████████████████████████████| 23/23 [00:32<00:00,  1.40s/it]\n"
     ]
    },
    {
     "name": "stdout",
     "output_type": "stream",
     "text": [
      "loss_overall 0.2864862822968027\n",
      "epoch 215\n",
      "\n",
      "score_test_good_mean 0.5579100251197815\n",
      "score_test_good_std 0.021770130842924118\n",
      "score_test_good_min 0.509888231754303\n",
      "score_test_good_max 0.5877513885498047\n",
      "\n",
      "score_test_fail_mean 0.64769446849823\n",
      "score_test_fail_std 0.053080230951309204\n",
      "score_test_fail_min 0.5742915272712708\n",
      "score_test_fail_max 0.795684278011322\n",
      "\n",
      "score_train_mean 0.2483081966638565\n",
      "score_train_std 0.009042664431035519\n",
      "score_train_min 0.23737768828868866\n",
      "score_train_max 0.2717711627483368\n"
     ]
    },
    {
     "name": "stderr",
     "output_type": "stream",
     "text": [
      "100%|██████████████████████████████████████████████████████████████████████████████████| 23/23 [00:33<00:00,  1.44s/it]\n"
     ]
    },
    {
     "name": "stdout",
     "output_type": "stream",
     "text": [
      "loss_overall 0.27926680186520453\n",
      "epoch 216\n",
      "\n",
      "score_test_good_mean 0.5391267538070679\n",
      "score_test_good_std 0.01976107992231846\n",
      "score_test_good_min 0.5001952648162842\n",
      "score_test_good_max 0.5631382465362549\n",
      "\n",
      "score_test_fail_mean 0.6373268961906433\n",
      "score_test_fail_std 0.05581356957554817\n",
      "score_test_fail_min 0.5784770846366882\n",
      "score_test_fail_max 0.7596948146820068\n",
      "\n",
      "score_train_mean 0.24709196388721466\n",
      "score_train_std 0.005566891748458147\n",
      "score_train_min 0.2395356446504593\n",
      "score_train_max 0.2615461051464081\n"
     ]
    },
    {
     "name": "stderr",
     "output_type": "stream",
     "text": [
      "100%|██████████████████████████████████████████████████████████████████████████████████| 23/23 [00:33<00:00,  1.45s/it]\n"
     ]
    },
    {
     "name": "stdout",
     "output_type": "stream",
     "text": [
      "loss_overall 0.2712568012268647\n",
      "epoch 217\n",
      "\n",
      "score_test_good_mean 0.5333133339881897\n",
      "score_test_good_std 0.02207980863749981\n",
      "score_test_good_min 0.4994814991950989\n",
      "score_test_good_max 0.5707316398620605\n",
      "\n",
      "score_test_fail_mean 0.6313148140907288\n",
      "score_test_fail_std 0.03879602625966072\n",
      "score_test_fail_min 0.5732123851776123\n",
      "score_test_fail_max 0.7256994843482971\n",
      "\n",
      "score_train_mean 0.24413490295410156\n",
      "score_train_std 0.004574556369334459\n",
      "score_train_min 0.23758333921432495\n",
      "score_train_max 0.25503432750701904\n"
     ]
    },
    {
     "name": "stderr",
     "output_type": "stream",
     "text": [
      "100%|██████████████████████████████████████████████████████████████████████████████████| 23/23 [00:32<00:00,  1.42s/it]\n"
     ]
    },
    {
     "name": "stdout",
     "output_type": "stream",
     "text": [
      "loss_overall 0.2781376307425292\n",
      "epoch 218\n",
      "\n",
      "score_test_good_mean 0.5292842984199524\n",
      "score_test_good_std 0.01890372671186924\n",
      "score_test_good_min 0.49833646416664124\n",
      "score_test_good_max 0.5654257535934448\n",
      "\n",
      "score_test_fail_mean 0.6322054862976074\n",
      "score_test_fail_std 0.06714428961277008\n",
      "score_test_fail_min 0.5446481704711914\n",
      "score_test_fail_max 0.8354312777519226\n",
      "\n",
      "score_train_mean 0.24643240869045258\n",
      "score_train_std 0.008355405181646347\n",
      "score_train_min 0.23361054062843323\n",
      "score_train_max 0.2646731734275818\n"
     ]
    },
    {
     "name": "stderr",
     "output_type": "stream",
     "text": [
      "100%|██████████████████████████████████████████████████████████████████████████████████| 23/23 [00:32<00:00,  1.41s/it]\n"
     ]
    },
    {
     "name": "stdout",
     "output_type": "stream",
     "text": [
      "loss_overall 0.2821902891863947\n",
      "epoch 219\n",
      "\n",
      "score_test_good_mean 0.5339060425758362\n",
      "score_test_good_std 0.021120117977261543\n",
      "score_test_good_min 0.4741227626800537\n",
      "score_test_good_max 0.5656032562255859\n",
      "\n",
      "score_test_fail_mean 0.6299296617507935\n",
      "score_test_fail_std 0.05320671200752258\n",
      "score_test_fail_min 0.5349559187889099\n",
      "score_test_fail_max 0.7193781137466431\n",
      "\n",
      "score_train_mean 0.24614566564559937\n",
      "score_train_std 0.006608930882066488\n",
      "score_train_min 0.2367401421070099\n",
      "score_train_max 0.2578795552253723\n"
     ]
    },
    {
     "name": "stderr",
     "output_type": "stream",
     "text": [
      "100%|██████████████████████████████████████████████████████████████████████████████████| 23/23 [00:32<00:00,  1.41s/it]\n"
     ]
    },
    {
     "name": "stdout",
     "output_type": "stream",
     "text": [
      "loss_overall 0.27182210528332257\n",
      "epoch 220\n",
      "\n",
      "score_test_good_mean 0.5455557107925415\n",
      "score_test_good_std 0.024976985529065132\n",
      "score_test_good_min 0.5120683908462524\n",
      "score_test_good_max 0.5855428576469421\n",
      "\n",
      "score_test_fail_mean 0.6385181546211243\n",
      "score_test_fail_std 0.047648534178733826\n",
      "score_test_fail_min 0.5639461278915405\n",
      "score_test_fail_max 0.7236378192901611\n",
      "\n",
      "score_train_mean 0.24609781801700592\n",
      "score_train_std 0.006949970033019781\n",
      "score_train_min 0.23613382875919342\n",
      "score_train_max 0.26360324025154114\n"
     ]
    },
    {
     "name": "stderr",
     "output_type": "stream",
     "text": [
      "100%|██████████████████████████████████████████████████████████████████████████████████| 23/23 [00:33<00:00,  1.45s/it]\n"
     ]
    },
    {
     "name": "stdout",
     "output_type": "stream",
     "text": [
      "loss_overall 0.265366040494131\n",
      "epoch 221\n",
      "\n",
      "score_test_good_mean 0.5221153497695923\n",
      "score_test_good_std 0.019009845331311226\n",
      "score_test_good_min 0.49741291999816895\n",
      "score_test_good_max 0.5638191103935242\n",
      "\n",
      "score_test_fail_mean 0.6221590042114258\n",
      "score_test_fail_std 0.0651012435555458\n",
      "score_test_fail_min 0.5350492596626282\n",
      "score_test_fail_max 0.7664058208465576\n",
      "\n",
      "score_train_mean 0.24364326894283295\n",
      "score_train_std 0.006923361215740442\n",
      "score_train_min 0.2305770069360733\n",
      "score_train_max 0.25962528586387634\n"
     ]
    },
    {
     "name": "stderr",
     "output_type": "stream",
     "text": [
      "100%|██████████████████████████████████████████████████████████████████████████████████| 23/23 [00:32<00:00,  1.42s/it]\n"
     ]
    },
    {
     "name": "stdout",
     "output_type": "stream",
     "text": [
      "loss_overall 0.2806222542472508\n",
      "epoch 222\n",
      "\n",
      "score_test_good_mean 0.5512363910675049\n",
      "score_test_good_std 0.01713237538933754\n",
      "score_test_good_min 0.5126852989196777\n",
      "score_test_good_max 0.5751380920410156\n",
      "\n",
      "score_test_fail_mean 0.6419167518615723\n",
      "score_test_fail_std 0.0431034155189991\n",
      "score_test_fail_min 0.5440099239349365\n",
      "score_test_fail_max 0.7665191888809204\n",
      "\n",
      "score_train_mean 0.2449169158935547\n",
      "score_train_std 0.007206433452665806\n",
      "score_train_min 0.22973796725273132\n",
      "score_train_max 0.2573779821395874\n"
     ]
    },
    {
     "name": "stderr",
     "output_type": "stream",
     "text": [
      "100%|██████████████████████████████████████████████████████████████████████████████████| 23/23 [00:33<00:00,  1.46s/it]\n"
     ]
    },
    {
     "name": "stdout",
     "output_type": "stream",
     "text": [
      "loss_overall 0.2770698167707609\n",
      "epoch 223\n",
      "\n",
      "score_test_good_mean 0.5270243287086487\n",
      "score_test_good_std 0.02643544040620327\n",
      "score_test_good_min 0.47779467701911926\n",
      "score_test_good_max 0.5857452154159546\n",
      "\n",
      "score_test_fail_mean 0.6300151944160461\n",
      "score_test_fail_std 0.0674990639090538\n",
      "score_test_fail_min 0.5362160205841064\n",
      "score_test_fail_max 0.8333351016044617\n",
      "\n",
      "score_train_mean 0.24725665152072906\n",
      "score_train_std 0.006018242798745632\n",
      "score_train_min 0.2381075918674469\n",
      "score_train_max 0.26070988178253174\n"
     ]
    },
    {
     "name": "stderr",
     "output_type": "stream",
     "text": [
      "100%|██████████████████████████████████████████████████████████████████████████████████| 23/23 [00:33<00:00,  1.45s/it]\n"
     ]
    },
    {
     "name": "stdout",
     "output_type": "stream",
     "text": [
      "loss_overall 0.2741394561270009\n",
      "epoch 224\n",
      "\n",
      "score_test_good_mean 0.5343808531761169\n",
      "score_test_good_std 0.020580384880304337\n",
      "score_test_good_min 0.5061999559402466\n",
      "score_test_good_max 0.5799054503440857\n",
      "\n",
      "score_test_fail_mean 0.627922534942627\n",
      "score_test_fail_std 0.055999625474214554\n",
      "score_test_fail_min 0.5638114213943481\n",
      "score_test_fail_max 0.7702359557151794\n",
      "\n",
      "score_train_mean 0.24487300217151642\n",
      "score_train_std 0.006401136517524719\n",
      "score_train_min 0.23204903304576874\n",
      "score_train_max 0.25536537170410156\n"
     ]
    },
    {
     "name": "stderr",
     "output_type": "stream",
     "text": [
      "100%|██████████████████████████████████████████████████████████████████████████████████| 23/23 [00:33<00:00,  1.46s/it]\n"
     ]
    },
    {
     "name": "stdout",
     "output_type": "stream",
     "text": [
      "loss_overall 0.2742973676194315\n",
      "epoch 225\n",
      "\n",
      "score_test_good_mean 0.5442246198654175\n",
      "score_test_good_std 0.020307334139943123\n",
      "score_test_good_min 0.4989778399467468\n",
      "score_test_good_max 0.5789931416511536\n",
      "\n",
      "score_test_fail_mean 0.6370336413383484\n",
      "score_test_fail_std 0.052608173340559006\n",
      "score_test_fail_min 0.5550075769424438\n",
      "score_test_fail_max 0.7575197815895081\n",
      "\n",
      "score_train_mean 0.24504803121089935\n",
      "score_train_std 0.004722412675619125\n",
      "score_train_min 0.23757342994213104\n",
      "score_train_max 0.25477299094200134\n"
     ]
    },
    {
     "name": "stderr",
     "output_type": "stream",
     "text": [
      "100%|██████████████████████████████████████████████████████████████████████████████████| 23/23 [00:34<00:00,  1.48s/it]\n"
     ]
    },
    {
     "name": "stdout",
     "output_type": "stream",
     "text": [
      "loss_overall 0.2832010900196822\n",
      "epoch 226\n",
      "\n",
      "score_test_good_mean 0.5042622685432434\n",
      "score_test_good_std 0.024207869544625282\n",
      "score_test_good_min 0.4582672417163849\n",
      "score_test_good_max 0.5400388240814209\n",
      "\n",
      "score_test_fail_mean 0.6011819243431091\n",
      "score_test_fail_std 0.05676870420575142\n",
      "score_test_fail_min 0.5158392786979675\n",
      "score_test_fail_max 0.7127049565315247\n",
      "\n",
      "score_train_mean 0.24912352859973907\n",
      "score_train_std 0.006143253296613693\n",
      "score_train_min 0.24134883284568787\n",
      "score_train_max 0.2635493874549866\n"
     ]
    },
    {
     "name": "stderr",
     "output_type": "stream",
     "text": [
      "100%|██████████████████████████████████████████████████████████████████████████████████| 23/23 [00:32<00:00,  1.42s/it]\n"
     ]
    },
    {
     "name": "stdout",
     "output_type": "stream",
     "text": [
      "loss_overall 0.2730565498704496\n",
      "epoch 227\n",
      "\n",
      "score_test_good_mean 0.5307608842849731\n",
      "score_test_good_std 0.016039960086345673\n",
      "score_test_good_min 0.5122441649436951\n",
      "score_test_good_max 0.5733498334884644\n",
      "\n",
      "score_test_fail_mean 0.6185356974601746\n",
      "score_test_fail_std 0.059348586946725845\n",
      "score_test_fail_min 0.5382787585258484\n",
      "score_test_fail_max 0.7523964643478394\n",
      "\n",
      "score_train_mean 0.24323171377182007\n",
      "score_train_std 0.005014045629650354\n",
      "score_train_min 0.2341976761817932\n",
      "score_train_max 0.25312539935112\n"
     ]
    },
    {
     "name": "stderr",
     "output_type": "stream",
     "text": [
      "100%|██████████████████████████████████████████████████████████████████████████████████| 23/23 [00:33<00:00,  1.44s/it]\n"
     ]
    },
    {
     "name": "stdout",
     "output_type": "stream",
     "text": [
      "loss_overall 0.27538234643314197\n",
      "epoch 228\n",
      "\n",
      "score_test_good_mean 0.5289298892021179\n",
      "score_test_good_std 0.02127624675631523\n",
      "score_test_good_min 0.5103314518928528\n",
      "score_test_good_max 0.5709214806556702\n",
      "\n",
      "score_test_fail_mean 0.626498281955719\n",
      "score_test_fail_std 0.05245580896735191\n",
      "score_test_fail_min 0.5502355694770813\n",
      "score_test_fail_max 0.7175795435905457\n",
      "\n",
      "score_train_mean 0.2438567876815796\n",
      "score_train_std 0.006464878562837839\n",
      "score_train_min 0.23265807330608368\n",
      "score_train_max 0.2609684467315674\n"
     ]
    },
    {
     "name": "stderr",
     "output_type": "stream",
     "text": [
      "100%|██████████████████████████████████████████████████████████████████████████████████| 23/23 [00:32<00:00,  1.41s/it]\n"
     ]
    },
    {
     "name": "stdout",
     "output_type": "stream",
     "text": [
      "loss_overall 0.27270654491756274\n",
      "epoch 229\n",
      "\n",
      "score_test_good_mean 0.5267237424850464\n",
      "score_test_good_std 0.022174425423145294\n",
      "score_test_good_min 0.4905003607273102\n",
      "score_test_good_max 0.562130331993103\n",
      "\n",
      "score_test_fail_mean 0.6227300763130188\n",
      "score_test_fail_std 0.05071234703063965\n",
      "score_test_fail_min 0.5412985682487488\n",
      "score_test_fail_max 0.7308200597763062\n",
      "\n",
      "score_train_mean 0.24286510050296783\n",
      "score_train_std 0.006089747883379459\n",
      "score_train_min 0.23567993938922882\n",
      "score_train_max 0.2569516897201538\n"
     ]
    },
    {
     "name": "stderr",
     "output_type": "stream",
     "text": [
      "100%|██████████████████████████████████████████████████████████████████████████████████| 23/23 [00:33<00:00,  1.45s/it]\n"
     ]
    },
    {
     "name": "stdout",
     "output_type": "stream",
     "text": [
      "loss_overall 0.2725740094547686\n",
      "epoch 230\n",
      "\n",
      "score_test_good_mean 0.5162575244903564\n",
      "score_test_good_std 0.025434983894228935\n",
      "score_test_good_min 0.4614029824733734\n",
      "score_test_good_max 0.549943745136261\n",
      "\n",
      "score_test_fail_mean 0.6065587401390076\n",
      "score_test_fail_std 0.05222931504249573\n",
      "score_test_fail_min 0.5023623704910278\n",
      "score_test_fail_max 0.7135468125343323\n",
      "\n",
      "score_train_mean 0.24181011319160461\n",
      "score_train_std 0.004675411153584719\n",
      "score_train_min 0.23348376154899597\n",
      "score_train_max 0.25417670607566833\n"
     ]
    },
    {
     "name": "stderr",
     "output_type": "stream",
     "text": [
      "100%|██████████████████████████████████████████████████████████████████████████████████| 23/23 [00:33<00:00,  1.44s/it]\n"
     ]
    },
    {
     "name": "stdout",
     "output_type": "stream",
     "text": [
      "loss_overall 0.271232510390489\n",
      "epoch 231\n",
      "\n",
      "score_test_good_mean 0.5474563837051392\n",
      "score_test_good_std 0.015934254974126816\n",
      "score_test_good_min 0.52754807472229\n",
      "score_test_good_max 0.5754047632217407\n",
      "\n",
      "score_test_fail_mean 0.6473957300186157\n",
      "score_test_fail_std 0.05475474148988724\n",
      "score_test_fail_min 0.56867516040802\n",
      "score_test_fail_max 0.820149302482605\n",
      "\n",
      "score_train_mean 0.24292409420013428\n",
      "score_train_std 0.008311733603477478\n",
      "score_train_min 0.22803761065006256\n",
      "score_train_max 0.25943195819854736\n"
     ]
    },
    {
     "name": "stderr",
     "output_type": "stream",
     "text": [
      "100%|██████████████████████████████████████████████████████████████████████████████████| 23/23 [00:33<00:00,  1.44s/it]\n"
     ]
    },
    {
     "name": "stdout",
     "output_type": "stream",
     "text": [
      "loss_overall 0.27586472552755603\n",
      "epoch 232\n",
      "\n",
      "score_test_good_mean 0.5408446788787842\n",
      "score_test_good_std 0.013807687908411026\n",
      "score_test_good_min 0.5190073251724243\n",
      "score_test_good_max 0.5607836246490479\n",
      "\n",
      "score_test_fail_mean 0.6343334913253784\n",
      "score_test_fail_std 0.059729669243097305\n",
      "score_test_fail_min 0.5159319639205933\n",
      "score_test_fail_max 0.7374560832977295\n",
      "\n",
      "score_train_mean 0.2447839379310608\n",
      "score_train_std 0.00608461070805788\n",
      "score_train_min 0.22827330231666565\n",
      "score_train_max 0.25816065073013306\n"
     ]
    },
    {
     "name": "stderr",
     "output_type": "stream",
     "text": [
      "100%|██████████████████████████████████████████████████████████████████████████████████| 23/23 [00:32<00:00,  1.43s/it]\n"
     ]
    },
    {
     "name": "stdout",
     "output_type": "stream",
     "text": [
      "loss_overall 0.26421542789625085\n",
      "epoch 233\n",
      "\n",
      "score_test_good_mean 0.5276424288749695\n",
      "score_test_good_std 0.023925291374325752\n",
      "score_test_good_min 0.4941670894622803\n",
      "score_test_good_max 0.5724182724952698\n",
      "\n",
      "score_test_fail_mean 0.6206281781196594\n",
      "score_test_fail_std 0.05037463828921318\n",
      "score_test_fail_min 0.5546375513076782\n",
      "score_test_fail_max 0.736267626285553\n",
      "\n",
      "score_train_mean 0.24298420548439026\n",
      "score_train_std 0.005032706540077925\n",
      "score_train_min 0.23301517963409424\n",
      "score_train_max 0.252729594707489\n"
     ]
    },
    {
     "name": "stderr",
     "output_type": "stream",
     "text": [
      "100%|██████████████████████████████████████████████████████████████████████████████████| 23/23 [00:32<00:00,  1.41s/it]\n"
     ]
    },
    {
     "name": "stdout",
     "output_type": "stream",
     "text": [
      "loss_overall 0.26803094602149463\n",
      "epoch 234\n",
      "\n",
      "score_test_good_mean 0.5648335218429565\n",
      "score_test_good_std 0.018372943624854088\n",
      "score_test_good_min 0.5365748405456543\n",
      "score_test_good_max 0.5988418459892273\n",
      "\n",
      "score_test_fail_mean 0.6681886911392212\n",
      "score_test_fail_std 0.04393305256962776\n",
      "score_test_fail_min 0.5962223410606384\n",
      "score_test_fail_max 0.7584092617034912\n",
      "\n",
      "score_train_mean 0.24079661071300507\n",
      "score_train_std 0.006717172916978598\n",
      "score_train_min 0.2280954271554947\n",
      "score_train_max 0.2586207985877991\n"
     ]
    },
    {
     "name": "stderr",
     "output_type": "stream",
     "text": [
      "100%|██████████████████████████████████████████████████████████████████████████████████| 23/23 [00:31<00:00,  1.39s/it]\n"
     ]
    },
    {
     "name": "stdout",
     "output_type": "stream",
     "text": [
      "loss_overall 0.27746552099352295\n",
      "epoch 235\n",
      "\n",
      "score_test_good_mean 0.5142773389816284\n",
      "score_test_good_std 0.018002893775701523\n",
      "score_test_good_min 0.48405927419662476\n",
      "score_test_good_max 0.546795666217804\n",
      "\n",
      "score_test_fail_mean 0.6074092388153076\n",
      "score_test_fail_std 0.06106807664036751\n",
      "score_test_fail_min 0.4720724821090698\n",
      "score_test_fail_max 0.7329921126365662\n",
      "\n",
      "score_train_mean 0.2427736520767212\n",
      "score_train_std 0.007520023267716169\n",
      "score_train_min 0.2295302450656891\n",
      "score_train_max 0.2556142508983612\n"
     ]
    },
    {
     "name": "stderr",
     "output_type": "stream",
     "text": [
      "100%|██████████████████████████████████████████████████████████████████████████████████| 23/23 [00:33<00:00,  1.45s/it]\n"
     ]
    },
    {
     "name": "stdout",
     "output_type": "stream",
     "text": [
      "loss_overall 0.28276429422523663\n",
      "epoch 236\n",
      "\n",
      "score_test_good_mean 0.5249241590499878\n",
      "score_test_good_std 0.019163547083735466\n",
      "score_test_good_min 0.4813039302825928\n",
      "score_test_good_max 0.5517712831497192\n",
      "\n",
      "score_test_fail_mean 0.6161758899688721\n",
      "score_test_fail_std 0.06659609824419022\n",
      "score_test_fail_min 0.5163879990577698\n",
      "score_test_fail_max 0.8252621293067932\n",
      "\n",
      "score_train_mean 0.24437494575977325\n",
      "score_train_std 0.00773099809885025\n",
      "score_train_min 0.22932438552379608\n",
      "score_train_max 0.25930774211883545\n"
     ]
    },
    {
     "name": "stderr",
     "output_type": "stream",
     "text": [
      "100%|██████████████████████████████████████████████████████████████████████████████████| 23/23 [00:32<00:00,  1.43s/it]\n"
     ]
    },
    {
     "name": "stdout",
     "output_type": "stream",
     "text": [
      "loss_overall 0.26987632849942084\n",
      "epoch 237\n",
      "\n",
      "score_test_good_mean 0.5091270804405212\n",
      "score_test_good_std 0.02381174825131893\n",
      "score_test_good_min 0.46929335594177246\n",
      "score_test_good_max 0.5460429787635803\n",
      "\n",
      "score_test_fail_mean 0.6082126498222351\n",
      "score_test_fail_std 0.048934657126665115\n",
      "score_test_fail_min 0.5334105491638184\n",
      "score_test_fail_max 0.6844677329063416\n",
      "\n",
      "score_train_mean 0.2428806722164154\n",
      "score_train_std 0.005675233900547028\n",
      "score_train_min 0.2302428036928177\n",
      "score_train_max 0.25465938448905945\n"
     ]
    },
    {
     "name": "stderr",
     "output_type": "stream",
     "text": [
      "100%|██████████████████████████████████████████████████████████████████████████████████| 23/23 [00:33<00:00,  1.45s/it]\n"
     ]
    },
    {
     "name": "stdout",
     "output_type": "stream",
     "text": [
      "loss_overall 0.2584969751212908\n",
      "epoch 238\n",
      "\n",
      "score_test_good_mean 0.5122950077056885\n",
      "score_test_good_std 0.01593821682035923\n",
      "score_test_good_min 0.4785366654396057\n",
      "score_test_good_max 0.5339025855064392\n",
      "\n",
      "score_test_fail_mean 0.6020141243934631\n",
      "score_test_fail_std 0.048740509897470474\n",
      "score_test_fail_min 0.47529277205467224\n",
      "score_test_fail_max 0.7073208093643188\n",
      "\n",
      "score_train_mean 0.23924748599529266\n",
      "score_train_std 0.0057342443615198135\n",
      "score_train_min 0.22886726260185242\n",
      "score_train_max 0.2500086724758148\n"
     ]
    },
    {
     "name": "stderr",
     "output_type": "stream",
     "text": [
      "100%|██████████████████████████████████████████████████████████████████████████████████| 23/23 [00:32<00:00,  1.40s/it]\n"
     ]
    },
    {
     "name": "stdout",
     "output_type": "stream",
     "text": [
      "loss_overall 0.269853285473326\n",
      "epoch 239\n",
      "\n",
      "score_test_good_mean 0.5283839106559753\n",
      "score_test_good_std 0.012788486666977406\n",
      "score_test_good_min 0.5107674598693848\n",
      "score_test_good_max 0.5535726547241211\n",
      "\n",
      "score_test_fail_mean 0.6258285641670227\n",
      "score_test_fail_std 0.04136773198843002\n",
      "score_test_fail_min 0.56390780210495\n",
      "score_test_fail_max 0.7061315774917603\n",
      "\n",
      "score_train_mean 0.24116966128349304\n",
      "score_train_std 0.006564036943018436\n",
      "score_train_min 0.23051072657108307\n",
      "score_train_max 0.25135722756385803\n"
     ]
    },
    {
     "name": "stderr",
     "output_type": "stream",
     "text": [
      "100%|██████████████████████████████████████████████████████████████████████████████████| 23/23 [00:32<00:00,  1.42s/it]\n"
     ]
    },
    {
     "name": "stdout",
     "output_type": "stream",
     "text": [
      "loss_overall 0.27335586819959723\n",
      "epoch 240\n",
      "\n",
      "score_test_good_mean 0.554435133934021\n",
      "score_test_good_std 0.017427122220396996\n",
      "score_test_good_min 0.5364265441894531\n",
      "score_test_good_max 0.5994431376457214\n",
      "\n",
      "score_test_fail_mean 0.6478996276855469\n",
      "score_test_fail_std 0.050797801464796066\n",
      "score_test_fail_min 0.5585579872131348\n",
      "score_test_fail_max 0.7925406098365784\n",
      "\n",
      "score_train_mean 0.24333083629608154\n",
      "score_train_std 0.00635015033185482\n",
      "score_train_min 0.22779162228107452\n",
      "score_train_max 0.25712522864341736\n"
     ]
    },
    {
     "name": "stderr",
     "output_type": "stream",
     "text": [
      "100%|██████████████████████████████████████████████████████████████████████████████████| 23/23 [00:32<00:00,  1.41s/it]\n"
     ]
    },
    {
     "name": "stdout",
     "output_type": "stream",
     "text": [
      "loss_overall 0.26853498362976574\n",
      "epoch 241\n",
      "\n",
      "score_test_good_mean 0.5346158146858215\n",
      "score_test_good_std 0.020702503621578217\n",
      "score_test_good_min 0.5051167011260986\n",
      "score_test_good_max 0.5670056343078613\n",
      "\n",
      "score_test_fail_mean 0.6301775574684143\n",
      "score_test_fail_std 0.039182934910058975\n",
      "score_test_fail_min 0.5544732809066772\n",
      "score_test_fail_max 0.7110453248023987\n",
      "\n",
      "score_train_mean 0.24220958352088928\n",
      "score_train_std 0.007289560046046972\n",
      "score_train_min 0.23118969798088074\n",
      "score_train_max 0.2630069851875305\n"
     ]
    },
    {
     "name": "stderr",
     "output_type": "stream",
     "text": [
      "100%|██████████████████████████████████████████████████████████████████████████████████| 23/23 [00:33<00:00,  1.46s/it]\n"
     ]
    },
    {
     "name": "stdout",
     "output_type": "stream",
     "text": [
      "loss_overall 0.2719891686802325\n",
      "epoch 242\n",
      "\n",
      "score_test_good_mean 0.5457484126091003\n",
      "score_test_good_std 0.01922333985567093\n",
      "score_test_good_min 0.5206085443496704\n",
      "score_test_good_max 0.5758386850357056\n",
      "\n",
      "score_test_fail_mean 0.6640069484710693\n",
      "score_test_fail_std 0.14481207728385925\n",
      "score_test_fail_min 0.5495136976242065\n",
      "score_test_fail_max 1.3096230030059814\n",
      "\n",
      "score_train_mean 0.24126477539539337\n",
      "score_train_std 0.005687402095645666\n",
      "score_train_min 0.22802439332008362\n",
      "score_train_max 0.252031534910202\n"
     ]
    },
    {
     "name": "stderr",
     "output_type": "stream",
     "text": [
      "100%|██████████████████████████████████████████████████████████████████████████████████| 23/23 [00:32<00:00,  1.39s/it]\n"
     ]
    },
    {
     "name": "stdout",
     "output_type": "stream",
     "text": [
      "loss_overall 0.26128033645775006\n",
      "epoch 243\n",
      "\n",
      "score_test_good_mean 0.5069992542266846\n",
      "score_test_good_std 0.01876188814640045\n",
      "score_test_good_min 0.47799789905548096\n",
      "score_test_good_max 0.5514132380485535\n",
      "\n",
      "score_test_fail_mean 0.6022312045097351\n",
      "score_test_fail_std 0.05416840314865112\n",
      "score_test_fail_min 0.5104609131813049\n",
      "score_test_fail_max 0.7164738178253174\n",
      "\n",
      "score_train_mean 0.23990121483802795\n",
      "score_train_std 0.006382400635629892\n",
      "score_train_min 0.227086141705513\n",
      "score_train_max 0.2544131278991699\n"
     ]
    },
    {
     "name": "stderr",
     "output_type": "stream",
     "text": [
      "100%|██████████████████████████████████████████████████████████████████████████████████| 23/23 [00:33<00:00,  1.44s/it]\n"
     ]
    },
    {
     "name": "stdout",
     "output_type": "stream",
     "text": [
      "loss_overall 0.2662328688994698\n",
      "epoch 244\n",
      "\n",
      "score_test_good_mean 0.5301256775856018\n",
      "score_test_good_std 0.01272628828883171\n",
      "score_test_good_min 0.5067946314811707\n",
      "score_test_good_max 0.5515006184577942\n",
      "\n",
      "score_test_fail_mean 0.6396934390068054\n",
      "score_test_fail_std 0.09652955085039139\n",
      "score_test_fail_min 0.5446568727493286\n",
      "score_test_fail_max 1.0561760663986206\n",
      "\n",
      "score_train_mean 0.2403184473514557\n",
      "score_train_std 0.006606399081647396\n",
      "score_train_min 0.22940663993358612\n",
      "score_train_max 0.25191450119018555\n"
     ]
    },
    {
     "name": "stderr",
     "output_type": "stream",
     "text": [
      "100%|██████████████████████████████████████████████████████████████████████████████████| 23/23 [00:32<00:00,  1.40s/it]\n"
     ]
    },
    {
     "name": "stdout",
     "output_type": "stream",
     "text": [
      "loss_overall 0.2680097202891889\n",
      "epoch 245\n",
      "\n",
      "score_test_good_mean 0.5771300196647644\n",
      "score_test_good_std 0.025545040145516396\n",
      "score_test_good_min 0.5353421568870544\n",
      "score_test_good_max 0.6287569403648376\n",
      "\n",
      "score_test_fail_mean 0.6755452156066895\n",
      "score_test_fail_std 0.06189918890595436\n",
      "score_test_fail_min 0.5901749730110168\n",
      "score_test_fail_max 0.8087314963340759\n",
      "\n",
      "score_train_mean 0.2411389946937561\n",
      "score_train_std 0.005394559353590012\n",
      "score_train_min 0.22819237411022186\n",
      "score_train_max 0.2525019645690918\n"
     ]
    },
    {
     "name": "stderr",
     "output_type": "stream",
     "text": [
      "100%|██████████████████████████████████████████████████████████████████████████████████| 23/23 [00:32<00:00,  1.42s/it]\n"
     ]
    },
    {
     "name": "stdout",
     "output_type": "stream",
     "text": [
      "loss_overall 0.2674060399117677\n",
      "epoch 246\n",
      "\n",
      "score_test_good_mean 0.5157966017723083\n",
      "score_test_good_std 0.014867527410387993\n",
      "score_test_good_min 0.49035704135894775\n",
      "score_test_good_max 0.5414813756942749\n",
      "\n",
      "score_test_fail_mean 0.612631618976593\n",
      "score_test_fail_std 0.049492549151182175\n",
      "score_test_fail_min 0.5484687685966492\n",
      "score_test_fail_max 0.7291028499603271\n",
      "\n",
      "score_train_mean 0.24173830449581146\n",
      "score_train_std 0.0070038167759776115\n",
      "score_train_min 0.22902782261371613\n",
      "score_train_max 0.2582727074623108\n"
     ]
    },
    {
     "name": "stderr",
     "output_type": "stream",
     "text": [
      "100%|██████████████████████████████████████████████████████████████████████████████████| 23/23 [00:33<00:00,  1.45s/it]\n"
     ]
    },
    {
     "name": "stdout",
     "output_type": "stream",
     "text": [
      "loss_overall 0.28041987056317536\n",
      "epoch 247\n",
      "\n",
      "score_test_good_mean 0.9931820034980774\n",
      "score_test_good_std 0.024877918884158134\n",
      "score_test_good_min 0.9511834383010864\n",
      "score_test_good_max 1.033998727798462\n",
      "\n",
      "score_test_fail_mean 1.0875823497772217\n",
      "score_test_fail_std 0.07043955475091934\n",
      "score_test_fail_min 0.9691631197929382\n",
      "score_test_fail_max 1.2786974906921387\n",
      "\n",
      "score_train_mean 0.24243015050888062\n",
      "score_train_std 0.00624159025028348\n",
      "score_train_min 0.2314741164445877\n",
      "score_train_max 0.25359123945236206\n"
     ]
    },
    {
     "name": "stderr",
     "output_type": "stream",
     "text": [
      "100%|██████████████████████████████████████████████████████████████████████████████████| 23/23 [00:32<00:00,  1.43s/it]\n"
     ]
    },
    {
     "name": "stdout",
     "output_type": "stream",
     "text": [
      "loss_overall 0.28867741447427997\n",
      "epoch 248\n",
      "\n",
      "score_test_good_mean 0.5633219480514526\n",
      "score_test_good_std 0.017847523093223572\n",
      "score_test_good_min 0.5223850011825562\n",
      "score_test_good_max 0.5874952673912048\n",
      "\n",
      "score_test_fail_mean 0.6453904509544373\n",
      "score_test_fail_std 0.048458781093358994\n",
      "score_test_fail_min 0.5505145788192749\n",
      "score_test_fail_max 0.7316861748695374\n",
      "\n",
      "score_train_mean 0.25024092197418213\n",
      "score_train_std 0.007720073219388723\n",
      "score_train_min 0.23848919570446014\n",
      "score_train_max 0.2696029543876648\n"
     ]
    },
    {
     "name": "stderr",
     "output_type": "stream",
     "text": [
      "100%|██████████████████████████████████████████████████████████████████████████████████| 23/23 [00:32<00:00,  1.41s/it]\n"
     ]
    },
    {
     "name": "stdout",
     "output_type": "stream",
     "text": [
      "loss_overall 0.27701937374861346\n",
      "epoch 249\n",
      "\n",
      "score_test_good_mean 0.5200558304786682\n",
      "score_test_good_std 0.019551577046513557\n",
      "score_test_good_min 0.489578515291214\n",
      "score_test_good_max 0.5553696155548096\n",
      "\n",
      "score_test_fail_mean 0.6431537866592407\n",
      "score_test_fail_std 0.14376284182071686\n",
      "score_test_fail_min 0.5610576868057251\n",
      "score_test_fail_max 1.290429949760437\n",
      "\n",
      "score_train_mean 0.24819433689117432\n",
      "score_train_std 0.005910683423280716\n",
      "score_train_min 0.236165851354599\n",
      "score_train_max 0.2594466805458069\n"
     ]
    },
    {
     "name": "stderr",
     "output_type": "stream",
     "text": [
      "100%|██████████████████████████████████████████████████████████████████████████████████| 23/23 [00:33<00:00,  1.45s/it]\n"
     ]
    },
    {
     "name": "stdout",
     "output_type": "stream",
     "text": [
      "loss_overall 0.26450777183408325\n",
      "epoch 250\n",
      "\n",
      "score_test_good_mean 0.5160616636276245\n",
      "score_test_good_std 0.021657591685652733\n",
      "score_test_good_min 0.4943915009498596\n",
      "score_test_good_max 0.578558623790741\n",
      "\n",
      "score_test_fail_mean 0.6134403347969055\n",
      "score_test_fail_std 0.06413589417934418\n",
      "score_test_fail_min 0.532860517501831\n",
      "score_test_fail_max 0.7718811631202698\n",
      "\n",
      "score_train_mean 0.24096769094467163\n",
      "score_train_std 0.0061396704986691475\n",
      "score_train_min 0.22917065024375916\n",
      "score_train_max 0.25554749369621277\n"
     ]
    },
    {
     "name": "stderr",
     "output_type": "stream",
     "text": [
      "100%|██████████████████████████████████████████████████████████████████████████████████| 23/23 [00:33<00:00,  1.44s/it]\n"
     ]
    },
    {
     "name": "stdout",
     "output_type": "stream",
     "text": [
      "loss_overall 0.2672775290582491\n",
      "epoch 251\n",
      "\n",
      "score_test_good_mean 0.5484867095947266\n",
      "score_test_good_std 0.015267259441316128\n",
      "score_test_good_min 0.5253207087516785\n",
      "score_test_good_max 0.5781190395355225\n",
      "\n",
      "score_test_fail_mean 0.6591121554374695\n",
      "score_test_fail_std 0.12130805850028992\n",
      "score_test_fail_min 0.5607331395149231\n",
      "score_test_fail_max 1.2005627155303955\n",
      "\n",
      "score_train_mean 0.24074384570121765\n",
      "score_train_std 0.00540452916175127\n",
      "score_train_min 0.23018324375152588\n",
      "score_train_max 0.2532411813735962\n"
     ]
    },
    {
     "name": "stderr",
     "output_type": "stream",
     "text": [
      "100%|██████████████████████████████████████████████████████████████████████████████████| 23/23 [00:32<00:00,  1.39s/it]\n"
     ]
    },
    {
     "name": "stdout",
     "output_type": "stream",
     "text": [
      "loss_overall 0.26974429125371185\n",
      "epoch 252\n",
      "\n",
      "score_test_good_mean 0.51773601770401\n",
      "score_test_good_std 0.018827497959136963\n",
      "score_test_good_min 0.4894348382949829\n",
      "score_test_good_max 0.5463529825210571\n",
      "\n",
      "score_test_fail_mean 0.6117118000984192\n",
      "score_test_fail_std 0.05681958049535751\n",
      "score_test_fail_min 0.5304734110832214\n",
      "score_test_fail_max 0.7197293639183044\n",
      "\n",
      "score_train_mean 0.24036426842212677\n",
      "score_train_std 0.005501095671206713\n",
      "score_train_min 0.231397807598114\n",
      "score_train_max 0.25004151463508606\n"
     ]
    },
    {
     "name": "stderr",
     "output_type": "stream",
     "text": [
      "100%|██████████████████████████████████████████████████████████████████████████████████| 23/23 [00:34<00:00,  1.50s/it]\n"
     ]
    },
    {
     "name": "stdout",
     "output_type": "stream",
     "text": [
      "loss_overall 0.2762224641831025\n",
      "epoch 253\n",
      "\n",
      "score_test_good_mean 0.5525332093238831\n",
      "score_test_good_std 0.014117995277047157\n",
      "score_test_good_min 0.5337246656417847\n",
      "score_test_good_max 0.5811105966567993\n",
      "\n",
      "score_test_fail_mean 0.6448733806610107\n",
      "score_test_fail_std 0.060248538851737976\n",
      "score_test_fail_min 0.5579894185066223\n",
      "score_test_fail_max 0.7828537821769714\n",
      "\n",
      "score_train_mean 0.2421473264694214\n",
      "score_train_std 0.006522678770124912\n",
      "score_train_min 0.2281918078660965\n",
      "score_train_max 0.2543841302394867\n"
     ]
    },
    {
     "name": "stderr",
     "output_type": "stream",
     "text": [
      "100%|██████████████████████████████████████████████████████████████████████████████████| 23/23 [00:32<00:00,  1.39s/it]\n"
     ]
    },
    {
     "name": "stdout",
     "output_type": "stream",
     "text": [
      "loss_overall 0.2734910819841468\n",
      "epoch 254\n",
      "\n",
      "score_test_good_mean 0.5025863647460938\n",
      "score_test_good_std 0.01690641976892948\n",
      "score_test_good_min 0.4694909155368805\n",
      "score_test_good_max 0.5245036482810974\n",
      "\n",
      "score_test_fail_mean 0.6090521216392517\n",
      "score_test_fail_std 0.04809286817908287\n",
      "score_test_fail_min 0.5447448492050171\n",
      "score_test_fail_max 0.7242306470870972\n",
      "\n",
      "score_train_mean 0.24450364708900452\n",
      "score_train_std 0.0068963211961090565\n",
      "score_train_min 0.2333156019449234\n",
      "score_train_max 0.2566656768321991\n"
     ]
    },
    {
     "name": "stderr",
     "output_type": "stream",
     "text": [
      "100%|██████████████████████████████████████████████████████████████████████████████████| 23/23 [00:32<00:00,  1.40s/it]\n"
     ]
    },
    {
     "name": "stdout",
     "output_type": "stream",
     "text": [
      "loss_overall 0.26141843588455865\n",
      "epoch 255\n",
      "\n",
      "score_test_good_mean 0.5253580808639526\n",
      "score_test_good_std 0.02345271036028862\n",
      "score_test_good_min 0.495594322681427\n",
      "score_test_good_max 0.5688165426254272\n",
      "\n",
      "score_test_fail_mean 0.623100757598877\n",
      "score_test_fail_std 0.04771418496966362\n",
      "score_test_fail_min 0.5493932962417603\n",
      "score_test_fail_max 0.729009747505188\n",
      "\n",
      "score_train_mean 0.24143990874290466\n",
      "score_train_std 0.0068248664028942585\n",
      "score_train_min 0.23007994890213013\n",
      "score_train_max 0.25596147775650024\n"
     ]
    },
    {
     "name": "stderr",
     "output_type": "stream",
     "text": [
      "100%|██████████████████████████████████████████████████████████████████████████████████| 23/23 [00:32<00:00,  1.42s/it]\n"
     ]
    },
    {
     "name": "stdout",
     "output_type": "stream",
     "text": [
      "loss_overall 0.25930804726870166\n",
      "epoch 256\n",
      "\n",
      "score_test_good_mean 0.5235900282859802\n",
      "score_test_good_std 0.023791607469320297\n",
      "score_test_good_min 0.4868594706058502\n",
      "score_test_good_max 0.5726181268692017\n",
      "\n",
      "score_test_fail_mean 0.6299886107444763\n",
      "score_test_fail_std 0.08652204275131226\n",
      "score_test_fail_min 0.5292266011238098\n",
      "score_test_fail_max 0.8838520050048828\n",
      "\n",
      "score_train_mean 0.2382909506559372\n",
      "score_train_std 0.0046202088706195354\n",
      "score_train_min 0.23023906350135803\n",
      "score_train_max 0.24892064929008484\n"
     ]
    },
    {
     "name": "stderr",
     "output_type": "stream",
     "text": [
      "100%|██████████████████████████████████████████████████████████████████████████████████| 23/23 [00:31<00:00,  1.38s/it]\n"
     ]
    },
    {
     "name": "stdout",
     "output_type": "stream",
     "text": [
      "loss_overall 0.261754361183747\n",
      "epoch 257\n",
      "\n",
      "score_test_good_mean 0.5173271298408508\n",
      "score_test_good_std 0.022184403613209724\n",
      "score_test_good_min 0.48468291759490967\n",
      "score_test_good_max 0.5643042325973511\n",
      "\n",
      "score_test_fail_mean 0.6109057664871216\n",
      "score_test_fail_std 0.03873978555202484\n",
      "score_test_fail_min 0.5386130213737488\n",
      "score_test_fail_max 0.6853865385055542\n",
      "\n",
      "score_train_mean 0.2377142459154129\n",
      "score_train_std 0.0070336912758648396\n",
      "score_train_min 0.22713124752044678\n",
      "score_train_max 0.2507554292678833\n"
     ]
    },
    {
     "name": "stderr",
     "output_type": "stream",
     "text": [
      "100%|██████████████████████████████████████████████████████████████████████████████████| 23/23 [00:32<00:00,  1.42s/it]\n"
     ]
    },
    {
     "name": "stdout",
     "output_type": "stream",
     "text": [
      "loss_overall 0.2668932890114577\n",
      "epoch 258\n",
      "\n",
      "score_test_good_mean 0.5367928743362427\n",
      "score_test_good_std 0.023275133222341537\n",
      "score_test_good_min 0.505174994468689\n",
      "score_test_good_max 0.5890682935714722\n",
      "\n",
      "score_test_fail_mean 0.6373826861381531\n",
      "score_test_fail_std 0.0639883503317833\n",
      "score_test_fail_min 0.5577113032341003\n",
      "score_test_fail_max 0.8189579248428345\n",
      "\n",
      "score_train_mean 0.23816590011119843\n",
      "score_train_std 0.006266461685299873\n",
      "score_train_min 0.22923119366168976\n",
      "score_train_max 0.24945038557052612\n"
     ]
    },
    {
     "name": "stderr",
     "output_type": "stream",
     "text": [
      "100%|██████████████████████████████████████████████████████████████████████████████████| 23/23 [00:33<00:00,  1.46s/it]\n"
     ]
    },
    {
     "name": "stdout",
     "output_type": "stream",
     "text": [
      "loss_overall 0.26513845311558765\n",
      "epoch 259\n",
      "\n",
      "score_test_good_mean 0.5101099610328674\n",
      "score_test_good_std 0.021421171724796295\n",
      "score_test_good_min 0.47439897060394287\n",
      "score_test_good_max 0.5509487390518188\n",
      "\n",
      "score_test_fail_mean 0.6002064943313599\n",
      "score_test_fail_std 0.052177563309669495\n",
      "score_test_fail_min 0.49734848737716675\n",
      "score_test_fail_max 0.7147613763809204\n",
      "\n",
      "score_train_mean 0.24040371179580688\n",
      "score_train_std 0.004805061034858227\n",
      "score_train_min 0.2301119565963745\n",
      "score_train_max 0.24939501285552979\n"
     ]
    },
    {
     "name": "stderr",
     "output_type": "stream",
     "text": [
      "100%|██████████████████████████████████████████████████████████████████████████████████| 23/23 [00:31<00:00,  1.38s/it]\n"
     ]
    },
    {
     "name": "stdout",
     "output_type": "stream",
     "text": [
      "loss_overall 0.2627808179544366\n",
      "epoch 260\n",
      "\n",
      "score_test_good_mean 0.520590603351593\n",
      "score_test_good_std 0.021237239241600037\n",
      "score_test_good_min 0.4863719344139099\n",
      "score_test_good_max 0.5765460729598999\n",
      "\n",
      "score_test_fail_mean 0.6179980635643005\n",
      "score_test_fail_std 0.0515717938542366\n",
      "score_test_fail_min 0.5416421294212341\n",
      "score_test_fail_max 0.7531712651252747\n",
      "\n",
      "score_train_mean 0.23909485340118408\n",
      "score_train_std 0.005815648008137941\n",
      "score_train_min 0.22399768233299255\n",
      "score_train_max 0.24760162830352783\n"
     ]
    },
    {
     "name": "stderr",
     "output_type": "stream",
     "text": [
      "100%|██████████████████████████████████████████████████████████████████████████████████| 23/23 [00:32<00:00,  1.43s/it]\n"
     ]
    },
    {
     "name": "stdout",
     "output_type": "stream",
     "text": [
      "loss_overall 0.2653961479663849\n",
      "epoch 261\n",
      "\n",
      "score_test_good_mean 0.5169433951377869\n",
      "score_test_good_std 0.02089802548289299\n",
      "score_test_good_min 0.46272701025009155\n",
      "score_test_good_max 0.546671450138092\n",
      "\n",
      "score_test_fail_mean 0.6144007444381714\n",
      "score_test_fail_std 0.05155760049819946\n",
      "score_test_fail_min 0.5187272429466248\n",
      "score_test_fail_max 0.7299275994300842\n",
      "\n",
      "score_train_mean 0.2379070222377777\n",
      "score_train_std 0.006834391970187426\n",
      "score_train_min 0.2273712456226349\n",
      "score_train_max 0.25679272413253784\n"
     ]
    },
    {
     "name": "stderr",
     "output_type": "stream",
     "text": [
      "100%|██████████████████████████████████████████████████████████████████████████████████| 23/23 [00:31<00:00,  1.38s/it]\n"
     ]
    },
    {
     "name": "stdout",
     "output_type": "stream",
     "text": [
      "loss_overall 0.2621774692898211\n",
      "epoch 262\n",
      "\n",
      "score_test_good_mean 0.5190788507461548\n",
      "score_test_good_std 0.013201659545302391\n",
      "score_test_good_min 0.5023234486579895\n",
      "score_test_good_max 0.5407909750938416\n",
      "\n",
      "score_test_fail_mean 0.6115137338638306\n",
      "score_test_fail_std 0.0552518293261528\n",
      "score_test_fail_min 0.5342856049537659\n",
      "score_test_fail_max 0.7189558744430542\n",
      "\n",
      "score_train_mean 0.23657295107841492\n",
      "score_train_std 0.00543039757758379\n",
      "score_train_min 0.22775812447071075\n",
      "score_train_max 0.24706880748271942\n"
     ]
    },
    {
     "name": "stderr",
     "output_type": "stream",
     "text": [
      "100%|██████████████████████████████████████████████████████████████████████████████████| 23/23 [00:32<00:00,  1.39s/it]\n"
     ]
    },
    {
     "name": "stdout",
     "output_type": "stream",
     "text": [
      "loss_overall 0.2668123381293338\n",
      "epoch 263\n",
      "\n",
      "score_test_good_mean 0.5435847640037537\n",
      "score_test_good_std 0.0160172488540411\n",
      "score_test_good_min 0.5088624358177185\n",
      "score_test_good_max 0.5691176652908325\n",
      "\n",
      "score_test_fail_mean 0.643491804599762\n",
      "score_test_fail_std 0.0706322193145752\n",
      "score_test_fail_min 0.5506811141967773\n",
      "score_test_fail_max 0.8880499601364136\n",
      "\n",
      "score_train_mean 0.23979559540748596\n",
      "score_train_std 0.0052874223329126835\n",
      "score_train_min 0.2303144484758377\n",
      "score_train_max 0.24970300495624542\n"
     ]
    },
    {
     "name": "stderr",
     "output_type": "stream",
     "text": [
      "100%|██████████████████████████████████████████████████████████████████████████████████| 23/23 [00:32<00:00,  1.42s/it]\n"
     ]
    },
    {
     "name": "stdout",
     "output_type": "stream",
     "text": [
      "loss_overall 0.2618081537277802\n",
      "epoch 264\n",
      "\n",
      "score_test_good_mean 0.5061290264129639\n",
      "score_test_good_std 0.015324720181524754\n",
      "score_test_good_min 0.47475671768188477\n",
      "score_test_good_max 0.5312838554382324\n",
      "\n",
      "score_test_fail_mean 0.603187084197998\n",
      "score_test_fail_std 0.05659477412700653\n",
      "score_test_fail_min 0.5261369943618774\n",
      "score_test_fail_max 0.7448896765708923\n",
      "\n",
      "score_train_mean 0.2367790937423706\n",
      "score_train_std 0.006250796839594841\n",
      "score_train_min 0.22470641136169434\n",
      "score_train_max 0.2510029077529907\n"
     ]
    },
    {
     "name": "stderr",
     "output_type": "stream",
     "text": [
      "100%|██████████████████████████████████████████████████████████████████████████████████| 23/23 [00:33<00:00,  1.44s/it]\n"
     ]
    },
    {
     "name": "stdout",
     "output_type": "stream",
     "text": [
      "loss_overall 0.2560273337623347\n",
      "epoch 265\n",
      "\n",
      "score_test_good_mean 0.5286659598350525\n",
      "score_test_good_std 0.022563446313142776\n",
      "score_test_good_min 0.5035879611968994\n",
      "score_test_good_max 0.5752726793289185\n",
      "\n",
      "score_test_fail_mean 0.6237812042236328\n",
      "score_test_fail_std 0.053521428257226944\n",
      "score_test_fail_min 0.4842747449874878\n",
      "score_test_fail_max 0.6997054815292358\n",
      "\n",
      "score_train_mean 0.23706649243831635\n",
      "score_train_std 0.0053270235657691956\n",
      "score_train_min 0.22816139459609985\n",
      "score_train_max 0.2521475553512573\n"
     ]
    },
    {
     "name": "stderr",
     "output_type": "stream",
     "text": [
      "100%|██████████████████████████████████████████████████████████████████████████████████| 23/23 [00:33<00:00,  1.44s/it]\n"
     ]
    },
    {
     "name": "stdout",
     "output_type": "stream",
     "text": [
      "loss_overall 0.2504455408324366\n",
      "epoch 266\n",
      "\n",
      "score_test_good_mean 0.5221332907676697\n",
      "score_test_good_std 0.022539496421813965\n",
      "score_test_good_min 0.4915904402732849\n",
      "score_test_good_max 0.553451657295227\n",
      "\n",
      "score_test_fail_mean 0.6159622669219971\n",
      "score_test_fail_std 0.05619112774729729\n",
      "score_test_fail_min 0.5318498015403748\n",
      "score_test_fail_max 0.7236112952232361\n",
      "\n",
      "score_train_mean 0.23486456274986267\n",
      "score_train_std 0.0054708984680473804\n",
      "score_train_min 0.2232142835855484\n",
      "score_train_max 0.24382227659225464\n"
     ]
    },
    {
     "name": "stderr",
     "output_type": "stream",
     "text": [
      "100%|██████████████████████████████████████████████████████████████████████████████████| 23/23 [00:33<00:00,  1.46s/it]\n"
     ]
    },
    {
     "name": "stdout",
     "output_type": "stream",
     "text": [
      "loss_overall 0.2594475059405617\n",
      "epoch 267\n",
      "\n",
      "score_test_good_mean 0.5215513110160828\n",
      "score_test_good_std 0.017578469589352608\n",
      "score_test_good_min 0.4996024966239929\n",
      "score_test_good_max 0.5585589408874512\n",
      "\n",
      "score_test_fail_mean 0.6181890964508057\n",
      "score_test_fail_std 0.04794018343091011\n",
      "score_test_fail_min 0.5311688780784607\n",
      "score_test_fail_max 0.7228613495826721\n",
      "\n",
      "score_train_mean 0.23575052618980408\n",
      "score_train_std 0.00473199225962162\n",
      "score_train_min 0.2278437316417694\n",
      "score_train_max 0.24374142289161682\n"
     ]
    },
    {
     "name": "stderr",
     "output_type": "stream",
     "text": [
      "100%|██████████████████████████████████████████████████████████████████████████████████| 23/23 [00:32<00:00,  1.41s/it]\n"
     ]
    },
    {
     "name": "stdout",
     "output_type": "stream",
     "text": [
      "loss_overall 0.2585652224395586\n",
      "epoch 268\n",
      "\n",
      "score_test_good_mean 0.5683814883232117\n",
      "score_test_good_std 0.02102583646774292\n",
      "score_test_good_min 0.5267565250396729\n",
      "score_test_good_max 0.6007159352302551\n",
      "\n",
      "score_test_fail_mean 0.6787291169166565\n",
      "score_test_fail_std 0.07303918153047562\n",
      "score_test_fail_min 0.5802345275878906\n",
      "score_test_fail_max 0.9727736115455627\n",
      "\n",
      "score_train_mean 0.23928841948509216\n",
      "score_train_std 0.005242564249783754\n",
      "score_train_min 0.22729840874671936\n",
      "score_train_max 0.248890221118927\n"
     ]
    },
    {
     "name": "stderr",
     "output_type": "stream",
     "text": [
      "100%|██████████████████████████████████████████████████████████████████████████████████| 23/23 [00:32<00:00,  1.43s/it]\n"
     ]
    },
    {
     "name": "stdout",
     "output_type": "stream",
     "text": [
      "loss_overall 0.26099392901296203\n",
      "epoch 269\n",
      "\n",
      "score_test_good_mean 0.511616587638855\n",
      "score_test_good_std 0.021494144573807716\n",
      "score_test_good_min 0.4817677438259125\n",
      "score_test_good_max 0.5591194033622742\n",
      "\n",
      "score_test_fail_mean 0.6128553748130798\n",
      "score_test_fail_std 0.06402754783630371\n",
      "score_test_fail_min 0.5187762975692749\n",
      "score_test_fail_max 0.8167272806167603\n",
      "\n",
      "score_train_mean 0.23814313113689423\n",
      "score_train_std 0.005043503828346729\n",
      "score_train_min 0.229596346616745\n",
      "score_train_max 0.2521320581436157\n"
     ]
    },
    {
     "name": "stderr",
     "output_type": "stream",
     "text": [
      "100%|██████████████████████████████████████████████████████████████████████████████████| 23/23 [00:33<00:00,  1.45s/it]\n"
     ]
    },
    {
     "name": "stdout",
     "output_type": "stream",
     "text": [
      "loss_overall 0.26671161988507147\n",
      "epoch 270\n",
      "\n",
      "score_test_good_mean 0.5241624712944031\n",
      "score_test_good_std 0.020600881427526474\n",
      "score_test_good_min 0.49638259410858154\n",
      "score_test_good_max 0.5619823336601257\n",
      "\n",
      "score_test_fail_mean 0.627937912940979\n",
      "score_test_fail_std 0.057759273797273636\n",
      "score_test_fail_min 0.5449825525283813\n",
      "score_test_fail_max 0.8064777255058289\n",
      "\n",
      "score_train_mean 0.2367304116487503\n",
      "score_train_std 0.0058821383863687515\n",
      "score_train_min 0.22655273973941803\n",
      "score_train_max 0.249334454536438\n"
     ]
    },
    {
     "name": "stderr",
     "output_type": "stream",
     "text": [
      "100%|██████████████████████████████████████████████████████████████████████████████████| 23/23 [00:33<00:00,  1.44s/it]\n"
     ]
    },
    {
     "name": "stdout",
     "output_type": "stream",
     "text": [
      "loss_overall 0.2516588316015575\n",
      "epoch 271\n",
      "\n",
      "score_test_good_mean 0.5084147453308105\n",
      "score_test_good_std 0.024586016312241554\n",
      "score_test_good_min 0.46749940514564514\n",
      "score_test_good_max 0.537418782711029\n",
      "\n",
      "score_test_fail_mean 0.6033018827438354\n",
      "score_test_fail_std 0.05251488834619522\n",
      "score_test_fail_min 0.5093721747398376\n",
      "score_test_fail_max 0.6996413469314575\n",
      "\n",
      "score_train_mean 0.23743495345115662\n",
      "score_train_std 0.0063832527957856655\n",
      "score_train_min 0.22575852274894714\n",
      "score_train_max 0.25167426466941833\n"
     ]
    },
    {
     "name": "stderr",
     "output_type": "stream",
     "text": [
      "100%|██████████████████████████████████████████████████████████████████████████████████| 23/23 [00:32<00:00,  1.43s/it]\n"
     ]
    },
    {
     "name": "stdout",
     "output_type": "stream",
     "text": [
      "loss_overall 0.26725148118060565\n",
      "epoch 272\n",
      "\n",
      "score_test_good_mean 0.5513437986373901\n",
      "score_test_good_std 0.022878475487232208\n",
      "score_test_good_min 0.5216906070709229\n",
      "score_test_good_max 0.597461998462677\n",
      "\n",
      "score_test_fail_mean 0.6443728804588318\n",
      "score_test_fail_std 0.04874768853187561\n",
      "score_test_fail_min 0.5506426095962524\n",
      "score_test_fail_max 0.759741485118866\n",
      "\n",
      "score_train_mean 0.23710325360298157\n",
      "score_train_std 0.005711103789508343\n",
      "score_train_min 0.22771334648132324\n",
      "score_train_max 0.24778813123703003\n"
     ]
    },
    {
     "name": "stderr",
     "output_type": "stream",
     "text": [
      "100%|██████████████████████████████████████████████████████████████████████████████████| 23/23 [00:31<00:00,  1.39s/it]\n"
     ]
    },
    {
     "name": "stdout",
     "output_type": "stream",
     "text": [
      "loss_overall 0.2560736297265343\n",
      "epoch 273\n",
      "\n",
      "score_test_good_mean 0.5222310423851013\n",
      "score_test_good_std 0.017248203977942467\n",
      "score_test_good_min 0.5046365857124329\n",
      "score_test_good_max 0.5619919896125793\n",
      "\n",
      "score_test_fail_mean 0.6280351877212524\n",
      "score_test_fail_std 0.08025331050157547\n",
      "score_test_fail_min 0.5242466926574707\n",
      "score_test_fail_max 0.939686119556427\n",
      "\n",
      "score_train_mean 0.23681512475013733\n",
      "score_train_std 0.00645388662815094\n",
      "score_train_min 0.2259465754032135\n",
      "score_train_max 0.2485113888978958\n"
     ]
    },
    {
     "name": "stderr",
     "output_type": "stream",
     "text": [
      "100%|██████████████████████████████████████████████████████████████████████████████████| 23/23 [00:32<00:00,  1.42s/it]\n"
     ]
    },
    {
     "name": "stdout",
     "output_type": "stream",
     "text": [
      "loss_overall 0.26287345329056616\n",
      "epoch 274\n",
      "\n",
      "score_test_good_mean 0.5444237589836121\n",
      "score_test_good_std 0.014844691380858421\n",
      "score_test_good_min 0.5121892690658569\n",
      "score_test_good_max 0.5654385685920715\n",
      "\n",
      "score_test_fail_mean 0.6397904753684998\n",
      "score_test_fail_std 0.06376613676548004\n",
      "score_test_fail_min 0.5548907518386841\n",
      "score_test_fail_max 0.8122107982635498\n",
      "\n",
      "score_train_mean 0.23728561401367188\n",
      "score_train_std 0.00492323050275445\n",
      "score_train_min 0.22918154299259186\n",
      "score_train_max 0.25236624479293823\n"
     ]
    },
    {
     "name": "stderr",
     "output_type": "stream",
     "text": [
      "100%|██████████████████████████████████████████████████████████████████████████████████| 23/23 [00:32<00:00,  1.43s/it]\n"
     ]
    },
    {
     "name": "stdout",
     "output_type": "stream",
     "text": [
      "loss_overall 0.2591565925142039\n",
      "epoch 275\n",
      "\n",
      "score_test_good_mean 0.5190429091453552\n",
      "score_test_good_std 0.018883762881159782\n",
      "score_test_good_min 0.4958828091621399\n",
      "score_test_good_max 0.5508066415786743\n",
      "\n",
      "score_test_fail_mean 0.6200523972511292\n",
      "score_test_fail_std 0.05767841264605522\n",
      "score_test_fail_min 0.5468345880508423\n",
      "score_test_fail_max 0.7684589624404907\n",
      "\n",
      "score_train_mean 0.2347477227449417\n",
      "score_train_std 0.0062109846621751785\n",
      "score_train_min 0.22220101952552795\n",
      "score_train_max 0.2507736086845398\n"
     ]
    },
    {
     "name": "stderr",
     "output_type": "stream",
     "text": [
      "100%|██████████████████████████████████████████████████████████████████████████████████| 23/23 [00:32<00:00,  1.41s/it]\n"
     ]
    },
    {
     "name": "stdout",
     "output_type": "stream",
     "text": [
      "loss_overall 0.26063647607098456\n",
      "epoch 276\n",
      "\n",
      "score_test_good_mean 0.5197426676750183\n",
      "score_test_good_std 0.018179355189204216\n",
      "score_test_good_min 0.48400914669036865\n",
      "score_test_good_max 0.5554928183555603\n",
      "\n",
      "score_test_fail_mean 0.6116249561309814\n",
      "score_test_fail_std 0.0563846230506897\n",
      "score_test_fail_min 0.525328516960144\n",
      "score_test_fail_max 0.7381328344345093\n",
      "\n",
      "score_train_mean 0.23860850930213928\n",
      "score_train_std 0.008251842111349106\n",
      "score_train_min 0.22660386562347412\n",
      "score_train_max 0.2613397538661957\n"
     ]
    },
    {
     "name": "stderr",
     "output_type": "stream",
     "text": [
      "100%|██████████████████████████████████████████████████████████████████████████████████| 23/23 [00:33<00:00,  1.47s/it]\n"
     ]
    },
    {
     "name": "stdout",
     "output_type": "stream",
     "text": [
      "loss_overall 0.2614872565735941\n",
      "epoch 277\n",
      "\n",
      "score_test_good_mean 0.5339156985282898\n",
      "score_test_good_std 0.015419228933751583\n",
      "score_test_good_min 0.5087418556213379\n",
      "score_test_good_max 0.5622410774230957\n",
      "\n",
      "score_test_fail_mean 0.6295821070671082\n",
      "score_test_fail_std 0.052714694291353226\n",
      "score_test_fail_min 0.5556647181510925\n",
      "score_test_fail_max 0.7490976452827454\n",
      "\n",
      "score_train_mean 0.2361019104719162\n",
      "score_train_std 0.005677260458469391\n",
      "score_train_min 0.22383476793766022\n",
      "score_train_max 0.2512381970882416\n"
     ]
    },
    {
     "name": "stderr",
     "output_type": "stream",
     "text": [
      "100%|██████████████████████████████████████████████████████████████████████████████████| 23/23 [00:33<00:00,  1.45s/it]\n"
     ]
    },
    {
     "name": "stdout",
     "output_type": "stream",
     "text": [
      "loss_overall 0.2634400181148363\n",
      "epoch 278\n",
      "\n",
      "score_test_good_mean 0.5382323861122131\n",
      "score_test_good_std 0.02303386479616165\n",
      "score_test_good_min 0.49484169483184814\n",
      "score_test_good_max 0.582612931728363\n",
      "\n",
      "score_test_fail_mean 0.6286469101905823\n",
      "score_test_fail_std 0.053167179226875305\n",
      "score_test_fail_min 0.5235424041748047\n",
      "score_test_fail_max 0.734764814376831\n",
      "\n",
      "score_train_mean 0.23723603785037994\n",
      "score_train_std 0.004996625706553459\n",
      "score_train_min 0.2284717857837677\n",
      "score_train_max 0.24424922466278076\n"
     ]
    },
    {
     "name": "stderr",
     "output_type": "stream",
     "text": [
      "100%|██████████████████████████████████████████████████████████████████████████████████| 23/23 [00:33<00:00,  1.47s/it]\n"
     ]
    },
    {
     "name": "stdout",
     "output_type": "stream",
     "text": [
      "loss_overall 0.2581307168888009\n",
      "epoch 279\n",
      "\n",
      "score_test_good_mean 0.5238344073295593\n",
      "score_test_good_std 0.01630629226565361\n",
      "score_test_good_min 0.4984147548675537\n",
      "score_test_good_max 0.5474486351013184\n",
      "\n",
      "score_test_fail_mean 0.6192742586135864\n",
      "score_test_fail_std 0.05632748454809189\n",
      "score_test_fail_min 0.502558708190918\n",
      "score_test_fail_max 0.7527130246162415\n",
      "\n",
      "score_train_mean 0.23496408760547638\n",
      "score_train_std 0.007268681190907955\n",
      "score_train_min 0.2248150259256363\n",
      "score_train_max 0.25135838985443115\n"
     ]
    },
    {
     "name": "stderr",
     "output_type": "stream",
     "text": [
      "100%|██████████████████████████████████████████████████████████████████████████████████| 23/23 [00:33<00:00,  1.46s/it]\n"
     ]
    },
    {
     "name": "stdout",
     "output_type": "stream",
     "text": [
      "loss_overall 0.25401118980801624\n",
      "epoch 280\n",
      "\n",
      "score_test_good_mean 0.51299649477005\n",
      "score_test_good_std 0.015622707083821297\n",
      "score_test_good_min 0.4909442365169525\n",
      "score_test_good_max 0.5419708490371704\n",
      "\n",
      "score_test_fail_mean 0.6098156571388245\n",
      "score_test_fail_std 0.04850400611758232\n",
      "score_test_fail_min 0.5238378047943115\n",
      "score_test_fail_max 0.7210525870323181\n",
      "\n",
      "score_train_mean 0.236842542886734\n",
      "score_train_std 0.0055267345160245895\n",
      "score_train_min 0.22693338990211487\n",
      "score_train_max 0.250161349773407\n"
     ]
    },
    {
     "name": "stderr",
     "output_type": "stream",
     "text": [
      "100%|██████████████████████████████████████████████████████████████████████████████████| 23/23 [00:33<00:00,  1.44s/it]\n"
     ]
    },
    {
     "name": "stdout",
     "output_type": "stream",
     "text": [
      "loss_overall 0.24922723031562308\n",
      "epoch 281\n",
      "\n",
      "score_test_good_mean 0.5353311896324158\n",
      "score_test_good_std 0.02321053482592106\n",
      "score_test_good_min 0.5000839233398438\n",
      "score_test_good_max 0.5793253183364868\n",
      "\n",
      "score_test_fail_mean 0.6271056532859802\n",
      "score_test_fail_std 0.05291655287146568\n",
      "score_test_fail_min 0.5219218134880066\n",
      "score_test_fail_max 0.7362109422683716\n",
      "\n",
      "score_train_mean 0.23467518389225006\n",
      "score_train_std 0.005181567277759314\n",
      "score_train_min 0.2258811891078949\n",
      "score_train_max 0.24272777140140533\n"
     ]
    },
    {
     "name": "stderr",
     "output_type": "stream",
     "text": [
      "100%|██████████████████████████████████████████████████████████████████████████████████| 23/23 [00:33<00:00,  1.47s/it]\n"
     ]
    },
    {
     "name": "stdout",
     "output_type": "stream",
     "text": [
      "loss_overall 0.2547497334687606\n",
      "epoch 282\n",
      "\n",
      "score_test_good_mean 0.5273492932319641\n",
      "score_test_good_std 0.021828146651387215\n",
      "score_test_good_min 0.4889043867588043\n",
      "score_test_good_max 0.5620984435081482\n",
      "\n",
      "score_test_fail_mean 0.61896812915802\n",
      "score_test_fail_std 0.05944031849503517\n",
      "score_test_fail_min 0.53304523229599\n",
      "score_test_fail_max 0.8000485897064209\n",
      "\n",
      "score_train_mean 0.23610533773899078\n",
      "score_train_std 0.005469428841024637\n",
      "score_train_min 0.2274497002363205\n",
      "score_train_max 0.2448921948671341\n"
     ]
    },
    {
     "name": "stderr",
     "output_type": "stream",
     "text": [
      "100%|██████████████████████████████████████████████████████████████████████████████████| 23/23 [00:33<00:00,  1.44s/it]\n"
     ]
    },
    {
     "name": "stdout",
     "output_type": "stream",
     "text": [
      "loss_overall 0.26147143024465314\n",
      "epoch 283\n",
      "\n",
      "score_test_good_mean 0.5586382150650024\n",
      "score_test_good_std 0.018087416887283325\n",
      "score_test_good_min 0.5165066719055176\n",
      "score_test_good_max 0.5825212001800537\n",
      "\n",
      "score_test_fail_mean 0.6521663665771484\n",
      "score_test_fail_std 0.04647336155176163\n",
      "score_test_fail_min 0.5656261444091797\n",
      "score_test_fail_max 0.754922091960907\n",
      "\n",
      "score_train_mean 0.23331795632839203\n",
      "score_train_std 0.006001592148095369\n",
      "score_train_min 0.22173702716827393\n",
      "score_train_max 0.2462073266506195\n"
     ]
    },
    {
     "name": "stderr",
     "output_type": "stream",
     "text": [
      "100%|██████████████████████████████████████████████████████████████████████████████████| 23/23 [00:34<00:00,  1.48s/it]\n"
     ]
    },
    {
     "name": "stdout",
     "output_type": "stream",
     "text": [
      "loss_overall 0.25237272615018097\n",
      "epoch 284\n",
      "\n",
      "score_test_good_mean 0.5190048813819885\n",
      "score_test_good_std 0.0087184002622962\n",
      "score_test_good_min 0.4991315007209778\n",
      "score_test_good_max 0.5292580127716064\n",
      "\n",
      "score_test_fail_mean 0.6141600012779236\n",
      "score_test_fail_std 0.04731697216629982\n",
      "score_test_fail_min 0.5291914343833923\n",
      "score_test_fail_max 0.7019335031509399\n",
      "\n",
      "score_train_mean 0.2365003079175949\n",
      "score_train_std 0.005237336736172438\n",
      "score_train_min 0.2240738570690155\n",
      "score_train_max 0.24746473133563995\n"
     ]
    },
    {
     "name": "stderr",
     "output_type": "stream",
     "text": [
      "100%|██████████████████████████████████████████████████████████████████████████████████| 23/23 [00:34<00:00,  1.48s/it]\n"
     ]
    },
    {
     "name": "stdout",
     "output_type": "stream",
     "text": [
      "loss_overall 0.2510881061139314\n",
      "epoch 285\n",
      "\n",
      "score_test_good_mean 0.5280092358589172\n",
      "score_test_good_std 0.018066082149744034\n",
      "score_test_good_min 0.500116229057312\n",
      "score_test_good_max 0.5611481070518494\n",
      "\n",
      "score_test_fail_mean 0.6341020464897156\n",
      "score_test_fail_std 0.07124776393175125\n",
      "score_test_fail_min 0.5440682768821716\n",
      "score_test_fail_max 0.8884528279304504\n",
      "\n",
      "score_train_mean 0.23436479270458221\n",
      "score_train_std 0.006703417748212814\n",
      "score_train_min 0.22356575727462769\n",
      "score_train_max 0.24970297515392303\n"
     ]
    },
    {
     "name": "stderr",
     "output_type": "stream",
     "text": [
      "100%|██████████████████████████████████████████████████████████████████████████████████| 23/23 [00:34<00:00,  1.49s/it]\n"
     ]
    },
    {
     "name": "stdout",
     "output_type": "stream",
     "text": [
      "loss_overall 0.25599380485389545\n",
      "epoch 286\n",
      "\n",
      "score_test_good_mean 0.5432786345481873\n",
      "score_test_good_std 0.022851988673210144\n",
      "score_test_good_min 0.5134066343307495\n",
      "score_test_good_max 0.6005399823188782\n",
      "\n",
      "score_test_fail_mean 0.633279025554657\n",
      "score_test_fail_std 0.06279829144477844\n",
      "score_test_fail_min 0.5403191447257996\n",
      "score_test_fail_max 0.7654381990432739\n",
      "\n",
      "score_train_mean 0.23463398218154907\n",
      "score_train_std 0.006301921792328358\n",
      "score_train_min 0.22624999284744263\n",
      "score_train_max 0.24814678728580475\n"
     ]
    },
    {
     "name": "stderr",
     "output_type": "stream",
     "text": [
      "100%|██████████████████████████████████████████████████████████████████████████████████| 23/23 [00:32<00:00,  1.40s/it]\n"
     ]
    },
    {
     "name": "stdout",
     "output_type": "stream",
     "text": [
      "loss_overall 0.2599695221237514\n",
      "epoch 287\n",
      "\n",
      "score_test_good_mean 0.5317642092704773\n",
      "score_test_good_std 0.018952101469039917\n",
      "score_test_good_min 0.5106025338172913\n",
      "score_test_good_max 0.5641953349113464\n",
      "\n",
      "score_test_fail_mean 0.623988926410675\n",
      "score_test_fail_std 0.05416339635848999\n",
      "score_test_fail_min 0.48017066717147827\n",
      "score_test_fail_max 0.7422251105308533\n",
      "\n",
      "score_train_mean 0.2369997203350067\n",
      "score_train_std 0.005322882905602455\n",
      "score_train_min 0.23010393977165222\n",
      "score_train_max 0.2468276172876358\n"
     ]
    },
    {
     "name": "stderr",
     "output_type": "stream",
     "text": [
      "100%|██████████████████████████████████████████████████████████████████████████████████| 23/23 [00:32<00:00,  1.40s/it]\n"
     ]
    },
    {
     "name": "stdout",
     "output_type": "stream",
     "text": [
      "loss_overall 0.25636939445267554\n",
      "epoch 288\n",
      "\n",
      "score_test_good_mean 0.5325811505317688\n",
      "score_test_good_std 0.022906072437763214\n",
      "score_test_good_min 0.49978283047676086\n",
      "score_test_good_max 0.5755974054336548\n",
      "\n",
      "score_test_fail_mean 0.624489426612854\n",
      "score_test_fail_std 0.057307466864585876\n",
      "score_test_fail_min 0.49244868755340576\n",
      "score_test_fail_max 0.733906090259552\n",
      "\n",
      "score_train_mean 0.23527491092681885\n",
      "score_train_std 0.006405385211110115\n",
      "score_train_min 0.224330872297287\n",
      "score_train_max 0.24661363661289215\n"
     ]
    },
    {
     "name": "stderr",
     "output_type": "stream",
     "text": [
      "100%|██████████████████████████████████████████████████████████████████████████████████| 23/23 [00:33<00:00,  1.45s/it]\n"
     ]
    },
    {
     "name": "stdout",
     "output_type": "stream",
     "text": [
      "loss_overall 0.2592837052500766\n",
      "epoch 289\n",
      "\n",
      "score_test_good_mean 0.5434826016426086\n",
      "score_test_good_std 0.02410936914384365\n",
      "score_test_good_min 0.5059789419174194\n",
      "score_test_good_max 0.5914843678474426\n",
      "\n",
      "score_test_fail_mean 0.6314670443534851\n",
      "score_test_fail_std 0.049266546964645386\n",
      "score_test_fail_min 0.5292012095451355\n",
      "score_test_fail_max 0.7168284058570862\n",
      "\n",
      "score_train_mean 0.23328295350074768\n",
      "score_train_std 0.005136366002261639\n",
      "score_train_min 0.225863978266716\n",
      "score_train_max 0.24728405475616455\n"
     ]
    },
    {
     "name": "stderr",
     "output_type": "stream",
     "text": [
      "100%|██████████████████████████████████████████████████████████████████████████████████| 23/23 [00:32<00:00,  1.40s/it]\n"
     ]
    },
    {
     "name": "stdout",
     "output_type": "stream",
     "text": [
      "loss_overall 0.25212065810742584\n",
      "epoch 290\n",
      "\n",
      "score_test_good_mean 0.5255581140518188\n",
      "score_test_good_std 0.01785196177661419\n",
      "score_test_good_min 0.4985736310482025\n",
      "score_test_good_max 0.5520401000976562\n",
      "\n",
      "score_test_fail_mean 0.6227898001670837\n",
      "score_test_fail_std 0.04703301936388016\n",
      "score_test_fail_min 0.5341138243675232\n",
      "score_test_fail_max 0.742003858089447\n",
      "\n",
      "score_train_mean 0.23414917290210724\n",
      "score_train_std 0.005308004096150398\n",
      "score_train_min 0.22469842433929443\n",
      "score_train_max 0.24304549396038055\n"
     ]
    },
    {
     "name": "stderr",
     "output_type": "stream",
     "text": [
      "100%|██████████████████████████████████████████████████████████████████████████████████| 23/23 [00:33<00:00,  1.44s/it]\n"
     ]
    },
    {
     "name": "stdout",
     "output_type": "stream",
     "text": [
      "loss_overall 0.2592432485974353\n",
      "epoch 291\n",
      "\n",
      "score_test_good_mean 0.5516534447669983\n",
      "score_test_good_std 0.02275146171450615\n",
      "score_test_good_min 0.5147351026535034\n",
      "score_test_good_max 0.5952332615852356\n",
      "\n",
      "score_test_fail_mean 0.642934262752533\n",
      "score_test_fail_std 0.05050644651055336\n",
      "score_test_fail_min 0.5682085752487183\n",
      "score_test_fail_max 0.7509496212005615\n",
      "\n",
      "score_train_mean 0.23601658642292023\n",
      "score_train_std 0.006927793379873037\n",
      "score_train_min 0.2244252860546112\n",
      "score_train_max 0.24695995450019836\n"
     ]
    },
    {
     "name": "stderr",
     "output_type": "stream",
     "text": [
      "100%|██████████████████████████████████████████████████████████████████████████████████| 23/23 [00:32<00:00,  1.43s/it]\n"
     ]
    },
    {
     "name": "stdout",
     "output_type": "stream",
     "text": [
      "loss_overall 0.2555753115726554\n",
      "epoch 292\n",
      "\n",
      "score_test_good_mean 0.5304208397865295\n",
      "score_test_good_std 0.019571617245674133\n",
      "score_test_good_min 0.4969345033168793\n",
      "score_test_good_max 0.5570535063743591\n",
      "\n",
      "score_test_fail_mean 0.6268453001976013\n",
      "score_test_fail_std 0.04463432356715202\n",
      "score_test_fail_min 0.5277019739151001\n",
      "score_test_fail_max 0.7367182374000549\n",
      "\n",
      "score_train_mean 0.2348957657814026\n",
      "score_train_std 0.005646693520247936\n",
      "score_train_min 0.22467567026615143\n",
      "score_train_max 0.24507883191108704\n"
     ]
    },
    {
     "name": "stderr",
     "output_type": "stream",
     "text": [
      "100%|██████████████████████████████████████████████████████████████████████████████████| 23/23 [00:33<00:00,  1.44s/it]\n"
     ]
    },
    {
     "name": "stdout",
     "output_type": "stream",
     "text": [
      "loss_overall 0.25950971051402716\n",
      "epoch 293\n",
      "\n",
      "score_test_good_mean 0.5291905403137207\n",
      "score_test_good_std 0.020698025822639465\n",
      "score_test_good_min 0.5050497055053711\n",
      "score_test_good_max 0.5853165984153748\n",
      "\n",
      "score_test_fail_mean 0.6257879734039307\n",
      "score_test_fail_std 0.0627104714512825\n",
      "score_test_fail_min 0.48173314332962036\n",
      "score_test_fail_max 0.8017135858535767\n",
      "\n",
      "score_train_mean 0.23700280487537384\n",
      "score_train_std 0.00849324930459261\n",
      "score_train_min 0.2233549952507019\n",
      "score_train_max 0.25859495997428894\n"
     ]
    },
    {
     "name": "stderr",
     "output_type": "stream",
     "text": [
      "100%|██████████████████████████████████████████████████████████████████████████████████| 23/23 [00:34<00:00,  1.49s/it]\n"
     ]
    },
    {
     "name": "stdout",
     "output_type": "stream",
     "text": [
      "loss_overall 0.24718609128309332\n",
      "epoch 294\n",
      "\n",
      "score_test_good_mean 0.5171606540679932\n",
      "score_test_good_std 0.02286946028470993\n",
      "score_test_good_min 0.48071399331092834\n",
      "score_test_good_max 0.561638355255127\n",
      "\n",
      "score_test_fail_mean 0.6125488877296448\n",
      "score_test_fail_std 0.047484830021858215\n",
      "score_test_fail_min 0.5343034267425537\n",
      "score_test_fail_max 0.7405148148536682\n",
      "\n",
      "score_train_mean 0.23436175286769867\n",
      "score_train_std 0.00670079467818141\n",
      "score_train_min 0.22548863291740417\n",
      "score_train_max 0.2502938508987427\n"
     ]
    },
    {
     "name": "stderr",
     "output_type": "stream",
     "text": [
      "100%|██████████████████████████████████████████████████████████████████████████████████| 23/23 [00:33<00:00,  1.47s/it]\n"
     ]
    },
    {
     "name": "stdout",
     "output_type": "stream",
     "text": [
      "loss_overall 0.2444939224616341\n",
      "epoch 295\n",
      "\n",
      "score_test_good_mean 0.5154603123664856\n",
      "score_test_good_std 0.021321304142475128\n",
      "score_test_good_min 0.47982850670814514\n",
      "score_test_good_max 0.5638008117675781\n",
      "\n",
      "score_test_fail_mean 0.6115957498550415\n",
      "score_test_fail_std 0.05524982139468193\n",
      "score_test_fail_min 0.5482203364372253\n",
      "score_test_fail_max 0.7640306949615479\n",
      "\n",
      "score_train_mean 0.231717050075531\n",
      "score_train_std 0.005587383639067411\n",
      "score_train_min 0.2190830111503601\n",
      "score_train_max 0.24500517547130585\n"
     ]
    },
    {
     "name": "stderr",
     "output_type": "stream",
     "text": [
      "100%|██████████████████████████████████████████████████████████████████████████████████| 23/23 [00:31<00:00,  1.39s/it]\n"
     ]
    },
    {
     "name": "stdout",
     "output_type": "stream",
     "text": [
      "loss_overall 0.24820288821406986\n",
      "epoch 296\n",
      "\n",
      "score_test_good_mean 0.5398345589637756\n",
      "score_test_good_std 0.025280382484197617\n",
      "score_test_good_min 0.5019707679748535\n",
      "score_test_good_max 0.5864118933677673\n",
      "\n",
      "score_test_fail_mean 0.6381534934043884\n",
      "score_test_fail_std 0.03783980756998062\n",
      "score_test_fail_min 0.5541113018989563\n",
      "score_test_fail_max 0.7276118993759155\n",
      "\n",
      "score_train_mean 0.23323404788970947\n",
      "score_train_std 0.004506892524659634\n",
      "score_train_min 0.2274564802646637\n",
      "score_train_max 0.2427915334701538\n"
     ]
    },
    {
     "name": "stderr",
     "output_type": "stream",
     "text": [
      "100%|██████████████████████████████████████████████████████████████████████████████████| 23/23 [00:32<00:00,  1.41s/it]\n"
     ]
    },
    {
     "name": "stdout",
     "output_type": "stream",
     "text": [
      "loss_overall 0.24628339513488437\n",
      "epoch 297\n",
      "\n",
      "score_test_good_mean 0.53058260679245\n",
      "score_test_good_std 0.02326188050210476\n",
      "score_test_good_min 0.49512141942977905\n",
      "score_test_good_max 0.56975257396698\n",
      "\n",
      "score_test_fail_mean 0.628562867641449\n",
      "score_test_fail_std 0.04719683527946472\n",
      "score_test_fail_min 0.5551288723945618\n",
      "score_test_fail_max 0.725375771522522\n",
      "\n",
      "score_train_mean 0.23171187937259674\n",
      "score_train_std 0.005360114388167858\n",
      "score_train_min 0.2215874344110489\n",
      "score_train_max 0.24024201929569244\n"
     ]
    },
    {
     "name": "stderr",
     "output_type": "stream",
     "text": [
      "100%|██████████████████████████████████████████████████████████████████████████████████| 23/23 [00:34<00:00,  1.48s/it]\n"
     ]
    },
    {
     "name": "stdout",
     "output_type": "stream",
     "text": [
      "loss_overall 0.2593684313089951\n",
      "epoch 298\n",
      "\n",
      "score_test_good_mean 0.6295631527900696\n",
      "score_test_good_std 0.020130520686507225\n",
      "score_test_good_min 0.5897767543792725\n",
      "score_test_good_max 0.6546475887298584\n",
      "\n",
      "score_test_fail_mean 0.724454939365387\n",
      "score_test_fail_std 0.05065813660621643\n",
      "score_test_fail_min 0.6451739072799683\n",
      "score_test_fail_max 0.8311192393302917\n",
      "\n",
      "score_train_mean 0.23514848947525024\n",
      "score_train_std 0.007695450447499752\n",
      "score_train_min 0.22164887189865112\n",
      "score_train_max 0.24801155924797058\n"
     ]
    },
    {
     "name": "stderr",
     "output_type": "stream",
     "text": [
      "100%|██████████████████████████████████████████████████████████████████████████████████| 23/23 [00:31<00:00,  1.38s/it]\n"
     ]
    },
    {
     "name": "stdout",
     "output_type": "stream",
     "text": [
      "loss_overall 0.25729375170624774\n",
      "epoch 299\n",
      "\n",
      "score_test_good_mean 0.5428031086921692\n",
      "score_test_good_std 0.015592907555401325\n",
      "score_test_good_min 0.5175045728683472\n",
      "score_test_good_max 0.5680544376373291\n",
      "\n",
      "score_test_fail_mean 0.6310421228408813\n",
      "score_test_fail_std 0.06408506631851196\n",
      "score_test_fail_min 0.5424935817718506\n",
      "score_test_fail_max 0.8079584836959839\n",
      "\n",
      "score_train_mean 0.2379031628370285\n",
      "score_train_std 0.008657933212816715\n",
      "score_train_min 0.21992166340351105\n",
      "score_train_max 0.2546209990978241\n"
     ]
    },
    {
     "name": "stderr",
     "output_type": "stream",
     "text": [
      "100%|██████████████████████████████████████████████████████████████████████████████████| 23/23 [00:32<00:00,  1.40s/it]\n"
     ]
    },
    {
     "name": "stdout",
     "output_type": "stream",
     "text": [
      "loss_overall 0.25340209966120514\n",
      "epoch 300\n",
      "\n",
      "score_test_good_mean 0.5936482548713684\n",
      "score_test_good_std 0.013144017197191715\n",
      "score_test_good_min 0.5654909014701843\n",
      "score_test_good_max 0.6179046630859375\n",
      "\n",
      "score_test_fail_mean 0.6830406188964844\n",
      "score_test_fail_std 0.050332460552453995\n",
      "score_test_fail_min 0.5314324498176575\n",
      "score_test_fail_max 0.7852209806442261\n",
      "\n",
      "score_train_mean 0.23515233397483826\n",
      "score_train_std 0.006840464659035206\n",
      "score_train_min 0.222669780254364\n",
      "score_train_max 0.24723859131336212\n"
     ]
    },
    {
     "name": "stderr",
     "output_type": "stream",
     "text": [
      "100%|██████████████████████████████████████████████████████████████████████████████████| 23/23 [00:33<00:00,  1.44s/it]\n"
     ]
    },
    {
     "name": "stdout",
     "output_type": "stream",
     "text": [
      "loss_overall 0.2651970639176991\n",
      "epoch 301\n",
      "\n",
      "score_test_good_mean 0.5793336629867554\n",
      "score_test_good_std 0.02365017496049404\n",
      "score_test_good_min 0.5433821678161621\n",
      "score_test_good_max 0.6270546913146973\n",
      "\n",
      "score_test_fail_mean 0.675331175327301\n",
      "score_test_fail_std 0.04733286798000336\n",
      "score_test_fail_min 0.5886265635490417\n",
      "score_test_fail_max 0.7857396602630615\n",
      "\n",
      "score_train_mean 0.2346908152103424\n",
      "score_train_std 0.0070666056126356125\n",
      "score_train_min 0.22517743706703186\n",
      "score_train_max 0.25179561972618103\n"
     ]
    },
    {
     "name": "stderr",
     "output_type": "stream",
     "text": [
      "100%|██████████████████████████████████████████████████████████████████████████████████| 23/23 [00:32<00:00,  1.40s/it]\n"
     ]
    },
    {
     "name": "stdout",
     "output_type": "stream",
     "text": [
      "loss_overall 0.2593219817980476\n",
      "epoch 302\n",
      "\n",
      "score_test_good_mean 0.5340083837509155\n",
      "score_test_good_std 0.02093280293047428\n",
      "score_test_good_min 0.49423909187316895\n",
      "score_test_good_max 0.5680651068687439\n",
      "\n",
      "score_test_fail_mean 0.6335597634315491\n",
      "score_test_fail_std 0.05583719164133072\n",
      "score_test_fail_min 0.5713745355606079\n",
      "score_test_fail_max 0.7886477112770081\n",
      "\n",
      "score_train_mean 0.23751772940158844\n",
      "score_train_std 0.007253693882375956\n",
      "score_train_min 0.21947047114372253\n",
      "score_train_max 0.24960991740226746\n"
     ]
    },
    {
     "name": "stderr",
     "output_type": "stream",
     "text": [
      "100%|██████████████████████████████████████████████████████████████████████████████████| 23/23 [00:32<00:00,  1.42s/it]\n"
     ]
    },
    {
     "name": "stdout",
     "output_type": "stream",
     "text": [
      "loss_overall 0.25362963456174603\n",
      "epoch 303\n",
      "\n",
      "score_test_good_mean 0.6126470565795898\n",
      "score_test_good_std 0.018845751881599426\n",
      "score_test_good_min 0.5829603672027588\n",
      "score_test_good_max 0.6499289274215698\n",
      "\n",
      "score_test_fail_mean 0.6996893882751465\n",
      "score_test_fail_std 0.04271883890032768\n",
      "score_test_fail_min 0.6040555238723755\n",
      "score_test_fail_max 0.7985502481460571\n",
      "\n",
      "score_train_mean 0.23508059978485107\n",
      "score_train_std 0.006572187878191471\n",
      "score_train_min 0.22636547684669495\n",
      "score_train_max 0.2509844899177551\n"
     ]
    },
    {
     "name": "stderr",
     "output_type": "stream",
     "text": [
      "100%|██████████████████████████████████████████████████████████████████████████████████| 23/23 [00:31<00:00,  1.39s/it]\n"
     ]
    },
    {
     "name": "stdout",
     "output_type": "stream",
     "text": [
      "loss_overall 0.25199577536271967\n",
      "epoch 304\n",
      "\n",
      "score_test_good_mean 0.5417913198471069\n",
      "score_test_good_std 0.020810099318623543\n",
      "score_test_good_min 0.506934642791748\n",
      "score_test_good_max 0.5799745917320251\n",
      "\n",
      "score_test_fail_mean 0.6310293674468994\n",
      "score_test_fail_std 0.06243063881993294\n",
      "score_test_fail_min 0.5394232273101807\n",
      "score_test_fail_max 0.7792435884475708\n",
      "\n",
      "score_train_mean 0.2350383847951889\n",
      "score_train_std 0.006969693582504988\n",
      "score_train_min 0.222026526927948\n",
      "score_train_max 0.24804991483688354\n"
     ]
    },
    {
     "name": "stderr",
     "output_type": "stream",
     "text": [
      "100%|██████████████████████████████████████████████████████████████████████████████████| 23/23 [00:33<00:00,  1.46s/it]\n"
     ]
    },
    {
     "name": "stdout",
     "output_type": "stream",
     "text": [
      "loss_overall 0.2427621840134911\n",
      "epoch 305\n",
      "\n",
      "score_test_good_mean 0.52986741065979\n",
      "score_test_good_std 0.0206694807857275\n",
      "score_test_good_min 0.5022314786911011\n",
      "score_test_good_max 0.5672454237937927\n",
      "\n",
      "score_test_fail_mean 0.6262010335922241\n",
      "score_test_fail_std 0.04949014633893967\n",
      "score_test_fail_min 0.556148886680603\n",
      "score_test_fail_max 0.7302475571632385\n",
      "\n",
      "score_train_mean 0.23135390877723694\n",
      "score_train_std 0.005548490211367607\n",
      "score_train_min 0.22152380645275116\n",
      "score_train_max 0.2438347339630127\n"
     ]
    },
    {
     "name": "stderr",
     "output_type": "stream",
     "text": [
      "100%|██████████████████████████████████████████████████████████████████████████████████| 23/23 [00:34<00:00,  1.50s/it]\n"
     ]
    },
    {
     "name": "stdout",
     "output_type": "stream",
     "text": [
      "loss_overall 0.24141371574090875\n",
      "epoch 306\n",
      "\n",
      "score_test_good_mean 0.5546018481254578\n",
      "score_test_good_std 0.020900117233395576\n",
      "score_test_good_min 0.5218216180801392\n",
      "score_test_good_max 0.606776237487793\n",
      "\n",
      "score_test_fail_mean 0.6504141092300415\n",
      "score_test_fail_std 0.036957502365112305\n",
      "score_test_fail_min 0.5726454854011536\n",
      "score_test_fail_max 0.7171351909637451\n",
      "\n",
      "score_train_mean 0.23002614080905914\n",
      "score_train_std 0.005526251159608364\n",
      "score_train_min 0.2176729440689087\n",
      "score_train_max 0.24117513000965118\n"
     ]
    },
    {
     "name": "stderr",
     "output_type": "stream",
     "text": [
      "100%|██████████████████████████████████████████████████████████████████████████████████| 23/23 [00:32<00:00,  1.41s/it]\n"
     ]
    },
    {
     "name": "stdout",
     "output_type": "stream",
     "text": [
      "loss_overall 0.2505073132722274\n",
      "epoch 307\n",
      "\n",
      "score_test_good_mean 0.5560207366943359\n",
      "score_test_good_std 0.016757214441895485\n",
      "score_test_good_min 0.5281965136528015\n",
      "score_test_good_max 0.5975333452224731\n",
      "\n",
      "score_test_fail_mean 0.6567505598068237\n",
      "score_test_fail_std 0.06736041605472565\n",
      "score_test_fail_min 0.5668494701385498\n",
      "score_test_fail_max 0.8409873843193054\n",
      "\n",
      "score_train_mean 0.2318158745765686\n",
      "score_train_std 0.005761751439422369\n",
      "score_train_min 0.22150878608226776\n",
      "score_train_max 0.24318763613700867\n"
     ]
    },
    {
     "name": "stderr",
     "output_type": "stream",
     "text": [
      "100%|██████████████████████████████████████████████████████████████████████████████████| 23/23 [00:32<00:00,  1.41s/it]\n"
     ]
    },
    {
     "name": "stdout",
     "output_type": "stream",
     "text": [
      "loss_overall 0.2474085941262867\n",
      "epoch 308\n",
      "\n",
      "score_test_good_mean 0.5697132349014282\n",
      "score_test_good_std 0.01969621516764164\n",
      "score_test_good_min 0.5444324016571045\n",
      "score_test_good_max 0.6114456057548523\n",
      "\n",
      "score_test_fail_mean 0.6605835556983948\n",
      "score_test_fail_std 0.0656389370560646\n",
      "score_test_fail_min 0.5222037434577942\n",
      "score_test_fail_max 0.7834686636924744\n",
      "\n",
      "score_train_mean 0.2331126183271408\n",
      "score_train_std 0.00574501184746623\n",
      "score_train_min 0.22421345114707947\n",
      "score_train_max 0.24538876116275787\n"
     ]
    },
    {
     "name": "stderr",
     "output_type": "stream",
     "text": [
      "100%|██████████████████████████████████████████████████████████████████████████████████| 23/23 [00:32<00:00,  1.41s/it]\n"
     ]
    },
    {
     "name": "stdout",
     "output_type": "stream",
     "text": [
      "loss_overall 0.2505727202995964\n",
      "epoch 309\n",
      "\n",
      "score_test_good_mean 0.5619176626205444\n",
      "score_test_good_std 0.021173648536205292\n",
      "score_test_good_min 0.5420933365821838\n",
      "score_test_good_max 0.6030874252319336\n",
      "\n",
      "score_test_fail_mean 0.659101128578186\n",
      "score_test_fail_std 0.06505993008613586\n",
      "score_test_fail_min 0.5524204969406128\n",
      "score_test_fail_max 0.8536117672920227\n",
      "\n",
      "score_train_mean 0.23341532051563263\n",
      "score_train_std 0.007716660387814045\n",
      "score_train_min 0.22172996401786804\n",
      "score_train_max 0.25439968705177307\n"
     ]
    },
    {
     "name": "stderr",
     "output_type": "stream",
     "text": [
      "100%|██████████████████████████████████████████████████████████████████████████████████| 23/23 [00:33<00:00,  1.45s/it]\n"
     ]
    },
    {
     "name": "stdout",
     "output_type": "stream",
     "text": [
      "loss_overall 0.2513826411703359\n",
      "epoch 310\n",
      "\n",
      "score_test_good_mean 0.5441327691078186\n",
      "score_test_good_std 0.01770509034395218\n",
      "score_test_good_min 0.5092700719833374\n",
      "score_test_good_max 0.5877759456634521\n",
      "\n",
      "score_test_fail_mean 0.6430487036705017\n",
      "score_test_fail_std 0.04891590401530266\n",
      "score_test_fail_min 0.5582891702651978\n",
      "score_test_fail_max 0.800179123878479\n",
      "\n",
      "score_train_mean 0.2334127277135849\n",
      "score_train_std 0.006516056600958109\n",
      "score_train_min 0.2218145728111267\n",
      "score_train_max 0.2461143434047699\n"
     ]
    },
    {
     "name": "stderr",
     "output_type": "stream",
     "text": [
      "100%|██████████████████████████████████████████████████████████████████████████████████| 23/23 [00:32<00:00,  1.43s/it]\n"
     ]
    },
    {
     "name": "stdout",
     "output_type": "stream",
     "text": [
      "loss_overall 0.2514023884483006\n",
      "epoch 311\n",
      "\n",
      "score_test_good_mean 0.5926805138587952\n",
      "score_test_good_std 0.019318705424666405\n",
      "score_test_good_min 0.5531435012817383\n",
      "score_test_good_max 0.6323702931404114\n",
      "\n",
      "score_test_fail_mean 0.6867111325263977\n",
      "score_test_fail_std 0.053151898086071014\n",
      "score_test_fail_min 0.6153208017349243\n",
      "score_test_fail_max 0.7965523600578308\n",
      "\n",
      "score_train_mean 0.23349629342556\n",
      "score_train_std 0.005421291571110487\n",
      "score_train_min 0.22230164706707\n",
      "score_train_max 0.24394148588180542\n"
     ]
    },
    {
     "name": "stderr",
     "output_type": "stream",
     "text": [
      "100%|██████████████████████████████████████████████████████████████████████████████████| 23/23 [00:33<00:00,  1.44s/it]\n"
     ]
    },
    {
     "name": "stdout",
     "output_type": "stream",
     "text": [
      "loss_overall 0.24369551759699118\n",
      "epoch 312\n",
      "\n",
      "score_test_good_mean 0.519329845905304\n",
      "score_test_good_std 0.018512200564146042\n",
      "score_test_good_min 0.4793703854084015\n",
      "score_test_good_max 0.5499712228775024\n",
      "\n",
      "score_test_fail_mean 0.6126464009284973\n",
      "score_test_fail_std 0.05627774819731712\n",
      "score_test_fail_min 0.5274680256843567\n",
      "score_test_fail_max 0.7520033121109009\n",
      "\n",
      "score_train_mean 0.2307862788438797\n",
      "score_train_std 0.005109071731567383\n",
      "score_train_min 0.2220572829246521\n",
      "score_train_max 0.23940357565879822\n"
     ]
    },
    {
     "name": "stderr",
     "output_type": "stream",
     "text": [
      "100%|██████████████████████████████████████████████████████████████████████████████████| 23/23 [00:32<00:00,  1.43s/it]\n"
     ]
    },
    {
     "name": "stdout",
     "output_type": "stream",
     "text": [
      "loss_overall 0.2469475884800372\n",
      "epoch 313\n",
      "\n",
      "score_test_good_mean 0.512928307056427\n",
      "score_test_good_std 0.023786993697285652\n",
      "score_test_good_min 0.4769686758518219\n",
      "score_test_good_max 0.5632372498512268\n",
      "\n",
      "score_test_fail_mean 0.607448160648346\n",
      "score_test_fail_std 0.051310885697603226\n",
      "score_test_fail_min 0.5347769260406494\n",
      "score_test_fail_max 0.7402117848396301\n",
      "\n",
      "score_train_mean 0.2308107316493988\n",
      "score_train_std 0.005322162061929703\n",
      "score_train_min 0.22103244066238403\n",
      "score_train_max 0.24501389265060425\n"
     ]
    },
    {
     "name": "stderr",
     "output_type": "stream",
     "text": [
      "100%|██████████████████████████████████████████████████████████████████████████████████| 23/23 [00:32<00:00,  1.42s/it]\n"
     ]
    },
    {
     "name": "stdout",
     "output_type": "stream",
     "text": [
      "loss_overall 0.24513541874678238\n",
      "epoch 314\n",
      "\n",
      "score_test_good_mean 0.5471705794334412\n",
      "score_test_good_std 0.01717204600572586\n",
      "score_test_good_min 0.5218453407287598\n",
      "score_test_good_max 0.5795885324478149\n",
      "\n",
      "score_test_fail_mean 0.642200231552124\n",
      "score_test_fail_std 0.06150320917367935\n",
      "score_test_fail_min 0.5717948079109192\n",
      "score_test_fail_max 0.8161231875419617\n",
      "\n",
      "score_train_mean 0.2304203063249588\n",
      "score_train_std 0.005483892280608416\n",
      "score_train_min 0.2230626344680786\n",
      "score_train_max 0.24177062511444092\n"
     ]
    },
    {
     "name": "stderr",
     "output_type": "stream",
     "text": [
      "100%|██████████████████████████████████████████████████████████████████████████████████| 23/23 [00:34<00:00,  1.50s/it]\n"
     ]
    },
    {
     "name": "stdout",
     "output_type": "stream",
     "text": [
      "loss_overall 0.25717353043348895\n",
      "epoch 315\n",
      "\n",
      "score_test_good_mean 0.5867771506309509\n",
      "score_test_good_std 0.025078222155570984\n",
      "score_test_good_min 0.5403000712394714\n",
      "score_test_good_max 0.6451119184494019\n",
      "\n",
      "score_test_fail_mean 0.679347813129425\n",
      "score_test_fail_std 0.056919194757938385\n",
      "score_test_fail_min 0.5585563778877258\n",
      "score_test_fail_max 0.7834984064102173\n",
      "\n",
      "score_train_mean 0.23058468103408813\n",
      "score_train_std 0.005379838868975639\n",
      "score_train_min 0.21966922283172607\n",
      "score_train_max 0.24372461438179016\n"
     ]
    },
    {
     "name": "stderr",
     "output_type": "stream",
     "text": [
      "100%|██████████████████████████████████████████████████████████████████████████████████| 23/23 [00:34<00:00,  1.48s/it]\n"
     ]
    },
    {
     "name": "stdout",
     "output_type": "stream",
     "text": [
      "loss_overall 0.24697626414506332\n",
      "epoch 316\n",
      "\n",
      "score_test_good_mean 0.5289565920829773\n",
      "score_test_good_std 0.014880545437335968\n",
      "score_test_good_min 0.5026977062225342\n",
      "score_test_good_max 0.5662989020347595\n",
      "\n",
      "score_test_fail_mean 0.623098611831665\n",
      "score_test_fail_std 0.0626453384757042\n",
      "score_test_fail_min 0.5398613810539246\n",
      "score_test_fail_max 0.8093801140785217\n",
      "\n",
      "score_train_mean 0.2321707308292389\n",
      "score_train_std 0.006489665247499943\n",
      "score_train_min 0.22113299369812012\n",
      "score_train_max 0.245253324508667\n"
     ]
    },
    {
     "name": "stderr",
     "output_type": "stream",
     "text": [
      "100%|██████████████████████████████████████████████████████████████████████████████████| 23/23 [00:33<00:00,  1.45s/it]\n"
     ]
    },
    {
     "name": "stdout",
     "output_type": "stream",
     "text": [
      "loss_overall 0.2447977286318074\n",
      "epoch 317\n",
      "\n",
      "score_test_good_mean 0.6732248663902283\n",
      "score_test_good_std 0.01523322518914938\n",
      "score_test_good_min 0.6347476840019226\n",
      "score_test_good_max 0.6958021521568298\n",
      "\n",
      "score_test_fail_mean 0.7651806473731995\n",
      "score_test_fail_std 0.05400211364030838\n",
      "score_test_fail_min 0.6631314158439636\n",
      "score_test_fail_max 0.8753494024276733\n",
      "\n",
      "score_train_mean 0.2310626357793808\n",
      "score_train_std 0.004882211331278086\n",
      "score_train_min 0.22353574633598328\n",
      "score_train_max 0.23795045912265778\n"
     ]
    },
    {
     "name": "stderr",
     "output_type": "stream",
     "text": [
      "100%|██████████████████████████████████████████████████████████████████████████████████| 23/23 [00:32<00:00,  1.42s/it]\n"
     ]
    },
    {
     "name": "stdout",
     "output_type": "stream",
     "text": [
      "loss_overall 0.24926366754200147\n",
      "epoch 318\n",
      "\n",
      "score_test_good_mean 0.5300371050834656\n",
      "score_test_good_std 0.02397722564637661\n",
      "score_test_good_min 0.4809863865375519\n",
      "score_test_good_max 0.5712642669677734\n",
      "\n",
      "score_test_fail_mean 0.627011239528656\n",
      "score_test_fail_std 0.06453076004981995\n",
      "score_test_fail_min 0.5523635745048523\n",
      "score_test_fail_max 0.8096352815628052\n",
      "\n",
      "score_train_mean 0.23498038947582245\n",
      "score_train_std 0.00681966170668602\n",
      "score_train_min 0.22225816547870636\n",
      "score_train_max 0.253538578748703\n"
     ]
    },
    {
     "name": "stderr",
     "output_type": "stream",
     "text": [
      "100%|██████████████████████████████████████████████████████████████████████████████████| 23/23 [00:33<00:00,  1.44s/it]\n"
     ]
    },
    {
     "name": "stdout",
     "output_type": "stream",
     "text": [
      "loss_overall 0.24632798459218896\n",
      "epoch 319\n",
      "\n",
      "score_test_good_mean 0.5136526823043823\n",
      "score_test_good_std 0.019962353631854057\n",
      "score_test_good_min 0.4757114350795746\n",
      "score_test_good_max 0.552848219871521\n",
      "\n",
      "score_test_fail_mean 0.6057447791099548\n",
      "score_test_fail_std 0.056389935314655304\n",
      "score_test_fail_min 0.45425742864608765\n",
      "score_test_fail_max 0.7111991047859192\n",
      "\n",
      "score_train_mean 0.23286156356334686\n",
      "score_train_std 0.005500455386936665\n",
      "score_train_min 0.22287441790103912\n",
      "score_train_max 0.24761120975017548\n"
     ]
    },
    {
     "name": "stderr",
     "output_type": "stream",
     "text": [
      "100%|██████████████████████████████████████████████████████████████████████████████████| 23/23 [00:33<00:00,  1.45s/it]\n"
     ]
    },
    {
     "name": "stdout",
     "output_type": "stream",
     "text": [
      "loss_overall 0.2455773923708045\n",
      "epoch 320\n",
      "\n",
      "score_test_good_mean 0.5355843305587769\n",
      "score_test_good_std 0.01609095372259617\n",
      "score_test_good_min 0.5068895220756531\n",
      "score_test_good_max 0.5665411353111267\n",
      "\n",
      "score_test_fail_mean 0.6342703104019165\n",
      "score_test_fail_std 0.06054849550127983\n",
      "score_test_fail_min 0.560658872127533\n",
      "score_test_fail_max 0.8064810037612915\n",
      "\n",
      "score_train_mean 0.23011070489883423\n",
      "score_train_std 0.004487259313464165\n",
      "score_train_min 0.2224479466676712\n",
      "score_train_max 0.24215567111968994\n"
     ]
    },
    {
     "name": "stderr",
     "output_type": "stream",
     "text": [
      "100%|██████████████████████████████████████████████████████████████████████████████████| 23/23 [00:33<00:00,  1.44s/it]\n"
     ]
    },
    {
     "name": "stdout",
     "output_type": "stream",
     "text": [
      "loss_overall 0.24211910302224365\n",
      "epoch 321\n",
      "\n",
      "score_test_good_mean 0.5186564326286316\n",
      "score_test_good_std 0.021742625162005424\n",
      "score_test_good_min 0.47331252694129944\n",
      "score_test_good_max 0.5517537593841553\n",
      "\n",
      "score_test_fail_mean 0.6165263652801514\n",
      "score_test_fail_std 0.04784590005874634\n",
      "score_test_fail_min 0.5210312604904175\n",
      "score_test_fail_max 0.7277677059173584\n",
      "\n",
      "score_train_mean 0.23118409514427185\n",
      "score_train_std 0.005372492130845785\n",
      "score_train_min 0.21869632601737976\n",
      "score_train_max 0.2431151121854782\n"
     ]
    },
    {
     "name": "stderr",
     "output_type": "stream",
     "text": [
      "100%|██████████████████████████████████████████████████████████████████████████████████| 23/23 [00:33<00:00,  1.44s/it]\n"
     ]
    },
    {
     "name": "stdout",
     "output_type": "stream",
     "text": [
      "loss_overall 0.24294444724269534\n",
      "epoch 322\n",
      "\n",
      "score_test_good_mean 0.5268552303314209\n",
      "score_test_good_std 0.01745220459997654\n",
      "score_test_good_min 0.4963444769382477\n",
      "score_test_good_max 0.545866847038269\n",
      "\n",
      "score_test_fail_mean 0.6209136247634888\n",
      "score_test_fail_std 0.05172498896718025\n",
      "score_test_fail_min 0.553413987159729\n",
      "score_test_fail_max 0.8002012968063354\n",
      "\n",
      "score_train_mean 0.2303093820810318\n",
      "score_train_std 0.005805764812976122\n",
      "score_train_min 0.22178113460540771\n",
      "score_train_max 0.24144500494003296\n"
     ]
    },
    {
     "name": "stderr",
     "output_type": "stream",
     "text": [
      "100%|██████████████████████████████████████████████████████████████████████████████████| 23/23 [00:33<00:00,  1.47s/it]\n"
     ]
    },
    {
     "name": "stdout",
     "output_type": "stream",
     "text": [
      "loss_overall 0.24472683538561282\n",
      "epoch 323\n",
      "\n",
      "score_test_good_mean 0.592888593673706\n",
      "score_test_good_std 0.021096736192703247\n",
      "score_test_good_min 0.5508204698562622\n",
      "score_test_good_max 0.6349788904190063\n",
      "\n",
      "score_test_fail_mean 0.7006523013114929\n",
      "score_test_fail_std 0.07988391816616058\n",
      "score_test_fail_min 0.6045500040054321\n",
      "score_test_fail_max 1.0055086612701416\n",
      "\n",
      "score_train_mean 0.2310725748538971\n",
      "score_train_std 0.005103513598442078\n",
      "score_train_min 0.2203313261270523\n",
      "score_train_max 0.24258506298065186\n"
     ]
    },
    {
     "name": "stderr",
     "output_type": "stream",
     "text": [
      "100%|██████████████████████████████████████████████████████████████████████████████████| 23/23 [00:31<00:00,  1.39s/it]\n"
     ]
    },
    {
     "name": "stdout",
     "output_type": "stream",
     "text": [
      "loss_overall 0.24572615455026212\n",
      "epoch 324\n",
      "\n",
      "score_test_good_mean 0.5296802520751953\n",
      "score_test_good_std 0.012427491135895252\n",
      "score_test_good_min 0.5078091025352478\n",
      "score_test_good_max 0.5556687116622925\n",
      "\n",
      "score_test_fail_mean 0.6380693316459656\n",
      "score_test_fail_std 0.07155139744281769\n",
      "score_test_fail_min 0.5494696497917175\n",
      "score_test_fail_max 0.8607202768325806\n",
      "\n",
      "score_train_mean 0.23190772533416748\n",
      "score_train_std 0.006486027035862207\n",
      "score_train_min 0.22094908356666565\n",
      "score_train_max 0.251544713973999\n"
     ]
    },
    {
     "name": "stderr",
     "output_type": "stream",
     "text": [
      "100%|██████████████████████████████████████████████████████████████████████████████████| 23/23 [00:31<00:00,  1.38s/it]\n"
     ]
    },
    {
     "name": "stdout",
     "output_type": "stream",
     "text": [
      "loss_overall 0.23499872438285663\n",
      "epoch 325\n",
      "\n",
      "score_test_good_mean 0.5307512879371643\n",
      "score_test_good_std 0.023231886327266693\n",
      "score_test_good_min 0.5018742084503174\n",
      "score_test_good_max 0.5665547251701355\n",
      "\n",
      "score_test_fail_mean 0.6276591420173645\n",
      "score_test_fail_std 0.04866332188248634\n",
      "score_test_fail_min 0.5505251288414001\n",
      "score_test_fail_max 0.7401310205459595\n",
      "\n",
      "score_train_mean 0.23073513805866241\n",
      "score_train_std 0.006548899691551924\n",
      "score_train_min 0.21996738016605377\n",
      "score_train_max 0.24443846940994263\n"
     ]
    },
    {
     "name": "stderr",
     "output_type": "stream",
     "text": [
      "100%|██████████████████████████████████████████████████████████████████████████████████| 23/23 [00:33<00:00,  1.45s/it]\n"
     ]
    },
    {
     "name": "stdout",
     "output_type": "stream",
     "text": [
      "loss_overall 0.2497032738250235\n",
      "epoch 326\n",
      "\n",
      "score_test_good_mean 0.6194363832473755\n",
      "score_test_good_std 0.02018868923187256\n",
      "score_test_good_min 0.595195472240448\n",
      "score_test_good_max 0.6572238802909851\n",
      "\n",
      "score_test_fail_mean 0.7245297431945801\n",
      "score_test_fail_std 0.07157053798437119\n",
      "score_test_fail_min 0.6335371732711792\n",
      "score_test_fail_max 0.8829954862594604\n",
      "\n",
      "score_train_mean 0.22871631383895874\n",
      "score_train_std 0.005591550376266241\n",
      "score_train_min 0.21598893404006958\n",
      "score_train_max 0.24212028086185455\n"
     ]
    },
    {
     "name": "stderr",
     "output_type": "stream",
     "text": [
      "100%|██████████████████████████████████████████████████████████████████████████████████| 23/23 [00:33<00:00,  1.48s/it]\n"
     ]
    },
    {
     "name": "stdout",
     "output_type": "stream",
     "text": [
      "loss_overall 0.24611093427823938\n",
      "epoch 327\n",
      "\n",
      "score_test_good_mean 0.558498203754425\n",
      "score_test_good_std 0.02014610543847084\n",
      "score_test_good_min 0.53165602684021\n",
      "score_test_good_max 0.5962722301483154\n",
      "\n",
      "score_test_fail_mean 0.664918839931488\n",
      "score_test_fail_std 0.0777105763554573\n",
      "score_test_fail_min 0.5651258230209351\n",
      "score_test_fail_max 0.9312034249305725\n",
      "\n",
      "score_train_mean 0.23272867500782013\n",
      "score_train_std 0.006679445970803499\n",
      "score_train_min 0.21761979162693024\n",
      "score_train_max 0.2406230866909027\n"
     ]
    },
    {
     "name": "stderr",
     "output_type": "stream",
     "text": [
      "100%|██████████████████████████████████████████████████████████████████████████████████| 23/23 [00:33<00:00,  1.46s/it]\n"
     ]
    },
    {
     "name": "stdout",
     "output_type": "stream",
     "text": [
      "loss_overall 0.25570625973784405\n",
      "epoch 328\n",
      "\n",
      "score_test_good_mean 0.5266305804252625\n",
      "score_test_good_std 0.023036735132336617\n",
      "score_test_good_min 0.4768696427345276\n",
      "score_test_good_max 0.5717678070068359\n",
      "\n",
      "score_test_fail_mean 0.6232956051826477\n",
      "score_test_fail_std 0.04826188087463379\n",
      "score_test_fail_min 0.5097149014472961\n",
      "score_test_fail_max 0.7047770619392395\n",
      "\n",
      "score_train_mean 0.23303070664405823\n",
      "score_train_std 0.005180867854505777\n",
      "score_train_min 0.22379882633686066\n",
      "score_train_max 0.24414147436618805\n"
     ]
    },
    {
     "name": "stderr",
     "output_type": "stream",
     "text": [
      "100%|██████████████████████████████████████████████████████████████████████████████████| 23/23 [00:33<00:00,  1.46s/it]\n"
     ]
    },
    {
     "name": "stdout",
     "output_type": "stream",
     "text": [
      "loss_overall 0.23860306001227835\n",
      "epoch 329\n",
      "\n",
      "score_test_good_mean 0.5437824726104736\n",
      "score_test_good_std 0.01740318350493908\n",
      "score_test_good_min 0.5067590475082397\n",
      "score_test_good_max 0.573666512966156\n",
      "\n",
      "score_test_fail_mean 0.6562772989273071\n",
      "score_test_fail_std 0.07973779737949371\n",
      "score_test_fail_min 0.5839078426361084\n",
      "score_test_fail_max 0.986981213092804\n",
      "\n",
      "score_train_mean 0.2294773906469345\n",
      "score_train_std 0.005600486882030964\n",
      "score_train_min 0.21934224665164948\n",
      "score_train_max 0.24124160408973694\n"
     ]
    },
    {
     "name": "stderr",
     "output_type": "stream",
     "text": [
      "100%|██████████████████████████████████████████████████████████████████████████████████| 23/23 [00:34<00:00,  1.49s/it]\n"
     ]
    },
    {
     "name": "stdout",
     "output_type": "stream",
     "text": [
      "loss_overall 0.2364352241806362\n",
      "epoch 330\n",
      "\n",
      "score_test_good_mean 0.5349458456039429\n",
      "score_test_good_std 0.023662826046347618\n",
      "score_test_good_min 0.49317359924316406\n",
      "score_test_good_max 0.5735204219818115\n",
      "\n",
      "score_test_fail_mean 0.6390582323074341\n",
      "score_test_fail_std 0.09393873065710068\n",
      "score_test_fail_min 0.5256484746932983\n",
      "score_test_fail_max 0.9493483304977417\n",
      "\n",
      "score_train_mean 0.22864505648612976\n",
      "score_train_std 0.005316090304404497\n",
      "score_train_min 0.21761751174926758\n",
      "score_train_max 0.24344375729560852\n"
     ]
    },
    {
     "name": "stderr",
     "output_type": "stream",
     "text": [
      "100%|██████████████████████████████████████████████████████████████████████████████████| 23/23 [00:36<00:00,  1.58s/it]\n"
     ]
    },
    {
     "name": "stdout",
     "output_type": "stream",
     "text": [
      "loss_overall 0.2463556152323018\n",
      "epoch 331\n",
      "\n",
      "score_test_good_mean 0.5685698390007019\n",
      "score_test_good_std 0.01711568981409073\n",
      "score_test_good_min 0.540442705154419\n",
      "score_test_good_max 0.5930086970329285\n",
      "\n",
      "score_test_fail_mean 0.6579318046569824\n",
      "score_test_fail_std 0.061380788683891296\n",
      "score_test_fail_min 0.5781330466270447\n",
      "score_test_fail_max 0.7926986217498779\n",
      "\n",
      "score_train_mean 0.23286443948745728\n",
      "score_train_std 0.006658025551587343\n",
      "score_train_min 0.217293381690979\n",
      "score_train_max 0.24684564769268036\n"
     ]
    },
    {
     "name": "stderr",
     "output_type": "stream",
     "text": [
      "100%|██████████████████████████████████████████████████████████████████████████████████| 23/23 [00:32<00:00,  1.43s/it]\n"
     ]
    },
    {
     "name": "stdout",
     "output_type": "stream",
     "text": [
      "loss_overall 0.2503062162710273\n",
      "epoch 332\n",
      "\n",
      "score_test_good_mean 0.5474270582199097\n",
      "score_test_good_std 0.018161045387387276\n",
      "score_test_good_min 0.5241600871086121\n",
      "score_test_good_max 0.5805729031562805\n",
      "\n",
      "score_test_fail_mean 0.6512698531150818\n",
      "score_test_fail_std 0.06328993290662766\n",
      "score_test_fail_min 0.5648840069770813\n",
      "score_test_fail_max 0.8767602443695068\n",
      "\n",
      "score_train_mean 0.23060622811317444\n",
      "score_train_std 0.0071368347853422165\n",
      "score_train_min 0.2212096005678177\n",
      "score_train_max 0.24843157827854156\n"
     ]
    },
    {
     "name": "stderr",
     "output_type": "stream",
     "text": [
      "100%|██████████████████████████████████████████████████████████████████████████████████| 23/23 [00:32<00:00,  1.40s/it]\n"
     ]
    },
    {
     "name": "stdout",
     "output_type": "stream",
     "text": [
      "loss_overall 0.23684601097003274\n",
      "epoch 333\n",
      "\n",
      "score_test_good_mean 0.558346152305603\n",
      "score_test_good_std 0.02321728691458702\n",
      "score_test_good_min 0.5301940441131592\n",
      "score_test_good_max 0.6032990217208862\n",
      "\n",
      "score_test_fail_mean 0.6516616344451904\n",
      "score_test_fail_std 0.05367157608270645\n",
      "score_test_fail_min 0.5822724103927612\n",
      "score_test_fail_max 0.8009048700332642\n",
      "\n",
      "score_train_mean 0.22885459661483765\n",
      "score_train_std 0.005969949532300234\n",
      "score_train_min 0.2164553999900818\n",
      "score_train_max 0.23879611492156982\n"
     ]
    },
    {
     "name": "stderr",
     "output_type": "stream",
     "text": [
      "100%|██████████████████████████████████████████████████████████████████████████████████| 23/23 [00:33<00:00,  1.45s/it]\n"
     ]
    },
    {
     "name": "stdout",
     "output_type": "stream",
     "text": [
      "loss_overall 0.24211234955684\n",
      "epoch 334\n",
      "\n",
      "score_test_good_mean 0.5446663498878479\n",
      "score_test_good_std 0.014546350575983524\n",
      "score_test_good_min 0.5193052291870117\n",
      "score_test_good_max 0.5781188011169434\n",
      "\n",
      "score_test_fail_mean 0.6372182369232178\n",
      "score_test_fail_std 0.05381195619702339\n",
      "score_test_fail_min 0.5140151381492615\n",
      "score_test_fail_max 0.7345677018165588\n",
      "\n",
      "score_train_mean 0.2292047142982483\n",
      "score_train_std 0.0051785060204565525\n",
      "score_train_min 0.2185550332069397\n",
      "score_train_max 0.23965121805667877\n"
     ]
    },
    {
     "name": "stderr",
     "output_type": "stream",
     "text": [
      "100%|██████████████████████████████████████████████████████████████████████████████████| 23/23 [00:32<00:00,  1.42s/it]\n"
     ]
    },
    {
     "name": "stdout",
     "output_type": "stream",
     "text": [
      "loss_overall 0.2382504149623539\n",
      "epoch 335\n",
      "\n",
      "score_test_good_mean 0.5638819336891174\n",
      "score_test_good_std 0.018999366089701653\n",
      "score_test_good_min 0.5353711843490601\n",
      "score_test_good_max 0.608646810054779\n",
      "\n",
      "score_test_fail_mean 0.6582591533660889\n",
      "score_test_fail_std 0.056603461503982544\n",
      "score_test_fail_min 0.5737112164497375\n",
      "score_test_fail_max 0.7707222700119019\n",
      "\n",
      "score_train_mean 0.22807000577449799\n",
      "score_train_std 0.005277601536363363\n",
      "score_train_min 0.220739483833313\n",
      "score_train_max 0.23955956101417542\n"
     ]
    },
    {
     "name": "stderr",
     "output_type": "stream",
     "text": [
      "100%|██████████████████████████████████████████████████████████████████████████████████| 23/23 [00:33<00:00,  1.46s/it]\n"
     ]
    },
    {
     "name": "stdout",
     "output_type": "stream",
     "text": [
      "loss_overall 0.23672735755858215\n",
      "epoch 336\n",
      "\n",
      "score_test_good_mean 0.538328230381012\n",
      "score_test_good_std 0.02138761430978775\n",
      "score_test_good_min 0.49414128065109253\n",
      "score_test_good_max 0.5655663013458252\n",
      "\n",
      "score_test_fail_mean 0.6341836452484131\n",
      "score_test_fail_std 0.05784869194030762\n",
      "score_test_fail_min 0.5290255546569824\n",
      "score_test_fail_max 0.7725498676300049\n",
      "\n",
      "score_train_mean 0.22810515761375427\n",
      "score_train_std 0.004321757238358259\n",
      "score_train_min 0.2195620834827423\n",
      "score_train_max 0.2381705343723297\n"
     ]
    },
    {
     "name": "stderr",
     "output_type": "stream",
     "text": [
      "100%|██████████████████████████████████████████████████████████████████████████████████| 23/23 [00:34<00:00,  1.49s/it]\n"
     ]
    },
    {
     "name": "stdout",
     "output_type": "stream",
     "text": [
      "loss_overall 0.24219934318376624\n",
      "epoch 337\n",
      "\n",
      "score_test_good_mean 0.5224807858467102\n",
      "score_test_good_std 0.019616682082414627\n",
      "score_test_good_min 0.48770374059677124\n",
      "score_test_good_max 0.5567238926887512\n",
      "\n",
      "score_test_fail_mean 0.6271162629127502\n",
      "score_test_fail_std 0.07291440665721893\n",
      "score_test_fail_min 0.5307696461677551\n",
      "score_test_fail_max 0.8718903064727783\n",
      "\n",
      "score_train_mean 0.22810900211334229\n",
      "score_train_std 0.005216928198933601\n",
      "score_train_min 0.21994224190711975\n",
      "score_train_max 0.23821327090263367\n"
     ]
    },
    {
     "name": "stderr",
     "output_type": "stream",
     "text": [
      "100%|██████████████████████████████████████████████████████████████████████████████████| 23/23 [00:32<00:00,  1.40s/it]\n"
     ]
    },
    {
     "name": "stdout",
     "output_type": "stream",
     "text": [
      "loss_overall 0.23694789215274478\n",
      "epoch 338\n",
      "\n",
      "score_test_good_mean 0.5329985618591309\n",
      "score_test_good_std 0.016704175621271133\n",
      "score_test_good_min 0.504813015460968\n",
      "score_test_good_max 0.5685430765151978\n",
      "\n",
      "score_test_fail_mean 0.6404016613960266\n",
      "score_test_fail_std 0.06461188942193985\n",
      "score_test_fail_min 0.577951192855835\n",
      "score_test_fail_max 0.8476479053497314\n",
      "\n",
      "score_train_mean 0.22740818560123444\n",
      "score_train_std 0.005460836924612522\n",
      "score_train_min 0.2177143543958664\n",
      "score_train_max 0.23820428550243378\n"
     ]
    },
    {
     "name": "stderr",
     "output_type": "stream",
     "text": [
      "100%|██████████████████████████████████████████████████████████████████████████████████| 23/23 [00:32<00:00,  1.41s/it]\n"
     ]
    },
    {
     "name": "stdout",
     "output_type": "stream",
     "text": [
      "loss_overall 0.2443171545215275\n",
      "epoch 339\n",
      "\n",
      "score_test_good_mean 0.5492302775382996\n",
      "score_test_good_std 0.02127351053059101\n",
      "score_test_good_min 0.5119537711143494\n",
      "score_test_good_max 0.5896991491317749\n",
      "\n",
      "score_test_fail_mean 0.645317554473877\n",
      "score_test_fail_std 0.05423920229077339\n",
      "score_test_fail_min 0.5506402850151062\n",
      "score_test_fail_max 0.7579343318939209\n",
      "\n",
      "score_train_mean 0.23002183437347412\n",
      "score_train_std 0.004953754134476185\n",
      "score_train_min 0.22201526165008545\n",
      "score_train_max 0.23989062011241913\n"
     ]
    },
    {
     "name": "stderr",
     "output_type": "stream",
     "text": [
      "100%|██████████████████████████████████████████████████████████████████████████████████| 23/23 [00:32<00:00,  1.43s/it]\n"
     ]
    },
    {
     "name": "stdout",
     "output_type": "stream",
     "text": [
      "loss_overall 0.24364133697489035\n",
      "epoch 340\n",
      "\n",
      "score_test_good_mean 0.6695635914802551\n",
      "score_test_good_std 0.0244973786175251\n",
      "score_test_good_min 0.6349139213562012\n",
      "score_test_good_max 0.7090632915496826\n",
      "\n",
      "score_test_fail_mean 0.7748502492904663\n",
      "score_test_fail_std 0.07979357987642288\n",
      "score_test_fail_min 0.6889475584030151\n",
      "score_test_fail_max 1.0809370279312134\n",
      "\n",
      "score_train_mean 0.23118956387043\n",
      "score_train_std 0.0050040800124406815\n",
      "score_train_min 0.22362323105335236\n",
      "score_train_max 0.24219615757465363\n"
     ]
    },
    {
     "name": "stderr",
     "output_type": "stream",
     "text": [
      "100%|██████████████████████████████████████████████████████████████████████████████████| 23/23 [00:33<00:00,  1.47s/it]\n"
     ]
    },
    {
     "name": "stdout",
     "output_type": "stream",
     "text": [
      "loss_overall 0.24634586080260898\n",
      "epoch 341\n",
      "\n",
      "score_test_good_mean 0.5333685278892517\n",
      "score_test_good_std 0.016299348324537277\n",
      "score_test_good_min 0.49708279967308044\n",
      "score_test_good_max 0.5576393604278564\n",
      "\n",
      "score_test_fail_mean 0.6286618709564209\n",
      "score_test_fail_std 0.046892065554857254\n",
      "score_test_fail_min 0.5346571803092957\n",
      "score_test_fail_max 0.7484752535820007\n",
      "\n",
      "score_train_mean 0.23366747796535492\n",
      "score_train_std 0.006597508210688829\n",
      "score_train_min 0.22240158915519714\n",
      "score_train_max 0.25028738379478455\n"
     ]
    },
    {
     "name": "stderr",
     "output_type": "stream",
     "text": [
      "100%|██████████████████████████████████████████████████████████████████████████████████| 23/23 [00:33<00:00,  1.47s/it]\n"
     ]
    },
    {
     "name": "stdout",
     "output_type": "stream",
     "text": [
      "loss_overall 0.25550991426343506\n",
      "epoch 342\n",
      "\n",
      "score_test_good_mean 0.5478935241699219\n",
      "score_test_good_std 0.020870571956038475\n",
      "score_test_good_min 0.5100749731063843\n",
      "score_test_good_max 0.5847804546356201\n",
      "\n",
      "score_test_fail_mean 0.6393834948539734\n",
      "score_test_fail_std 0.054354313760995865\n",
      "score_test_fail_min 0.5330893993377686\n",
      "score_test_fail_max 0.7843388319015503\n",
      "\n",
      "score_train_mean 0.23276303708553314\n",
      "score_train_std 0.00449035782366991\n",
      "score_train_min 0.2228202223777771\n",
      "score_train_max 0.23988571763038635\n"
     ]
    },
    {
     "name": "stderr",
     "output_type": "stream",
     "text": [
      "100%|██████████████████████████████████████████████████████████████████████████████████| 23/23 [00:32<00:00,  1.43s/it]\n"
     ]
    },
    {
     "name": "stdout",
     "output_type": "stream",
     "text": [
      "loss_overall 0.246270222508389\n",
      "epoch 343\n",
      "\n",
      "score_test_good_mean 0.5283384323120117\n",
      "score_test_good_std 0.022947311401367188\n",
      "score_test_good_min 0.4959758222103119\n",
      "score_test_good_max 0.5924131870269775\n",
      "\n",
      "score_test_fail_mean 0.6218850612640381\n",
      "score_test_fail_std 0.053473956882953644\n",
      "score_test_fail_min 0.5091479420661926\n",
      "score_test_fail_max 0.7139788269996643\n",
      "\n",
      "score_train_mean 0.2322239875793457\n",
      "score_train_std 0.005806745495647192\n",
      "score_train_min 0.22182002663612366\n",
      "score_train_max 0.24486497044563293\n"
     ]
    },
    {
     "name": "stderr",
     "output_type": "stream",
     "text": [
      "100%|██████████████████████████████████████████████████████████████████████████████████| 23/23 [00:33<00:00,  1.44s/it]\n"
     ]
    },
    {
     "name": "stdout",
     "output_type": "stream",
     "text": [
      "loss_overall 0.23838727305764737\n",
      "epoch 344\n",
      "\n",
      "score_test_good_mean 0.5122859477996826\n",
      "score_test_good_std 0.020095519721508026\n",
      "score_test_good_min 0.48318707942962646\n",
      "score_test_good_max 0.5519378185272217\n",
      "\n",
      "score_test_fail_mean 0.6135296821594238\n",
      "score_test_fail_std 0.05689569562673569\n",
      "score_test_fail_min 0.5343739986419678\n",
      "score_test_fail_max 0.75582355260849\n",
      "\n",
      "score_train_mean 0.22894860804080963\n",
      "score_train_std 0.006176040042191744\n",
      "score_train_min 0.21878688037395477\n",
      "score_train_max 0.2381945550441742\n"
     ]
    },
    {
     "name": "stderr",
     "output_type": "stream",
     "text": [
      "100%|██████████████████████████████████████████████████████████████████████████████████| 23/23 [00:32<00:00,  1.40s/it]\n"
     ]
    },
    {
     "name": "stdout",
     "output_type": "stream",
     "text": [
      "loss_overall 0.22471383861873462\n",
      "epoch 345\n",
      "\n",
      "score_test_good_mean 0.5035032033920288\n",
      "score_test_good_std 0.02368442341685295\n",
      "score_test_good_min 0.46092772483825684\n",
      "score_test_good_max 0.5436435341835022\n",
      "\n",
      "score_test_fail_mean 0.5976022481918335\n",
      "score_test_fail_std 0.04250200837850571\n",
      "score_test_fail_min 0.47548454999923706\n",
      "score_test_fail_max 0.689717710018158\n",
      "\n",
      "score_train_mean 0.22753144800662994\n",
      "score_train_std 0.005546023603528738\n",
      "score_train_min 0.21922583878040314\n",
      "score_train_max 0.24100914597511292\n"
     ]
    },
    {
     "name": "stderr",
     "output_type": "stream",
     "text": [
      "100%|██████████████████████████████████████████████████████████████████████████████████| 23/23 [00:32<00:00,  1.43s/it]\n"
     ]
    },
    {
     "name": "stdout",
     "output_type": "stream",
     "text": [
      "loss_overall 0.23521518512912418\n",
      "epoch 346\n",
      "\n",
      "score_test_good_mean 0.5151283740997314\n",
      "score_test_good_std 0.01438836008310318\n",
      "score_test_good_min 0.4914933145046234\n",
      "score_test_good_max 0.5514928102493286\n",
      "\n",
      "score_test_fail_mean 0.6114811897277832\n",
      "score_test_fail_std 0.05370938032865524\n",
      "score_test_fail_min 0.5308518409729004\n",
      "score_test_fail_max 0.73491370677948\n",
      "\n",
      "score_train_mean 0.22628392279148102\n",
      "score_train_std 0.006275898776948452\n",
      "score_train_min 0.21731576323509216\n",
      "score_train_max 0.24785225093364716\n"
     ]
    },
    {
     "name": "stderr",
     "output_type": "stream",
     "text": [
      "100%|██████████████████████████████████████████████████████████████████████████████████| 23/23 [00:31<00:00,  1.39s/it]\n"
     ]
    },
    {
     "name": "stdout",
     "output_type": "stream",
     "text": [
      "loss_overall 0.2357615984004477\n",
      "epoch 347\n",
      "\n",
      "score_test_good_mean 0.5416659712791443\n",
      "score_test_good_std 0.01678789220750332\n",
      "score_test_good_min 0.5259695053100586\n",
      "score_test_good_max 0.5739444494247437\n",
      "\n",
      "score_test_fail_mean 0.6333982348442078\n",
      "score_test_fail_std 0.04579101502895355\n",
      "score_test_fail_min 0.549116313457489\n",
      "score_test_fail_max 0.7254194021224976\n",
      "\n",
      "score_train_mean 0.2280566245317459\n",
      "score_train_std 0.004063342697918415\n",
      "score_train_min 0.21961893141269684\n",
      "score_train_max 0.23589599132537842\n"
     ]
    },
    {
     "name": "stderr",
     "output_type": "stream",
     "text": [
      "100%|██████████████████████████████████████████████████████████████████████████████████| 23/23 [00:32<00:00,  1.42s/it]\n"
     ]
    },
    {
     "name": "stdout",
     "output_type": "stream",
     "text": [
      "loss_overall 0.23723755388156229\n",
      "epoch 348\n",
      "\n",
      "score_test_good_mean 0.5170817375183105\n",
      "score_test_good_std 0.017215054482221603\n",
      "score_test_good_min 0.48534679412841797\n",
      "score_test_good_max 0.5418381094932556\n",
      "\n",
      "score_test_fail_mean 0.6111598014831543\n",
      "score_test_fail_std 0.0562557652592659\n",
      "score_test_fail_min 0.46137240529060364\n",
      "score_test_fail_max 0.6990873217582703\n",
      "\n",
      "score_train_mean 0.22908754646778107\n",
      "score_train_std 0.006736417766660452\n",
      "score_train_min 0.21799102425575256\n",
      "score_train_max 0.24912071228027344\n"
     ]
    },
    {
     "name": "stderr",
     "output_type": "stream",
     "text": [
      "100%|██████████████████████████████████████████████████████████████████████████████████| 23/23 [00:33<00:00,  1.47s/it]\n"
     ]
    },
    {
     "name": "stdout",
     "output_type": "stream",
     "text": [
      "loss_overall 0.24491391946440158\n",
      "epoch 349\n",
      "\n",
      "score_test_good_mean 0.5169621109962463\n",
      "score_test_good_std 0.014641613699495792\n",
      "score_test_good_min 0.4936807155609131\n",
      "score_test_good_max 0.5442888140678406\n",
      "\n",
      "score_test_fail_mean 0.6140960454940796\n",
      "score_test_fail_std 0.0499393567442894\n",
      "score_test_fail_min 0.5403565168380737\n",
      "score_test_fail_max 0.7300848364830017\n",
      "\n",
      "score_train_mean 0.22978778183460236\n",
      "score_train_std 0.006231394130736589\n",
      "score_train_min 0.21812692284584045\n",
      "score_train_max 0.24787680804729462\n"
     ]
    },
    {
     "name": "stderr",
     "output_type": "stream",
     "text": [
      "100%|██████████████████████████████████████████████████████████████████████████████████| 23/23 [00:32<00:00,  1.41s/it]\n"
     ]
    },
    {
     "name": "stdout",
     "output_type": "stream",
     "text": [
      "loss_overall 0.24049428753230884\n",
      "epoch 350\n",
      "\n",
      "score_test_good_mean 0.5966179966926575\n",
      "score_test_good_std 0.023085521534085274\n",
      "score_test_good_min 0.5615564584732056\n",
      "score_test_good_max 0.6406683325767517\n",
      "\n",
      "score_test_fail_mean 0.6933824419975281\n",
      "score_test_fail_std 0.06842569261789322\n",
      "score_test_fail_min 0.5994926691055298\n",
      "score_test_fail_max 0.8357955813407898\n",
      "\n",
      "score_train_mean 0.22904649376869202\n",
      "score_train_std 0.005446725524961948\n",
      "score_train_min 0.22023291885852814\n",
      "score_train_max 0.24098046123981476\n"
     ]
    },
    {
     "name": "stderr",
     "output_type": "stream",
     "text": [
      "100%|██████████████████████████████████████████████████████████████████████████████████| 23/23 [00:34<00:00,  1.48s/it]\n"
     ]
    },
    {
     "name": "stdout",
     "output_type": "stream",
     "text": [
      "loss_overall 0.24176932417828104\n",
      "epoch 351\n",
      "\n",
      "score_test_good_mean 0.545883297920227\n",
      "score_test_good_std 0.019329385831952095\n",
      "score_test_good_min 0.5100072622299194\n",
      "score_test_good_max 0.5777841806411743\n",
      "\n",
      "score_test_fail_mean 0.6382237076759338\n",
      "score_test_fail_std 0.05327283963561058\n",
      "score_test_fail_min 0.5087871551513672\n",
      "score_test_fail_max 0.7273091077804565\n",
      "\n",
      "score_train_mean 0.22939299046993256\n",
      "score_train_std 0.005789592862129211\n",
      "score_train_min 0.2189522534608841\n",
      "score_train_max 0.2378278225660324\n"
     ]
    },
    {
     "name": "stderr",
     "output_type": "stream",
     "text": [
      "100%|██████████████████████████████████████████████████████████████████████████████████| 23/23 [00:33<00:00,  1.46s/it]\n"
     ]
    },
    {
     "name": "stdout",
     "output_type": "stream",
     "text": [
      "loss_overall 0.23422094272530597\n",
      "epoch 352\n",
      "\n",
      "score_test_good_mean 0.5350821018218994\n",
      "score_test_good_std 0.02181781455874443\n",
      "score_test_good_min 0.5016049146652222\n",
      "score_test_good_max 0.5767085552215576\n",
      "\n",
      "score_test_fail_mean 0.6297237277030945\n",
      "score_test_fail_std 0.04785875976085663\n",
      "score_test_fail_min 0.5424554347991943\n",
      "score_test_fail_max 0.7530195116996765\n",
      "\n",
      "score_train_mean 0.22770069539546967\n",
      "score_train_std 0.006001654546707869\n",
      "score_train_min 0.21723401546478271\n",
      "score_train_max 0.23723357915878296\n"
     ]
    },
    {
     "name": "stderr",
     "output_type": "stream",
     "text": [
      "100%|██████████████████████████████████████████████████████████████████████████████████| 23/23 [00:33<00:00,  1.44s/it]\n"
     ]
    },
    {
     "name": "stdout",
     "output_type": "stream",
     "text": [
      "loss_overall 0.24531578110611957\n",
      "epoch 353\n",
      "\n",
      "score_test_good_mean 0.6917746067047119\n",
      "score_test_good_std 0.0244896300137043\n",
      "score_test_good_min 0.6510387659072876\n",
      "score_test_good_max 0.7342032790184021\n",
      "\n",
      "score_test_fail_mean 0.7838966250419617\n",
      "score_test_fail_std 0.03851579502224922\n",
      "score_test_fail_min 0.7052097916603088\n",
      "score_test_fail_max 0.8745638132095337\n",
      "\n",
      "score_train_mean 0.2305631786584854\n",
      "score_train_std 0.006286147981882095\n",
      "score_train_min 0.2191937416791916\n",
      "score_train_max 0.2445431500673294\n"
     ]
    },
    {
     "name": "stderr",
     "output_type": "stream",
     "text": [
      "100%|██████████████████████████████████████████████████████████████████████████████████| 23/23 [00:33<00:00,  1.46s/it]\n"
     ]
    },
    {
     "name": "stdout",
     "output_type": "stream",
     "text": [
      "loss_overall 0.240315071914507\n",
      "epoch 354\n",
      "\n",
      "score_test_good_mean 0.5362611413002014\n",
      "score_test_good_std 0.018091989681124687\n",
      "score_test_good_min 0.5058301091194153\n",
      "score_test_good_max 0.5853576064109802\n",
      "\n",
      "score_test_fail_mean 0.6416268348693848\n",
      "score_test_fail_std 0.06684774160385132\n",
      "score_test_fail_min 0.5480630397796631\n",
      "score_test_fail_max 0.8499428629875183\n",
      "\n",
      "score_train_mean 0.23087109625339508\n",
      "score_train_std 0.0045271022245287895\n",
      "score_train_min 0.220827117562294\n",
      "score_train_max 0.23863358795642853\n"
     ]
    },
    {
     "name": "stderr",
     "output_type": "stream",
     "text": [
      "100%|██████████████████████████████████████████████████████████████████████████████████| 23/23 [00:34<00:00,  1.52s/it]\n"
     ]
    },
    {
     "name": "stdout",
     "output_type": "stream",
     "text": [
      "loss_overall 0.2488214082044104\n",
      "epoch 355\n",
      "\n",
      "score_test_good_mean 0.545053243637085\n",
      "score_test_good_std 0.019516611471772194\n",
      "score_test_good_min 0.5070412158966064\n",
      "score_test_good_max 0.5703966617584229\n",
      "\n",
      "score_test_fail_mean 0.643781840801239\n",
      "score_test_fail_std 0.05869821086525917\n",
      "score_test_fail_min 0.5621903538703918\n",
      "score_test_fail_max 0.8215412497520447\n",
      "\n",
      "score_train_mean 0.23059183359146118\n",
      "score_train_std 0.005208775866776705\n",
      "score_train_min 0.22146132588386536\n",
      "score_train_max 0.24171182513237\n"
     ]
    },
    {
     "name": "stderr",
     "output_type": "stream",
     "text": [
      "100%|██████████████████████████████████████████████████████████████████████████████████| 23/23 [00:34<00:00,  1.48s/it]\n"
     ]
    },
    {
     "name": "stdout",
     "output_type": "stream",
     "text": [
      "loss_overall 0.23505509288414664\n",
      "epoch 356\n",
      "\n",
      "score_test_good_mean 0.5206167101860046\n",
      "score_test_good_std 0.020040830597281456\n",
      "score_test_good_min 0.4946737289428711\n",
      "score_test_good_max 0.5520159602165222\n",
      "\n",
      "score_test_fail_mean 0.6180555820465088\n",
      "score_test_fail_std 0.048188526183366776\n",
      "score_test_fail_min 0.5346429347991943\n",
      "score_test_fail_max 0.7223770022392273\n",
      "\n",
      "score_train_mean 0.22885793447494507\n",
      "score_train_std 0.0050827800296247005\n",
      "score_train_min 0.22105886042118073\n",
      "score_train_max 0.23858101665973663\n"
     ]
    },
    {
     "name": "stderr",
     "output_type": "stream",
     "text": [
      "100%|██████████████████████████████████████████████████████████████████████████████████| 23/23 [00:32<00:00,  1.40s/it]\n"
     ]
    },
    {
     "name": "stdout",
     "output_type": "stream",
     "text": [
      "loss_overall 0.24025868332904318\n",
      "epoch 357\n",
      "\n",
      "score_test_good_mean 0.5267148017883301\n",
      "score_test_good_std 0.02307334914803505\n",
      "score_test_good_min 0.4979327321052551\n",
      "score_test_good_max 0.5918346643447876\n",
      "\n",
      "score_test_fail_mean 0.6208994388580322\n",
      "score_test_fail_std 0.05728990584611893\n",
      "score_test_fail_min 0.49651336669921875\n",
      "score_test_fail_max 0.7470516562461853\n",
      "\n",
      "score_train_mean 0.22844268381595612\n",
      "score_train_std 0.005620251409709454\n",
      "score_train_min 0.21604523062705994\n",
      "score_train_max 0.23693843185901642\n"
     ]
    },
    {
     "name": "stderr",
     "output_type": "stream",
     "text": [
      "100%|██████████████████████████████████████████████████████████████████████████████████| 23/23 [00:33<00:00,  1.44s/it]\n"
     ]
    },
    {
     "name": "stdout",
     "output_type": "stream",
     "text": [
      "loss_overall 0.23541167184062625\n",
      "epoch 358\n",
      "\n",
      "score_test_good_mean 0.557049572467804\n",
      "score_test_good_std 0.013932501897215843\n",
      "score_test_good_min 0.5306952595710754\n",
      "score_test_good_max 0.5785908102989197\n",
      "\n",
      "score_test_fail_mean 0.6538282632827759\n",
      "score_test_fail_std 0.05690489709377289\n",
      "score_test_fail_min 0.5578937530517578\n",
      "score_test_fail_max 0.7856919765472412\n",
      "\n",
      "score_train_mean 0.2274523228406906\n",
      "score_train_std 0.0055000255815684795\n",
      "score_train_min 0.22028321027755737\n",
      "score_train_max 0.24543575942516327\n"
     ]
    },
    {
     "name": "stderr",
     "output_type": "stream",
     "text": [
      "100%|██████████████████████████████████████████████████████████████████████████████████| 23/23 [00:33<00:00,  1.44s/it]\n"
     ]
    },
    {
     "name": "stdout",
     "output_type": "stream",
     "text": [
      "loss_overall 0.23995742914469345\n",
      "epoch 359\n",
      "\n",
      "score_test_good_mean 0.6144332885742188\n",
      "score_test_good_std 0.028326570987701416\n",
      "score_test_good_min 0.5648101568222046\n",
      "score_test_good_max 0.6632073521614075\n",
      "\n",
      "score_test_fail_mean 0.7129631042480469\n",
      "score_test_fail_std 0.038443803787231445\n",
      "score_test_fail_min 0.6348487138748169\n",
      "score_test_fail_max 0.7809528708457947\n",
      "\n",
      "score_train_mean 0.22803747653961182\n",
      "score_train_std 0.005235868040472269\n",
      "score_train_min 0.21894125640392303\n",
      "score_train_max 0.24044504761695862\n"
     ]
    },
    {
     "name": "stderr",
     "output_type": "stream",
     "text": [
      "100%|██████████████████████████████████████████████████████████████████████████████████| 23/23 [00:34<00:00,  1.50s/it]\n"
     ]
    },
    {
     "name": "stdout",
     "output_type": "stream",
     "text": [
      "loss_overall 0.23683659537978793\n",
      "epoch 360\n",
      "\n",
      "score_test_good_mean 0.5499887466430664\n",
      "score_test_good_std 0.013715649023652077\n",
      "score_test_good_min 0.5256274938583374\n",
      "score_test_good_max 0.5748991370201111\n",
      "\n",
      "score_test_fail_mean 0.6421014666557312\n",
      "score_test_fail_std 0.053791310638189316\n",
      "score_test_fail_min 0.48641642928123474\n",
      "score_test_fail_max 0.7240327000617981\n",
      "\n",
      "score_train_mean 0.22710424661636353\n",
      "score_train_std 0.004707637708634138\n",
      "score_train_min 0.21612241864204407\n",
      "score_train_max 0.23412048816680908\n"
     ]
    },
    {
     "name": "stderr",
     "output_type": "stream",
     "text": [
      "100%|██████████████████████████████████████████████████████████████████████████████████| 23/23 [00:33<00:00,  1.46s/it]\n"
     ]
    },
    {
     "name": "stdout",
     "output_type": "stream",
     "text": [
      "loss_overall 0.23770002048948538\n",
      "epoch 361\n",
      "\n",
      "score_test_good_mean 0.5439504384994507\n",
      "score_test_good_std 0.021212177351117134\n",
      "score_test_good_min 0.5162661671638489\n",
      "score_test_good_max 0.5918523669242859\n",
      "\n",
      "score_test_fail_mean 0.6407015919685364\n",
      "score_test_fail_std 0.047367047518491745\n",
      "score_test_fail_min 0.5608313083648682\n",
      "score_test_fail_max 0.7054659724235535\n",
      "\n",
      "score_train_mean 0.22825464606285095\n",
      "score_train_std 0.006027156487107277\n",
      "score_train_min 0.21954478323459625\n",
      "score_train_max 0.24048610031604767\n"
     ]
    },
    {
     "name": "stderr",
     "output_type": "stream",
     "text": [
      "100%|██████████████████████████████████████████████████████████████████████████████████| 23/23 [00:32<00:00,  1.40s/it]\n"
     ]
    },
    {
     "name": "stdout",
     "output_type": "stream",
     "text": [
      "loss_overall 0.234668783519579\n",
      "epoch 362\n",
      "\n",
      "score_test_good_mean 0.5227895975112915\n",
      "score_test_good_std 0.01607814058661461\n",
      "score_test_good_min 0.4990318715572357\n",
      "score_test_good_max 0.5607914328575134\n",
      "\n",
      "score_test_fail_mean 0.6146041750907898\n",
      "score_test_fail_std 0.04968198761343956\n",
      "score_test_fail_min 0.5360583662986755\n",
      "score_test_fail_max 0.700279951095581\n",
      "\n",
      "score_train_mean 0.22519704699516296\n",
      "score_train_std 0.004196536727249622\n",
      "score_train_min 0.21942023932933807\n",
      "score_train_max 0.23677584528923035\n"
     ]
    },
    {
     "name": "stderr",
     "output_type": "stream",
     "text": [
      "100%|██████████████████████████████████████████████████████████████████████████████████| 23/23 [00:32<00:00,  1.43s/it]\n"
     ]
    },
    {
     "name": "stdout",
     "output_type": "stream",
     "text": [
      "loss_overall 0.23423830711323282\n",
      "epoch 363\n",
      "\n",
      "score_test_good_mean 0.6694080829620361\n",
      "score_test_good_std 0.012365858070552349\n",
      "score_test_good_min 0.6438510417938232\n",
      "score_test_good_max 0.6873559355735779\n",
      "\n",
      "score_test_fail_mean 0.7660894989967346\n",
      "score_test_fail_std 0.041176386177539825\n",
      "score_test_fail_min 0.690912127494812\n",
      "score_test_fail_max 0.862679123878479\n",
      "\n",
      "score_train_mean 0.22626951336860657\n",
      "score_train_std 0.006332327611744404\n",
      "score_train_min 0.2171991616487503\n",
      "score_train_max 0.2423582524061203\n"
     ]
    },
    {
     "name": "stderr",
     "output_type": "stream",
     "text": [
      "100%|██████████████████████████████████████████████████████████████████████████████████| 23/23 [00:32<00:00,  1.43s/it]\n"
     ]
    },
    {
     "name": "stdout",
     "output_type": "stream",
     "text": [
      "loss_overall 0.23387839288815207\n",
      "epoch 364\n",
      "\n",
      "score_test_good_mean 0.5205504298210144\n",
      "score_test_good_std 0.0238408874720335\n",
      "score_test_good_min 0.4886203110218048\n",
      "score_test_good_max 0.570895791053772\n",
      "\n",
      "score_test_fail_mean 0.6158493757247925\n",
      "score_test_fail_std 0.05975129082798958\n",
      "score_test_fail_min 0.5459024310112\n",
      "score_test_fail_max 0.7712183594703674\n",
      "\n",
      "score_train_mean 0.22914297878742218\n",
      "score_train_std 0.005518924444913864\n",
      "score_train_min 0.2210080623626709\n",
      "score_train_max 0.24438492953777313\n"
     ]
    },
    {
     "name": "stderr",
     "output_type": "stream",
     "text": [
      "100%|██████████████████████████████████████████████████████████████████████████████████| 23/23 [00:33<00:00,  1.44s/it]\n"
     ]
    },
    {
     "name": "stdout",
     "output_type": "stream",
     "text": [
      "loss_overall 0.23551905090394226\n",
      "epoch 365\n",
      "\n",
      "score_test_good_mean 0.5495339632034302\n",
      "score_test_good_std 0.023631572723388672\n",
      "score_test_good_min 0.5019612312316895\n",
      "score_test_good_max 0.5850161910057068\n",
      "\n",
      "score_test_fail_mean 0.6429969072341919\n",
      "score_test_fail_std 0.04145815968513489\n",
      "score_test_fail_min 0.5659357309341431\n",
      "score_test_fail_max 0.7403532862663269\n",
      "\n",
      "score_train_mean 0.22644510865211487\n",
      "score_train_std 0.006767261307686567\n",
      "score_train_min 0.21403558552265167\n",
      "score_train_max 0.24335089325904846\n"
     ]
    },
    {
     "name": "stderr",
     "output_type": "stream",
     "text": [
      "100%|██████████████████████████████████████████████████████████████████████████████████| 23/23 [00:32<00:00,  1.43s/it]\n"
     ]
    },
    {
     "name": "stdout",
     "output_type": "stream",
     "text": [
      "loss_overall 0.23363963287809622\n",
      "epoch 366\n",
      "\n",
      "score_test_good_mean 0.5132372379302979\n",
      "score_test_good_std 0.023441258817911148\n",
      "score_test_good_min 0.48060208559036255\n",
      "score_test_good_max 0.5587396621704102\n",
      "\n",
      "score_test_fail_mean 0.6178985834121704\n",
      "score_test_fail_std 0.06006835028529167\n",
      "score_test_fail_min 0.5395019054412842\n",
      "score_test_fail_max 0.7914422154426575\n",
      "\n",
      "score_train_mean 0.2278599888086319\n",
      "score_train_std 0.0056918589398264885\n",
      "score_train_min 0.21786662936210632\n",
      "score_train_max 0.2372688353061676\n"
     ]
    },
    {
     "name": "stderr",
     "output_type": "stream",
     "text": [
      "100%|██████████████████████████████████████████████████████████████████████████████████| 23/23 [00:33<00:00,  1.47s/it]\n"
     ]
    },
    {
     "name": "stdout",
     "output_type": "stream",
     "text": [
      "loss_overall 0.23879178710605786\n",
      "epoch 367\n",
      "\n",
      "score_test_good_mean 0.5605611801147461\n",
      "score_test_good_std 0.016540156677365303\n",
      "score_test_good_min 0.5215260982513428\n",
      "score_test_good_max 0.5858446359634399\n",
      "\n",
      "score_test_fail_mean 0.6570210456848145\n",
      "score_test_fail_std 0.04734642058610916\n",
      "score_test_fail_min 0.5654918551445007\n",
      "score_test_fail_max 0.7792226672172546\n",
      "\n",
      "score_train_mean 0.22838068008422852\n",
      "score_train_std 0.00772681413218379\n",
      "score_train_min 0.21683697402477264\n",
      "score_train_max 0.24660469591617584\n"
     ]
    },
    {
     "name": "stderr",
     "output_type": "stream",
     "text": [
      "100%|██████████████████████████████████████████████████████████████████████████████████| 23/23 [00:31<00:00,  1.38s/it]\n"
     ]
    },
    {
     "name": "stdout",
     "output_type": "stream",
     "text": [
      "loss_overall 0.23474413998748944\n",
      "epoch 368\n",
      "\n",
      "score_test_good_mean 0.515482485294342\n",
      "score_test_good_std 0.021380402147769928\n",
      "score_test_good_min 0.48562896251678467\n",
      "score_test_good_max 0.5575497150421143\n",
      "\n",
      "score_test_fail_mean 0.6109740138053894\n",
      "score_test_fail_std 0.0535452626645565\n",
      "score_test_fail_min 0.5301729440689087\n",
      "score_test_fail_max 0.7299033999443054\n",
      "\n",
      "score_train_mean 0.2278231382369995\n",
      "score_train_std 0.006355438847094774\n",
      "score_train_min 0.21585935354232788\n",
      "score_train_max 0.23949167132377625\n"
     ]
    },
    {
     "name": "stderr",
     "output_type": "stream",
     "text": [
      "100%|██████████████████████████████████████████████████████████████████████████████████| 23/23 [00:33<00:00,  1.44s/it]\n"
     ]
    },
    {
     "name": "stdout",
     "output_type": "stream",
     "text": [
      "loss_overall 0.23315857739552207\n",
      "epoch 369\n",
      "\n",
      "score_test_good_mean 0.5133583545684814\n",
      "score_test_good_std 0.018432041630148888\n",
      "score_test_good_min 0.478639155626297\n",
      "score_test_good_max 0.5415066480636597\n",
      "\n",
      "score_test_fail_mean 0.6073834300041199\n",
      "score_test_fail_std 0.05040140077471733\n",
      "score_test_fail_min 0.507442057132721\n",
      "score_test_fail_max 0.6849599480628967\n",
      "\n",
      "score_train_mean 0.22557130455970764\n",
      "score_train_std 0.005902876611799002\n",
      "score_train_min 0.21602407097816467\n",
      "score_train_max 0.23562532663345337\n"
     ]
    },
    {
     "name": "stderr",
     "output_type": "stream",
     "text": [
      "100%|██████████████████████████████████████████████████████████████████████████████████| 23/23 [00:32<00:00,  1.43s/it]\n"
     ]
    },
    {
     "name": "stdout",
     "output_type": "stream",
     "text": [
      "loss_overall 0.23650882684666177\n",
      "epoch 370\n",
      "\n",
      "score_test_good_mean 0.5508231520652771\n",
      "score_test_good_std 0.016926726326346397\n",
      "score_test_good_min 0.5173662304878235\n",
      "score_test_good_max 0.5816025137901306\n",
      "\n",
      "score_test_fail_mean 0.6523014307022095\n",
      "score_test_fail_std 0.05940410494804382\n",
      "score_test_fail_min 0.5407010316848755\n",
      "score_test_fail_max 0.7684349417686462\n",
      "\n",
      "score_train_mean 0.22657184302806854\n",
      "score_train_std 0.006152062211185694\n",
      "score_train_min 0.2169608771800995\n",
      "score_train_max 0.23894906044006348\n"
     ]
    },
    {
     "name": "stderr",
     "output_type": "stream",
     "text": [
      "100%|██████████████████████████████████████████████████████████████████████████████████| 23/23 [00:32<00:00,  1.43s/it]\n"
     ]
    },
    {
     "name": "stdout",
     "output_type": "stream",
     "text": [
      "loss_overall 0.2319606549066046\n",
      "epoch 371\n",
      "\n",
      "score_test_good_mean 0.528576672077179\n",
      "score_test_good_std 0.018983153626322746\n",
      "score_test_good_min 0.4960199296474457\n",
      "score_test_good_max 0.5578972101211548\n",
      "\n",
      "score_test_fail_mean 0.6246781945228577\n",
      "score_test_fail_std 0.054272573441267014\n",
      "score_test_fail_min 0.5213819742202759\n",
      "score_test_fail_max 0.7262690663337708\n",
      "\n",
      "score_train_mean 0.22504425048828125\n",
      "score_train_std 0.004955111537128687\n",
      "score_train_min 0.21662800014019012\n",
      "score_train_max 0.23298533260822296\n"
     ]
    },
    {
     "name": "stderr",
     "output_type": "stream",
     "text": [
      "100%|██████████████████████████████████████████████████████████████████████████████████| 23/23 [00:31<00:00,  1.39s/it]\n"
     ]
    },
    {
     "name": "stdout",
     "output_type": "stream",
     "text": [
      "loss_overall 0.2362223455439443\n",
      "epoch 372\n",
      "\n",
      "score_test_good_mean 0.5911938548088074\n",
      "score_test_good_std 0.02134815789759159\n",
      "score_test_good_min 0.5379221439361572\n",
      "score_test_good_max 0.6369878649711609\n",
      "\n",
      "score_test_fail_mean 0.704459011554718\n",
      "score_test_fail_std 0.10558851063251495\n",
      "score_test_fail_min 0.6125039458274841\n",
      "score_test_fail_max 1.1617225408554077\n",
      "\n",
      "score_train_mean 0.22495104372501373\n",
      "score_train_std 0.00624972814694047\n",
      "score_train_min 0.2145259827375412\n",
      "score_train_max 0.24146732687950134\n"
     ]
    },
    {
     "name": "stderr",
     "output_type": "stream",
     "text": [
      "100%|██████████████████████████████████████████████████████████████████████████████████| 23/23 [00:31<00:00,  1.38s/it]\n"
     ]
    },
    {
     "name": "stdout",
     "output_type": "stream",
     "text": [
      "loss_overall 0.24231827453426694\n",
      "epoch 373\n",
      "\n",
      "score_test_good_mean 0.5337198376655579\n",
      "score_test_good_std 0.022031040862202644\n",
      "score_test_good_min 0.4942856431007385\n",
      "score_test_good_max 0.5697503089904785\n",
      "\n",
      "score_test_fail_mean 0.6361758708953857\n",
      "score_test_fail_std 0.06516331434249878\n",
      "score_test_fail_min 0.5379028916358948\n",
      "score_test_fail_max 0.7947401404380798\n",
      "\n",
      "score_train_mean 0.22584034502506256\n",
      "score_train_std 0.007290612906217575\n",
      "score_train_min 0.21275316178798676\n",
      "score_train_max 0.24454553425312042\n"
     ]
    },
    {
     "name": "stderr",
     "output_type": "stream",
     "text": [
      "100%|██████████████████████████████████████████████████████████████████████████████████| 23/23 [00:31<00:00,  1.38s/it]\n"
     ]
    },
    {
     "name": "stdout",
     "output_type": "stream",
     "text": [
      "loss_overall 0.2385478596324506\n",
      "epoch 374\n",
      "\n",
      "score_test_good_mean 0.5551950335502625\n",
      "score_test_good_std 0.0178111232817173\n",
      "score_test_good_min 0.5267282724380493\n",
      "score_test_good_max 0.6029905676841736\n",
      "\n",
      "score_test_fail_mean 0.6544125080108643\n",
      "score_test_fail_std 0.044592343270778656\n",
      "score_test_fail_min 0.5736798644065857\n",
      "score_test_fail_max 0.745517373085022\n",
      "\n",
      "score_train_mean 0.2271113246679306\n",
      "score_train_std 0.00448049558326602\n",
      "score_train_min 0.21892940998077393\n",
      "score_train_max 0.23477163910865784\n"
     ]
    },
    {
     "name": "stderr",
     "output_type": "stream",
     "text": [
      "100%|██████████████████████████████████████████████████████████████████████████████████| 23/23 [00:33<00:00,  1.46s/it]\n"
     ]
    },
    {
     "name": "stdout",
     "output_type": "stream",
     "text": [
      "loss_overall 0.23472231496935306\n",
      "epoch 375\n",
      "\n",
      "score_test_good_mean 0.5356554388999939\n",
      "score_test_good_std 0.02256133407354355\n",
      "score_test_good_min 0.48978957533836365\n",
      "score_test_good_max 0.5720388293266296\n",
      "\n",
      "score_test_fail_mean 0.631395161151886\n",
      "score_test_fail_std 0.06885627657175064\n",
      "score_test_fail_min 0.5215399861335754\n",
      "score_test_fail_max 0.8383175730705261\n",
      "\n",
      "score_train_mean 0.2263934165239334\n",
      "score_train_std 0.005976434331387281\n",
      "score_train_min 0.2168143391609192\n",
      "score_train_max 0.23863860964775085\n"
     ]
    },
    {
     "name": "stderr",
     "output_type": "stream",
     "text": [
      "100%|██████████████████████████████████████████████████████████████████████████████████| 23/23 [00:33<00:00,  1.46s/it]\n"
     ]
    },
    {
     "name": "stdout",
     "output_type": "stream",
     "text": [
      "loss_overall 0.22887519196323727\n",
      "epoch 376\n",
      "\n",
      "score_test_good_mean 0.5159059762954712\n",
      "score_test_good_std 0.017605092376470566\n",
      "score_test_good_min 0.48918595910072327\n",
      "score_test_good_max 0.5434889793395996\n",
      "\n",
      "score_test_fail_mean 0.6136139631271362\n",
      "score_test_fail_std 0.054925717413425446\n",
      "score_test_fail_min 0.5241198539733887\n",
      "score_test_fail_max 0.7513890862464905\n",
      "\n",
      "score_train_mean 0.22508706152439117\n",
      "score_train_std 0.005592545960098505\n",
      "score_train_min 0.21744100749492645\n",
      "score_train_max 0.23933522403240204\n"
     ]
    },
    {
     "name": "stderr",
     "output_type": "stream",
     "text": [
      "100%|██████████████████████████████████████████████████████████████████████████████████| 23/23 [00:33<00:00,  1.46s/it]\n"
     ]
    },
    {
     "name": "stdout",
     "output_type": "stream",
     "text": [
      "loss_overall 0.23586544783219046\n",
      "epoch 377\n",
      "\n",
      "score_test_good_mean 0.5421825051307678\n",
      "score_test_good_std 0.019574178382754326\n",
      "score_test_good_min 0.5118805170059204\n",
      "score_test_good_max 0.5826179385185242\n",
      "\n",
      "score_test_fail_mean 0.639560341835022\n",
      "score_test_fail_std 0.04229804128408432\n",
      "score_test_fail_min 0.5685321092605591\n",
      "score_test_fail_max 0.7256501317024231\n",
      "\n",
      "score_train_mean 0.2255459874868393\n",
      "score_train_std 0.00882820226252079\n",
      "score_train_min 0.21125920116901398\n",
      "score_train_max 0.25538843870162964\n"
     ]
    },
    {
     "name": "stderr",
     "output_type": "stream",
     "text": [
      "100%|██████████████████████████████████████████████████████████████████████████████████| 23/23 [00:32<00:00,  1.43s/it]\n"
     ]
    },
    {
     "name": "stdout",
     "output_type": "stream",
     "text": [
      "loss_overall 0.22888345174167468\n",
      "epoch 378\n",
      "\n",
      "score_test_good_mean 0.5465099811553955\n",
      "score_test_good_std 0.025638533756136894\n",
      "score_test_good_min 0.506184995174408\n",
      "score_test_good_max 0.6031612753868103\n",
      "\n",
      "score_test_fail_mean 0.6370275616645813\n",
      "score_test_fail_std 0.05105694383382797\n",
      "score_test_fail_min 0.5625554323196411\n",
      "score_test_fail_max 0.7400683164596558\n",
      "\n",
      "score_train_mean 0.2245323359966278\n",
      "score_train_std 0.006151165347546339\n",
      "score_train_min 0.21047131717205048\n",
      "score_train_max 0.23909780383110046\n"
     ]
    },
    {
     "name": "stderr",
     "output_type": "stream",
     "text": [
      "100%|██████████████████████████████████████████████████████████████████████████████████| 23/23 [00:32<00:00,  1.43s/it]\n"
     ]
    },
    {
     "name": "stdout",
     "output_type": "stream",
     "text": [
      "loss_overall 0.2345677342103875\n",
      "epoch 379\n",
      "\n",
      "score_test_good_mean 0.5756503939628601\n",
      "score_test_good_std 0.022553572431206703\n",
      "score_test_good_min 0.5470836162567139\n",
      "score_test_good_max 0.6330463886260986\n",
      "\n",
      "score_test_fail_mean 0.678422212600708\n",
      "score_test_fail_std 0.05716020613908768\n",
      "score_test_fail_min 0.580702006816864\n",
      "score_test_fail_max 0.8318217396736145\n",
      "\n",
      "score_train_mean 0.22499381005764008\n",
      "score_train_std 0.005498552694916725\n",
      "score_train_min 0.2182372361421585\n",
      "score_train_max 0.24225236475467682\n"
     ]
    },
    {
     "name": "stderr",
     "output_type": "stream",
     "text": [
      "100%|██████████████████████████████████████████████████████████████████████████████████| 23/23 [00:33<00:00,  1.46s/it]\n"
     ]
    },
    {
     "name": "stdout",
     "output_type": "stream",
     "text": [
      "loss_overall 0.22606205810671268\n",
      "epoch 380\n",
      "\n",
      "score_test_good_mean 0.6109952926635742\n",
      "score_test_good_std 0.017936348915100098\n",
      "score_test_good_min 0.5809940695762634\n",
      "score_test_good_max 0.6445572972297668\n",
      "\n",
      "score_test_fail_mean 0.7289712429046631\n",
      "score_test_fail_std 0.18943634629249573\n",
      "score_test_fail_min 0.6076080203056335\n",
      "score_test_fail_max 1.5953503847122192\n",
      "\n",
      "score_train_mean 0.22320084273815155\n",
      "score_train_std 0.004605548921972513\n",
      "score_train_min 0.21373924612998962\n",
      "score_train_max 0.23450498282909393\n"
     ]
    },
    {
     "name": "stderr",
     "output_type": "stream",
     "text": [
      "100%|██████████████████████████████████████████████████████████████████████████████████| 23/23 [00:31<00:00,  1.39s/it]\n"
     ]
    },
    {
     "name": "stdout",
     "output_type": "stream",
     "text": [
      "loss_overall 0.22718356355376865\n",
      "epoch 381\n",
      "\n",
      "score_test_good_mean 0.5258057713508606\n",
      "score_test_good_std 0.014099200256168842\n",
      "score_test_good_min 0.5032604932785034\n",
      "score_test_good_max 0.5528289675712585\n",
      "\n",
      "score_test_fail_mean 0.621039867401123\n",
      "score_test_fail_std 0.051082905381917953\n",
      "score_test_fail_min 0.5450276136398315\n",
      "score_test_fail_max 0.7878967523574829\n",
      "\n",
      "score_train_mean 0.22506867349147797\n",
      "score_train_std 0.005363302771002054\n",
      "score_train_min 0.21785475313663483\n",
      "score_train_max 0.23936983942985535\n"
     ]
    },
    {
     "name": "stderr",
     "output_type": "stream",
     "text": [
      "100%|██████████████████████████████████████████████████████████████████████████████████| 23/23 [00:32<00:00,  1.40s/it]\n"
     ]
    },
    {
     "name": "stdout",
     "output_type": "stream",
     "text": [
      "loss_overall 0.2318962864253832\n",
      "epoch 382\n",
      "\n",
      "score_test_good_mean 0.5250874161720276\n",
      "score_test_good_std 0.017907582223415375\n",
      "score_test_good_min 0.4972233474254608\n",
      "score_test_good_max 0.5702580213546753\n",
      "\n",
      "score_test_fail_mean 0.6175324320793152\n",
      "score_test_fail_std 0.04577614367008209\n",
      "score_test_fail_min 0.48897069692611694\n",
      "score_test_fail_max 0.7058991193771362\n",
      "\n",
      "score_train_mean 0.22525081038475037\n",
      "score_train_std 0.0050485944375395775\n",
      "score_train_min 0.21642233431339264\n",
      "score_train_max 0.2329474687576294\n"
     ]
    },
    {
     "name": "stderr",
     "output_type": "stream",
     "text": [
      "100%|██████████████████████████████████████████████████████████████████████████████████| 23/23 [00:32<00:00,  1.41s/it]\n"
     ]
    },
    {
     "name": "stdout",
     "output_type": "stream",
     "text": [
      "loss_overall 0.23624208051225412\n",
      "epoch 383\n",
      "\n",
      "score_test_good_mean 0.5265358686447144\n",
      "score_test_good_std 0.020150544121861458\n",
      "score_test_good_min 0.4838063716888428\n",
      "score_test_good_max 0.5706582069396973\n",
      "\n",
      "score_test_fail_mean 0.6239978671073914\n",
      "score_test_fail_std 0.052410922944545746\n",
      "score_test_fail_min 0.5433796644210815\n",
      "score_test_fail_max 0.7177967429161072\n",
      "\n",
      "score_train_mean 0.22734735906124115\n",
      "score_train_std 0.005266962572932243\n",
      "score_train_min 0.21820540726184845\n",
      "score_train_max 0.23956303298473358\n"
     ]
    },
    {
     "name": "stderr",
     "output_type": "stream",
     "text": [
      "100%|██████████████████████████████████████████████████████████████████████████████████| 23/23 [00:32<00:00,  1.40s/it]\n"
     ]
    },
    {
     "name": "stdout",
     "output_type": "stream",
     "text": [
      "loss_overall 0.2382124928028687\n",
      "epoch 384\n",
      "\n",
      "score_test_good_mean 0.5342428684234619\n",
      "score_test_good_std 0.023708440363407135\n",
      "score_test_good_min 0.4931347966194153\n",
      "score_test_good_max 0.5866497755050659\n",
      "\n",
      "score_test_fail_mean 0.6283369660377502\n",
      "score_test_fail_std 0.05376938357949257\n",
      "score_test_fail_min 0.5245729684829712\n",
      "score_test_fail_max 0.7235878109931946\n",
      "\n",
      "score_train_mean 0.22656318545341492\n",
      "score_train_std 0.004619619809091091\n",
      "score_train_min 0.216117262840271\n",
      "score_train_max 0.23332738876342773\n"
     ]
    },
    {
     "name": "stderr",
     "output_type": "stream",
     "text": [
      "100%|██████████████████████████████████████████████████████████████████████████████████| 23/23 [00:32<00:00,  1.42s/it]\n"
     ]
    },
    {
     "name": "stdout",
     "output_type": "stream",
     "text": [
      "loss_overall 0.2380570685086043\n",
      "epoch 385\n",
      "\n",
      "score_test_good_mean 0.5266380906105042\n",
      "score_test_good_std 0.0164335910230875\n",
      "score_test_good_min 0.4911969304084778\n",
      "score_test_good_max 0.5504111647605896\n",
      "\n",
      "score_test_fail_mean 0.6198108792304993\n",
      "score_test_fail_std 0.0461556501686573\n",
      "score_test_fail_min 0.5295428037643433\n",
      "score_test_fail_max 0.7322560548782349\n",
      "\n",
      "score_train_mean 0.22731833159923553\n",
      "score_train_std 0.005862479098141193\n",
      "score_train_min 0.21766945719718933\n",
      "score_train_max 0.24148251116275787\n"
     ]
    },
    {
     "name": "stderr",
     "output_type": "stream",
     "text": [
      "100%|██████████████████████████████████████████████████████████████████████████████████| 23/23 [00:33<00:00,  1.45s/it]\n"
     ]
    },
    {
     "name": "stdout",
     "output_type": "stream",
     "text": [
      "loss_overall 0.23180026204689688\n",
      "epoch 386\n",
      "\n",
      "score_test_good_mean 0.5482674837112427\n",
      "score_test_good_std 0.020341940224170685\n",
      "score_test_good_min 0.5236592292785645\n",
      "score_test_good_max 0.5844550132751465\n",
      "\n",
      "score_test_fail_mean 0.6425521373748779\n",
      "score_test_fail_std 0.045337479561567307\n",
      "score_test_fail_min 0.5833691358566284\n",
      "score_test_fail_max 0.7607458829879761\n",
      "\n",
      "score_train_mean 0.2269984483718872\n",
      "score_train_std 0.0053786407224833965\n",
      "score_train_min 0.21798567473888397\n",
      "score_train_max 0.2375156283378601\n"
     ]
    },
    {
     "name": "stderr",
     "output_type": "stream",
     "text": [
      "100%|██████████████████████████████████████████████████████████████████████████████████| 23/23 [00:32<00:00,  1.40s/it]\n"
     ]
    },
    {
     "name": "stdout",
     "output_type": "stream",
     "text": [
      "loss_overall 0.23273848774640457\n",
      "epoch 387\n",
      "\n",
      "score_test_good_mean 0.5207781195640564\n",
      "score_test_good_std 0.018270215019583702\n",
      "score_test_good_min 0.49843737483024597\n",
      "score_test_good_max 0.5518385171890259\n",
      "\n",
      "score_test_fail_mean 0.6168048977851868\n",
      "score_test_fail_std 0.055501267313957214\n",
      "score_test_fail_min 0.5395487546920776\n",
      "score_test_fail_max 0.7448523640632629\n",
      "\n",
      "score_train_mean 0.2259300947189331\n",
      "score_train_std 0.007233394775539637\n",
      "score_train_min 0.21585115790367126\n",
      "score_train_max 0.24531437456607819\n"
     ]
    },
    {
     "name": "stderr",
     "output_type": "stream",
     "text": [
      "100%|██████████████████████████████████████████████████████████████████████████████████| 23/23 [00:33<00:00,  1.45s/it]\n"
     ]
    },
    {
     "name": "stdout",
     "output_type": "stream",
     "text": [
      "loss_overall 0.22739799644636072\n",
      "epoch 388\n",
      "\n",
      "score_test_good_mean 0.5483763217926025\n",
      "score_test_good_std 0.01836300641298294\n",
      "score_test_good_min 0.5108001232147217\n",
      "score_test_good_max 0.5690962672233582\n",
      "\n",
      "score_test_fail_mean 0.6471961140632629\n",
      "score_test_fail_std 0.05515399947762489\n",
      "score_test_fail_min 0.5594737529754639\n",
      "score_test_fail_max 0.7529364824295044\n",
      "\n",
      "score_train_mean 0.22355931997299194\n",
      "score_train_std 0.005284463986754417\n",
      "score_train_min 0.2154163122177124\n",
      "score_train_max 0.23503312468528748\n"
     ]
    },
    {
     "name": "stderr",
     "output_type": "stream",
     "text": [
      "100%|██████████████████████████████████████████████████████████████████████████████████| 23/23 [00:32<00:00,  1.43s/it]\n"
     ]
    },
    {
     "name": "stdout",
     "output_type": "stream",
     "text": [
      "loss_overall 0.23558092052521912\n",
      "epoch 389\n",
      "\n",
      "score_test_good_mean 0.5438441038131714\n",
      "score_test_good_std 0.014691201969981194\n",
      "score_test_good_min 0.5157467722892761\n",
      "score_test_good_max 0.5715065002441406\n",
      "\n",
      "score_test_fail_mean 0.6381503939628601\n",
      "score_test_fail_std 0.0653211772441864\n",
      "score_test_fail_min 0.5403042435646057\n",
      "score_test_fail_max 0.7967814207077026\n",
      "\n",
      "score_train_mean 0.22390423715114594\n",
      "score_train_std 0.005741411354392767\n",
      "score_train_min 0.21177996695041656\n",
      "score_train_max 0.23518449068069458\n"
     ]
    },
    {
     "name": "stderr",
     "output_type": "stream",
     "text": [
      "100%|██████████████████████████████████████████████████████████████████████████████████| 23/23 [00:33<00:00,  1.48s/it]\n"
     ]
    },
    {
     "name": "stdout",
     "output_type": "stream",
     "text": [
      "loss_overall 0.2481293956870618\n",
      "epoch 390\n",
      "\n",
      "score_test_good_mean 0.532564103603363\n",
      "score_test_good_std 0.017686812207102776\n",
      "score_test_good_min 0.4972308576107025\n",
      "score_test_good_max 0.5663890838623047\n",
      "\n",
      "score_test_fail_mean 0.6232529878616333\n",
      "score_test_fail_std 0.043300822377204895\n",
      "score_test_fail_min 0.5531935095787048\n",
      "score_test_fail_max 0.7185034155845642\n",
      "\n",
      "score_train_mean 0.23114532232284546\n",
      "score_train_std 0.005324503872543573\n",
      "score_train_min 0.21900518238544464\n",
      "score_train_max 0.23818258941173553\n"
     ]
    },
    {
     "name": "stderr",
     "output_type": "stream",
     "text": [
      "100%|██████████████████████████████████████████████████████████████████████████████████| 23/23 [00:32<00:00,  1.43s/it]\n"
     ]
    },
    {
     "name": "stdout",
     "output_type": "stream",
     "text": [
      "loss_overall 0.2444874916387641\n",
      "epoch 391\n",
      "\n",
      "score_test_good_mean 0.5533676743507385\n",
      "score_test_good_std 0.01976444199681282\n",
      "score_test_good_min 0.5092681646347046\n",
      "score_test_good_max 0.5916540026664734\n",
      "\n",
      "score_test_fail_mean 0.6485331654548645\n",
      "score_test_fail_std 0.03900241479277611\n",
      "score_test_fail_min 0.572830855846405\n",
      "score_test_fail_max 0.7346018552780151\n",
      "\n",
      "score_train_mean 0.22834758460521698\n",
      "score_train_std 0.00590835465118289\n",
      "score_train_min 0.21814152598381042\n",
      "score_train_max 0.24087901413440704\n"
     ]
    },
    {
     "name": "stderr",
     "output_type": "stream",
     "text": [
      "100%|██████████████████████████████████████████████████████████████████████████████████| 23/23 [00:33<00:00,  1.48s/it]\n"
     ]
    },
    {
     "name": "stdout",
     "output_type": "stream",
     "text": [
      "loss_overall 0.24290733104166778\n",
      "epoch 392\n",
      "\n",
      "score_test_good_mean 0.5409672260284424\n",
      "score_test_good_std 0.015582744032144547\n",
      "score_test_good_min 0.5134121179580688\n",
      "score_test_good_max 0.5673298835754395\n",
      "\n",
      "score_test_fail_mean 0.6521296501159668\n",
      "score_test_fail_std 0.09188022464513779\n",
      "score_test_fail_min 0.5441479086875916\n",
      "score_test_fail_max 1.0222160816192627\n",
      "\n",
      "score_train_mean 0.2288418412208557\n",
      "score_train_std 0.006222020834684372\n",
      "score_train_min 0.2194938212633133\n",
      "score_train_max 0.24489887058734894\n"
     ]
    },
    {
     "name": "stderr",
     "output_type": "stream",
     "text": [
      "100%|██████████████████████████████████████████████████████████████████████████████████| 23/23 [00:33<00:00,  1.45s/it]\n"
     ]
    },
    {
     "name": "stdout",
     "output_type": "stream",
     "text": [
      "loss_overall 0.2377201137335404\n",
      "epoch 393\n",
      "\n",
      "score_test_good_mean 0.5466533899307251\n",
      "score_test_good_std 0.022837936878204346\n",
      "score_test_good_min 0.5220258831977844\n",
      "score_test_good_max 0.6066972613334656\n",
      "\n",
      "score_test_fail_mean 0.6392137408256531\n",
      "score_test_fail_std 0.03960460051894188\n",
      "score_test_fail_min 0.5539788603782654\n",
      "score_test_fail_max 0.7071551084518433\n",
      "\n",
      "score_train_mean 0.2283441573381424\n",
      "score_train_std 0.005208289250731468\n",
      "score_train_min 0.21866410970687866\n",
      "score_train_max 0.2403925210237503\n"
     ]
    },
    {
     "name": "stderr",
     "output_type": "stream",
     "text": [
      "100%|██████████████████████████████████████████████████████████████████████████████████| 23/23 [00:32<00:00,  1.43s/it]\n"
     ]
    },
    {
     "name": "stdout",
     "output_type": "stream",
     "text": [
      "loss_overall 0.2304930628641792\n",
      "epoch 394\n",
      "\n",
      "score_test_good_mean 0.5323842167854309\n",
      "score_test_good_std 0.016309726983308792\n",
      "score_test_good_min 0.49701717495918274\n",
      "score_test_good_max 0.5537112355232239\n",
      "\n",
      "score_test_fail_mean 0.6312425136566162\n",
      "score_test_fail_std 0.06640059500932693\n",
      "score_test_fail_min 0.5344671607017517\n",
      "score_test_fail_max 0.7801327109336853\n",
      "\n",
      "score_train_mean 0.2270350605249405\n",
      "score_train_std 0.005106673110276461\n",
      "score_train_min 0.22037963569164276\n",
      "score_train_max 0.23790955543518066\n"
     ]
    },
    {
     "name": "stderr",
     "output_type": "stream",
     "text": [
      "100%|██████████████████████████████████████████████████████████████████████████████████| 23/23 [00:33<00:00,  1.46s/it]\n"
     ]
    },
    {
     "name": "stdout",
     "output_type": "stream",
     "text": [
      "loss_overall 0.23470023663147635\n",
      "epoch 395\n",
      "\n",
      "score_test_good_mean 0.5590575933456421\n",
      "score_test_good_std 0.011936514638364315\n",
      "score_test_good_min 0.5387246608734131\n",
      "score_test_good_max 0.5781177878379822\n",
      "\n",
      "score_test_fail_mean 0.6564798951148987\n",
      "score_test_fail_std 0.03613755851984024\n",
      "score_test_fail_min 0.5828055143356323\n",
      "score_test_fail_max 0.7193852066993713\n",
      "\n",
      "score_train_mean 0.22680816054344177\n",
      "score_train_std 0.006904590409249067\n",
      "score_train_min 0.2164084017276764\n",
      "score_train_max 0.24145154654979706\n"
     ]
    },
    {
     "name": "stderr",
     "output_type": "stream",
     "text": [
      "100%|██████████████████████████████████████████████████████████████████████████████████| 23/23 [00:33<00:00,  1.46s/it]\n"
     ]
    },
    {
     "name": "stdout",
     "output_type": "stream",
     "text": [
      "loss_overall 0.22711106163004172\n",
      "epoch 396\n",
      "\n",
      "score_test_good_mean 0.5552963614463806\n",
      "score_test_good_std 0.01900089904665947\n",
      "score_test_good_min 0.5013594627380371\n",
      "score_test_good_max 0.5853101015090942\n",
      "\n",
      "score_test_fail_mean 0.665438175201416\n",
      "score_test_fail_std 0.09275926649570465\n",
      "score_test_fail_min 0.5601491928100586\n",
      "score_test_fail_max 1.046370029449463\n",
      "\n",
      "score_train_mean 0.22264131903648376\n",
      "score_train_std 0.005222219508141279\n",
      "score_train_min 0.21349427103996277\n",
      "score_train_max 0.235505148768425\n"
     ]
    },
    {
     "name": "stderr",
     "output_type": "stream",
     "text": [
      "100%|██████████████████████████████████████████████████████████████████████████████████| 23/23 [00:33<00:00,  1.44s/it]\n"
     ]
    },
    {
     "name": "stdout",
     "output_type": "stream",
     "text": [
      "loss_overall 0.22839059130005215\n",
      "epoch 397\n",
      "\n",
      "score_test_good_mean 0.535819411277771\n",
      "score_test_good_std 0.013341357000172138\n",
      "score_test_good_min 0.515522837638855\n",
      "score_test_good_max 0.5628150701522827\n",
      "\n",
      "score_test_fail_mean 0.628244936466217\n",
      "score_test_fail_std 0.04091230779886246\n",
      "score_test_fail_min 0.5407849550247192\n",
      "score_test_fail_max 0.7210007905960083\n",
      "\n",
      "score_train_mean 0.2252303659915924\n",
      "score_train_std 0.004444574937224388\n",
      "score_train_min 0.2149602323770523\n",
      "score_train_max 0.23362471163272858\n"
     ]
    },
    {
     "name": "stderr",
     "output_type": "stream",
     "text": [
      "100%|██████████████████████████████████████████████████████████████████████████████████| 23/23 [00:33<00:00,  1.46s/it]\n"
     ]
    },
    {
     "name": "stdout",
     "output_type": "stream",
     "text": [
      "loss_overall 0.22889992789081906\n",
      "epoch 398\n",
      "\n",
      "score_test_good_mean 0.5345380306243896\n",
      "score_test_good_std 0.018650727346539497\n",
      "score_test_good_min 0.5023689270019531\n",
      "score_test_good_max 0.568673312664032\n",
      "\n",
      "score_test_fail_mean 0.6256003975868225\n",
      "score_test_fail_std 0.051439885050058365\n",
      "score_test_fail_min 0.5148155689239502\n",
      "score_test_fail_max 0.7433992028236389\n",
      "\n",
      "score_train_mean 0.2250966578722\n",
      "score_train_std 0.004871872719377279\n",
      "score_train_min 0.21418221294879913\n",
      "score_train_max 0.23191207647323608\n"
     ]
    },
    {
     "name": "stderr",
     "output_type": "stream",
     "text": [
      "100%|██████████████████████████████████████████████████████████████████████████████████| 23/23 [00:33<00:00,  1.46s/it]\n"
     ]
    },
    {
     "name": "stdout",
     "output_type": "stream",
     "text": [
      "loss_overall 0.22296157868012137\n",
      "epoch 399\n",
      "\n",
      "score_test_good_mean 0.5244798064231873\n",
      "score_test_good_std 0.020716814324259758\n",
      "score_test_good_min 0.4953957200050354\n",
      "score_test_good_max 0.5638884902000427\n",
      "\n",
      "score_test_fail_mean 0.6196793913841248\n",
      "score_test_fail_std 0.055719245225191116\n",
      "score_test_fail_min 0.5307743549346924\n",
      "score_test_fail_max 0.7685304880142212\n",
      "\n",
      "score_train_mean 0.2227569818496704\n",
      "score_train_std 0.005209331400692463\n",
      "score_train_min 0.21008877456188202\n",
      "score_train_max 0.23313772678375244\n"
     ]
    },
    {
     "name": "stderr",
     "output_type": "stream",
     "text": [
      "100%|██████████████████████████████████████████████████████████████████████████████████| 23/23 [00:33<00:00,  1.47s/it]\n"
     ]
    },
    {
     "name": "stdout",
     "output_type": "stream",
     "text": [
      "loss_overall 0.2371196746826172\n",
      "epoch 400\n",
      "\n",
      "score_test_good_mean 0.7330257892608643\n",
      "score_test_good_std 0.018688932061195374\n",
      "score_test_good_min 0.6995223760604858\n",
      "score_test_good_max 0.78700190782547\n",
      "\n",
      "score_test_fail_mean 0.8353690505027771\n",
      "score_test_fail_std 0.07109848409891129\n",
      "score_test_fail_min 0.7355692982673645\n",
      "score_test_fail_max 1.0671744346618652\n",
      "\n",
      "score_train_mean 0.2251153588294983\n",
      "score_train_std 0.005517854355275631\n",
      "score_train_min 0.2164473980665207\n",
      "score_train_max 0.2344600111246109\n"
     ]
    },
    {
     "name": "stderr",
     "output_type": "stream",
     "text": [
      "100%|██████████████████████████████████████████████████████████████████████████████████| 23/23 [00:32<00:00,  1.43s/it]\n"
     ]
    },
    {
     "name": "stdout",
     "output_type": "stream",
     "text": [
      "loss_overall 0.24467118019643036\n",
      "epoch 401\n",
      "\n",
      "score_test_good_mean 0.5368510484695435\n",
      "score_test_good_std 0.019715433940291405\n",
      "score_test_good_min 0.5074231624603271\n",
      "score_test_good_max 0.5776389241218567\n",
      "\n",
      "score_test_fail_mean 0.6314877867698669\n",
      "score_test_fail_std 0.05067405477166176\n",
      "score_test_fail_min 0.5365473628044128\n",
      "score_test_fail_max 0.7764097452163696\n",
      "\n",
      "score_train_mean 0.2323005348443985\n",
      "score_train_std 0.00534159317612648\n",
      "score_train_min 0.22256460785865784\n",
      "score_train_max 0.24470272660255432\n"
     ]
    },
    {
     "name": "stderr",
     "output_type": "stream",
     "text": [
      "100%|██████████████████████████████████████████████████████████████████████████████████| 23/23 [00:33<00:00,  1.47s/it]\n"
     ]
    },
    {
     "name": "stdout",
     "output_type": "stream",
     "text": [
      "loss_overall 0.24646805550741113\n",
      "epoch 402\n",
      "\n",
      "score_test_good_mean 0.5695751309394836\n",
      "score_test_good_std 0.019129808992147446\n",
      "score_test_good_min 0.5287808179855347\n",
      "score_test_good_max 0.5954538583755493\n",
      "\n",
      "score_test_fail_mean 0.660977840423584\n",
      "score_test_fail_std 0.04520793631672859\n",
      "score_test_fail_min 0.585056483745575\n",
      "score_test_fail_max 0.7709322571754456\n",
      "\n",
      "score_train_mean 0.2306240350008011\n",
      "score_train_std 0.007428572978824377\n",
      "score_train_min 0.21680250763893127\n",
      "score_train_max 0.24917113780975342\n"
     ]
    },
    {
     "name": "stderr",
     "output_type": "stream",
     "text": [
      "100%|██████████████████████████████████████████████████████████████████████████████████| 23/23 [00:34<00:00,  1.49s/it]\n"
     ]
    },
    {
     "name": "stdout",
     "output_type": "stream",
     "text": [
      "loss_overall 0.24255827587583792\n",
      "epoch 403\n",
      "\n",
      "score_test_good_mean 0.5634883046150208\n",
      "score_test_good_std 0.020763874053955078\n",
      "score_test_good_min 0.5201653242111206\n",
      "score_test_good_max 0.591030478477478\n",
      "\n",
      "score_test_fail_mean 0.6660709977149963\n",
      "score_test_fail_std 0.045807886868715286\n",
      "score_test_fail_min 0.568442702293396\n",
      "score_test_fail_max 0.7465754151344299\n",
      "\n",
      "score_train_mean 0.2302154004573822\n",
      "score_train_std 0.005831799004226923\n",
      "score_train_min 0.21988973021507263\n",
      "score_train_max 0.24000169336795807\n"
     ]
    },
    {
     "name": "stderr",
     "output_type": "stream",
     "text": [
      "100%|██████████████████████████████████████████████████████████████████████████████████| 23/23 [00:33<00:00,  1.44s/it]\n"
     ]
    },
    {
     "name": "stdout",
     "output_type": "stream",
     "text": [
      "loss_overall 0.2376052614139474\n",
      "epoch 404\n",
      "\n",
      "score_test_good_mean 0.5368995666503906\n",
      "score_test_good_std 0.02121814154088497\n",
      "score_test_good_min 0.49511808156967163\n",
      "score_test_good_max 0.5815510153770447\n",
      "\n",
      "score_test_fail_mean 0.6309064626693726\n",
      "score_test_fail_std 0.06062333658337593\n",
      "score_test_fail_min 0.5109353065490723\n",
      "score_test_fail_max 0.7853920459747314\n",
      "\n",
      "score_train_mean 0.22846835851669312\n",
      "score_train_std 0.006812192965298891\n",
      "score_train_min 0.2192792296409607\n",
      "score_train_max 0.24896806478500366\n"
     ]
    },
    {
     "name": "stderr",
     "output_type": "stream",
     "text": [
      "100%|██████████████████████████████████████████████████████████████████████████████████| 23/23 [00:33<00:00,  1.46s/it]\n"
     ]
    },
    {
     "name": "stdout",
     "output_type": "stream",
     "text": [
      "loss_overall 0.2303845059612523\n",
      "epoch 405\n",
      "\n",
      "score_test_good_mean 0.5280627012252808\n",
      "score_test_good_std 0.018953969702124596\n",
      "score_test_good_min 0.5004320740699768\n",
      "score_test_good_max 0.5536720752716064\n",
      "\n",
      "score_test_fail_mean 0.6267092823982239\n",
      "score_test_fail_std 0.05430515483021736\n",
      "score_test_fail_min 0.5234172940254211\n",
      "score_test_fail_max 0.7428029179573059\n",
      "\n",
      "score_train_mean 0.22629791498184204\n",
      "score_train_std 0.004788368009030819\n",
      "score_train_min 0.21585674583911896\n",
      "score_train_max 0.2338699996471405\n"
     ]
    },
    {
     "name": "stderr",
     "output_type": "stream",
     "text": [
      "100%|██████████████████████████████████████████████████████████████████████████████████| 23/23 [00:32<00:00,  1.42s/it]\n"
     ]
    },
    {
     "name": "stdout",
     "output_type": "stream",
     "text": [
      "loss_overall 0.23017181067363077\n",
      "epoch 406\n",
      "\n",
      "score_test_good_mean 0.5369861125946045\n",
      "score_test_good_std 0.02017727680504322\n",
      "score_test_good_min 0.49034959077835083\n",
      "score_test_good_max 0.5660771131515503\n",
      "\n",
      "score_test_fail_mean 0.6309279799461365\n",
      "score_test_fail_std 0.0479530431330204\n",
      "score_test_fail_min 0.5554214715957642\n",
      "score_test_fail_max 0.7253730893135071\n",
      "\n",
      "score_train_mean 0.2252739667892456\n",
      "score_train_std 0.004933189135044813\n",
      "score_train_min 0.21556155383586884\n",
      "score_train_max 0.23677437007427216\n"
     ]
    },
    {
     "name": "stderr",
     "output_type": "stream",
     "text": [
      "100%|██████████████████████████████████████████████████████████████████████████████████| 23/23 [00:33<00:00,  1.45s/it]\n"
     ]
    },
    {
     "name": "stdout",
     "output_type": "stream",
     "text": [
      "loss_overall 0.2289731917173966\n",
      "epoch 407\n",
      "\n",
      "score_test_good_mean 0.544459879398346\n",
      "score_test_good_std 0.02231145277619362\n",
      "score_test_good_min 0.5075734853744507\n",
      "score_test_good_max 0.5832313299179077\n",
      "\n",
      "score_test_fail_mean 0.6386855840682983\n",
      "score_test_fail_std 0.04918207973241806\n",
      "score_test_fail_min 0.563906192779541\n",
      "score_test_fail_max 0.7311075925827026\n",
      "\n",
      "score_train_mean 0.22571013867855072\n",
      "score_train_std 0.0073834313079714775\n",
      "score_train_min 0.21374788880348206\n",
      "score_train_max 0.24521318078041077\n"
     ]
    },
    {
     "name": "stderr",
     "output_type": "stream",
     "text": [
      "100%|██████████████████████████████████████████████████████████████████████████████████| 23/23 [00:33<00:00,  1.46s/it]\n"
     ]
    },
    {
     "name": "stdout",
     "output_type": "stream",
     "text": [
      "loss_overall 0.22940559750017914\n",
      "epoch 408\n",
      "\n",
      "score_test_good_mean 0.5446809530258179\n",
      "score_test_good_std 0.027104558423161507\n",
      "score_test_good_min 0.49678924679756165\n",
      "score_test_good_max 0.5841121673583984\n",
      "\n",
      "score_test_fail_mean 0.6413648128509521\n",
      "score_test_fail_std 0.04497286677360535\n",
      "score_test_fail_min 0.55161052942276\n",
      "score_test_fail_max 0.7184509634971619\n",
      "\n",
      "score_train_mean 0.22578765451908112\n",
      "score_train_std 0.006177313160151243\n",
      "score_train_min 0.21361882984638214\n",
      "score_train_max 0.23889662325382233\n"
     ]
    },
    {
     "name": "stderr",
     "output_type": "stream",
     "text": [
      "100%|██████████████████████████████████████████████████████████████████████████████████| 23/23 [00:32<00:00,  1.43s/it]\n"
     ]
    },
    {
     "name": "stdout",
     "output_type": "stream",
     "text": [
      "loss_overall 0.23518842134786688\n",
      "epoch 409\n",
      "\n",
      "score_test_good_mean 0.52828049659729\n",
      "score_test_good_std 0.017787473276257515\n",
      "score_test_good_min 0.4878106713294983\n",
      "score_test_good_max 0.5543115139007568\n",
      "\n",
      "score_test_fail_mean 0.6208885312080383\n",
      "score_test_fail_std 0.05007960647344589\n",
      "score_test_fail_min 0.5583651661872864\n",
      "score_test_fail_max 0.7231342196464539\n",
      "\n",
      "score_train_mean 0.2263316512107849\n",
      "score_train_std 0.00613046158105135\n",
      "score_train_min 0.21470506489276886\n",
      "score_train_max 0.2389468550682068\n"
     ]
    },
    {
     "name": "stderr",
     "output_type": "stream",
     "text": [
      "100%|██████████████████████████████████████████████████████████████████████████████████| 23/23 [00:33<00:00,  1.45s/it]\n"
     ]
    },
    {
     "name": "stdout",
     "output_type": "stream",
     "text": [
      "loss_overall 0.23327522498110068\n",
      "epoch 410\n",
      "\n",
      "score_test_good_mean 0.7095949649810791\n",
      "score_test_good_std 0.021838603541254997\n",
      "score_test_good_min 0.6665205359458923\n",
      "score_test_good_max 0.7505130171775818\n",
      "\n",
      "score_test_fail_mean 0.8024570941925049\n",
      "score_test_fail_std 0.05023448169231415\n",
      "score_test_fail_min 0.7229384183883667\n",
      "score_test_fail_max 0.9084782600402832\n",
      "\n",
      "score_train_mean 0.22598762810230255\n",
      "score_train_std 0.005224761087447405\n",
      "score_train_min 0.21221493184566498\n",
      "score_train_max 0.2353297472000122\n"
     ]
    },
    {
     "name": "stderr",
     "output_type": "stream",
     "text": [
      "100%|██████████████████████████████████████████████████████████████████████████████████| 23/23 [00:33<00:00,  1.45s/it]\n"
     ]
    },
    {
     "name": "stdout",
     "output_type": "stream",
     "text": [
      "loss_overall 0.23881586932617685\n",
      "epoch 411\n",
      "\n",
      "score_test_good_mean 0.5615835189819336\n",
      "score_test_good_std 0.017405599355697632\n",
      "score_test_good_min 0.529423177242279\n",
      "score_test_good_max 0.5979058742523193\n",
      "\n",
      "score_test_fail_mean 0.6644498705863953\n",
      "score_test_fail_std 0.052540313452482224\n",
      "score_test_fail_min 0.5920634269714355\n",
      "score_test_fail_max 0.7700446248054504\n",
      "\n",
      "score_train_mean 0.22873032093048096\n",
      "score_train_std 0.0063828229904174805\n",
      "score_train_min 0.21700231730937958\n",
      "score_train_max 0.243463397026062\n"
     ]
    },
    {
     "name": "stderr",
     "output_type": "stream",
     "text": [
      "100%|██████████████████████████████████████████████████████████████████████████████████| 23/23 [00:32<00:00,  1.42s/it]\n"
     ]
    },
    {
     "name": "stdout",
     "output_type": "stream",
     "text": [
      "loss_overall 0.23206744116285574\n",
      "epoch 412\n",
      "\n",
      "score_test_good_mean 0.5469127893447876\n",
      "score_test_good_std 0.020496927201747894\n",
      "score_test_good_min 0.5066669583320618\n",
      "score_test_good_max 0.5702977180480957\n",
      "\n",
      "score_test_fail_mean 0.641043484210968\n",
      "score_test_fail_std 0.05611274018883705\n",
      "score_test_fail_min 0.5537749528884888\n",
      "score_test_fail_max 0.7834863066673279\n",
      "\n",
      "score_train_mean 0.22719250619411469\n",
      "score_train_std 0.005838130600750446\n",
      "score_train_min 0.21427877247333527\n",
      "score_train_max 0.23969392478466034\n"
     ]
    },
    {
     "name": "stderr",
     "output_type": "stream",
     "text": [
      "100%|██████████████████████████████████████████████████████████████████████████████████| 23/23 [00:33<00:00,  1.44s/it]\n"
     ]
    },
    {
     "name": "stdout",
     "output_type": "stream",
     "text": [
      "loss_overall 0.22240690822186676\n",
      "epoch 413\n",
      "\n",
      "score_test_good_mean 0.5235875248908997\n",
      "score_test_good_std 0.018453503027558327\n",
      "score_test_good_min 0.5014731884002686\n",
      "score_test_good_max 0.555901288986206\n",
      "\n",
      "score_test_fail_mean 0.6155081391334534\n",
      "score_test_fail_std 0.04525161162018776\n",
      "score_test_fail_min 0.5180526971817017\n",
      "score_test_fail_max 0.6970704197883606\n",
      "\n",
      "score_train_mean 0.22524897754192352\n",
      "score_train_std 0.004865291528403759\n",
      "score_train_min 0.21570710837841034\n",
      "score_train_max 0.2373158037662506\n"
     ]
    },
    {
     "name": "stderr",
     "output_type": "stream",
     "text": [
      "100%|██████████████████████████████████████████████████████████████████████████████████| 23/23 [00:33<00:00,  1.44s/it]\n"
     ]
    },
    {
     "name": "stdout",
     "output_type": "stream",
     "text": [
      "loss_overall 0.22965033093224402\n",
      "epoch 414\n",
      "\n",
      "score_test_good_mean 0.559610903263092\n",
      "score_test_good_std 0.012014809064567089\n",
      "score_test_good_min 0.5269057154655457\n",
      "score_test_good_max 0.5776927471160889\n",
      "\n",
      "score_test_fail_mean 0.657666027545929\n",
      "score_test_fail_std 0.05606137216091156\n",
      "score_test_fail_min 0.584025502204895\n",
      "score_test_fail_max 0.8045405149459839\n",
      "\n",
      "score_train_mean 0.22316832840442657\n",
      "score_train_std 0.0074672638438642025\n",
      "score_train_min 0.2138383835554123\n",
      "score_train_max 0.24468055367469788\n"
     ]
    },
    {
     "name": "stderr",
     "output_type": "stream",
     "text": [
      "100%|██████████████████████████████████████████████████████████████████████████████████| 23/23 [00:32<00:00,  1.43s/it]\n"
     ]
    },
    {
     "name": "stdout",
     "output_type": "stream",
     "text": [
      "loss_overall 0.23520115924918134\n",
      "epoch 415\n",
      "\n",
      "score_test_good_mean 0.54701828956604\n",
      "score_test_good_std 0.02502913400530815\n",
      "score_test_good_min 0.4964250326156616\n",
      "score_test_good_max 0.5896109938621521\n",
      "\n",
      "score_test_fail_mean 0.6410245299339294\n",
      "score_test_fail_std 0.05352318286895752\n",
      "score_test_fail_min 0.5587450861930847\n",
      "score_test_fail_max 0.7658356428146362\n",
      "\n",
      "score_train_mean 0.2236592322587967\n",
      "score_train_std 0.005138543900102377\n",
      "score_train_min 0.21624085307121277\n",
      "score_train_max 0.23653215169906616\n"
     ]
    },
    {
     "name": "stderr",
     "output_type": "stream",
     "text": [
      "100%|██████████████████████████████████████████████████████████████████████████████████| 23/23 [00:33<00:00,  1.46s/it]\n"
     ]
    },
    {
     "name": "stdout",
     "output_type": "stream",
     "text": [
      "loss_overall 0.22925442327623782\n",
      "epoch 416\n",
      "\n",
      "score_test_good_mean 0.5306501984596252\n",
      "score_test_good_std 0.023518120869994164\n",
      "score_test_good_min 0.4756876826286316\n",
      "score_test_good_max 0.5658364295959473\n",
      "\n",
      "score_test_fail_mean 0.6348333954811096\n",
      "score_test_fail_std 0.05849871039390564\n",
      "score_test_fail_min 0.5607679486274719\n",
      "score_test_fail_max 0.8405635952949524\n",
      "\n",
      "score_train_mean 0.2236229032278061\n",
      "score_train_std 0.0049883099272847176\n",
      "score_train_min 0.21500687301158905\n",
      "score_train_max 0.23305322229862213\n"
     ]
    },
    {
     "name": "stderr",
     "output_type": "stream",
     "text": [
      "100%|██████████████████████████████████████████████████████████████████████████████████| 23/23 [00:33<00:00,  1.46s/it]\n"
     ]
    },
    {
     "name": "stdout",
     "output_type": "stream",
     "text": [
      "loss_overall 0.23484226219032123\n",
      "epoch 417\n",
      "\n",
      "score_test_good_mean 0.5458365082740784\n",
      "score_test_good_std 0.02051130123436451\n",
      "score_test_good_min 0.5175898671150208\n",
      "score_test_good_max 0.5799855589866638\n",
      "\n",
      "score_test_fail_mean 0.6413534283638\n",
      "score_test_fail_std 0.05841345340013504\n",
      "score_test_fail_min 0.5438696146011353\n",
      "score_test_fail_max 0.7636967897415161\n",
      "\n",
      "score_train_mean 0.2235775887966156\n",
      "score_train_std 0.005228833295404911\n",
      "score_train_min 0.21648938953876495\n",
      "score_train_max 0.23332062363624573\n"
     ]
    },
    {
     "name": "stderr",
     "output_type": "stream",
     "text": [
      "100%|██████████████████████████████████████████████████████████████████████████████████| 23/23 [00:32<00:00,  1.43s/it]\n"
     ]
    },
    {
     "name": "stdout",
     "output_type": "stream",
     "text": [
      "loss_overall 0.2260184391685154\n",
      "epoch 418\n",
      "\n",
      "score_test_good_mean 0.5253891348838806\n",
      "score_test_good_std 0.021416563540697098\n",
      "score_test_good_min 0.49489927291870117\n",
      "score_test_good_max 0.5798672437667847\n",
      "\n",
      "score_test_fail_mean 0.6201183199882507\n",
      "score_test_fail_std 0.04969456419348717\n",
      "score_test_fail_min 0.4993375539779663\n",
      "score_test_fail_max 0.7110827565193176\n",
      "\n",
      "score_train_mean 0.2230341136455536\n",
      "score_train_std 0.006382852327078581\n",
      "score_train_min 0.21148207783699036\n",
      "score_train_max 0.2345656156539917\n"
     ]
    },
    {
     "name": "stderr",
     "output_type": "stream",
     "text": [
      "100%|██████████████████████████████████████████████████████████████████████████████████| 23/23 [00:32<00:00,  1.41s/it]\n"
     ]
    },
    {
     "name": "stdout",
     "output_type": "stream",
     "text": [
      "loss_overall 0.2190905485464179\n",
      "epoch 419\n",
      "\n",
      "score_test_good_mean 0.5237287878990173\n",
      "score_test_good_std 0.01768300123512745\n",
      "score_test_good_min 0.5012421607971191\n",
      "score_test_good_max 0.5571073889732361\n",
      "\n",
      "score_test_fail_mean 0.6212986707687378\n",
      "score_test_fail_std 0.0598188191652298\n",
      "score_test_fail_min 0.5398404002189636\n",
      "score_test_fail_max 0.7437693476676941\n",
      "\n",
      "score_train_mean 0.22244098782539368\n",
      "score_train_std 0.005595114082098007\n",
      "score_train_min 0.2141929715871811\n",
      "score_train_max 0.23295089602470398\n"
     ]
    },
    {
     "name": "stderr",
     "output_type": "stream",
     "text": [
      "100%|██████████████████████████████████████████████████████████████████████████████████| 23/23 [00:33<00:00,  1.44s/it]\n"
     ]
    },
    {
     "name": "stdout",
     "output_type": "stream",
     "text": [
      "loss_overall 0.22654069571391397\n",
      "epoch 420\n",
      "\n",
      "score_test_good_mean 0.5313300490379333\n",
      "score_test_good_std 0.01540171168744564\n",
      "score_test_good_min 0.5088809132575989\n",
      "score_test_good_max 0.5626711249351501\n",
      "\n",
      "score_test_fail_mean 0.6352759003639221\n",
      "score_test_fail_std 0.06592687964439392\n",
      "score_test_fail_min 0.5483798384666443\n",
      "score_test_fail_max 0.8504127860069275\n",
      "\n",
      "score_train_mean 0.22288693487644196\n",
      "score_train_std 0.004822443705052137\n",
      "score_train_min 0.21583440899848938\n",
      "score_train_max 0.23135897517204285\n"
     ]
    },
    {
     "name": "stderr",
     "output_type": "stream",
     "text": [
      "100%|██████████████████████████████████████████████████████████████████████████████████| 23/23 [00:33<00:00,  1.44s/it]\n"
     ]
    },
    {
     "name": "stdout",
     "output_type": "stream",
     "text": [
      "loss_overall 0.2224101301120675\n",
      "epoch 421\n",
      "\n",
      "score_test_good_mean 0.5702133178710938\n",
      "score_test_good_std 0.019040970131754875\n",
      "score_test_good_min 0.5392348170280457\n",
      "score_test_good_max 0.6034878492355347\n",
      "\n",
      "score_test_fail_mean 0.6661832332611084\n",
      "score_test_fail_std 0.03680015355348587\n",
      "score_test_fail_min 0.5895980596542358\n",
      "score_test_fail_max 0.7323018908500671\n",
      "\n",
      "score_train_mean 0.2223166972398758\n",
      "score_train_std 0.00633062282577157\n",
      "score_train_min 0.20901170372962952\n",
      "score_train_max 0.2366378903388977\n"
     ]
    },
    {
     "name": "stderr",
     "output_type": "stream",
     "text": [
      "100%|██████████████████████████████████████████████████████████████████████████████████| 23/23 [00:33<00:00,  1.44s/it]\n"
     ]
    },
    {
     "name": "stdout",
     "output_type": "stream",
     "text": [
      "loss_overall 0.22216258683930273\n",
      "epoch 422\n",
      "\n",
      "score_test_good_mean 0.5154576897621155\n",
      "score_test_good_std 0.018905922770500183\n",
      "score_test_good_min 0.4789941906929016\n",
      "score_test_good_max 0.5494352579116821\n",
      "\n",
      "score_test_fail_mean 0.6105474233627319\n",
      "score_test_fail_std 0.048814788460731506\n",
      "score_test_fail_min 0.522800862789154\n",
      "score_test_fail_max 0.7287005186080933\n",
      "\n",
      "score_train_mean 0.22119221091270447\n",
      "score_train_std 0.0061945682391524315\n",
      "score_train_min 0.2124253809452057\n",
      "score_train_max 0.23684731125831604\n"
     ]
    },
    {
     "name": "stderr",
     "output_type": "stream",
     "text": [
      "100%|██████████████████████████████████████████████████████████████████████████████████| 23/23 [00:32<00:00,  1.40s/it]\n"
     ]
    },
    {
     "name": "stdout",
     "output_type": "stream",
     "text": [
      "loss_overall 0.22487490397432577\n",
      "epoch 423\n",
      "\n",
      "score_test_good_mean 0.53136146068573\n",
      "score_test_good_std 0.016704855486750603\n",
      "score_test_good_min 0.5044273734092712\n",
      "score_test_good_max 0.5712348818778992\n",
      "\n",
      "score_test_fail_mean 0.6284034848213196\n",
      "score_test_fail_std 0.05309780687093735\n",
      "score_test_fail_min 0.555449366569519\n",
      "score_test_fail_max 0.7678627371788025\n",
      "\n",
      "score_train_mean 0.22445881366729736\n",
      "score_train_std 0.006243839859962463\n",
      "score_train_min 0.21523749828338623\n",
      "score_train_max 0.24028483033180237\n"
     ]
    },
    {
     "name": "stderr",
     "output_type": "stream",
     "text": [
      "100%|██████████████████████████████████████████████████████████████████████████████████| 23/23 [00:33<00:00,  1.45s/it]\n"
     ]
    },
    {
     "name": "stdout",
     "output_type": "stream",
     "text": [
      "loss_overall 0.22865600300871808\n",
      "epoch 424\n",
      "\n",
      "score_test_good_mean 0.5524746179580688\n",
      "score_test_good_std 0.017671141773462296\n",
      "score_test_good_min 0.5284222364425659\n",
      "score_test_good_max 0.5963901877403259\n",
      "\n",
      "score_test_fail_mean 0.6458762884140015\n",
      "score_test_fail_std 0.061876509338617325\n",
      "score_test_fail_min 0.5652857422828674\n",
      "score_test_fail_max 0.8284741044044495\n",
      "\n",
      "score_train_mean 0.22274073958396912\n",
      "score_train_std 0.006059104111045599\n",
      "score_train_min 0.21189531683921814\n",
      "score_train_max 0.23664788901805878\n"
     ]
    },
    {
     "name": "stderr",
     "output_type": "stream",
     "text": [
      "100%|██████████████████████████████████████████████████████████████████████████████████| 23/23 [00:33<00:00,  1.47s/it]\n"
     ]
    },
    {
     "name": "stdout",
     "output_type": "stream",
     "text": [
      "loss_overall 0.2251596010249594\n",
      "epoch 425\n",
      "\n",
      "score_test_good_mean 0.5407281517982483\n",
      "score_test_good_std 0.02139880508184433\n",
      "score_test_good_min 0.5071656703948975\n",
      "score_test_good_max 0.5776647925376892\n",
      "\n",
      "score_test_fail_mean 0.6312047839164734\n",
      "score_test_fail_std 0.061148323118686676\n",
      "score_test_fail_min 0.5178549885749817\n",
      "score_test_fail_max 0.7426272630691528\n",
      "\n",
      "score_train_mean 0.22331109642982483\n",
      "score_train_std 0.005663805175572634\n",
      "score_train_min 0.2148289829492569\n",
      "score_train_max 0.23746764659881592\n"
     ]
    },
    {
     "name": "stderr",
     "output_type": "stream",
     "text": [
      "100%|██████████████████████████████████████████████████████████████████████████████████| 23/23 [00:32<00:00,  1.39s/it]\n"
     ]
    },
    {
     "name": "stdout",
     "output_type": "stream",
     "text": [
      "loss_overall 0.22429129740466242\n",
      "epoch 426\n",
      "\n",
      "score_test_good_mean 0.5205447673797607\n",
      "score_test_good_std 0.018853940069675446\n",
      "score_test_good_min 0.48209452629089355\n",
      "score_test_good_max 0.5438234806060791\n",
      "\n",
      "score_test_fail_mean 0.6117631196975708\n",
      "score_test_fail_std 0.05906215310096741\n",
      "score_test_fail_min 0.4341551661491394\n",
      "score_test_fail_max 0.7253075838088989\n",
      "\n",
      "score_train_mean 0.2245599776506424\n",
      "score_train_std 0.005767634138464928\n",
      "score_train_min 0.21381054818630219\n",
      "score_train_max 0.23351183533668518\n"
     ]
    },
    {
     "name": "stderr",
     "output_type": "stream",
     "text": [
      "100%|██████████████████████████████████████████████████████████████████████████████████| 23/23 [00:32<00:00,  1.40s/it]\n"
     ]
    },
    {
     "name": "stdout",
     "output_type": "stream",
     "text": [
      "loss_overall 0.22229176824507507\n",
      "epoch 427\n",
      "\n",
      "score_test_good_mean 0.5274549126625061\n",
      "score_test_good_std 0.019154299050569534\n",
      "score_test_good_min 0.5021452903747559\n",
      "score_test_good_max 0.5577954649925232\n",
      "\n",
      "score_test_fail_mean 0.6229768991470337\n",
      "score_test_fail_std 0.0492713637650013\n",
      "score_test_fail_min 0.5583813190460205\n",
      "score_test_fail_max 0.7669594883918762\n",
      "\n",
      "score_train_mean 0.2221710979938507\n",
      "score_train_std 0.005664728581905365\n",
      "score_train_min 0.2145722508430481\n",
      "score_train_max 0.23328253626823425\n"
     ]
    },
    {
     "name": "stderr",
     "output_type": "stream",
     "text": [
      "100%|██████████████████████████████████████████████████████████████████████████████████| 23/23 [00:32<00:00,  1.43s/it]\n"
     ]
    },
    {
     "name": "stdout",
     "output_type": "stream",
     "text": [
      "loss_overall 0.2224905218767083\n",
      "epoch 428\n",
      "\n",
      "score_test_good_mean 0.5385456681251526\n",
      "score_test_good_std 0.023441098630428314\n",
      "score_test_good_min 0.4972127079963684\n",
      "score_test_good_max 0.5779198408126831\n",
      "\n",
      "score_test_fail_mean 0.6295335292816162\n",
      "score_test_fail_std 0.04797837883234024\n",
      "score_test_fail_min 0.5183337330818176\n",
      "score_test_fail_max 0.7114965915679932\n",
      "\n",
      "score_train_mean 0.2223949283361435\n",
      "score_train_std 0.005293079651892185\n",
      "score_train_min 0.2094215452671051\n",
      "score_train_max 0.23126953840255737\n"
     ]
    },
    {
     "name": "stderr",
     "output_type": "stream",
     "text": [
      "100%|██████████████████████████████████████████████████████████████████████████████████| 23/23 [00:33<00:00,  1.45s/it]\n"
     ]
    },
    {
     "name": "stdout",
     "output_type": "stream",
     "text": [
      "loss_overall 0.2258111737344576\n",
      "epoch 429\n",
      "\n",
      "score_test_good_mean 0.531948447227478\n",
      "score_test_good_std 0.016110960394144058\n",
      "score_test_good_min 0.49966567754745483\n",
      "score_test_good_max 0.556817352771759\n",
      "\n",
      "score_test_fail_mean 0.6285620927810669\n",
      "score_test_fail_std 0.05108756572008133\n",
      "score_test_fail_min 0.5497865676879883\n",
      "score_test_fail_max 0.720890462398529\n",
      "\n",
      "score_train_mean 0.2228984236717224\n",
      "score_train_std 0.005983856040984392\n",
      "score_train_min 0.21445636451244354\n",
      "score_train_max 0.23653143644332886\n"
     ]
    },
    {
     "name": "stderr",
     "output_type": "stream",
     "text": [
      "100%|██████████████████████████████████████████████████████████████████████████████████| 23/23 [00:33<00:00,  1.45s/it]\n"
     ]
    },
    {
     "name": "stdout",
     "output_type": "stream",
     "text": [
      "loss_overall 0.2271730407424595\n",
      "epoch 430\n",
      "\n",
      "score_test_good_mean 0.5335814952850342\n",
      "score_test_good_std 0.021926918998360634\n",
      "score_test_good_min 0.5039557218551636\n",
      "score_test_good_max 0.5720781683921814\n",
      "\n",
      "score_test_fail_mean 0.6316474676132202\n",
      "score_test_fail_std 0.04919096454977989\n",
      "score_test_fail_min 0.5359117984771729\n",
      "score_test_fail_max 0.7625585794448853\n",
      "\n",
      "score_train_mean 0.2216092050075531\n",
      "score_train_std 0.005984343588352203\n",
      "score_train_min 0.21303845942020416\n",
      "score_train_max 0.2391788214445114\n"
     ]
    },
    {
     "name": "stderr",
     "output_type": "stream",
     "text": [
      "100%|██████████████████████████████████████████████████████████████████████████████████| 23/23 [00:34<00:00,  1.52s/it]\n"
     ]
    },
    {
     "name": "stdout",
     "output_type": "stream",
     "text": [
      "loss_overall 0.22743981428768323\n",
      "epoch 431\n",
      "\n",
      "score_test_good_mean 0.5359224677085876\n",
      "score_test_good_std 0.025277549400925636\n",
      "score_test_good_min 0.4987161159515381\n",
      "score_test_good_max 0.5970103144645691\n",
      "\n",
      "score_test_fail_mean 0.6360531449317932\n",
      "score_test_fail_std 0.05298539996147156\n",
      "score_test_fail_min 0.5460948944091797\n",
      "score_test_fail_max 0.7307103276252747\n",
      "\n",
      "score_train_mean 0.22366352379322052\n",
      "score_train_std 0.004997164011001587\n",
      "score_train_min 0.21443122625350952\n",
      "score_train_max 0.23595620691776276\n"
     ]
    },
    {
     "name": "stderr",
     "output_type": "stream",
     "text": [
      "100%|██████████████████████████████████████████████████████████████████████████████████| 23/23 [00:32<00:00,  1.43s/it]\n"
     ]
    },
    {
     "name": "stdout",
     "output_type": "stream",
     "text": [
      "loss_overall 0.22394651692846548\n",
      "epoch 432\n",
      "\n",
      "score_test_good_mean 0.5753879547119141\n",
      "score_test_good_std 0.010956982150673866\n",
      "score_test_good_min 0.557517945766449\n",
      "score_test_good_max 0.5942026376724243\n",
      "\n",
      "score_test_fail_mean 0.670533299446106\n",
      "score_test_fail_std 0.0551857128739357\n",
      "score_test_fail_min 0.5963352918624878\n",
      "score_test_fail_max 0.8199349641799927\n",
      "\n",
      "score_train_mean 0.22242631018161774\n",
      "score_train_std 0.006401162128895521\n",
      "score_train_min 0.21143795549869537\n",
      "score_train_max 0.24443645775318146\n"
     ]
    },
    {
     "name": "stderr",
     "output_type": "stream",
     "text": [
      "100%|██████████████████████████████████████████████████████████████████████████████████| 23/23 [00:32<00:00,  1.41s/it]\n"
     ]
    },
    {
     "name": "stdout",
     "output_type": "stream",
     "text": [
      "loss_overall 0.22287413737048273\n",
      "epoch 433\n",
      "\n",
      "score_test_good_mean 0.5312427878379822\n",
      "score_test_good_std 0.023160602897405624\n",
      "score_test_good_min 0.4944033920764923\n",
      "score_test_good_max 0.5742824673652649\n",
      "\n",
      "score_test_fail_mean 0.6248018741607666\n",
      "score_test_fail_std 0.053468987345695496\n",
      "score_test_fail_min 0.56403648853302\n",
      "score_test_fail_max 0.7840267419815063\n",
      "\n",
      "score_train_mean 0.22352632880210876\n",
      "score_train_std 0.006642466876655817\n",
      "score_train_min 0.21077220141887665\n",
      "score_train_max 0.23770944774150848\n"
     ]
    },
    {
     "name": "stderr",
     "output_type": "stream",
     "text": [
      "100%|██████████████████████████████████████████████████████████████████████████████████| 23/23 [00:34<00:00,  1.51s/it]\n"
     ]
    },
    {
     "name": "stdout",
     "output_type": "stream",
     "text": [
      "loss_overall 0.22949110489824545\n",
      "epoch 434\n",
      "\n",
      "score_test_good_mean 0.5272165536880493\n",
      "score_test_good_std 0.01937410607933998\n",
      "score_test_good_min 0.5051182508468628\n",
      "score_test_good_max 0.570955753326416\n",
      "\n",
      "score_test_fail_mean 0.626034677028656\n",
      "score_test_fail_std 0.03867209330201149\n",
      "score_test_fail_min 0.5434306859970093\n",
      "score_test_fail_max 0.7085091471672058\n",
      "\n",
      "score_train_mean 0.22279351949691772\n",
      "score_train_std 0.005395171698182821\n",
      "score_train_min 0.21050399541854858\n",
      "score_train_max 0.2339356541633606\n"
     ]
    },
    {
     "name": "stderr",
     "output_type": "stream",
     "text": [
      "100%|██████████████████████████████████████████████████████████████████████████████████| 23/23 [00:32<00:00,  1.40s/it]\n"
     ]
    },
    {
     "name": "stdout",
     "output_type": "stream",
     "text": [
      "loss_overall 0.22189682981242304\n",
      "epoch 435\n",
      "\n",
      "score_test_good_mean 0.5319103002548218\n",
      "score_test_good_std 0.019226131960749626\n",
      "score_test_good_min 0.49569880962371826\n",
      "score_test_good_max 0.5636791586875916\n",
      "\n",
      "score_test_fail_mean 0.6269037127494812\n",
      "score_test_fail_std 0.05936044454574585\n",
      "score_test_fail_min 0.5590054988861084\n",
      "score_test_fail_max 0.8225926756858826\n",
      "\n",
      "score_train_mean 0.2224566638469696\n",
      "score_train_std 0.005522910505533218\n",
      "score_train_min 0.21374639868736267\n",
      "score_train_max 0.23366911709308624\n"
     ]
    },
    {
     "name": "stderr",
     "output_type": "stream",
     "text": [
      "100%|██████████████████████████████████████████████████████████████████████████████████| 23/23 [00:32<00:00,  1.40s/it]\n"
     ]
    },
    {
     "name": "stdout",
     "output_type": "stream",
     "text": [
      "loss_overall 0.22559544444084167\n",
      "epoch 436\n",
      "\n",
      "score_test_good_mean 0.5328684449195862\n",
      "score_test_good_std 0.015425089746713638\n",
      "score_test_good_min 0.4971340596675873\n",
      "score_test_good_max 0.5504404306411743\n",
      "\n",
      "score_test_fail_mean 0.6293730139732361\n",
      "score_test_fail_std 0.048357993364334106\n",
      "score_test_fail_min 0.5514166951179504\n",
      "score_test_fail_max 0.7367294430732727\n",
      "\n",
      "score_train_mean 0.22119902074337006\n",
      "score_train_std 0.0056530870497226715\n",
      "score_train_min 0.21075361967086792\n",
      "score_train_max 0.23114392161369324\n"
     ]
    },
    {
     "name": "stderr",
     "output_type": "stream",
     "text": [
      "100%|██████████████████████████████████████████████████████████████████████████████████| 23/23 [00:33<00:00,  1.45s/it]\n"
     ]
    },
    {
     "name": "stdout",
     "output_type": "stream",
     "text": [
      "loss_overall 0.22681665161381598\n",
      "epoch 437\n",
      "\n",
      "score_test_good_mean 0.5262420773506165\n",
      "score_test_good_std 0.027661798521876335\n",
      "score_test_good_min 0.4869386553764343\n",
      "score_test_good_max 0.5702605247497559\n",
      "\n",
      "score_test_fail_mean 0.6232270002365112\n",
      "score_test_fail_std 0.05361587926745415\n",
      "score_test_fail_min 0.5409240126609802\n",
      "score_test_fail_max 0.7805918455123901\n",
      "\n",
      "score_train_mean 0.22214433550834656\n",
      "score_train_std 0.005982041358947754\n",
      "score_train_min 0.21177320182323456\n",
      "score_train_max 0.23494595289230347\n"
     ]
    },
    {
     "name": "stderr",
     "output_type": "stream",
     "text": [
      "100%|██████████████████████████████████████████████████████████████████████████████████| 23/23 [00:32<00:00,  1.43s/it]\n"
     ]
    },
    {
     "name": "stdout",
     "output_type": "stream",
     "text": [
      "loss_overall 0.2237456298392752\n",
      "epoch 438\n",
      "\n",
      "score_test_good_mean 0.5264105796813965\n",
      "score_test_good_std 0.018387984484434128\n",
      "score_test_good_min 0.5029637813568115\n",
      "score_test_good_max 0.561910092830658\n",
      "\n",
      "score_test_fail_mean 0.6323238611221313\n",
      "score_test_fail_std 0.06822418421506882\n",
      "score_test_fail_min 0.5434128046035767\n",
      "score_test_fail_max 0.8163841366767883\n",
      "\n",
      "score_train_mean 0.2229478657245636\n",
      "score_train_std 0.005351988133043051\n",
      "score_train_min 0.21176816523075104\n",
      "score_train_max 0.23433391749858856\n"
     ]
    },
    {
     "name": "stderr",
     "output_type": "stream",
     "text": [
      "100%|██████████████████████████████████████████████████████████████████████████████████| 23/23 [00:32<00:00,  1.43s/it]\n"
     ]
    },
    {
     "name": "stdout",
     "output_type": "stream",
     "text": [
      "loss_overall 0.22558530452458755\n",
      "epoch 439\n",
      "\n",
      "score_test_good_mean 0.5549863576889038\n",
      "score_test_good_std 0.018538134172558784\n",
      "score_test_good_min 0.5288594961166382\n",
      "score_test_good_max 0.5956757068634033\n",
      "\n",
      "score_test_fail_mean 0.661440908908844\n",
      "score_test_fail_std 0.07919877022504807\n",
      "score_test_fail_min 0.5552595853805542\n",
      "score_test_fail_max 0.9522889256477356\n",
      "\n",
      "score_train_mean 0.22302813827991486\n",
      "score_train_std 0.004602320026606321\n",
      "score_train_min 0.21486064791679382\n",
      "score_train_max 0.23298993706703186\n"
     ]
    },
    {
     "name": "stderr",
     "output_type": "stream",
     "text": [
      "100%|██████████████████████████████████████████████████████████████████████████████████| 23/23 [00:32<00:00,  1.40s/it]\n"
     ]
    },
    {
     "name": "stdout",
     "output_type": "stream",
     "text": [
      "loss_overall 0.23052512109279633\n",
      "epoch 440\n",
      "\n",
      "score_test_good_mean 0.5270902514457703\n",
      "score_test_good_std 0.02294534631073475\n",
      "score_test_good_min 0.4796956777572632\n",
      "score_test_good_max 0.5652570128440857\n",
      "\n",
      "score_test_fail_mean 0.6190642714500427\n",
      "score_test_fail_std 0.0588846318423748\n",
      "score_test_fail_min 0.5177616477012634\n",
      "score_test_fail_max 0.7713798880577087\n",
      "\n",
      "score_train_mean 0.22354444861412048\n",
      "score_train_std 0.004759682808071375\n",
      "score_train_min 0.21629661321640015\n",
      "score_train_max 0.2359926402568817\n"
     ]
    },
    {
     "name": "stderr",
     "output_type": "stream",
     "text": [
      "100%|██████████████████████████████████████████████████████████████████████████████████| 23/23 [00:33<00:00,  1.44s/it]\n"
     ]
    },
    {
     "name": "stdout",
     "output_type": "stream",
     "text": [
      "loss_overall 0.2206426230461701\n",
      "epoch 441\n",
      "\n",
      "score_test_good_mean 0.5334357619285583\n",
      "score_test_good_std 0.019898686558008194\n",
      "score_test_good_min 0.5101973414421082\n",
      "score_test_good_max 0.5701997876167297\n",
      "\n",
      "score_test_fail_mean 0.6270692944526672\n",
      "score_test_fail_std 0.04129267856478691\n",
      "score_test_fail_min 0.5104807019233704\n",
      "score_test_fail_max 0.6878998279571533\n",
      "\n",
      "score_train_mean 0.22155699133872986\n",
      "score_train_std 0.004761647433042526\n",
      "score_train_min 0.21146614849567413\n",
      "score_train_max 0.22998541593551636\n"
     ]
    },
    {
     "name": "stderr",
     "output_type": "stream",
     "text": [
      "100%|██████████████████████████████████████████████████████████████████████████████████| 23/23 [00:32<00:00,  1.39s/it]\n"
     ]
    },
    {
     "name": "stdout",
     "output_type": "stream",
     "text": [
      "loss_overall 0.22168718407983365\n",
      "epoch 442\n",
      "\n",
      "score_test_good_mean 0.5298885703086853\n",
      "score_test_good_std 0.02279953472316265\n",
      "score_test_good_min 0.4932616949081421\n",
      "score_test_good_max 0.580980658531189\n",
      "\n",
      "score_test_fail_mean 0.6244643926620483\n",
      "score_test_fail_std 0.060684897005558014\n",
      "score_test_fail_min 0.5485408306121826\n",
      "score_test_fail_max 0.763247549533844\n",
      "\n",
      "score_train_mean 0.22382353246212006\n",
      "score_train_std 0.005199048668146133\n",
      "score_train_min 0.2161145657300949\n",
      "score_train_max 0.23445655405521393\n"
     ]
    },
    {
     "name": "stderr",
     "output_type": "stream",
     "text": [
      "100%|██████████████████████████████████████████████████████████████████████████████████| 23/23 [00:33<00:00,  1.44s/it]\n"
     ]
    },
    {
     "name": "stdout",
     "output_type": "stream",
     "text": [
      "loss_overall 0.22122750334117725\n",
      "epoch 443\n",
      "\n",
      "score_test_good_mean 0.5495386719703674\n",
      "score_test_good_std 0.02357732690870762\n",
      "score_test_good_min 0.5058247447013855\n",
      "score_test_good_max 0.5857871174812317\n",
      "\n",
      "score_test_fail_mean 0.6439650654792786\n",
      "score_test_fail_std 0.05527213215827942\n",
      "score_test_fail_min 0.5722337961196899\n",
      "score_test_fail_max 0.7507001161575317\n",
      "\n",
      "score_train_mean 0.22008031606674194\n",
      "score_train_std 0.004047608468681574\n",
      "score_train_min 0.21148723363876343\n",
      "score_train_max 0.22647173702716827\n"
     ]
    },
    {
     "name": "stderr",
     "output_type": "stream",
     "text": [
      "100%|██████████████████████████████████████████████████████████████████████████████████| 23/23 [00:32<00:00,  1.40s/it]\n"
     ]
    },
    {
     "name": "stdout",
     "output_type": "stream",
     "text": [
      "loss_overall 0.21865606696709342\n",
      "epoch 444\n",
      "\n",
      "score_test_good_mean 0.5563580393791199\n",
      "score_test_good_std 0.019550243392586708\n",
      "score_test_good_min 0.5336333513259888\n",
      "score_test_good_max 0.6138228178024292\n",
      "\n",
      "score_test_fail_mean 0.656899631023407\n",
      "score_test_fail_std 0.04375520348548889\n",
      "score_test_fail_min 0.5939310789108276\n",
      "score_test_fail_max 0.7557586431503296\n",
      "\n",
      "score_train_mean 0.22068975865840912\n",
      "score_train_std 0.006445063278079033\n",
      "score_train_min 0.21252503991127014\n",
      "score_train_max 0.23526254296302795\n"
     ]
    },
    {
     "name": "stderr",
     "output_type": "stream",
     "text": [
      "100%|██████████████████████████████████████████████████████████████████████████████████| 23/23 [00:32<00:00,  1.43s/it]\n"
     ]
    },
    {
     "name": "stdout",
     "output_type": "stream",
     "text": [
      "loss_overall 0.22769817321196847\n",
      "epoch 445\n",
      "\n",
      "score_test_good_mean 0.5401679277420044\n",
      "score_test_good_std 0.02075817435979843\n",
      "score_test_good_min 0.5109407901763916\n",
      "score_test_good_max 0.5829066038131714\n",
      "\n",
      "score_test_fail_mean 0.6319831013679504\n",
      "score_test_fail_std 0.0520731583237648\n",
      "score_test_fail_min 0.5084167718887329\n",
      "score_test_fail_max 0.7150604128837585\n",
      "\n",
      "score_train_mean 0.22252775728702545\n",
      "score_train_std 0.006224437616765499\n",
      "score_train_min 0.2100781500339508\n",
      "score_train_max 0.23164668679237366\n"
     ]
    },
    {
     "name": "stderr",
     "output_type": "stream",
     "text": [
      "100%|██████████████████████████████████████████████████████████████████████████████████| 23/23 [00:34<00:00,  1.50s/it]\n"
     ]
    },
    {
     "name": "stdout",
     "output_type": "stream",
     "text": [
      "loss_overall 0.2178354263305664\n",
      "epoch 446\n",
      "\n",
      "score_test_good_mean 0.5289034843444824\n",
      "score_test_good_std 0.016437556594610214\n",
      "score_test_good_min 0.49478453397750854\n",
      "score_test_good_max 0.5541462302207947\n",
      "\n",
      "score_test_fail_mean 0.6300842761993408\n",
      "score_test_fail_std 0.06116766855120659\n",
      "score_test_fail_min 0.5330637097358704\n",
      "score_test_fail_max 0.7910669445991516\n",
      "\n",
      "score_train_mean 0.22393576800823212\n",
      "score_train_std 0.007473660167306662\n",
      "score_train_min 0.20938628911972046\n",
      "score_train_max 0.24063116312026978\n"
     ]
    },
    {
     "name": "stderr",
     "output_type": "stream",
     "text": [
      "100%|██████████████████████████████████████████████████████████████████████████████████| 23/23 [00:32<00:00,  1.40s/it]\n"
     ]
    },
    {
     "name": "stdout",
     "output_type": "stream",
     "text": [
      "loss_overall 0.22932976937812308\n",
      "epoch 447\n",
      "\n",
      "score_test_good_mean 0.5407881140708923\n",
      "score_test_good_std 0.013487464748322964\n",
      "score_test_good_min 0.5108788013458252\n",
      "score_test_good_max 0.566570520401001\n",
      "\n",
      "score_test_fail_mean 0.6375307440757751\n",
      "score_test_fail_std 0.051031917333602905\n",
      "score_test_fail_min 0.5766965746879578\n",
      "score_test_fail_max 0.8092111945152283\n",
      "\n",
      "score_train_mean 0.22188790142536163\n",
      "score_train_std 0.004643461667001247\n",
      "score_train_min 0.21316593885421753\n",
      "score_train_max 0.2294713407754898\n"
     ]
    },
    {
     "name": "stderr",
     "output_type": "stream",
     "text": [
      "100%|██████████████████████████████████████████████████████████████████████████████████| 23/23 [00:33<00:00,  1.46s/it]\n"
     ]
    },
    {
     "name": "stdout",
     "output_type": "stream",
     "text": [
      "loss_overall 0.22438744682332742\n",
      "epoch 448\n",
      "\n",
      "score_test_good_mean 0.5442246794700623\n",
      "score_test_good_std 0.021507490426301956\n",
      "score_test_good_min 0.5127986073493958\n",
      "score_test_good_max 0.5917343497276306\n",
      "\n",
      "score_test_fail_mean 0.6465327739715576\n",
      "score_test_fail_std 0.06516536325216293\n",
      "score_test_fail_min 0.5593660473823547\n",
      "score_test_fail_max 0.7851546406745911\n",
      "\n",
      "score_train_mean 0.22198718786239624\n",
      "score_train_std 0.006272318307310343\n",
      "score_train_min 0.21195875108242035\n",
      "score_train_max 0.2355319857597351\n"
     ]
    },
    {
     "name": "stderr",
     "output_type": "stream",
     "text": [
      "100%|██████████████████████████████████████████████████████████████████████████████████| 23/23 [00:34<00:00,  1.48s/it]\n"
     ]
    },
    {
     "name": "stdout",
     "output_type": "stream",
     "text": [
      "loss_overall 0.2303601464499598\n",
      "epoch 449\n",
      "\n",
      "score_test_good_mean 0.5434936881065369\n",
      "score_test_good_std 0.02015507034957409\n",
      "score_test_good_min 0.5014920234680176\n",
      "score_test_good_max 0.5734857320785522\n",
      "\n",
      "score_test_fail_mean 0.6384817957878113\n",
      "score_test_fail_std 0.04322393611073494\n",
      "score_test_fail_min 0.5630277395248413\n",
      "score_test_fail_max 0.7032819390296936\n",
      "\n",
      "score_train_mean 0.22247837483882904\n",
      "score_train_std 0.005775448866188526\n",
      "score_train_min 0.2148246318101883\n",
      "score_train_max 0.2351132184267044\n"
     ]
    },
    {
     "name": "stderr",
     "output_type": "stream",
     "text": [
      "100%|██████████████████████████████████████████████████████████████████████████████████| 23/23 [00:31<00:00,  1.38s/it]\n"
     ]
    },
    {
     "name": "stdout",
     "output_type": "stream",
     "text": [
      "loss_overall 0.2255711458299471\n",
      "epoch 450\n",
      "\n",
      "score_test_good_mean 0.5651596188545227\n",
      "score_test_good_std 0.017643578350543976\n",
      "score_test_good_min 0.5315408706665039\n",
      "score_test_good_max 0.5929000377655029\n",
      "\n",
      "score_test_fail_mean 0.6531358957290649\n",
      "score_test_fail_std 0.06902870535850525\n",
      "score_test_fail_min 0.5497384071350098\n",
      "score_test_fail_max 0.7877494692802429\n",
      "\n",
      "score_train_mean 0.22348541021347046\n",
      "score_train_std 0.006282719783484936\n",
      "score_train_min 0.2116064429283142\n",
      "score_train_max 0.2363525927066803\n"
     ]
    },
    {
     "name": "stderr",
     "output_type": "stream",
     "text": [
      "100%|██████████████████████████████████████████████████████████████████████████████████| 23/23 [00:33<00:00,  1.45s/it]\n"
     ]
    },
    {
     "name": "stdout",
     "output_type": "stream",
     "text": [
      "loss_overall 0.22386913519838583\n",
      "epoch 451\n",
      "\n",
      "score_test_good_mean 0.5467920303344727\n",
      "score_test_good_std 0.021931149065494537\n",
      "score_test_good_min 0.5156787037849426\n",
      "score_test_good_max 0.5991207361221313\n",
      "\n",
      "score_test_fail_mean 0.654079258441925\n",
      "score_test_fail_std 0.0631060004234314\n",
      "score_test_fail_min 0.5856030583381653\n",
      "score_test_fail_max 0.8904985189437866\n",
      "\n",
      "score_train_mean 0.22363081574440002\n",
      "score_train_std 0.005367169622331858\n",
      "score_train_min 0.21030215919017792\n",
      "score_train_max 0.23325461149215698\n"
     ]
    },
    {
     "name": "stderr",
     "output_type": "stream",
     "text": [
      "100%|██████████████████████████████████████████████████████████████████████████████████| 23/23 [00:39<00:00,  1.71s/it]\n"
     ]
    },
    {
     "ename": "KeyboardInterrupt",
     "evalue": "",
     "output_type": "error",
     "traceback": [
      "\u001b[1;31m---------------------------------------------------------------------------\u001b[0m",
      "\u001b[1;31mKeyboardInterrupt\u001b[0m                         Traceback (most recent call last)",
      "\u001b[1;32m~\\AppData\\Local\\Temp/ipykernel_15032/3435733183.py\u001b[0m in \u001b[0;36m<module>\u001b[1;34m\u001b[0m\n\u001b[0;32m     93\u001b[0m     \u001b[0mself_diff_good\u001b[0m \u001b[1;33m=\u001b[0m \u001b[1;33m[\u001b[0m\u001b[1;33m]\u001b[0m\u001b[1;33m\u001b[0m\u001b[1;33m\u001b[0m\u001b[0m\n\u001b[0;32m     94\u001b[0m     \u001b[0mquatile_good\u001b[0m \u001b[1;33m=\u001b[0m \u001b[1;33m[\u001b[0m\u001b[1;33m]\u001b[0m\u001b[1;33m\u001b[0m\u001b[1;33m\u001b[0m\u001b[0m\n\u001b[1;32m---> 95\u001b[1;33m     \u001b[1;32mfor\u001b[0m \u001b[0mimage_teacher_student\u001b[0m\u001b[1;33m,\u001b[0m \u001b[0mimg_normal\u001b[0m\u001b[1;33m,\u001b[0m \u001b[0m_\u001b[0m \u001b[1;32min\u001b[0m \u001b[0mtest_good_loader\u001b[0m\u001b[1;33m:\u001b[0m\u001b[1;33m\u001b[0m\u001b[1;33m\u001b[0m\u001b[0m\n\u001b[0m\u001b[0;32m     96\u001b[0m         \u001b[0mmodel_student\u001b[0m\u001b[1;33m.\u001b[0m\u001b[0meval\u001b[0m\u001b[1;33m(\u001b[0m\u001b[1;33m)\u001b[0m\u001b[1;33m\u001b[0m\u001b[1;33m\u001b[0m\u001b[0m\n\u001b[0;32m     97\u001b[0m         \u001b[0mimage_teacher_student\u001b[0m \u001b[1;33m=\u001b[0m \u001b[0mimage_teacher_student\u001b[0m\u001b[1;33m.\u001b[0m\u001b[0mto\u001b[0m\u001b[1;33m(\u001b[0m\u001b[0mdevice\u001b[0m\u001b[1;33m)\u001b[0m\u001b[1;33m\u001b[0m\u001b[1;33m\u001b[0m\u001b[0m\n",
      "\u001b[1;32mC:\\ProgramData\\Anaconda3\\lib\\site-packages\\torch\\utils\\data\\dataloader.py\u001b[0m in \u001b[0;36m__next__\u001b[1;34m(self)\u001b[0m\n\u001b[0;32m    626\u001b[0m                 \u001b[1;31m# TODO(https://github.com/pytorch/pytorch/issues/76750)\u001b[0m\u001b[1;33m\u001b[0m\u001b[1;33m\u001b[0m\u001b[0m\n\u001b[0;32m    627\u001b[0m                 \u001b[0mself\u001b[0m\u001b[1;33m.\u001b[0m\u001b[0m_reset\u001b[0m\u001b[1;33m(\u001b[0m\u001b[1;33m)\u001b[0m  \u001b[1;31m# type: ignore[call-arg]\u001b[0m\u001b[1;33m\u001b[0m\u001b[1;33m\u001b[0m\u001b[0m\n\u001b[1;32m--> 628\u001b[1;33m             \u001b[0mdata\u001b[0m \u001b[1;33m=\u001b[0m \u001b[0mself\u001b[0m\u001b[1;33m.\u001b[0m\u001b[0m_next_data\u001b[0m\u001b[1;33m(\u001b[0m\u001b[1;33m)\u001b[0m\u001b[1;33m\u001b[0m\u001b[1;33m\u001b[0m\u001b[0m\n\u001b[0m\u001b[0;32m    629\u001b[0m             \u001b[0mself\u001b[0m\u001b[1;33m.\u001b[0m\u001b[0m_num_yielded\u001b[0m \u001b[1;33m+=\u001b[0m \u001b[1;36m1\u001b[0m\u001b[1;33m\u001b[0m\u001b[1;33m\u001b[0m\u001b[0m\n\u001b[0;32m    630\u001b[0m             \u001b[1;32mif\u001b[0m \u001b[0mself\u001b[0m\u001b[1;33m.\u001b[0m\u001b[0m_dataset_kind\u001b[0m \u001b[1;33m==\u001b[0m \u001b[0m_DatasetKind\u001b[0m\u001b[1;33m.\u001b[0m\u001b[0mIterable\u001b[0m \u001b[1;32mand\u001b[0m\u001b[0;31m \u001b[0m\u001b[0;31m\\\u001b[0m\u001b[1;33m\u001b[0m\u001b[1;33m\u001b[0m\u001b[0m\n",
      "\u001b[1;32mC:\\ProgramData\\Anaconda3\\lib\\site-packages\\torch\\utils\\data\\dataloader.py\u001b[0m in \u001b[0;36m_next_data\u001b[1;34m(self)\u001b[0m\n\u001b[0;32m    669\u001b[0m     \u001b[1;32mdef\u001b[0m \u001b[0m_next_data\u001b[0m\u001b[1;33m(\u001b[0m\u001b[0mself\u001b[0m\u001b[1;33m)\u001b[0m\u001b[1;33m:\u001b[0m\u001b[1;33m\u001b[0m\u001b[1;33m\u001b[0m\u001b[0m\n\u001b[0;32m    670\u001b[0m         \u001b[0mindex\u001b[0m \u001b[1;33m=\u001b[0m \u001b[0mself\u001b[0m\u001b[1;33m.\u001b[0m\u001b[0m_next_index\u001b[0m\u001b[1;33m(\u001b[0m\u001b[1;33m)\u001b[0m  \u001b[1;31m# may raise StopIteration\u001b[0m\u001b[1;33m\u001b[0m\u001b[1;33m\u001b[0m\u001b[0m\n\u001b[1;32m--> 671\u001b[1;33m         \u001b[0mdata\u001b[0m \u001b[1;33m=\u001b[0m \u001b[0mself\u001b[0m\u001b[1;33m.\u001b[0m\u001b[0m_dataset_fetcher\u001b[0m\u001b[1;33m.\u001b[0m\u001b[0mfetch\u001b[0m\u001b[1;33m(\u001b[0m\u001b[0mindex\u001b[0m\u001b[1;33m)\u001b[0m  \u001b[1;31m# may raise StopIteration\u001b[0m\u001b[1;33m\u001b[0m\u001b[1;33m\u001b[0m\u001b[0m\n\u001b[0m\u001b[0;32m    672\u001b[0m         \u001b[1;32mif\u001b[0m \u001b[0mself\u001b[0m\u001b[1;33m.\u001b[0m\u001b[0m_pin_memory\u001b[0m\u001b[1;33m:\u001b[0m\u001b[1;33m\u001b[0m\u001b[1;33m\u001b[0m\u001b[0m\n\u001b[0;32m    673\u001b[0m             \u001b[0mdata\u001b[0m \u001b[1;33m=\u001b[0m \u001b[0m_utils\u001b[0m\u001b[1;33m.\u001b[0m\u001b[0mpin_memory\u001b[0m\u001b[1;33m.\u001b[0m\u001b[0mpin_memory\u001b[0m\u001b[1;33m(\u001b[0m\u001b[0mdata\u001b[0m\u001b[1;33m,\u001b[0m \u001b[0mself\u001b[0m\u001b[1;33m.\u001b[0m\u001b[0m_pin_memory_device\u001b[0m\u001b[1;33m)\u001b[0m\u001b[1;33m\u001b[0m\u001b[1;33m\u001b[0m\u001b[0m\n",
      "\u001b[1;32mC:\\ProgramData\\Anaconda3\\lib\\site-packages\\torch\\utils\\data\\_utils\\fetch.py\u001b[0m in \u001b[0;36mfetch\u001b[1;34m(self, possibly_batched_index)\u001b[0m\n\u001b[0;32m     56\u001b[0m                 \u001b[0mdata\u001b[0m \u001b[1;33m=\u001b[0m \u001b[0mself\u001b[0m\u001b[1;33m.\u001b[0m\u001b[0mdataset\u001b[0m\u001b[1;33m.\u001b[0m\u001b[0m__getitems__\u001b[0m\u001b[1;33m(\u001b[0m\u001b[0mpossibly_batched_index\u001b[0m\u001b[1;33m)\u001b[0m\u001b[1;33m\u001b[0m\u001b[1;33m\u001b[0m\u001b[0m\n\u001b[0;32m     57\u001b[0m             \u001b[1;32melse\u001b[0m\u001b[1;33m:\u001b[0m\u001b[1;33m\u001b[0m\u001b[1;33m\u001b[0m\u001b[0m\n\u001b[1;32m---> 58\u001b[1;33m                 \u001b[0mdata\u001b[0m \u001b[1;33m=\u001b[0m \u001b[1;33m[\u001b[0m\u001b[0mself\u001b[0m\u001b[1;33m.\u001b[0m\u001b[0mdataset\u001b[0m\u001b[1;33m[\u001b[0m\u001b[0midx\u001b[0m\u001b[1;33m]\u001b[0m \u001b[1;32mfor\u001b[0m \u001b[0midx\u001b[0m \u001b[1;32min\u001b[0m \u001b[0mpossibly_batched_index\u001b[0m\u001b[1;33m]\u001b[0m\u001b[1;33m\u001b[0m\u001b[1;33m\u001b[0m\u001b[0m\n\u001b[0m\u001b[0;32m     59\u001b[0m         \u001b[1;32melse\u001b[0m\u001b[1;33m:\u001b[0m\u001b[1;33m\u001b[0m\u001b[1;33m\u001b[0m\u001b[0m\n\u001b[0;32m     60\u001b[0m             \u001b[0mdata\u001b[0m \u001b[1;33m=\u001b[0m \u001b[0mself\u001b[0m\u001b[1;33m.\u001b[0m\u001b[0mdataset\u001b[0m\u001b[1;33m[\u001b[0m\u001b[0mpossibly_batched_index\u001b[0m\u001b[1;33m]\u001b[0m\u001b[1;33m\u001b[0m\u001b[1;33m\u001b[0m\u001b[0m\n",
      "\u001b[1;32mC:\\ProgramData\\Anaconda3\\lib\\site-packages\\torch\\utils\\data\\_utils\\fetch.py\u001b[0m in \u001b[0;36m<listcomp>\u001b[1;34m(.0)\u001b[0m\n\u001b[0;32m     56\u001b[0m                 \u001b[0mdata\u001b[0m \u001b[1;33m=\u001b[0m \u001b[0mself\u001b[0m\u001b[1;33m.\u001b[0m\u001b[0mdataset\u001b[0m\u001b[1;33m.\u001b[0m\u001b[0m__getitems__\u001b[0m\u001b[1;33m(\u001b[0m\u001b[0mpossibly_batched_index\u001b[0m\u001b[1;33m)\u001b[0m\u001b[1;33m\u001b[0m\u001b[1;33m\u001b[0m\u001b[0m\n\u001b[0;32m     57\u001b[0m             \u001b[1;32melse\u001b[0m\u001b[1;33m:\u001b[0m\u001b[1;33m\u001b[0m\u001b[1;33m\u001b[0m\u001b[0m\n\u001b[1;32m---> 58\u001b[1;33m                 \u001b[0mdata\u001b[0m \u001b[1;33m=\u001b[0m \u001b[1;33m[\u001b[0m\u001b[0mself\u001b[0m\u001b[1;33m.\u001b[0m\u001b[0mdataset\u001b[0m\u001b[1;33m[\u001b[0m\u001b[0midx\u001b[0m\u001b[1;33m]\u001b[0m \u001b[1;32mfor\u001b[0m \u001b[0midx\u001b[0m \u001b[1;32min\u001b[0m \u001b[0mpossibly_batched_index\u001b[0m\u001b[1;33m]\u001b[0m\u001b[1;33m\u001b[0m\u001b[1;33m\u001b[0m\u001b[0m\n\u001b[0m\u001b[0;32m     59\u001b[0m         \u001b[1;32melse\u001b[0m\u001b[1;33m:\u001b[0m\u001b[1;33m\u001b[0m\u001b[1;33m\u001b[0m\u001b[0m\n\u001b[0;32m     60\u001b[0m             \u001b[0mdata\u001b[0m \u001b[1;33m=\u001b[0m \u001b[0mself\u001b[0m\u001b[1;33m.\u001b[0m\u001b[0mdataset\u001b[0m\u001b[1;33m[\u001b[0m\u001b[0mpossibly_batched_index\u001b[0m\u001b[1;33m]\u001b[0m\u001b[1;33m\u001b[0m\u001b[1;33m\u001b[0m\u001b[0m\n",
      "\u001b[1;32m~\\AppData\\Local\\Temp/ipykernel_15032/4069111902.py\u001b[0m in \u001b[0;36m__getitem__\u001b[1;34m(self, index)\u001b[0m\n\u001b[0;32m     31\u001b[0m     \u001b[1;32mdef\u001b[0m \u001b[0m__getitem__\u001b[0m\u001b[1;33m(\u001b[0m\u001b[0mself\u001b[0m\u001b[1;33m,\u001b[0m \u001b[0mindex\u001b[0m\u001b[1;33m)\u001b[0m\u001b[1;33m:\u001b[0m \u001b[1;31m# take as input some index\u001b[0m\u001b[1;33m\u001b[0m\u001b[1;33m\u001b[0m\u001b[0m\n\u001b[0;32m     32\u001b[0m         \u001b[0mimg_path\u001b[0m \u001b[1;33m=\u001b[0m \u001b[0mself\u001b[0m\u001b[1;33m.\u001b[0m\u001b[0mimages\u001b[0m\u001b[1;33m[\u001b[0m\u001b[0mindex\u001b[0m\u001b[1;33m]\u001b[0m\u001b[1;33m\u001b[0m\u001b[1;33m\u001b[0m\u001b[0m\n\u001b[1;32m---> 33\u001b[1;33m         \u001b[0mimage\u001b[0m \u001b[1;33m=\u001b[0m \u001b[0mImage\u001b[0m\u001b[1;33m.\u001b[0m\u001b[0mopen\u001b[0m\u001b[1;33m(\u001b[0m\u001b[0mimg_path\u001b[0m\u001b[1;33m)\u001b[0m\u001b[1;33m.\u001b[0m\u001b[0mconvert\u001b[0m\u001b[1;33m(\u001b[0m\u001b[1;34m\"RGB\"\u001b[0m\u001b[1;33m)\u001b[0m\u001b[1;33m\u001b[0m\u001b[1;33m\u001b[0m\u001b[0m\n\u001b[0m\u001b[0;32m     34\u001b[0m         \u001b[0mimage_teacher_student\u001b[0m \u001b[1;33m=\u001b[0m \u001b[0mself\u001b[0m\u001b[1;33m.\u001b[0m\u001b[0mtransform_teacher\u001b[0m\u001b[1;33m(\u001b[0m\u001b[0mimage\u001b[0m\u001b[1;33m)\u001b[0m\u001b[1;33m\u001b[0m\u001b[1;33m\u001b[0m\u001b[0m\n\u001b[0;32m     35\u001b[0m         \u001b[0mimage_normal\u001b[0m \u001b[1;33m=\u001b[0m \u001b[0mself\u001b[0m\u001b[1;33m.\u001b[0m\u001b[0mtransform_normal\u001b[0m\u001b[1;33m(\u001b[0m\u001b[0mimage\u001b[0m\u001b[1;33m)\u001b[0m\u001b[1;33m\u001b[0m\u001b[1;33m\u001b[0m\u001b[0m\n",
      "\u001b[1;32mC:\\ProgramData\\Anaconda3\\lib\\site-packages\\PIL\\Image.py\u001b[0m in \u001b[0;36mconvert\u001b[1;34m(self, mode, matrix, dither, palette, colors)\u001b[0m\n\u001b[0;32m    913\u001b[0m         \"\"\"\n\u001b[0;32m    914\u001b[0m \u001b[1;33m\u001b[0m\u001b[0m\n\u001b[1;32m--> 915\u001b[1;33m         \u001b[0mself\u001b[0m\u001b[1;33m.\u001b[0m\u001b[0mload\u001b[0m\u001b[1;33m(\u001b[0m\u001b[1;33m)\u001b[0m\u001b[1;33m\u001b[0m\u001b[1;33m\u001b[0m\u001b[0m\n\u001b[0m\u001b[0;32m    916\u001b[0m \u001b[1;33m\u001b[0m\u001b[0m\n\u001b[0;32m    917\u001b[0m         \u001b[0mhas_transparency\u001b[0m \u001b[1;33m=\u001b[0m \u001b[0mself\u001b[0m\u001b[1;33m.\u001b[0m\u001b[0minfo\u001b[0m\u001b[1;33m.\u001b[0m\u001b[0mget\u001b[0m\u001b[1;33m(\u001b[0m\u001b[1;34m\"transparency\"\u001b[0m\u001b[1;33m)\u001b[0m \u001b[1;32mis\u001b[0m \u001b[1;32mnot\u001b[0m \u001b[1;32mNone\u001b[0m\u001b[1;33m\u001b[0m\u001b[1;33m\u001b[0m\u001b[0m\n",
      "\u001b[1;32mC:\\ProgramData\\Anaconda3\\lib\\site-packages\\PIL\\ImageFile.py\u001b[0m in \u001b[0;36mload\u001b[1;34m(self)\u001b[0m\n\u001b[0;32m    253\u001b[0m \u001b[1;33m\u001b[0m\u001b[0m\n\u001b[0;32m    254\u001b[0m                             \u001b[0mb\u001b[0m \u001b[1;33m=\u001b[0m \u001b[0mb\u001b[0m \u001b[1;33m+\u001b[0m \u001b[0ms\u001b[0m\u001b[1;33m\u001b[0m\u001b[1;33m\u001b[0m\u001b[0m\n\u001b[1;32m--> 255\u001b[1;33m                             \u001b[0mn\u001b[0m\u001b[1;33m,\u001b[0m \u001b[0merr_code\u001b[0m \u001b[1;33m=\u001b[0m \u001b[0mdecoder\u001b[0m\u001b[1;33m.\u001b[0m\u001b[0mdecode\u001b[0m\u001b[1;33m(\u001b[0m\u001b[0mb\u001b[0m\u001b[1;33m)\u001b[0m\u001b[1;33m\u001b[0m\u001b[1;33m\u001b[0m\u001b[0m\n\u001b[0m\u001b[0;32m    256\u001b[0m                             \u001b[1;32mif\u001b[0m \u001b[0mn\u001b[0m \u001b[1;33m<\u001b[0m \u001b[1;36m0\u001b[0m\u001b[1;33m:\u001b[0m\u001b[1;33m\u001b[0m\u001b[1;33m\u001b[0m\u001b[0m\n\u001b[0;32m    257\u001b[0m                                 \u001b[1;32mbreak\u001b[0m\u001b[1;33m\u001b[0m\u001b[1;33m\u001b[0m\u001b[0m\n",
      "\u001b[1;31mKeyboardInterrupt\u001b[0m: "
     ]
    }
   ],
   "source": [
    "import matplotlib.pyplot as plt\n",
    "import random\n",
    "import math\n",
    "\n",
    "model_teacher = DinoV2().to(device).eval()\n",
    "model_student = U_Net_Student().to(device).train()\n",
    "IMAGE_HEIGHT = 224\n",
    "IMAGE_WIDTH = 224\n",
    "print(summary(model=model_student,\n",
    "        input_size=(1, 3, IMAGE_HEIGHT, IMAGE_WIDTH),\n",
    "        col_names=[\"input_size\", \"output_size\", \"num_params\", \"trainable\"],\n",
    "        col_width=20,\n",
    "        row_settings=[\"var_names\"]))\n",
    "# print(model_student)\n",
    "#test quantize\n",
    "# model_fp32 = model_student.eval()\n",
    "# model_fp32.qconfig = torch.ao.quantization.get_default_qat_qconfig('x86')\n",
    "# model_fp32_fused = torch.ao.quantization.fuse_modules(model_fp32,\n",
    "#     [\n",
    "#          ['Conv1.conv1.0', 'Conv1.conv1.1', 'Conv1.conv1.2'],\n",
    "#          ['Conv1.conv2.0', 'Conv1.conv2.1', 'Conv1.conv2.2'],\n",
    "        \n",
    "#          ['Conv2.conv1.0', 'Conv2.conv1.1', 'Conv2.conv1.2'],\n",
    "#          ['Conv2.conv2.0', 'Conv2.conv2.1', 'Conv2.conv2.2'],\n",
    "        \n",
    "#          ['Conv3.conv1.0', 'Conv3.conv1.1', 'Conv3.conv1.2'],\n",
    "#          ['Conv3.conv2.0', 'Conv3.conv2.1', 'Conv3.conv2.2'],\n",
    "        \n",
    "#         ['Conv4.conv1.0', 'Conv4.conv1.1', 'Conv4.conv1.2'],\n",
    "#          ['Conv4.conv2.0', 'Conv4.conv2.1', 'Conv4.conv2.2'],\n",
    "        \n",
    "#         ['Conv5.conv1.0', 'Conv5.conv1.1', 'Conv5.conv1.2'],\n",
    "#          ['Conv5.conv2.0', 'Conv5.conv2.1', 'Conv5.conv2.2'],\n",
    "#     ])\n",
    "# model_student = torch.ao.quantization.prepare_qat(model_fp32_fused.to(device).train())\n",
    "epochs = 500\n",
    "\n",
    "\n",
    "optimizer_student = torch.optim.AdamW(model_student.parameters(), lr=1e-4, weight_decay=1e-5)\n",
    "\n",
    "loop_train = tqdm(enumerate(train_loader),total=len(train_loader))\n",
    "all_chanel_of_image = []\n",
    "\n",
    "for batch_idx, (image_teacher_student, img_normal, image_augment) in loop_train:\n",
    "    with torch.no_grad():\n",
    "        feature_out_teacher = model_teacher(image_teacher_student)\n",
    "    all_chanel_of_image.append(feature_out_teacher)\n",
    "all_chanel_of_image = torch.cat(all_chanel_of_image, dim=0)\n",
    "mean_all_chanel = torch.mean(all_chanel_of_image, dim=(0,2,3)).unsqueeze(0).unsqueeze(2).unsqueeze(3)\n",
    "std_all_chanel = torch.std(all_chanel_of_image, dim=(0,2,3)).unsqueeze(0).unsqueeze(2).unsqueeze(3)\n",
    "k = 112\n",
    "del all_chanel_of_image\n",
    "\n",
    "for epoch in range(epochs):\n",
    "    loss_overall = []\n",
    "    model_student.train()\n",
    "    score_train = []\n",
    "    self_diff_train = []\n",
    "    quatile_train = []\n",
    "    loop_train = tqdm(enumerate(train_loader),total=len(train_loader))\n",
    "    for batch_idx, (image_teacher_student, img_normal, image_augment) in loop_train:\n",
    "        image_teacher_student = image_teacher_student.to(device)\n",
    "        img_normal = img_normal.to(device)\n",
    "        image_augment = image_augment.to(device)\n",
    "        \n",
    "        optimizer_student.zero_grad()\n",
    "        feature_student = model_student(image_teacher_student)\n",
    "        feature_student_aug = model_student(image_augment)\n",
    "        \n",
    "        with torch.no_grad():\n",
    "            feature_out_teacher_nomal = model_teacher(image_teacher_student)\n",
    "            feature_out_teacher_augment = model_teacher(image_augment)\n",
    "            feature_out_teacher_normal_normalize = (feature_out_teacher_nomal - mean_all_chanel)/std_all_chanel\n",
    "            feature_out_teacher_augment_normalize = (feature_out_teacher_augment - mean_all_chanel)/std_all_chanel\n",
    "        \n",
    "        loss_student_teacher = torch.nn.functional.mse_loss(feature_student[:,:384,:,:], feature_out_teacher_normal_normalize)\n",
    "        loss_student_ae = torch.nn.functional.mse_loss(feature_student_aug[:,384:,:,:], feature_out_teacher_augment_normalize)\n",
    "        loss_all = loss_student_teacher + loss_student_ae\n",
    "        loss_all.backward()\n",
    "        optimizer_student.step()\n",
    "        \n",
    "        global_map = torch.sum((feature_student[:,:384,:,:] - feature_out_teacher_normal_normalize)**2, dim=1)/384\n",
    "        local_map = torch.sum((feature_student[:,384:,:,:] - feature_out_teacher_normal_normalize)**2, dim=1)/384\n",
    "        diff_self = torch.sum((feature_student[:,384:,:,:] - feature_student[:,:384,:,:])**2, dim=1)/384\n",
    "        value_global, _ = torch.topk(global_map.flatten(start_dim=1), k, dim=1)\n",
    "        value_map, _ = torch.topk(local_map.flatten(start_dim=1), k, dim=1)\n",
    "            \n",
    "        value = (value_global + value_map)/2\n",
    "        score_train.append(torch.mean(value))\n",
    "        loss_overall.append(loss_all.detach().item())\n",
    "        \n",
    "    score_good = []\n",
    "    self_diff_good = []\n",
    "    quatile_good = []\n",
    "    for image_teacher_student, img_normal, _ in test_good_loader:\n",
    "        model_student.eval()\n",
    "        image_teacher_student = image_teacher_student.to(device)\n",
    "        img_normal = img_normal.to(device)\n",
    "        with torch.no_grad():\n",
    "            feature_student = model_student(image_teacher_student)\n",
    "            feature_out_teacher = model_teacher(image_teacher_student)\n",
    "        feature_out_teacher_normalize = (feature_out_teacher - mean_all_chanel) / std_all_chanel\n",
    "        global_map = torch.sum((feature_student[:,:384,:,:] - feature_out_teacher_normalize)**2, dim=1)/384\n",
    "        local_map = torch.sum((feature_student[:,384:,:,:] - feature_out_teacher_normalize)**2, dim=1)/384\n",
    "        combine_map = (global_map + local_map)/2\n",
    "        value_global, _ = torch.topk(global_map.flatten(start_dim=1), k, dim=1)\n",
    "        value_map, _ = torch.topk(local_map.flatten(start_dim=1), k, dim=1)\n",
    "        value = (value_global + value_map)/2\n",
    "        score_good.append(torch.mean(value))\n",
    "    \n",
    "    score_fail = []\n",
    "    self_diff_fail = []\n",
    "    quatile_fail = []\n",
    "    for image_teacher_student, img_normal, _ in test_fail_loader:\n",
    "        model_student.eval()\n",
    "        image_teacher_student = image_teacher_student.to(device)\n",
    "        img_normal = img_normal.to(device)\n",
    "        with torch.no_grad():\n",
    "            feature_student = model_student(image_teacher_student)\n",
    "            feature_out_teacher = model_teacher(image_teacher_student)\n",
    "        feature_out_teacher_normalize = (feature_out_teacher - mean_all_chanel) / std_all_chanel\n",
    "        global_map = torch.sum((feature_student[:,:384,:,:] - feature_out_teacher_normalize)**2, dim=1)/384\n",
    "        local_map = torch.sum((feature_student[:,384:,:,:] - feature_out_teacher_normalize)**2, dim=1)/384\n",
    "        combine_map = (global_map + local_map)/2\n",
    "        diff_self = torch.sum((feature_student[:,384:,:,:] - feature_student[:,:384,:,:])**2, dim=1)/384\n",
    "        \n",
    "        global_map = torch.sum((feature_student[:,:384,:,:] - feature_out_teacher_normalize)**2, dim=1)/384\n",
    "        local_map = torch.sum((feature_student[:,384:,:,:] - feature_out_teacher_normalize)**2, dim=1)/384\n",
    "\n",
    "        value_global, _ = torch.topk(global_map.flatten(start_dim=1), k, dim=1)\n",
    "        value_map, _ = torch.topk(local_map.flatten(start_dim=1), k, dim=1)\n",
    "        value = (value_global + value_map)/2\n",
    "        score_fail.append(torch.mean(value))\n",
    "        \n",
    "#     f, axarr = plt.subplots(1,3, figsize=(224, 224))\n",
    "#     axarr[0].imshow(img_normal[-1].permute(1,2,0).cpu().detach().numpy())\n",
    "#     axarr[1].imshow(img_normal[-1].permute(1,2,0).cpu().detach().numpy())\n",
    "#     axarr[1].imshow(zoom(np.squeeze(global_map[-1].cpu().detach().numpy()),zoom=(224/16,224/16)), cmap='jet', alpha=0.4)\n",
    "#     axarr[2].imshow(img_normal[-1].permute(1,2,0).cpu().detach().numpy())\n",
    "#     axarr[2].imshow(zoom(np.squeeze(local_map[-1].cpu().detach().numpy()),zoom=(224/16,224/16)), cmap='jet', alpha=0.4)\n",
    "\n",
    "#     axarr[3].imshow(img_normal[-1].permute(1,2,0).cpu().detach().numpy())\n",
    "#     axarr[3].imshow(zoom(np.squeeze(combine_map[-1].cpu().detach().numpy()),zoom=(224/16,224/16)), cmap='jet', alpha=0.4)\n",
    "#     axarr[4].imshow(img_normal[-1].permute(1,2,0).cpu().detach().numpy())\n",
    "#     axarr[4].imshow(zoom(np.squeeze(diff_self[-1].cpu().detach().numpy()),zoom=(224/16,224/16)), cmap='jet', alpha=0.4)\n",
    "    plt.show()\n",
    "    print(f\"loss_overall {np.array(loss_overall).mean()}\")\n",
    "    print(f\"epoch {epoch+1}\")\n",
    "    \n",
    "    print()\n",
    "    \n",
    "    print(f\"score_test_good_mean {torch.Tensor(score_good).mean()}\")\n",
    "    print(f\"score_test_good_std {torch.Tensor(score_good).std()}\")\n",
    "    print(f\"score_test_good_min {torch.Tensor(score_good).min()}\")\n",
    "    print(f\"score_test_good_max {torch.Tensor(score_good).max()}\")\n",
    "    \n",
    "    print()\n",
    "    \n",
    "    print(f\"score_test_fail_mean {torch.Tensor(score_fail).mean()}\")\n",
    "    print(f\"score_test_fail_std {torch.Tensor(score_fail).std()}\")\n",
    "    print(f\"score_test_fail_min {torch.Tensor(score_fail).min()}\")\n",
    "    print(f\"score_test_fail_max {torch.Tensor(score_fail).max()}\")\n",
    "    \n",
    "    print()\n",
    "    \n",
    "    print(f\"score_train_mean {torch.Tensor(score_train).mean()}\")\n",
    "    print(f\"score_train_std {torch.Tensor(score_train).std()}\")\n",
    "    print(f\"score_train_min {torch.Tensor(score_train).min()}\")\n",
    "    print(f\"score_train_max {torch.Tensor(score_train).max()}\")"
   ]
  },
  {
   "cell_type": "code",
   "execution_count": null,
   "id": "7860a567",
   "metadata": {},
   "outputs": [],
   "source": [
    "# model_student.to('cpu').eval()\n",
    "# model_int8 = torch.ao.quantization.convert(model_student)\n",
    "# input_fp32 = torch.randn(1, 3, 224, 224)\n",
    "# res = model_int8(input_fp32)"
   ]
  },
  {
   "cell_type": "code",
   "execution_count": null,
   "id": "fb65d914",
   "metadata": {},
   "outputs": [],
   "source": [
    "print(res)"
   ]
  },
  {
   "cell_type": "code",
   "execution_count": null,
   "id": "1d5215a8",
   "metadata": {},
   "outputs": [],
   "source": []
  },
  {
   "cell_type": "code",
   "execution_count": null,
   "id": "c2035ef0",
   "metadata": {},
   "outputs": [],
   "source": []
  },
  {
   "cell_type": "code",
   "execution_count": null,
   "id": "ad9088de",
   "metadata": {},
   "outputs": [],
   "source": []
  },
  {
   "cell_type": "code",
   "execution_count": null,
   "id": "4c9f3c69",
   "metadata": {},
   "outputs": [],
   "source": []
  },
  {
   "cell_type": "code",
   "execution_count": null,
   "id": "d1a59b76",
   "metadata": {},
   "outputs": [],
   "source": []
  },
  {
   "cell_type": "code",
   "execution_count": null,
   "id": "82a7c2dd",
   "metadata": {},
   "outputs": [],
   "source": []
  },
  {
   "cell_type": "code",
   "execution_count": null,
   "id": "91001d8c",
   "metadata": {},
   "outputs": [],
   "source": []
  },
  {
   "cell_type": "code",
   "execution_count": null,
   "id": "f7689bf8",
   "metadata": {},
   "outputs": [],
   "source": []
  },
  {
   "cell_type": "code",
   "execution_count": null,
   "id": "290d40bc",
   "metadata": {},
   "outputs": [],
   "source": []
  },
  {
   "cell_type": "code",
   "execution_count": null,
   "id": "4d15bfdd",
   "metadata": {},
   "outputs": [],
   "source": []
  }
 ],
 "metadata": {
  "kernelspec": {
   "display_name": "Python 3 (ipykernel)",
   "language": "python",
   "name": "python3"
  },
  "language_info": {
   "codemirror_mode": {
    "name": "ipython",
    "version": 3
   },
   "file_extension": ".py",
   "mimetype": "text/x-python",
   "name": "python",
   "nbconvert_exporter": "python",
   "pygments_lexer": "ipython3",
   "version": "3.9.7"
  }
 },
 "nbformat": 4,
 "nbformat_minor": 5
}
